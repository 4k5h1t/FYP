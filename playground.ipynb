{
 "cells": [
  {
   "cell_type": "code",
   "execution_count": 4,
   "metadata": {},
   "outputs": [],
   "source": [
    "import pandas as pd"
   ]
  },
  {
   "cell_type": "code",
   "execution_count": null,
   "metadata": {},
   "outputs": [],
   "source": [
    "import pandas as pd\n",
    "import numpy as np\n",
    "import seaborn as sns\n",
    "import matplotlib.pyplot as plt\n",
    "import random\n",
    "from tqdm import tqdm\n",
    "\n",
    "#load data\n",
    "import os\n",
    "attackdata = {}\n",
    "os.chdir('C:/Final Year Project/idsattacks')\n",
    "npd = pd.DataFrame()\n",
    "for i in os.listdir():\n",
    "    attackdata[i] = pd.read_csv(i)\n",
    "    if i == 'Benign.csv':\n",
    "        npd = pd.concat([npd, attackdata[i].sample(n=33336)])\n",
    "    elif attackdata[i].shape[0] > 100000:\n",
    "        npd = pd.concat([npd, attackdata[i].sample(n=33333)])\n",
    "npd.drop(['Dst Port', 'Timestamp', 'Flow Byts/s', 'Flow Pkts/s', 'Unnamed: 0'], axis=1, inplace=True)\n",
    "npd.to_csv('C:\\Final Year Project\\Mixed Data.csv')"
   ]
  },
  {
   "cell_type": "code",
   "execution_count": 5,
   "metadata": {},
   "outputs": [],
   "source": [
    "df = pd.read_csv('Mixed Data.csv')"
   ]
  },
  {
   "cell_type": "code",
   "execution_count": 6,
   "metadata": {},
   "outputs": [
    {
     "data": {
      "text/plain": [
       "Label\n",
       "Benign                      33336\n",
       "Bot                         33333\n",
       "DDOS attack-HOIC            33333\n",
       "DDoS attacks-LOIC-HTTP      33333\n",
       "DoS attacks-Hulk            33333\n",
       "DoS attacks-SlowHTTPTest    33333\n",
       "FTP-BruteForce              33333\n",
       "Infilteration               33333\n",
       "SSH-Bruteforce              33333\n",
       "Name: count, dtype: int64"
      ]
     },
     "execution_count": 6,
     "metadata": {},
     "output_type": "execute_result"
    }
   ],
   "source": [
    "df['Label'].value_counts()"
   ]
  },
  {
   "cell_type": "code",
   "execution_count": null,
   "metadata": {},
   "outputs": [],
   "source": []
  }
 ],
 "metadata": {
  "kernelspec": {
   "display_name": "Python 3",
   "language": "python",
   "name": "python3"
  },
  "language_info": {
   "codemirror_mode": {
    "name": "ipython",
    "version": 3
   },
   "file_extension": ".py",
   "mimetype": "text/x-python",
   "name": "python",
   "nbconvert_exporter": "python",
   "pygments_lexer": "ipython3",
   "version": "3.10.0"
  },
  "orig_nbformat": 4
 },
 "nbformat": 4,
 "nbformat_minor": 2
}
