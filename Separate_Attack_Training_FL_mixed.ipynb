{
  "cells": [
    {
      "attachments": {},
      "cell_type": "markdown",
      "metadata": {
        "id": "vjoXjjOj2Kaq"
      },
      "source": [
        "# Import Libraries/Packages & Datasets"
      ]
    },
    {
      "cell_type": "code",
      "execution_count": 25,
      "metadata": {
        "id": "eMvQwUpC2CyT"
      },
      "outputs": [],
      "source": [
        "import pandas as pd\n",
        "import numpy as np\n",
        "import seaborn as sns\n",
        "import matplotlib.pyplot as plt\n",
        "import random\n",
        "from tqdm import tqdm\n",
        "import time\n",
        "import copy\n",
        "\n",
        "from sklearn import preprocessing\n",
        "from sklearn.preprocessing import StandardScaler\n",
        "from sklearn.model_selection import train_test_split\n",
        "from sklearn.utils import shuffle\n",
        "\n",
        "import torch\n",
        "from torch import nn, optim\n",
        "import torch.nn.functional as F\n",
        "from torch.utils.data import Dataset, DataLoader\n",
        "\n",
        "torch.backends.cudnn.benchmark=True\n",
        "device = torch.device(\"cuda\" if torch.cuda.is_available() else \"cpu\")\n",
        "torch.cuda.manual_seed(5703)\n",
        "torch.manual_seed(5703)\n",
        "np.random.seed(5703)\n",
        "random.seed(5703)"
      ]
    },
    {
      "cell_type": "code",
      "execution_count": 27,
      "metadata": {
        "id": "Sb5nz59HHF7L"
      },
      "outputs": [],
      "source": [
        "#load data\n",
        "import os\n",
        "attackdata = {}\n",
        "os.chdir('C:/Final Year Project/idsattacks')\n",
        "for i in os.listdir():\n",
        "  if i != 'benign.csv':\n",
        "    attackdata[i] = pd.read_csv(i)\n",
        "    attackdata[i].drop(['Dst Port', 'Timestamp', 'Flow Byts/s', 'Flow Pkts/s'], axis=1, inplace=True)\n"
      ]
    },
    {
      "cell_type": "code",
      "execution_count": 3,
      "metadata": {},
      "outputs": [
        {
          "data": {
            "text/html": [
              "<div>\n",
              "<style scoped>\n",
              "    .dataframe tbody tr th:only-of-type {\n",
              "        vertical-align: middle;\n",
              "    }\n",
              "\n",
              "    .dataframe tbody tr th {\n",
              "        vertical-align: top;\n",
              "    }\n",
              "\n",
              "    .dataframe thead th {\n",
              "        text-align: right;\n",
              "    }\n",
              "</style>\n",
              "<table border=\"1\" class=\"dataframe\">\n",
              "  <thead>\n",
              "    <tr style=\"text-align: right;\">\n",
              "      <th></th>\n",
              "      <th>Protocol</th>\n",
              "      <th>Flow Duration</th>\n",
              "      <th>Tot Fwd Pkts</th>\n",
              "      <th>Tot Bwd Pkts</th>\n",
              "      <th>TotLen Fwd Pkts</th>\n",
              "      <th>TotLen Bwd Pkts</th>\n",
              "      <th>Fwd Pkt Len Max</th>\n",
              "      <th>Fwd Pkt Len Min</th>\n",
              "      <th>Fwd Pkt Len Mean</th>\n",
              "      <th>Fwd Pkt Len Std</th>\n",
              "      <th>...</th>\n",
              "      <th>Fwd Seg Size Min</th>\n",
              "      <th>Active Mean</th>\n",
              "      <th>Active Std</th>\n",
              "      <th>Active Max</th>\n",
              "      <th>Active Min</th>\n",
              "      <th>Idle Mean</th>\n",
              "      <th>Idle Std</th>\n",
              "      <th>Idle Max</th>\n",
              "      <th>Idle Min</th>\n",
              "      <th>Label</th>\n",
              "    </tr>\n",
              "  </thead>\n",
              "  <tbody>\n",
              "    <tr>\n",
              "      <th>0</th>\n",
              "      <td>6</td>\n",
              "      <td>16079</td>\n",
              "      <td>3</td>\n",
              "      <td>4</td>\n",
              "      <td>326</td>\n",
              "      <td>129.0</td>\n",
              "      <td>326</td>\n",
              "      <td>0</td>\n",
              "      <td>108.666667</td>\n",
              "      <td>188.216188</td>\n",
              "      <td>...</td>\n",
              "      <td>20</td>\n",
              "      <td>0.0</td>\n",
              "      <td>0.0</td>\n",
              "      <td>0.0</td>\n",
              "      <td>0.0</td>\n",
              "      <td>0.0</td>\n",
              "      <td>0.0</td>\n",
              "      <td>0.0</td>\n",
              "      <td>0.0</td>\n",
              "      <td>Bot</td>\n",
              "    </tr>\n",
              "    <tr>\n",
              "      <th>1</th>\n",
              "      <td>6</td>\n",
              "      <td>577</td>\n",
              "      <td>2</td>\n",
              "      <td>0</td>\n",
              "      <td>0</td>\n",
              "      <td>0.0</td>\n",
              "      <td>0</td>\n",
              "      <td>0</td>\n",
              "      <td>0.000000</td>\n",
              "      <td>0.000000</td>\n",
              "      <td>...</td>\n",
              "      <td>20</td>\n",
              "      <td>0.0</td>\n",
              "      <td>0.0</td>\n",
              "      <td>0.0</td>\n",
              "      <td>0.0</td>\n",
              "      <td>0.0</td>\n",
              "      <td>0.0</td>\n",
              "      <td>0.0</td>\n",
              "      <td>0.0</td>\n",
              "      <td>Bot</td>\n",
              "    </tr>\n",
              "    <tr>\n",
              "      <th>2</th>\n",
              "      <td>6</td>\n",
              "      <td>10279</td>\n",
              "      <td>3</td>\n",
              "      <td>4</td>\n",
              "      <td>326</td>\n",
              "      <td>129.0</td>\n",
              "      <td>326</td>\n",
              "      <td>0</td>\n",
              "      <td>108.666667</td>\n",
              "      <td>188.216188</td>\n",
              "      <td>...</td>\n",
              "      <td>20</td>\n",
              "      <td>0.0</td>\n",
              "      <td>0.0</td>\n",
              "      <td>0.0</td>\n",
              "      <td>0.0</td>\n",
              "      <td>0.0</td>\n",
              "      <td>0.0</td>\n",
              "      <td>0.0</td>\n",
              "      <td>0.0</td>\n",
              "      <td>Bot</td>\n",
              "    </tr>\n",
              "    <tr>\n",
              "      <th>3</th>\n",
              "      <td>6</td>\n",
              "      <td>457</td>\n",
              "      <td>2</td>\n",
              "      <td>0</td>\n",
              "      <td>0</td>\n",
              "      <td>0.0</td>\n",
              "      <td>0</td>\n",
              "      <td>0</td>\n",
              "      <td>0.000000</td>\n",
              "      <td>0.000000</td>\n",
              "      <td>...</td>\n",
              "      <td>20</td>\n",
              "      <td>0.0</td>\n",
              "      <td>0.0</td>\n",
              "      <td>0.0</td>\n",
              "      <td>0.0</td>\n",
              "      <td>0.0</td>\n",
              "      <td>0.0</td>\n",
              "      <td>0.0</td>\n",
              "      <td>0.0</td>\n",
              "      <td>Bot</td>\n",
              "    </tr>\n",
              "    <tr>\n",
              "      <th>4</th>\n",
              "      <td>6</td>\n",
              "      <td>10271</td>\n",
              "      <td>3</td>\n",
              "      <td>4</td>\n",
              "      <td>326</td>\n",
              "      <td>129.0</td>\n",
              "      <td>326</td>\n",
              "      <td>0</td>\n",
              "      <td>108.666667</td>\n",
              "      <td>188.216188</td>\n",
              "      <td>...</td>\n",
              "      <td>20</td>\n",
              "      <td>0.0</td>\n",
              "      <td>0.0</td>\n",
              "      <td>0.0</td>\n",
              "      <td>0.0</td>\n",
              "      <td>0.0</td>\n",
              "      <td>0.0</td>\n",
              "      <td>0.0</td>\n",
              "      <td>0.0</td>\n",
              "      <td>Bot</td>\n",
              "    </tr>\n",
              "    <tr>\n",
              "      <th>...</th>\n",
              "      <td>...</td>\n",
              "      <td>...</td>\n",
              "      <td>...</td>\n",
              "      <td>...</td>\n",
              "      <td>...</td>\n",
              "      <td>...</td>\n",
              "      <td>...</td>\n",
              "      <td>...</td>\n",
              "      <td>...</td>\n",
              "      <td>...</td>\n",
              "      <td>...</td>\n",
              "      <td>...</td>\n",
              "      <td>...</td>\n",
              "      <td>...</td>\n",
              "      <td>...</td>\n",
              "      <td>...</td>\n",
              "      <td>...</td>\n",
              "      <td>...</td>\n",
              "      <td>...</td>\n",
              "      <td>...</td>\n",
              "      <td>...</td>\n",
              "    </tr>\n",
              "    <tr>\n",
              "      <th>286186</th>\n",
              "      <td>0</td>\n",
              "      <td>9487</td>\n",
              "      <td>10</td>\n",
              "      <td>0</td>\n",
              "      <td>0</td>\n",
              "      <td>0.0</td>\n",
              "      <td>0</td>\n",
              "      <td>0</td>\n",
              "      <td>0.000000</td>\n",
              "      <td>0.000000</td>\n",
              "      <td>...</td>\n",
              "      <td>0</td>\n",
              "      <td>0.0</td>\n",
              "      <td>0.0</td>\n",
              "      <td>0.0</td>\n",
              "      <td>0.0</td>\n",
              "      <td>0.0</td>\n",
              "      <td>0.0</td>\n",
              "      <td>0.0</td>\n",
              "      <td>0.0</td>\n",
              "      <td>Bot</td>\n",
              "    </tr>\n",
              "    <tr>\n",
              "      <th>286187</th>\n",
              "      <td>6</td>\n",
              "      <td>1030059</td>\n",
              "      <td>4</td>\n",
              "      <td>2</td>\n",
              "      <td>0</td>\n",
              "      <td>0.0</td>\n",
              "      <td>0</td>\n",
              "      <td>0</td>\n",
              "      <td>0.000000</td>\n",
              "      <td>0.000000</td>\n",
              "      <td>...</td>\n",
              "      <td>20</td>\n",
              "      <td>0.0</td>\n",
              "      <td>0.0</td>\n",
              "      <td>0.0</td>\n",
              "      <td>0.0</td>\n",
              "      <td>0.0</td>\n",
              "      <td>0.0</td>\n",
              "      <td>0.0</td>\n",
              "      <td>0.0</td>\n",
              "      <td>Bot</td>\n",
              "    </tr>\n",
              "    <tr>\n",
              "      <th>286188</th>\n",
              "      <td>6</td>\n",
              "      <td>1029998</td>\n",
              "      <td>4</td>\n",
              "      <td>2</td>\n",
              "      <td>0</td>\n",
              "      <td>0.0</td>\n",
              "      <td>0</td>\n",
              "      <td>0</td>\n",
              "      <td>0.000000</td>\n",
              "      <td>0.000000</td>\n",
              "      <td>...</td>\n",
              "      <td>20</td>\n",
              "      <td>0.0</td>\n",
              "      <td>0.0</td>\n",
              "      <td>0.0</td>\n",
              "      <td>0.0</td>\n",
              "      <td>0.0</td>\n",
              "      <td>0.0</td>\n",
              "      <td>0.0</td>\n",
              "      <td>0.0</td>\n",
              "      <td>Bot</td>\n",
              "    </tr>\n",
              "    <tr>\n",
              "      <th>286189</th>\n",
              "      <td>6</td>\n",
              "      <td>1030017</td>\n",
              "      <td>4</td>\n",
              "      <td>2</td>\n",
              "      <td>0</td>\n",
              "      <td>0.0</td>\n",
              "      <td>0</td>\n",
              "      <td>0</td>\n",
              "      <td>0.000000</td>\n",
              "      <td>0.000000</td>\n",
              "      <td>...</td>\n",
              "      <td>20</td>\n",
              "      <td>0.0</td>\n",
              "      <td>0.0</td>\n",
              "      <td>0.0</td>\n",
              "      <td>0.0</td>\n",
              "      <td>0.0</td>\n",
              "      <td>0.0</td>\n",
              "      <td>0.0</td>\n",
              "      <td>0.0</td>\n",
              "      <td>Bot</td>\n",
              "    </tr>\n",
              "    <tr>\n",
              "      <th>286190</th>\n",
              "      <td>6</td>\n",
              "      <td>1030836</td>\n",
              "      <td>4</td>\n",
              "      <td>2</td>\n",
              "      <td>0</td>\n",
              "      <td>0.0</td>\n",
              "      <td>0</td>\n",
              "      <td>0</td>\n",
              "      <td>0.000000</td>\n",
              "      <td>0.000000</td>\n",
              "      <td>...</td>\n",
              "      <td>20</td>\n",
              "      <td>0.0</td>\n",
              "      <td>0.0</td>\n",
              "      <td>0.0</td>\n",
              "      <td>0.0</td>\n",
              "      <td>0.0</td>\n",
              "      <td>0.0</td>\n",
              "      <td>0.0</td>\n",
              "      <td>0.0</td>\n",
              "      <td>Bot</td>\n",
              "    </tr>\n",
              "  </tbody>\n",
              "</table>\n",
              "<p>286191 rows × 76 columns</p>\n",
              "</div>"
            ],
            "text/plain": [
              "        Protocol  Flow Duration  Tot Fwd Pkts  Tot Bwd Pkts  TotLen Fwd Pkts  \\\n",
              "0              6          16079             3             4              326   \n",
              "1              6            577             2             0                0   \n",
              "2              6          10279             3             4              326   \n",
              "3              6            457             2             0                0   \n",
              "4              6          10271             3             4              326   \n",
              "...          ...            ...           ...           ...              ...   \n",
              "286186         0           9487            10             0                0   \n",
              "286187         6        1030059             4             2                0   \n",
              "286188         6        1029998             4             2                0   \n",
              "286189         6        1030017             4             2                0   \n",
              "286190         6        1030836             4             2                0   \n",
              "\n",
              "        TotLen Bwd Pkts  Fwd Pkt Len Max  Fwd Pkt Len Min  Fwd Pkt Len Mean  \\\n",
              "0                 129.0              326                0        108.666667   \n",
              "1                   0.0                0                0          0.000000   \n",
              "2                 129.0              326                0        108.666667   \n",
              "3                   0.0                0                0          0.000000   \n",
              "4                 129.0              326                0        108.666667   \n",
              "...                 ...              ...              ...               ...   \n",
              "286186              0.0                0                0          0.000000   \n",
              "286187              0.0                0                0          0.000000   \n",
              "286188              0.0                0                0          0.000000   \n",
              "286189              0.0                0                0          0.000000   \n",
              "286190              0.0                0                0          0.000000   \n",
              "\n",
              "        Fwd Pkt Len Std  ...  Fwd Seg Size Min  Active Mean  Active Std  \\\n",
              "0            188.216188  ...                20          0.0         0.0   \n",
              "1              0.000000  ...                20          0.0         0.0   \n",
              "2            188.216188  ...                20          0.0         0.0   \n",
              "3              0.000000  ...                20          0.0         0.0   \n",
              "4            188.216188  ...                20          0.0         0.0   \n",
              "...                 ...  ...               ...          ...         ...   \n",
              "286186         0.000000  ...                 0          0.0         0.0   \n",
              "286187         0.000000  ...                20          0.0         0.0   \n",
              "286188         0.000000  ...                20          0.0         0.0   \n",
              "286189         0.000000  ...                20          0.0         0.0   \n",
              "286190         0.000000  ...                20          0.0         0.0   \n",
              "\n",
              "        Active Max  Active Min  Idle Mean  Idle Std  Idle Max  Idle Min  Label  \n",
              "0              0.0         0.0        0.0       0.0       0.0       0.0    Bot  \n",
              "1              0.0         0.0        0.0       0.0       0.0       0.0    Bot  \n",
              "2              0.0         0.0        0.0       0.0       0.0       0.0    Bot  \n",
              "3              0.0         0.0        0.0       0.0       0.0       0.0    Bot  \n",
              "4              0.0         0.0        0.0       0.0       0.0       0.0    Bot  \n",
              "...            ...         ...        ...       ...       ...       ...    ...  \n",
              "286186         0.0         0.0        0.0       0.0       0.0       0.0    Bot  \n",
              "286187         0.0         0.0        0.0       0.0       0.0       0.0    Bot  \n",
              "286188         0.0         0.0        0.0       0.0       0.0       0.0    Bot  \n",
              "286189         0.0         0.0        0.0       0.0       0.0       0.0    Bot  \n",
              "286190         0.0         0.0        0.0       0.0       0.0       0.0    Bot  \n",
              "\n",
              "[286191 rows x 76 columns]"
            ]
          },
          "execution_count": 3,
          "metadata": {},
          "output_type": "execute_result"
        }
      ],
      "source": [
        "attackdata[\"Bot.csv\"]"
      ]
    },
    {
      "cell_type": "code",
      "execution_count": 28,
      "metadata": {
        "id": "U940RYEXDA9T"
      },
      "outputs": [],
      "source": [
        "bendata = pd.read_csv('C:/Final Year Project/idsattacks/benign.csv')\n",
        "bendata.drop(['Unnamed: 0'], axis=1, inplace=True)"
      ]
    },
    {
      "cell_type": "code",
      "execution_count": 29,
      "metadata": {
        "id": "RMv1avXUIToj"
      },
      "outputs": [],
      "source": [
        "#checking for unwanted columns\n",
        "for i in attackdata:\n",
        "  for j in ['Flow ID', 'Src IP', 'Src Port', 'Dst IP']:\n",
        "    if j in attackdata[i].columns:\n",
        "      print(i + \" : \" + j)\n",
        "#attackdata[i].drop(['Flow ID', 'Src IP', 'Src Port', 'Dst IP'], axis=1, inplace=True)"
      ]
    },
    {
      "cell_type": "code",
      "execution_count": 30,
      "metadata": {
        "id": "JPkTI9NcDA9U"
      },
      "outputs": [],
      "source": [
        "for i in ['Flow ID', 'Src IP', 'Src Port', 'Dst IP']:\n",
        "    if i in bendata.columns:\n",
        "      print('bendata' + \" : \" + i)\n",
        "#bendata.drop(['Label'],axis=1,inplace=True)"
      ]
    },
    {
      "cell_type": "code",
      "execution_count": 31,
      "metadata": {},
      "outputs": [
        {
          "name": "stdout",
          "output_type": "stream",
          "text": [
            "Bot.csv\n",
            "DDOS attack-HOIC.csv\n",
            "DDoS attacks-LOIC-HTTP.csv\n",
            "DoS attacks-Hulk.csv\n",
            "DoS attacks-SlowHTTPTest.csv\n",
            "FTP-BruteForce.csv\n",
            "Infilteration.csv\n",
            "SSH-Bruteforce.csv\n"
          ]
        }
      ],
      "source": [
        "attbenmixdata = {}\n",
        "mixbendata = bendata[:int(bendata.shape[0]*0.05)]\n",
        "for i in attackdata:\n",
        "  if attackdata[i].shape[0] > 100000:\n",
        "    print(i)\n",
        "    attbenmixdata[i] = pd.concat([attackdata[i][:int(attackdata[i].shape[0]*0.7)], mixbendata], axis=0)\n",
        "    attbenmixdata[i] = attbenmixdata[i].sample(frac=1).reset_index(drop=True)"
      ]
    },
    {
      "cell_type": "code",
      "execution_count": 32,
      "metadata": {},
      "outputs": [
        {
          "name": "stdout",
          "output_type": "stream",
          "text": [
            "Bot.csv : (323198, 76)\n",
            "Label\n",
            "Bot       200333\n",
            "Benign    122865\n",
            "Name: count, dtype: int64\n",
            "DDOS attack-HOIC.csv : (603073, 76)\n",
            "Label\n",
            "DDOS attack-HOIC    480208\n",
            "Benign              122865\n",
            "Name: count, dtype: int64\n",
            "DDoS attacks-LOIC-HTTP.csv : (526198, 76)\n",
            "Label\n",
            "DDoS attacks-LOIC-HTTP    403333\n",
            "Benign                    122865\n",
            "Name: count, dtype: int64\n",
            "DoS attacks-Hulk.csv : (446203, 76)\n",
            "Label\n",
            "DoS attacks-Hulk    323338\n",
            "Benign              122865\n",
            "Name: count, dtype: int64\n",
            "DoS attacks-SlowHTTPTest.csv : (220788, 76)\n",
            "Label\n",
            "Benign                      122865\n",
            "DoS attacks-SlowHTTPTest     97923\n",
            "Name: count, dtype: int64\n",
            "FTP-BruteForce.csv : (258212, 76)\n",
            "Label\n",
            "FTP-BruteForce    135347\n",
            "Benign            122865\n",
            "Name: count, dtype: int64\n",
            "Infilteration.csv : (235382, 76)\n",
            "Label\n",
            "Benign           122865\n",
            "Infilteration    112517\n",
            "Name: count, dtype: int64\n",
            "SSH-Bruteforce.csv : (254177, 76)\n",
            "Label\n",
            "SSH-Bruteforce    131312\n",
            "Benign            122865\n",
            "Name: count, dtype: int64\n"
          ]
        }
      ],
      "source": [
        "for i in attbenmixdata:\n",
        "  print(i + \" : \" + str(attbenmixdata[i].shape))\n",
        "  print(attbenmixdata[i]['Label'].value_counts())"
      ]
    },
    {
      "cell_type": "code",
      "execution_count": 33,
      "metadata": {},
      "outputs": [],
      "source": [
        "attbenmixdatalabels = {}\n",
        "for i in attbenmixdata:\n",
        "  attbenmixdatalabels[i] = attbenmixdata[i]['Label']\n",
        "  attbenmixdata[i].drop(['Label'], axis=1, inplace=True)"
      ]
    },
    {
      "cell_type": "code",
      "execution_count": 34,
      "metadata": {},
      "outputs": [],
      "source": [
        "for i in attackdata:\n",
        "  attackdata[i].drop(['Label'], axis=1, inplace=True)\n",
        "bendata.drop(['Label'], axis=1, inplace=True)"
      ]
    },
    {
      "cell_type": "code",
      "execution_count": 35,
      "metadata": {
        "id": "T7YQu4boJjhl"
      },
      "outputs": [],
      "source": [
        "#scaling data for normalizing\n",
        "scaler = StandardScaler()\n",
        "for i in attackdata:\n",
        "  attackdata[i] = scaler.fit_transform(attackdata[i])"
      ]
    },
    {
      "cell_type": "code",
      "execution_count": 36,
      "metadata": {
        "id": "IPZkveVMDA9W"
      },
      "outputs": [],
      "source": [
        "bendata = scaler.fit_transform(bendata)"
      ]
    },
    {
      "cell_type": "code",
      "execution_count": 37,
      "metadata": {},
      "outputs": [],
      "source": [
        "for i in attbenmixdata:\n",
        "  attbenmixdata[i] = scaler.fit_transform(attbenmixdata[i])"
      ]
    },
    {
      "cell_type": "code",
      "execution_count": 38,
      "metadata": {},
      "outputs": [
        {
          "data": {
            "text/plain": [
              "array([[ 0.00000000e+00, -4.27641239e-02, -4.44035915e-01, ...,\n",
              "        -1.16983915e-03, -3.20578776e-02, -3.20401698e-02],\n",
              "       [ 0.00000000e+00, -3.90753907e-02, -4.44035915e-01, ...,\n",
              "        -1.16983915e-03, -3.20578776e-02, -3.20401698e-02],\n",
              "       [ 0.00000000e+00, -4.36484005e-02, -4.44035915e-01, ...,\n",
              "        -1.16983915e-03, -3.20578776e-02, -3.20401698e-02],\n",
              "       ...,\n",
              "       [ 0.00000000e+00, -4.38297579e-02,  2.16678503e+00, ...,\n",
              "        -1.16983915e-03, -3.20578776e-02, -3.20401698e-02],\n",
              "       [ 0.00000000e+00, -4.39329660e-02,  2.16678503e+00, ...,\n",
              "        -1.16983915e-03, -3.20578776e-02, -3.20401698e-02],\n",
              "       [ 0.00000000e+00, -4.37138081e-02, -4.44035915e-01, ...,\n",
              "        -1.16983915e-03, -3.20578776e-02, -3.20401698e-02]])"
            ]
          },
          "execution_count": 38,
          "metadata": {},
          "output_type": "execute_result"
        }
      ],
      "source": [
        "bendata"
      ]
    },
    {
      "cell_type": "code",
      "execution_count": 39,
      "metadata": {
        "id": "-QiC8hkiJKf4",
        "outputId": "cb62f840-ac5a-4ed6-9807-1f5bfd529658"
      },
      "outputs": [
        {
          "name": "stdout",
          "output_type": "stream",
          "text": [
            "Bot.csv : (286191, 75)\n",
            "Brute Force -Web.csv : (611, 75)\n",
            "Brute Force -XSS.csv : (230, 75)\n",
            "DDOS attack-HOIC.csv : (686012, 75)\n",
            "DDOS attack-LOIC-UDP.csv : (1730, 75)\n",
            "DDoS attacks-LOIC-HTTP.csv : (576191, 75)\n",
            "DoS attacks-GoldenEye.csv : (41508, 75)\n",
            "DoS attacks-Hulk.csv : (461912, 75)\n",
            "DoS attacks-SlowHTTPTest.csv : (139890, 75)\n",
            "DoS attacks-Slowloris.csv : (10990, 75)\n",
            "FTP-BruteForce.csv : (193354, 75)\n",
            "Infilteration.csv : (160739, 75)\n",
            "SQL Injection.csv : (87, 75)\n",
            "SSH-Bruteforce.csv : (187589, 75)\n"
          ]
        }
      ],
      "source": [
        "#printing the shapes of the data\n",
        "for i in attackdata:\n",
        "  print(i + \" : \" + str(attackdata[i].shape))"
      ]
    },
    {
      "cell_type": "code",
      "execution_count": 40,
      "metadata": {
        "id": "wDYta4F9DA9Z"
      },
      "outputs": [
        {
          "name": "stdout",
          "output_type": "stream",
          "text": [
            "bendata : (2457307, 75)\n"
          ]
        }
      ],
      "source": [
        "print('bendata' + \" : \" + str(bendata.shape))"
      ]
    },
    {
      "cell_type": "code",
      "execution_count": 41,
      "metadata": {
        "id": "dwj97zQuI-VU",
        "outputId": "bb607b8b-6632-4908-9f16-5aef8711db8d"
      },
      "outputs": [
        {
          "data": {
            "text/plain": [
              "14"
            ]
          },
          "execution_count": 41,
          "metadata": {},
          "output_type": "execute_result"
        }
      ],
      "source": [
        "len(attackdata)"
      ]
    },
    {
      "cell_type": "code",
      "execution_count": 42,
      "metadata": {
        "id": "LCBO3J8zgdgJ"
      },
      "outputs": [],
      "source": [
        "#loading data into pytorch dataloader as train and test\n",
        "devices = []\n",
        "batch_size = 128\n",
        "train_loader = {}\n",
        "test_loader = {}\n",
        "for i in attackdata:\n",
        "  if attackdata[i].shape[0] > 100000:\n",
        "    train_loader[i] = torch.utils.data.DataLoader(attackdata[i][:int(attackdata[i].shape[0]*0.9)], batch_size = batch_size, shuffle=True)\n",
        "    test_loader[i] = torch.utils.data.DataLoader(attackdata[i][int(attackdata[i].shape[0]*0.9):], batch_size = batch_size, shuffle=True)\n",
        "    devices.append(i)"
      ]
    },
    {
      "cell_type": "code",
      "execution_count": 43,
      "metadata": {},
      "outputs": [
        {
          "name": "stdout",
          "output_type": "stream",
          "text": [
            "224\n",
            "536\n",
            "451\n",
            "361\n",
            "110\n",
            "152\n",
            "126\n",
            "147\n"
          ]
        }
      ],
      "source": [
        "for i in attackdata:\n",
        "  if attackdata[i].shape[0] > 100000:\n",
        "    print(len(test_loader[i]))"
      ]
    },
    {
      "cell_type": "code",
      "execution_count": 44,
      "metadata": {
        "id": "B3TCx-WgDA9a"
      },
      "outputs": [],
      "source": [
        "ben_loader = torch.utils.data.DataLoader(bendata[int(bendata.shape[0]*0.9):], batch_size = batch_size, shuffle=True)"
      ]
    },
    {
      "cell_type": "code",
      "execution_count": 45,
      "metadata": {},
      "outputs": [],
      "source": [
        "attbenmixdata_loader = {}\n",
        "for i in attbenmixdata:\n",
        "    attbenmixdata_loader[i] = torch.utils.data.DataLoader(attbenmixdata[i], batch_size = batch_size, shuffle=True)"
      ]
    },
    {
      "cell_type": "code",
      "execution_count": 46,
      "metadata": {
        "id": "XAsJUgfC5IuY"
      },
      "outputs": [],
      "source": [
        "#initialising config variables\n",
        "num_clients = len(train_loader)      # Number of clients\n",
        "num_selected = len(train_loader)    # Typically, num_selected is around 30–40% of the num_clients.\n",
        "#baseline_num = 1000  # choose some data from the train set to retrain the data from trained model\n",
        "num_rounds = 5  #100      # Total number of communication rounds for the global model to train.\n",
        "epochs = 10          # for train client model\n",
        "retrain_epochs = 5  # Total number of retraining rounds on the global server after receiving the model weights\n",
        "                      # from all the clients that participated in the communication round."
      ]
    },
    {
      "cell_type": "code",
      "execution_count": 61,
      "metadata": {
        "id": "deSST083Kesa",
        "outputId": "e8ff9610-7059-4c54-b405-cdf13271fca8"
      },
      "outputs": [],
      "source": [
        "train_loader['benign.csv'] = ben_loader"
      ]
    },
    {
      "cell_type": "code",
      "execution_count": 62,
      "metadata": {},
      "outputs": [
        {
          "data": {
            "text/plain": [
              "9"
            ]
          },
          "execution_count": 62,
          "metadata": {},
          "output_type": "execute_result"
        }
      ],
      "source": [
        "len(train_loader)"
      ]
    },
    {
      "cell_type": "code",
      "execution_count": 48,
      "metadata": {
        "id": "R7qV9yUoWfUg",
        "outputId": "85e3c27b-8c1c-4034-f7c8-d9877b4beb87"
      },
      "outputs": [
        {
          "data": {
            "text/plain": [
              "8"
            ]
          },
          "execution_count": 48,
          "metadata": {},
          "output_type": "execute_result"
        }
      ],
      "source": [
        "len(devices)"
      ]
    },
    {
      "attachments": {},
      "cell_type": "markdown",
      "metadata": {
        "id": "uF4N6pX57Bmo"
      },
      "source": [
        "## FedAvg / FedAvgM"
      ]
    },
    {
      "cell_type": "code",
      "execution_count": 49,
      "metadata": {
        "id": "GEhJPuT5633Z"
      },
      "outputs": [],
      "source": [
        "# aggregates the model weights received from every client\n",
        "# and updates the global model with updated weights\n",
        "\n",
        "# FedAvg\n",
        "def server_aggregate(global_model, client_models, client_lens):\n",
        "    total = sum(client_lens)\n",
        "    n = len(client_models)\n",
        "    # n = num_selected\n",
        "    global_dict = global_model.state_dict()\n",
        "    for k in global_dict.keys(): # calculate average weight/bias --> avg_w/b\n",
        "        global_dict[k] -= torch.stack([client_models[i].state_dict()[k].float() * (n * client_lens[i] / total) for i in range(len(client_models))], 0).mean(0)\n",
        "    global_model.load_state_dict(global_dict)\n",
        "    for model in client_models:\n",
        "        model.load_state_dict(global_model.state_dict()) # local model get updated weight/bias\n",
        "\n",
        "# FedAvgM\n",
        "def server_aggregate_M(global_model, client_models, client_lens):\n",
        "    total = sum(client_lens)    # 592    sum [51, 122, 162, 257]\n",
        "    n = len(client_models)      # 4 local clients\n",
        "    global_dict = global_model.state_dict() # weight/bias dict --> {'encoder.0.weight': Tensor with shape torch.Size([86, 115]), 'encoder.0.bias':....} 16 items\n",
        "    temp = copy.deepcopy(global_dict)       # temporary weight/bias dict\n",
        "    v = {x:1 for x in copy.deepcopy(global_dict)}   # initialise v\n",
        "\n",
        "    for i,k in enumerate(global_dict.keys()):\n",
        "        # calculate average weight/bias --> avg_w/b\n",
        "        temp[k] = torch.stack([client_models[i].state_dict()[k].float() * (n * client_lens[i] / total) for i in range(len(client_models))], 0).mean(0)\n",
        "        temp_v = 0.9 * v[k] + temp[k]               # v = 0.9v + avg_w/b   momentum=0.9\n",
        "        global_dict[k] = global_dict[k] - temp_v    # w = w - v\n",
        "    global_model.load_state_dict(global_dict)\n",
        "\n",
        "    for model in client_models:\n",
        "        model.load_state_dict(global_model.state_dict()) # local model get updated weight/bias\n",
        "\n"
      ]
    },
    {
      "cell_type": "code",
      "execution_count": 50,
      "metadata": {
        "id": "iqaFf_cS5Ifg"
      },
      "outputs": [],
      "source": [
        "# for updates/trains client model on client data\n",
        "# local training round that takes place for every selected client\n",
        "\n",
        "def client_update(client_model, optimizer, train_data, epoch=3):\n",
        "    client_model.train()\n",
        "    for e in range(epoch):\n",
        "        running_loss = 0.0\n",
        "        for data in train_data:\n",
        "          output = client_model(data.float()) # tensor 115\n",
        "          optimizer.zero_grad()\n",
        "          # criterion = nn.MSELoss(reduction='mean')\n",
        "          # loss = criterion(data.to(device), output)\n",
        "          loss = nn.MSELoss(reduction='mean')(data.float().to(device), output)\n",
        "          loss.backward()\n",
        "          optimizer.step()\n",
        "          # print(loss.item())\n",
        "          running_loss += loss.item()\n",
        "        # print(running_loss)\n",
        "        epoch_loss = running_loss/len(train_data)\n",
        "        # metrics['train_loss'].append(epoch_loss)\n",
        "    return epoch_loss\n",
        "    # return loss.item()\n",
        "\n",
        "\n",
        "\n",
        "# synchronizes the client model with global weights (before training)\n",
        "\n",
        "def client_syn(client_model, global_model):\n",
        "    client_model.load_state_dict(global_model.state_dict())\n"
      ]
    },
    {
      "attachments": {},
      "cell_type": "markdown",
      "metadata": {
        "id": "sPE5Fx5I7HZM"
      },
      "source": [
        "## Deep Auto-encoder Model"
      ]
    },
    {
      "cell_type": "code",
      "execution_count": 51,
      "metadata": {
        "id": "QkVroa1V5IjN"
      },
      "outputs": [],
      "source": [
        "# Deep Auto-encoder model\n",
        "\n",
        "input_dim = 75\n",
        "class AEModel(nn.Module):\n",
        "    def __init__(self, input_dim):\n",
        "        super(AEModel, self).__init__()\n",
        "        self.fc1 = nn.Linear(input_dim, input_dim)\n",
        "        #self.bn1 = nn.BatchNorm1d(input_dim)\n",
        "        self.fc2 = nn.Linear(input_dim, 32)\n",
        "        #self.bn2 = nn.BatchNorm1d(32)\n",
        "        self.fc3 = nn.Linear(32, 16)\n",
        "        #self.bn3 = nn.BatchNorm1d(16)\n",
        "        self.fc4 = nn.Linear(16, 8)\n",
        "        #self.bn4 = nn.BatchNorm1d(8)\n",
        "        self.fc5 = nn.Linear(8, 8)\n",
        "        #self.bn5 = nn.BatchNorm1d(8)\n",
        "        self.fc6 = nn.Linear(8, 16)\n",
        "        #self.bn6 = nn.BatchNorm1d(16)\n",
        "        self.fc7 = nn.Linear(16, 32)\n",
        "        #self.bn7 = nn.BatchNorm1d(32)\n",
        "        self.fc8 = nn.Linear(32, input_dim)\n",
        "        #self.bn8 = nn.BatchNorm1d(input_dim)\n",
        "        self.fc9 = nn.Linear(input_dim, input_dim)\n",
        "        self.activation = nn.Tanh()\n",
        "\n",
        "        # Initialize weights using He initialization with Tanh\n",
        "        nn.init.kaiming_normal_(self.fc1.weight, nonlinearity='relu')\n",
        "        nn.init.kaiming_normal_(self.fc2.weight, nonlinearity='relu')\n",
        "        nn.init.kaiming_normal_(self.fc3.weight, nonlinearity='relu')\n",
        "        nn.init.kaiming_normal_(self.fc4.weight, nonlinearity='relu')\n",
        "        nn.init.kaiming_normal_(self.fc5.weight, nonlinearity='relu')\n",
        "        nn.init.kaiming_normal_(self.fc6.weight, nonlinearity='relu')\n",
        "        nn.init.kaiming_normal_(self.fc7.weight, nonlinearity='relu')\n",
        "        nn.init.kaiming_normal_(self.fc8.weight, nonlinearity='relu')\n",
        "        nn.init.kaiming_normal_(self.fc9.weight, nonlinearity='relu')\n",
        "\n",
        "    def forward(self, x):\n",
        "        x = self.fc1(x)\n",
        "        #x = self.bn1(x)\n",
        "        x = self.activation(x)\n",
        "        x = self.fc2(x)\n",
        "        #x = self.bn2(x)\n",
        "        x = self.activation(x)\n",
        "        x = self.fc3(x)\n",
        "        #x = self.bn3(x)\n",
        "        x = self.activation(x)\n",
        "        x = self.fc4(x)\n",
        "        #x = self.bn4(x)\n",
        "        x = self.activation(x)\n",
        "        x = self.fc5(x)\n",
        "        #x = self.bn5(x)\n",
        "        x = self.activation(x)\n",
        "        x = self.fc6(x)\n",
        "        #x = self.bn6(x)\n",
        "        x = self.activation(x)\n",
        "        x = self.fc7(x)\n",
        "        #x = self.bn7(x)\n",
        "        x = self.activation(x)\n",
        "        x = self.fc8(x)\n",
        "        #x = self.bn8(x)\n",
        "        x = self.activation(x)\n",
        "        x = self.fc9(x)\n",
        "        return x"
      ]
    },
    {
      "attachments": {},
      "cell_type": "markdown",
      "metadata": {
        "id": "aAX3Z0BI8JDQ"
      },
      "source": [
        "## Initialisation"
      ]
    },
    {
      "cell_type": "code",
      "execution_count": 52,
      "metadata": {
        "id": "ZDbfUGGW63zk"
      },
      "outputs": [],
      "source": [
        "# Initializing models and optimizer\n",
        "\n",
        "global_model = AEModel(input_dim).to(device)\n",
        "client_models = [AEModel(input_dim).to(device) for _ in range(num_selected)] # part or all clients\n",
        "# print(client_models)\n",
        "for model in client_models:\n",
        "    model.load_state_dict(global_model.state_dict())\n",
        "\n",
        "# method_env = {'lr': (0.012, 0.012, 0.012, 0.0005)}\n",
        "opt = [torch.optim.SGD(model.parameters(), lr = 0.012, weight_decay=1e-05, momentum=0.9) for model in client_models]\n",
        "# lr_list = [0.012, 0.012, 0.012, 0.00005]\n",
        "# # opt = [torch.optim.SGD(model.parameters(), lr = lr_list[client_models.index(model)], weight_decay=1e-05, momentum=0.9) for model in client_models]\n",
        "# opt = [torch.optim.Adam(model.parameters(), lr = lr_list[client_models.index(model)], weight_decay=1e-05) for model in client_models]\n",
        "# opt = [torch.optim.Adam(model.parameters(), lr = 0.012, weight_decay=1e-05) for model in client_models]"
      ]
    },
    {
      "attachments": {},
      "cell_type": "markdown",
      "metadata": {
        "id": "YuOW_VP89i7j"
      },
      "source": [
        "# Training Federated Model"
      ]
    },
    {
      "cell_type": "code",
      "execution_count": null,
      "metadata": {
        "id": "rT-jMXex63t8",
        "outputId": "dcce896e-cf42-49da-b608-95868864b0a7"
      },
      "outputs": [
        {
          "name": "stdout",
          "output_type": "stream",
          "text": [
            "\n",
            "round:  1\n",
            "client_idx:  [0, 1, 2, 3, 4, 5, 6, 7]\n",
            "[2013, 4824, 4052, 3248, 984, 1360, 1131, 1319]\n"
          ]
        },
        {
          "name": "stderr",
          "output_type": "stream",
          "text": [
            "100%|██████████| 8/8 [14:52<00:00, 111.60s/it]\n"
          ]
        },
        {
          "name": "stdout",
          "output_type": "stream",
          "text": [
            "\n",
            "client_loss:  0.5149892227686957\n",
            "\n",
            "round:  2\n",
            "client_idx:  [0, 1, 2, 3, 4, 5, 6, 7]\n",
            "[2013, 4824, 4052, 3248, 984, 1360, 1131, 1319]\n"
          ]
        },
        {
          "name": "stderr",
          "output_type": "stream",
          "text": [
            "100%|██████████| 8/8 [16:25<00:00, 123.22s/it]\n"
          ]
        },
        {
          "name": "stdout",
          "output_type": "stream",
          "text": [
            "\n",
            "client_loss:  2.6059840349835777\n",
            "\n",
            "round:  3\n",
            "client_idx:  [0, 1, 2, 3, 4, 5, 6, 7]\n",
            "[2013, 4824, 4052, 3248, 984, 1360, 1131, 1319]\n"
          ]
        },
        {
          "name": "stderr",
          "output_type": "stream",
          "text": [
            "100%|██████████| 8/8 [17:15<00:00, 129.39s/it]\n"
          ]
        },
        {
          "name": "stdout",
          "output_type": "stream",
          "text": [
            "\n",
            "client_loss:  2.6062055512984865\n",
            "\n",
            "round:  4\n",
            "client_idx:  [0, 1, 2, 3, 4, 5, 6, 7]\n",
            "[2013, 4824, 4052, 3248, 984, 1360, 1131, 1319]\n"
          ]
        },
        {
          "name": "stderr",
          "output_type": "stream",
          "text": [
            "100%|██████████| 8/8 [17:27<00:00, 130.89s/it]\n"
          ]
        },
        {
          "name": "stdout",
          "output_type": "stream",
          "text": [
            "\n",
            "client_loss:  2.6060779229820135\n",
            "\n",
            "round:  5\n",
            "client_idx:  [0, 1, 2, 3, 4, 5, 6, 7]\n",
            "[2013, 4824, 4052, 3248, 984, 1360, 1131, 1319]\n"
          ]
        },
        {
          "name": "stderr",
          "output_type": "stream",
          "text": [
            "100%|██████████| 8/8 [17:31<00:00, 131.41s/it]"
          ]
        },
        {
          "name": "stdout",
          "output_type": "stream",
          "text": [
            "\n",
            "client_loss:  2.606077468735202\n",
            "\n",
            "TIME: 83.53864834705989mins\n"
          ]
        },
        {
          "name": "stderr",
          "output_type": "stream",
          "text": [
            "\n"
          ]
        }
      ],
      "source": [
        "# Train Client Model and Global Model\n",
        "train_loss_client = []\n",
        "train_loss_global = []\n",
        "train_loss_per_client = [[] for i in range(num_clients)]\n",
        "\n",
        "start_time = time.time()\n",
        "\n",
        "for r in range(num_rounds): # total number of rounds\n",
        "\n",
        "    print('\\nround: ', r+1)\n",
        "    # num_selected = random.choice(range(1,num_clients))\n",
        "    #client_idx = np.random.permutation(num_clients)[:num_selected] # random pick some clients from all clients for train\n",
        "    client_idx = list(range(num_clients))\n",
        "    print('client_idx: ',client_idx)\n",
        "    client_lens = [len(train_loader[devices[idx]]) for idx in client_idx ] # Need to fix this. It is part of server aggregation.\n",
        "    # client_lens = [len(train_lotrain_loaderader[idx]) for idx in client_idx ]\n",
        "    print(client_lens)\n",
        "\n",
        "\n",
        "    #### client update ####\n",
        "    loss = 0\n",
        "    for i in tqdm(range(num_selected)):\n",
        "        # print(i)\n",
        "        client_syn(client_models[i], global_model)\n",
        "        # print(train_loader[devices[client_idx[i]]])\n",
        "        l = client_update(client_models[i], opt[i], train_loader[devices[client_idx[i]]], epochs)\n",
        "        train_loss_per_client[i].append(l)\n",
        "        loss += l\n",
        "    train_loss_client.append(loss)\n",
        "\n",
        "\n",
        "    #### retraining on the global server ####\n",
        "    #loss_retrain = 0\n",
        "    #for i in tqdm(range(num_selected)):\n",
        "    #    loss_retrain += client_update(client_models[i], opt[i], baseline_data[devices[client_idx[i]]], retrain_epochs)\n",
        "    #train_loss_global.append(loss_retrain/num_selected)\n",
        "\n",
        "\n",
        "    ### aggregate models ###\n",
        "    #server_aggregate(global_model, client_models, client_lens)      # FedAvg\n",
        "    server_aggregate_M(global_model, client_models, client_lens)    # FedAvgM\n",
        "\n",
        "    print(\"\\nclient_loss: \", loss)\n",
        "    #print('global_loss: ', loss_retrain/num_selected)\n",
        "\n",
        "time_required = time.time() - start_time\n",
        "print('\\nTIME: {}mins'.format(time_required/60))"
      ]
    },
    {
      "cell_type": "code",
      "execution_count": null,
      "metadata": {
        "id": "mTE7-ISNDA9e"
      },
      "outputs": [],
      "source": [
        "# save model\n",
        "torch.save(global_model,'D:/Amrita College/OneDrive - Amrita university/Semester 7/Codes/Final Year Project/models/globalattackmodel.pt')"
      ]
    },
    {
      "cell_type": "code",
      "execution_count": null,
      "metadata": {
        "id": "Yi_MeTxDgwaD",
        "outputId": "02847ec7-728d-483a-fc12-351039128233"
      },
      "outputs": [
        {
          "name": "stdout",
          "output_type": "stream",
          "text": [
            "[0.1810280597046463, 0.4605968728495213, 0.4606761066979251, 0.4606615936391586, 0.46069772833966594]\n",
            "[0.005663310403987352, 0.28229014504435246, 0.2821098957581455, 0.2821043500750886, 0.282121001928118]\n",
            "[0.0701986793545969, 0.36740732888681016, 0.36729088060186416, 0.3672583843723881, 0.36726808584472653]\n",
            "[0.017418527064918067, 0.529624459397947, 0.5297696651051307, 0.5297821738293825, 0.5297796126349549]\n",
            "[0.00015234906643898994, 0.07501505761657183, 0.07499181812371665, 0.0750066345459138, 0.07504159504381137]\n",
            "[6.961452585301231e-05, 0.0700890996685142, 0.07007350206155988, 0.07006970969686176, 0.07006307789809345]\n",
            "[0.2109948053007417, 0.7648295268719435, 0.7651583689382706, 0.7650693586239448, 0.7649742386754269]\n",
            "[0.029463877347513323, 0.05613154464791768, 0.0561353140118743, 0.05612571819927586, 0.056132128370404696]\n"
          ]
        }
      ],
      "source": [
        "for i in range(len(train_loss_per_client)):\n",
        "  print(train_loss_per_client[i])"
      ]
    },
    {
      "cell_type": "code",
      "execution_count": 70,
      "metadata": {
        "id": "WbFb24eT6ggV"
      },
      "outputs": [
        {
          "ename": "RuntimeError",
          "evalue": "Parent directory D:/Amrita College/OneDrive - Amrita university/Semester 7/Codes/Final Year Project/models/clients does not exist.",
          "output_type": "error",
          "traceback": [
            "\u001b[1;31m---------------------------------------------------------------------------\u001b[0m",
            "\u001b[1;31mRuntimeError\u001b[0m                              Traceback (most recent call last)",
            "\u001b[1;32me:\\S7\\Final Year Project\\Separate_Attack_Training_FL_2.ipynb Cell 29\u001b[0m line \u001b[0;36m2\n\u001b[0;32m      <a href='vscode-notebook-cell:/e%3A/S7/Final%20Year%20Project/Separate_Attack_Training_FL_2.ipynb#X36sZmlsZQ%3D%3D?line=0'>1</a>\u001b[0m \u001b[39mfor\u001b[39;00m i \u001b[39min\u001b[39;00m \u001b[39mrange\u001b[39m(\u001b[39mlen\u001b[39m(devices)):\n\u001b[1;32m----> <a href='vscode-notebook-cell:/e%3A/S7/Final%20Year%20Project/Separate_Attack_Training_FL_2.ipynb#X36sZmlsZQ%3D%3D?line=1'>2</a>\u001b[0m   torch\u001b[39m.\u001b[39;49msave(client_models[i],\u001b[39m'\u001b[39;49m\u001b[39mD:/Amrita College/OneDrive - Amrita university/Semester 7/Codes/Final Year Project/models/clients/\u001b[39;49m\u001b[39m'\u001b[39;49m \u001b[39m+\u001b[39;49m devices[i] \u001b[39m+\u001b[39;49m \u001b[39m'\u001b[39;49m\u001b[39m.pt\u001b[39;49m\u001b[39m'\u001b[39;49m)\n",
            "File \u001b[1;32m~\\AppData\\Local\\Packages\\PythonSoftwareFoundation.Python.3.11_qbz5n2kfra8p0\\LocalCache\\local-packages\\Python311\\site-packages\\torch\\serialization.py:618\u001b[0m, in \u001b[0;36msave\u001b[1;34m(obj, f, pickle_module, pickle_protocol, _use_new_zipfile_serialization, _disable_byteorder_record)\u001b[0m\n\u001b[0;32m    615\u001b[0m _check_save_filelike(f)\n\u001b[0;32m    617\u001b[0m \u001b[39mif\u001b[39;00m _use_new_zipfile_serialization:\n\u001b[1;32m--> 618\u001b[0m     \u001b[39mwith\u001b[39;00m _open_zipfile_writer(f) \u001b[39mas\u001b[39;00m opened_zipfile:\n\u001b[0;32m    619\u001b[0m         _save(obj, opened_zipfile, pickle_module, pickle_protocol, _disable_byteorder_record)\n\u001b[0;32m    620\u001b[0m         \u001b[39mreturn\u001b[39;00m\n",
            "File \u001b[1;32m~\\AppData\\Local\\Packages\\PythonSoftwareFoundation.Python.3.11_qbz5n2kfra8p0\\LocalCache\\local-packages\\Python311\\site-packages\\torch\\serialization.py:492\u001b[0m, in \u001b[0;36m_open_zipfile_writer\u001b[1;34m(name_or_buffer)\u001b[0m\n\u001b[0;32m    490\u001b[0m \u001b[39melse\u001b[39;00m:\n\u001b[0;32m    491\u001b[0m     container \u001b[39m=\u001b[39m _open_zipfile_writer_buffer\n\u001b[1;32m--> 492\u001b[0m \u001b[39mreturn\u001b[39;00m container(name_or_buffer)\n",
            "File \u001b[1;32m~\\AppData\\Local\\Packages\\PythonSoftwareFoundation.Python.3.11_qbz5n2kfra8p0\\LocalCache\\local-packages\\Python311\\site-packages\\torch\\serialization.py:463\u001b[0m, in \u001b[0;36m_open_zipfile_writer_file.__init__\u001b[1;34m(self, name)\u001b[0m\n\u001b[0;32m    461\u001b[0m     \u001b[39msuper\u001b[39m()\u001b[39m.\u001b[39m\u001b[39m__init__\u001b[39m(torch\u001b[39m.\u001b[39m_C\u001b[39m.\u001b[39mPyTorchFileWriter(\u001b[39mself\u001b[39m\u001b[39m.\u001b[39mfile_stream))\n\u001b[0;32m    462\u001b[0m \u001b[39melse\u001b[39;00m:\n\u001b[1;32m--> 463\u001b[0m     \u001b[39msuper\u001b[39m()\u001b[39m.\u001b[39m\u001b[39m__init__\u001b[39m(torch\u001b[39m.\u001b[39;49m_C\u001b[39m.\u001b[39;49mPyTorchFileWriter(\u001b[39mself\u001b[39;49m\u001b[39m.\u001b[39;49mname))\n",
            "\u001b[1;31mRuntimeError\u001b[0m: Parent directory D:/Amrita College/OneDrive - Amrita university/Semester 7/Codes/Final Year Project/models/clients does not exist."
          ]
        }
      ],
      "source": [
        "for i in range(len(devices)):\n",
        "  torch.save(client_models[i],'D:/Amrita College/OneDrive - Amrita university/Semester 7/Codes/Final Year Project/models/clients/' + devices[i] + '.pt')"
      ]
    },
    {
      "cell_type": "code",
      "execution_count": null,
      "metadata": {
        "id": "gykJL7ejDA9f"
      },
      "outputs": [],
      "source": []
    },
    {
      "cell_type": "code",
      "execution_count": null,
      "metadata": {
        "id": "oI1CQSuoDA9f"
      },
      "outputs": [],
      "source": [
        "def printperformance(model, losses, modelname):\n",
        "    plt.plot(losses)\n",
        "    plt.xlabel('number of rounds')\n",
        "    plt.ylabel('loss')\n",
        "    plt.ylim((0, 2.5))\n",
        "    plt.grid()\n",
        "    plt.title(modelname)\n",
        "    plt.show()"
      ]
    },
    {
      "cell_type": "code",
      "execution_count": null,
      "metadata": {
        "id": "Sb5v5VOjDA9f",
        "outputId": "cf345ffd-04e8-4892-f7be-a12d48d6dc5f"
      },
      "outputs": [],
      "source": [
        "for i in range(len(devices)):\n",
        "  printperformance(client_models[i], train_loss_per_client[i], devices[i])"
      ]
    },
    {
      "cell_type": "code",
      "execution_count": null,
      "metadata": {
        "id": "Ix3zjB1U63cb",
        "outputId": "b1c7278e-2873-46f8-c710-5ae420f4cf5a"
      },
      "outputs": [],
      "source": [
        "'''\n",
        "# train_loss_global\n",
        "plt.plot(train_loss_global)\n",
        "plt.xlabel('number of rounds')\n",
        "plt.ylabel('loss')\n",
        "plt.ylim((0, 2.5))\n",
        "plt.grid()\n",
        "plt.title('Federated Model with FedAvg (use five devices to train)')\n",
        "plt.show()\n",
        "'''"
      ]
    },
    {
      "attachments": {},
      "cell_type": "markdown",
      "metadata": {
        "id": "dK43oLbY9uNr"
      },
      "source": [
        "# Evaluation"
      ]
    },
    {
      "cell_type": "code",
      "execution_count": 54,
      "metadata": {
        "id": "ku4dyUThDZF1"
      },
      "outputs": [],
      "source": [
        "client_models = []\n",
        "for i in range(len(devices)):\n",
        "  client_models.append(torch.load('C:/Final Year Project/models/clients/' + devices[i] + '.pt'))"
      ]
    },
    {
      "cell_type": "code",
      "execution_count": 55,
      "metadata": {
        "id": "1DvI0napggwm"
      },
      "outputs": [],
      "source": [
        "from sklearn import metrics"
      ]
    },
    {
      "cell_type": "code",
      "execution_count": 63,
      "metadata": {
        "id": "h1HJ9RZw63Z-"
      },
      "outputs": [],
      "source": [
        "def get_thresh(model, dataloader):\n",
        "\n",
        "    model.eval()\n",
        "    errs = []\n",
        "    for batch in dataloader:\n",
        "       for data in batch:\n",
        "         mse = np.mean(np.power(data.float().cpu().detach().numpy() - model(data.float()).cpu().detach().numpy(), 2), axis=0)\n",
        "         thresh = mse.mean() + mse.std()\n",
        "         errs.append(thresh)\n",
        "    thresh = sum(errs) / len(errs)\n",
        "    return thresh\n",
        "\n",
        "    #model.eval()\n",
        "    #pred = global_model(tr_data).cpu().detach().numpy()\n",
        "    #print(pred)\n",
        "    #print(np.isnan(pred))\n",
        "    #thresh = np.sqrt(metrics.mean_squared_error(pred, threshben.numpy()))\n",
        "    #mse = np.mean(np.power(tr_data.cpu().detach().numpy() - model(tr_data).cpu().detach().numpy(), 2), axis=1)\n",
        "    #tr = np.sqrt(metrics.mean_squared_error(model(tr_data).cpu().detach().numpy(), tr_data.cpu().detach().numpy()))\n",
        "    #tr = np.sqrt(mse)\n",
        "    #return thresh\n",
        "    \n",
        "    \n",
        "def quan_thresh(model, dataloader, quantile=0.9):\n",
        "\n",
        "  model.eval()\n",
        "  errs = []\n",
        "  \n",
        "  for batch in dataloader:\n",
        "    \n",
        "    mse = []\n",
        "    for data in batch:\n",
        "      error = np.power(data.float().cpu().numpy() - model(data.float()).cpu().detach().numpy(), 2)\n",
        "      mse.append(error)\n",
        "    \n",
        "    # Calculate threshold as quantile of errors \n",
        "    thresh = np.quantile(mse, quantile)  \n",
        "    errs.append(thresh)\n",
        "    \n",
        "  return np.mean(errs)\n",
        "\n",
        "def perf_measure(y_actual, y_pred):\n",
        "    TP = 0\n",
        "    FP = 0\n",
        "    TN = 0\n",
        "    FN = 0\n",
        "    for i in range(len(y_pred)):\n",
        "        if y_actual[i] == y_pred[i] == 1:\n",
        "           TP += 1\n",
        "        if y_pred[i] == 1 and y_actual[i] != y_pred[i]:\n",
        "           FP += 1\n",
        "        if y_actual[i] == y_pred[i] == 0:\n",
        "           TN += 1\n",
        "        if y_pred[i] == 0 and y_actual[i] != y_pred[i]:\n",
        "           FN += 1\n",
        "    return (TP, FP, TN, FN)\n",
        "\n",
        "def get_mix_result(model, tr, mix_data, mix_label):\n",
        "    model.eval()\n",
        "    prediction = []\n",
        "    for i in mix_data:\n",
        "      pred = model(i).cpu().detach().numpy()\n",
        "      error = np.sqrt(metrics.mean_squared_error(pred, threshben.numpy()))\n",
        "      if error > tr:\n",
        "        prediction.append(1)\n",
        "      else:\n",
        "        prediction.append(0)\n",
        "\n",
        "    mix_label_list = mix_label.tolist()\n",
        "\n",
        "    TP,FP,TN,FN = perf_measure(mix_label_list, prediction)\n",
        "\n",
        "    conf = [[TP, FN],[FP, TN]]\n",
        "    print(conf)\n",
        "    x_axis_label = ['abnormal', 'benign']\n",
        "    y_axis_label = ['abnormal', 'benign']\n",
        "\n",
        "    plt.figure()\n",
        "    sns.heatmap(conf,xticklabels=x_axis_label, yticklabels=y_axis_label, annot=True,annot_kws={\"size\": 16},fmt='g')\n",
        "\n",
        "    acc = (TP+TN) / (TP+TN+FP+FN)\n",
        "    precision = TP/(TP+FP)\n",
        "    recall = TP/(TP+FN)\n",
        "    F1score = 2 * ((precision * recall) / (precision + recall))\n",
        "\n",
        "    TPR = round((TP / (TP+FN)), 6)\n",
        "    # print('TPR is: {}%'.format(TPR))\n",
        "\n",
        "    FPR = round((FP / (FP + TN)), 6)\n",
        "    # print('TPR is: {}%'.format(FPR))\n",
        "\n",
        "    print('Acc: %.3f%% \\nPrecision: %.3f \\nRecall: %.3f \\nF1score: %.3f \\nTPR: %.5f \\nFPR: %.5f'%(acc*100,\n",
        "                                                                                                   precision,\n",
        "                                                                                                   recall,\n",
        "                                                                                                   F1score*100,\n",
        "                                                                                                   TPR,\n",
        "                                                                                                   FPR))\n",
        "\n",
        "#   [['TP', 'FN']\n",
        "#   ['FP', 'TN']]"
      ]
    },
    {
      "cell_type": "code",
      "execution_count": 64,
      "metadata": {
        "id": "FhTUbMWYDca5"
      },
      "outputs": [
        {
          "name": "stdout",
          "output_type": "stream",
          "text": [
            "{'Bot.csv': 119093.25440612582, 'DDOS attack-HOIC.csv': 118897.75838062294, 'DDoS attacks-LOIC-HTTP.csv': 119148.78782256448, 'DoS attacks-Hulk.csv': 112490.44287446121, 'DoS attacks-SlowHTTPTest.csv': 118930.49897421239, 'FTP-BruteForce.csv': 118454.20071691174, 'Infilteration.csv': 118247.28517766358, 'SSH-Bruteforce.csv': 119170.79520706976}\n"
          ]
        }
      ],
      "source": [
        "thresholds = {}\n",
        "for i in range(len(devices)):\n",
        "    model = client_models[i]\n",
        "    dataloader = train_loader[devices[i]]\n",
        "    thresholds[devices[i]] = quan_thresh(model, dataloader)\n",
        "print(thresholds)"
      ]
    },
    {
      "cell_type": "code",
      "execution_count": 33,
      "metadata": {},
      "outputs": [
        {
          "data": {
            "text/plain": [
              "'thresholds_test = {}\\nfor i in range(len(devices)):\\n    model = client_models[i]\\n    dataloader = test_loader[devices[i]]\\n    thresholds_test[devices[i]] = get_thresh(model, dataloader)\\nprint(thresholds_test)'"
            ]
          },
          "execution_count": 33,
          "metadata": {},
          "output_type": "execute_result"
        }
      ],
      "source": [
        "'''thresholds_test = {}\n",
        "for i in range(len(devices)):\n",
        "    model = client_models[i]\n",
        "    dataloader = test_loader[devices[i]]\n",
        "    thresholds_test[devices[i]] = get_thresh(model, dataloader)\n",
        "print(thresholds_test)'''"
      ]
    },
    {
      "cell_type": "code",
      "execution_count": 34,
      "metadata": {},
      "outputs": [
        {
          "data": {
            "text/plain": [
              "8"
            ]
          },
          "execution_count": 34,
          "metadata": {},
          "output_type": "execute_result"
        }
      ],
      "source": [
        "len(thresholds)"
      ]
    },
    {
      "cell_type": "code",
      "execution_count": 35,
      "metadata": {},
      "outputs": [
        {
          "data": {
            "text/plain": [
              "['Bot.csv',\n",
              " 'DDOS attack-HOIC.csv',\n",
              " 'DDoS attacks-LOIC-HTTP.csv',\n",
              " 'DoS attacks-Hulk.csv',\n",
              " 'DoS attacks-SlowHTTPTest.csv',\n",
              " 'FTP-BruteForce.csv',\n",
              " 'Infilteration.csv',\n",
              " 'SSH-Bruteforce.csv']"
            ]
          },
          "execution_count": 35,
          "metadata": {},
          "output_type": "execute_result"
        }
      ],
      "source": [
        "devices"
      ]
    },
    {
      "cell_type": "code",
      "execution_count": 36,
      "metadata": {},
      "outputs": [
        {
          "data": {
            "text/plain": [
              "{'Bot.csv': <torch.utils.data.dataloader.DataLoader at 0x284a0253670>,\n",
              " 'DDOS attack-HOIC.csv': <torch.utils.data.dataloader.DataLoader at 0x284fa4bd580>,\n",
              " 'DDoS attacks-LOIC-HTTP.csv': <torch.utils.data.dataloader.DataLoader at 0x284fa4bdb50>,\n",
              " 'DoS attacks-Hulk.csv': <torch.utils.data.dataloader.DataLoader at 0x284fa4bdd90>,\n",
              " 'DoS attacks-SlowHTTPTest.csv': <torch.utils.data.dataloader.DataLoader at 0x284fa4bd700>,\n",
              " 'FTP-BruteForce.csv': <torch.utils.data.dataloader.DataLoader at 0x284fa4bf520>,\n",
              " 'Infilteration.csv': <torch.utils.data.dataloader.DataLoader at 0x284fa4bf4c0>,\n",
              " 'SSH-Bruteforce.csv': <torch.utils.data.dataloader.DataLoader at 0x284fa4bf970>}"
            ]
          },
          "execution_count": 36,
          "metadata": {},
          "output_type": "execute_result"
        }
      ],
      "source": [
        "test_loader"
      ]
    },
    {
      "cell_type": "code",
      "execution_count": null,
      "metadata": {},
      "outputs": [],
      "source": [
        "import matplotlib.pyplot as plt\n",
        "import seaborn as sns\n",
        "\n",
        "device_idx = {device: i for i, device in enumerate(devices)}\n",
        "for device in devices:\n",
        "  model = client_models[device_idx[device]]\n",
        "  threshold = thresholds[device]\n",
        "  for i in attbenmixdata_loader:\n",
        "    test_set = attbenmixdata_loader[i]\n",
        "    labels = list(attbenmixdatalabels[i])\n",
        "    y_true = []\n",
        "    y_pred = []\n",
        "    for batch in test_set:\n",
        "      for data in batch:\n",
        "        pred = model(data.float())\n",
        "        error = torch.mean((pred.float() - data.float())**2, dim=tuple(range(1,pred.ndim)))\n",
        "        if device == i:\n",
        "          y_true.append(1)\n",
        "          y_pred.append(1 if error <= threshold else 0)\n",
        "        else:\n",
        "          y_true.append(0)\n",
        "          y_pred.append(0 if error <= threshold else 1)\n",
        "    TP, FP, TN, FN = perf_measure(y_true, y_pred)\n",
        "    conf_matrix = [[TP, FN], [FP, TN]]\n",
        "    plt.figure() \n",
        "    sns.heatmap(conf_matrix, annot=True, fmt=\"d\")\n",
        "    plt.title(\"Confusion Matrix for Client \" + str(device) +\" with \"+ str(i))\n",
        "    plt.xlabel(\"Predicted Label\")\n",
        "    plt.ylabel(\"True Label\")\n",
        "\n",
        "#   [['TP', 'FN']\n",
        "#   ['FP', 'TN']]"
      ]
    },
    {
      "cell_type": "code",
      "execution_count": null,
      "metadata": {
        "id": "oomBBYuq63WS"
      },
      "outputs": [],
      "source": [
        "# load model\n",
        "global_model = torch.load('/content/gdrive/My Drive/models/alldataglobal.pt')                                        "
      ]
    },
    {
      "attachments": {},
      "cell_type": "markdown",
      "metadata": {
        "id": "0zKO6BUI97sa"
      },
      "source": [
        "# Test on client devices"
      ]
    },
    {
      "cell_type": "code",
      "execution_count": null,
      "metadata": {
        "id": "w-SKiqsY63PC"
      },
      "outputs": [],
      "source": [
        "threshben.drop(['Label'], axis=1, inplace=True)"
      ]
    },
    {
      "cell_type": "code",
      "execution_count": null,
      "metadata": {
        "id": "BlqqU4Huu7cx"
      },
      "outputs": [],
      "source": [
        "threshben = torch.from_numpy(np.array(threshben)).float().to(device)"
      ]
    },
    {
      "cell_type": "code",
      "execution_count": null,
      "metadata": {
        "id": "Xwjgu2CkApDJ"
      },
      "outputs": [],
      "source": [
        "print(threshben)"
      ]
    },
    {
      "cell_type": "code",
      "execution_count": null,
      "metadata": {
        "id": "Kq-lLOo4aTcY"
      },
      "outputs": [],
      "source": [
        "tensor_data = torch.cat([batch for batch in train_loader['D1']], dim=0)"
      ]
    },
    {
      "cell_type": "code",
      "execution_count": null,
      "metadata": {
        "id": "3cwLdmWeZA1g"
      },
      "outputs": [],
      "source": [
        "predtrain = global_model(tensor_data).cpu().detach().numpy()\n",
        "print(predtrain)"
      ]
    },
    {
      "cell_type": "code",
      "execution_count": null,
      "metadata": {
        "id": "OWy8MiYqAwSa"
      },
      "outputs": [],
      "source": [
        "pred = global_model(threshben).cpu().detach().numpy()\n",
        "print(pred)"
      ]
    },
    {
      "cell_type": "code",
      "execution_count": null,
      "metadata": {
        "id": "mFUghu6Ley5T"
      },
      "outputs": [],
      "source": [
        "thresh = get_thresh(global_model, threshben)"
      ]
    },
    {
      "cell_type": "code",
      "execution_count": null,
      "metadata": {
        "id": "vTwiz5R625dp"
      },
      "outputs": [],
      "source": [
        "thresh.shape"
      ]
    },
    {
      "cell_type": "code",
      "execution_count": null,
      "metadata": {
        "id": "OFN3HYdu69DD"
      },
      "outputs": [],
      "source": [
        "thresh"
      ]
    },
    {
      "cell_type": "code",
      "execution_count": null,
      "metadata": {
        "id": "sXc6Y-8G63Lv"
      },
      "outputs": [],
      "source": [
        "# use global model & device's TR\n",
        "testset = torch.from_numpy(np.array(testset)).float().to(device)\n",
        "print(\"D1: \")\n",
        "get_mix_result(global_model, thresh, testset, testlabels)"
      ]
    }
  ],
  "metadata": {
    "colab": {
      "provenance": []
    },
    "kernelspec": {
      "display_name": "Python 3",
      "name": "python3"
    },
    "language_info": {
      "codemirror_mode": {
        "name": "ipython",
        "version": 3
      },
      "file_extension": ".py",
      "mimetype": "text/x-python",
      "name": "python",
      "nbconvert_exporter": "python",
      "pygments_lexer": "ipython3",
      "version": "3.10.0"
    }
  },
  "nbformat": 4,
  "nbformat_minor": 0
}
