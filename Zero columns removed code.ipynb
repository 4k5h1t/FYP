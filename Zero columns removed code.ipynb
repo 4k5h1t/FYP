{
  "cells": [
    {
      "attachments": {},
      "cell_type": "markdown",
      "metadata": {
        "id": "vjoXjjOj2Kaq"
      },
      "source": [
        "# Import Libraries/Packages & Datasets"
      ]
    },
    {
      "cell_type": "code",
      "execution_count": 1,
      "metadata": {
        "id": "eMvQwUpC2CyT"
      },
      "outputs": [],
      "source": [
        "import pandas as pd\n",
        "import numpy as np\n",
        "import seaborn as sns\n",
        "import matplotlib.pyplot as plt\n",
        "import random\n",
        "from tqdm import tqdm\n",
        "import time\n",
        "import copy\n",
        "\n",
        "from sklearn import preprocessing\n",
        "from sklearn.preprocessing import MinMaxScaler\n",
        "from sklearn.model_selection import train_test_split\n",
        "from sklearn.utils import shuffle\n",
        "\n",
        "import torch\n",
        "from torch import nn, optim\n",
        "import torch.nn.functional as F\n",
        "from torch.utils.data import Dataset, DataLoader\n",
        "\n",
        "torch.backends.cudnn.benchmark=True\n",
        "device = torch.device(\"cuda\" if torch.cuda.is_available() else \"cpu\")\n",
        "torch.cuda.manual_seed(5703)\n",
        "torch.manual_seed(5703)\n",
        "np.random.seed(5703)\n",
        "random.seed(5703)"
      ]
    },
    {
      "attachments": {},
      "cell_type": "markdown",
      "metadata": {},
      "source": [
        "## Set Working directory\n",
        "## Load benign data, drop unwanted columns\n",
        " "
      ]
    },
    {
      "cell_type": "code",
      "execution_count": 2,
      "metadata": {
        "id": "Sb5nz59HHF7L"
      },
      "outputs": [],
      "source": [
        "#load data\n",
        "import os\n",
        "attackdata = {}\n",
        "os.chdir('C:/Final Year Project/idsattacks')\n",
        "for i in os.listdir():\n",
        "  if i != 'Benign.csv':\n",
        "    attackdata[i] = pd.read_csv(i)\n",
        "    attackdata[i].drop(['Dst Port', 'Timestamp', 'Flow Byts/s', 'Flow Pkts/s'], axis=1, inplace=True)\n"
      ]
    },
    {
      "cell_type": "code",
      "execution_count": 3,
      "metadata": {},
      "outputs": [
        {
          "name": "stdout",
          "output_type": "stream",
          "text": [
            "Bot.csv (286191, 76)\n",
            "Brute Force -Web.csv (611, 76)\n",
            "Brute Force -XSS.csv (230, 76)\n",
            "DDOS attack-HOIC.csv (686012, 76)\n",
            "DDOS attack-LOIC-UDP.csv (1730, 76)\n",
            "DDoS attacks-LOIC-HTTP.csv (576191, 76)\n",
            "DoS attacks-GoldenEye.csv (41508, 76)\n",
            "DoS attacks-Hulk.csv (461912, 76)\n",
            "DoS attacks-SlowHTTPTest.csv (139890, 76)\n",
            "DoS attacks-Slowloris.csv (10990, 76)\n",
            "FTP-BruteForce.csv (193354, 76)\n",
            "Infilteration.csv (160739, 76)\n",
            "SQL Injection.csv (87, 76)\n",
            "SSH-Bruteforce.csv (187589, 76)\n"
          ]
        }
      ],
      "source": [
        "for i in attackdata:\n",
        "    print(i, attackdata[i].shape)"
      ]
    },
    {
      "cell_type": "code",
      "execution_count": 4,
      "metadata": {
        "id": "U940RYEXDA9T"
      },
      "outputs": [
        {
          "name": "stdout",
          "output_type": "stream",
          "text": [
            "(2457307, 77)\n"
          ]
        }
      ],
      "source": [
        "bendata = pd.read_csv('C:/Final Year Project/idsattacks/Benign.csv')\n",
        "#bendata.drop(['Unnamed: 0'], axis=1, inplace=True)\n",
        "print(bendata.shape)"
      ]
    },
    {
      "cell_type": "code",
      "execution_count": 5,
      "metadata": {
        "id": "RMv1avXUIToj"
      },
      "outputs": [],
      "source": [
        "#checking for unwanted columns\n",
        "for i in attackdata:\n",
        "  for j in ['Flow ID', 'Src IP', 'Src Port', 'Dst IP', 'Protocol']:\n",
        "    if j in attackdata[i].columns:\n",
        "      attackdata[i].drop([j], axis=1, inplace=True)"
      ]
    },
    {
      "cell_type": "code",
      "execution_count": 6,
      "metadata": {
        "id": "JPkTI9NcDA9U"
      },
      "outputs": [
        {
          "name": "stdout",
          "output_type": "stream",
          "text": [
            "bendata : Unnamed: 0\n",
            "bendata : Protocol\n"
          ]
        }
      ],
      "source": [
        "for i in ['Unnamed: 0','Flow ID', 'Src IP', 'Src Port', 'Dst IP', 'Dst Port', 'Timestamp', 'Flow Byts/s', 'Flow Pkts/s', 'Protocol']:\n",
        "    if i in bendata.columns:\n",
        "      print('bendata' + \" : \" + i)\n",
        "      bendata.drop([i], axis=1, inplace=True)\n",
        "#bendata.drop(['Unnamed: 0'],axis=1,inplace=True)"
      ]
    },
    {
      "cell_type": "code",
      "execution_count": 7,
      "metadata": {},
      "outputs": [
        {
          "name": "stdout",
          "output_type": "stream",
          "text": [
            "(2457307, 75)\n"
          ]
        }
      ],
      "source": [
        "print(bendata.shape)"
      ]
    },
    {
      "cell_type": "code",
      "execution_count": 8,
      "metadata": {},
      "outputs": [
        {
          "data": {
            "text/html": [
              "<div>\n",
              "<style scoped>\n",
              "    .dataframe tbody tr th:only-of-type {\n",
              "        vertical-align: middle;\n",
              "    }\n",
              "\n",
              "    .dataframe tbody tr th {\n",
              "        vertical-align: top;\n",
              "    }\n",
              "\n",
              "    .dataframe thead th {\n",
              "        text-align: right;\n",
              "    }\n",
              "</style>\n",
              "<table border=\"1\" class=\"dataframe\">\n",
              "  <thead>\n",
              "    <tr style=\"text-align: right;\">\n",
              "      <th></th>\n",
              "      <th>Flow Duration</th>\n",
              "      <th>Tot Fwd Pkts</th>\n",
              "      <th>Tot Bwd Pkts</th>\n",
              "      <th>TotLen Fwd Pkts</th>\n",
              "      <th>TotLen Bwd Pkts</th>\n",
              "      <th>Fwd Pkt Len Max</th>\n",
              "      <th>Fwd Pkt Len Min</th>\n",
              "      <th>Fwd Pkt Len Mean</th>\n",
              "      <th>Fwd Pkt Len Std</th>\n",
              "      <th>Bwd Pkt Len Max</th>\n",
              "      <th>...</th>\n",
              "      <th>Fwd Seg Size Min</th>\n",
              "      <th>Active Mean</th>\n",
              "      <th>Active Std</th>\n",
              "      <th>Active Max</th>\n",
              "      <th>Active Min</th>\n",
              "      <th>Idle Mean</th>\n",
              "      <th>Idle Std</th>\n",
              "      <th>Idle Max</th>\n",
              "      <th>Idle Min</th>\n",
              "      <th>Label</th>\n",
              "    </tr>\n",
              "  </thead>\n",
              "  <tbody>\n",
              "    <tr>\n",
              "      <th>0</th>\n",
              "      <td>16079</td>\n",
              "      <td>3</td>\n",
              "      <td>4</td>\n",
              "      <td>326.0</td>\n",
              "      <td>129.0</td>\n",
              "      <td>326.0</td>\n",
              "      <td>0.0</td>\n",
              "      <td>108.666667</td>\n",
              "      <td>188.216188</td>\n",
              "      <td>112.0</td>\n",
              "      <td>...</td>\n",
              "      <td>20</td>\n",
              "      <td>0.0</td>\n",
              "      <td>0.0</td>\n",
              "      <td>0.0</td>\n",
              "      <td>0.0</td>\n",
              "      <td>0.0</td>\n",
              "      <td>0.0</td>\n",
              "      <td>0.0</td>\n",
              "      <td>0.0</td>\n",
              "      <td>Bot</td>\n",
              "    </tr>\n",
              "    <tr>\n",
              "      <th>1</th>\n",
              "      <td>577</td>\n",
              "      <td>2</td>\n",
              "      <td>0</td>\n",
              "      <td>0.0</td>\n",
              "      <td>0.0</td>\n",
              "      <td>0.0</td>\n",
              "      <td>0.0</td>\n",
              "      <td>0.000000</td>\n",
              "      <td>0.000000</td>\n",
              "      <td>0.0</td>\n",
              "      <td>...</td>\n",
              "      <td>20</td>\n",
              "      <td>0.0</td>\n",
              "      <td>0.0</td>\n",
              "      <td>0.0</td>\n",
              "      <td>0.0</td>\n",
              "      <td>0.0</td>\n",
              "      <td>0.0</td>\n",
              "      <td>0.0</td>\n",
              "      <td>0.0</td>\n",
              "      <td>Bot</td>\n",
              "    </tr>\n",
              "    <tr>\n",
              "      <th>2</th>\n",
              "      <td>10279</td>\n",
              "      <td>3</td>\n",
              "      <td>4</td>\n",
              "      <td>326.0</td>\n",
              "      <td>129.0</td>\n",
              "      <td>326.0</td>\n",
              "      <td>0.0</td>\n",
              "      <td>108.666667</td>\n",
              "      <td>188.216188</td>\n",
              "      <td>112.0</td>\n",
              "      <td>...</td>\n",
              "      <td>20</td>\n",
              "      <td>0.0</td>\n",
              "      <td>0.0</td>\n",
              "      <td>0.0</td>\n",
              "      <td>0.0</td>\n",
              "      <td>0.0</td>\n",
              "      <td>0.0</td>\n",
              "      <td>0.0</td>\n",
              "      <td>0.0</td>\n",
              "      <td>Bot</td>\n",
              "    </tr>\n",
              "    <tr>\n",
              "      <th>3</th>\n",
              "      <td>457</td>\n",
              "      <td>2</td>\n",
              "      <td>0</td>\n",
              "      <td>0.0</td>\n",
              "      <td>0.0</td>\n",
              "      <td>0.0</td>\n",
              "      <td>0.0</td>\n",
              "      <td>0.000000</td>\n",
              "      <td>0.000000</td>\n",
              "      <td>0.0</td>\n",
              "      <td>...</td>\n",
              "      <td>20</td>\n",
              "      <td>0.0</td>\n",
              "      <td>0.0</td>\n",
              "      <td>0.0</td>\n",
              "      <td>0.0</td>\n",
              "      <td>0.0</td>\n",
              "      <td>0.0</td>\n",
              "      <td>0.0</td>\n",
              "      <td>0.0</td>\n",
              "      <td>Bot</td>\n",
              "    </tr>\n",
              "    <tr>\n",
              "      <th>4</th>\n",
              "      <td>10271</td>\n",
              "      <td>3</td>\n",
              "      <td>4</td>\n",
              "      <td>326.0</td>\n",
              "      <td>129.0</td>\n",
              "      <td>326.0</td>\n",
              "      <td>0.0</td>\n",
              "      <td>108.666667</td>\n",
              "      <td>188.216188</td>\n",
              "      <td>112.0</td>\n",
              "      <td>...</td>\n",
              "      <td>20</td>\n",
              "      <td>0.0</td>\n",
              "      <td>0.0</td>\n",
              "      <td>0.0</td>\n",
              "      <td>0.0</td>\n",
              "      <td>0.0</td>\n",
              "      <td>0.0</td>\n",
              "      <td>0.0</td>\n",
              "      <td>0.0</td>\n",
              "      <td>Bot</td>\n",
              "    </tr>\n",
              "    <tr>\n",
              "      <th>...</th>\n",
              "      <td>...</td>\n",
              "      <td>...</td>\n",
              "      <td>...</td>\n",
              "      <td>...</td>\n",
              "      <td>...</td>\n",
              "      <td>...</td>\n",
              "      <td>...</td>\n",
              "      <td>...</td>\n",
              "      <td>...</td>\n",
              "      <td>...</td>\n",
              "      <td>...</td>\n",
              "      <td>...</td>\n",
              "      <td>...</td>\n",
              "      <td>...</td>\n",
              "      <td>...</td>\n",
              "      <td>...</td>\n",
              "      <td>...</td>\n",
              "      <td>...</td>\n",
              "      <td>...</td>\n",
              "      <td>...</td>\n",
              "      <td>...</td>\n",
              "    </tr>\n",
              "    <tr>\n",
              "      <th>2457302</th>\n",
              "      <td>318</td>\n",
              "      <td>2</td>\n",
              "      <td>2</td>\n",
              "      <td>74.0</td>\n",
              "      <td>338.0</td>\n",
              "      <td>37.0</td>\n",
              "      <td>37.0</td>\n",
              "      <td>37.000000</td>\n",
              "      <td>0.000000</td>\n",
              "      <td>205.0</td>\n",
              "      <td>...</td>\n",
              "      <td>8</td>\n",
              "      <td>0.0</td>\n",
              "      <td>0.0</td>\n",
              "      <td>0.0</td>\n",
              "      <td>0.0</td>\n",
              "      <td>0.0</td>\n",
              "      <td>0.0</td>\n",
              "      <td>0.0</td>\n",
              "      <td>0.0</td>\n",
              "      <td>Benign</td>\n",
              "    </tr>\n",
              "    <tr>\n",
              "      <th>2457303</th>\n",
              "      <td>1131</td>\n",
              "      <td>1</td>\n",
              "      <td>1</td>\n",
              "      <td>61.0</td>\n",
              "      <td>122.0</td>\n",
              "      <td>61.0</td>\n",
              "      <td>61.0</td>\n",
              "      <td>61.000000</td>\n",
              "      <td>0.000000</td>\n",
              "      <td>122.0</td>\n",
              "      <td>...</td>\n",
              "      <td>8</td>\n",
              "      <td>0.0</td>\n",
              "      <td>0.0</td>\n",
              "      <td>0.0</td>\n",
              "      <td>0.0</td>\n",
              "      <td>0.0</td>\n",
              "      <td>0.0</td>\n",
              "      <td>0.0</td>\n",
              "      <td>0.0</td>\n",
              "      <td>Benign</td>\n",
              "    </tr>\n",
              "    <tr>\n",
              "      <th>2457304</th>\n",
              "      <td>1109</td>\n",
              "      <td>2</td>\n",
              "      <td>2</td>\n",
              "      <td>100.0</td>\n",
              "      <td>257.0</td>\n",
              "      <td>50.0</td>\n",
              "      <td>50.0</td>\n",
              "      <td>50.000000</td>\n",
              "      <td>0.000000</td>\n",
              "      <td>146.0</td>\n",
              "      <td>...</td>\n",
              "      <td>8</td>\n",
              "      <td>0.0</td>\n",
              "      <td>0.0</td>\n",
              "      <td>0.0</td>\n",
              "      <td>0.0</td>\n",
              "      <td>0.0</td>\n",
              "      <td>0.0</td>\n",
              "      <td>0.0</td>\n",
              "      <td>0.0</td>\n",
              "      <td>Benign</td>\n",
              "    </tr>\n",
              "    <tr>\n",
              "      <th>2457305</th>\n",
              "      <td>866</td>\n",
              "      <td>2</td>\n",
              "      <td>2</td>\n",
              "      <td>74.0</td>\n",
              "      <td>338.0</td>\n",
              "      <td>37.0</td>\n",
              "      <td>37.0</td>\n",
              "      <td>37.000000</td>\n",
              "      <td>0.000000</td>\n",
              "      <td>205.0</td>\n",
              "      <td>...</td>\n",
              "      <td>8</td>\n",
              "      <td>0.0</td>\n",
              "      <td>0.0</td>\n",
              "      <td>0.0</td>\n",
              "      <td>0.0</td>\n",
              "      <td>0.0</td>\n",
              "      <td>0.0</td>\n",
              "      <td>0.0</td>\n",
              "      <td>0.0</td>\n",
              "      <td>Benign</td>\n",
              "    </tr>\n",
              "    <tr>\n",
              "      <th>2457306</th>\n",
              "      <td>1382</td>\n",
              "      <td>1</td>\n",
              "      <td>1</td>\n",
              "      <td>48.0</td>\n",
              "      <td>109.0</td>\n",
              "      <td>48.0</td>\n",
              "      <td>48.0</td>\n",
              "      <td>48.000000</td>\n",
              "      <td>0.000000</td>\n",
              "      <td>109.0</td>\n",
              "      <td>...</td>\n",
              "      <td>8</td>\n",
              "      <td>0.0</td>\n",
              "      <td>0.0</td>\n",
              "      <td>0.0</td>\n",
              "      <td>0.0</td>\n",
              "      <td>0.0</td>\n",
              "      <td>0.0</td>\n",
              "      <td>0.0</td>\n",
              "      <td>0.0</td>\n",
              "      <td>Benign</td>\n",
              "    </tr>\n",
              "  </tbody>\n",
              "</table>\n",
              "<p>5204341 rows × 75 columns</p>\n",
              "</div>"
            ],
            "text/plain": [
              "         Flow Duration  Tot Fwd Pkts  Tot Bwd Pkts  TotLen Fwd Pkts  \\\n",
              "0                16079             3             4            326.0   \n",
              "1                  577             2             0              0.0   \n",
              "2                10279             3             4            326.0   \n",
              "3                  457             2             0              0.0   \n",
              "4                10271             3             4            326.0   \n",
              "...                ...           ...           ...              ...   \n",
              "2457302            318             2             2             74.0   \n",
              "2457303           1131             1             1             61.0   \n",
              "2457304           1109             2             2            100.0   \n",
              "2457305            866             2             2             74.0   \n",
              "2457306           1382             1             1             48.0   \n",
              "\n",
              "         TotLen Bwd Pkts  Fwd Pkt Len Max  Fwd Pkt Len Min  Fwd Pkt Len Mean  \\\n",
              "0                  129.0            326.0              0.0        108.666667   \n",
              "1                    0.0              0.0              0.0          0.000000   \n",
              "2                  129.0            326.0              0.0        108.666667   \n",
              "3                    0.0              0.0              0.0          0.000000   \n",
              "4                  129.0            326.0              0.0        108.666667   \n",
              "...                  ...              ...              ...               ...   \n",
              "2457302            338.0             37.0             37.0         37.000000   \n",
              "2457303            122.0             61.0             61.0         61.000000   \n",
              "2457304            257.0             50.0             50.0         50.000000   \n",
              "2457305            338.0             37.0             37.0         37.000000   \n",
              "2457306            109.0             48.0             48.0         48.000000   \n",
              "\n",
              "         Fwd Pkt Len Std  Bwd Pkt Len Max  ...  Fwd Seg Size Min  Active Mean  \\\n",
              "0             188.216188            112.0  ...                20          0.0   \n",
              "1               0.000000              0.0  ...                20          0.0   \n",
              "2             188.216188            112.0  ...                20          0.0   \n",
              "3               0.000000              0.0  ...                20          0.0   \n",
              "4             188.216188            112.0  ...                20          0.0   \n",
              "...                  ...              ...  ...               ...          ...   \n",
              "2457302         0.000000            205.0  ...                 8          0.0   \n",
              "2457303         0.000000            122.0  ...                 8          0.0   \n",
              "2457304         0.000000            146.0  ...                 8          0.0   \n",
              "2457305         0.000000            205.0  ...                 8          0.0   \n",
              "2457306         0.000000            109.0  ...                 8          0.0   \n",
              "\n",
              "         Active Std  Active Max  Active Min  Idle Mean  Idle Std  Idle Max  \\\n",
              "0               0.0         0.0         0.0        0.0       0.0       0.0   \n",
              "1               0.0         0.0         0.0        0.0       0.0       0.0   \n",
              "2               0.0         0.0         0.0        0.0       0.0       0.0   \n",
              "3               0.0         0.0         0.0        0.0       0.0       0.0   \n",
              "4               0.0         0.0         0.0        0.0       0.0       0.0   \n",
              "...             ...         ...         ...        ...       ...       ...   \n",
              "2457302         0.0         0.0         0.0        0.0       0.0       0.0   \n",
              "2457303         0.0         0.0         0.0        0.0       0.0       0.0   \n",
              "2457304         0.0         0.0         0.0        0.0       0.0       0.0   \n",
              "2457305         0.0         0.0         0.0        0.0       0.0       0.0   \n",
              "2457306         0.0         0.0         0.0        0.0       0.0       0.0   \n",
              "\n",
              "         Idle Min   Label  \n",
              "0             0.0     Bot  \n",
              "1             0.0     Bot  \n",
              "2             0.0     Bot  \n",
              "3             0.0     Bot  \n",
              "4             0.0     Bot  \n",
              "...           ...     ...  \n",
              "2457302       0.0  Benign  \n",
              "2457303       0.0  Benign  \n",
              "2457304       0.0  Benign  \n",
              "2457305       0.0  Benign  \n",
              "2457306       0.0  Benign  \n",
              "\n",
              "[5204341 rows x 75 columns]"
            ]
          },
          "execution_count": 8,
          "metadata": {},
          "output_type": "execute_result"
        }
      ],
      "source": [
        "#full data combined\n",
        "fulldata = pd.DataFrame()\n",
        "for i in attackdata:\n",
        "    fulldata = pd.concat([fulldata, attackdata[i]], axis=0)\n",
        "fulldata = pd.concat([fulldata, bendata], axis=0)\n",
        "fulldata"
      ]
    },
    {
      "cell_type": "code",
      "execution_count": 9,
      "metadata": {},
      "outputs": [
        {
          "data": {
            "text/plain": [
              "74"
            ]
          },
          "execution_count": 9,
          "metadata": {},
          "output_type": "execute_result"
        }
      ],
      "source": [
        "#storing columns\n",
        "fulldatacols = list(fulldata.columns)\n",
        "fulldatacols.remove('Label')\n",
        "len(fulldatacols)"
      ]
    },
    {
      "cell_type": "code",
      "execution_count": 10,
      "metadata": {},
      "outputs": [],
      "source": [
        "#fulldata labels\n",
        "fulldatalabels = fulldata['Label']\n",
        "fulldata.drop(['Label'], axis=1, inplace=True)"
      ]
    },
    {
      "cell_type": "code",
      "execution_count": 11,
      "metadata": {},
      "outputs": [
        {
          "name": "stdout",
          "output_type": "stream",
          "text": [
            "Bwd PSH Flags 0.0 0.0\n",
            "Bwd URG Flags 0.0 0.0\n",
            "Fwd Byts/b Avg 0.0 0.0\n",
            "Fwd Pkts/b Avg 0.0 0.0\n",
            "Fwd Blk Rate Avg 0.0 0.0\n",
            "Bwd Byts/b Avg 0.0 0.0\n",
            "Bwd Pkts/b Avg 0.0 0.0\n",
            "Bwd Blk Rate Avg 0.0 0.0\n"
          ]
        }
      ],
      "source": [
        "des = fulldata.describe()\n",
        "cols = []\n",
        "for i in fulldatacols:\n",
        "    if des[i]['max'] == 0:\n",
        "        cols.append(i)\n",
        "        print(i, des[i]['min'], des[i]['max'])"
      ]
    },
    {
      "cell_type": "code",
      "execution_count": 12,
      "metadata": {},
      "outputs": [],
      "source": [
        "fulldata.drop(cols, axis=1, inplace=True)"
      ]
    },
    {
      "cell_type": "code",
      "execution_count": 13,
      "metadata": {},
      "outputs": [],
      "source": [
        "for i in cols:\n",
        "    fulldatacols.remove(i)"
      ]
    },
    {
      "cell_type": "code",
      "execution_count": 14,
      "metadata": {},
      "outputs": [],
      "source": [
        "#scaling data\n",
        "scaler = MinMaxScaler((0, 100))\n",
        "fulldata = scaler.fit_transform(fulldata)"
      ]
    },
    {
      "cell_type": "code",
      "execution_count": 15,
      "metadata": {},
      "outputs": [],
      "source": [
        "fulldata = pd.DataFrame(fulldata, columns=fulldatacols)"
      ]
    },
    {
      "cell_type": "code",
      "execution_count": 16,
      "metadata": {},
      "outputs": [
        {
          "data": {
            "text/html": [
              "<div>\n",
              "<style scoped>\n",
              "    .dataframe tbody tr th:only-of-type {\n",
              "        vertical-align: middle;\n",
              "    }\n",
              "\n",
              "    .dataframe tbody tr th {\n",
              "        vertical-align: top;\n",
              "    }\n",
              "\n",
              "    .dataframe thead th {\n",
              "        text-align: right;\n",
              "    }\n",
              "</style>\n",
              "<table border=\"1\" class=\"dataframe\">\n",
              "  <thead>\n",
              "    <tr style=\"text-align: right;\">\n",
              "      <th></th>\n",
              "      <th>Flow Duration</th>\n",
              "      <th>Tot Fwd Pkts</th>\n",
              "      <th>Tot Bwd Pkts</th>\n",
              "      <th>TotLen Fwd Pkts</th>\n",
              "      <th>TotLen Bwd Pkts</th>\n",
              "      <th>Fwd Pkt Len Max</th>\n",
              "      <th>Fwd Pkt Len Min</th>\n",
              "      <th>Fwd Pkt Len Mean</th>\n",
              "      <th>Fwd Pkt Len Std</th>\n",
              "      <th>Bwd Pkt Len Max</th>\n",
              "      <th>...</th>\n",
              "      <th>Fwd Act Data Pkts</th>\n",
              "      <th>Fwd Seg Size Min</th>\n",
              "      <th>Active Mean</th>\n",
              "      <th>Active Std</th>\n",
              "      <th>Active Max</th>\n",
              "      <th>Active Min</th>\n",
              "      <th>Idle Mean</th>\n",
              "      <th>Idle Std</th>\n",
              "      <th>Idle Max</th>\n",
              "      <th>Idle Min</th>\n",
              "    </tr>\n",
              "  </thead>\n",
              "  <tbody>\n",
              "    <tr>\n",
              "      <th>0</th>\n",
              "      <td>0.013399</td>\n",
              "      <td>0.000646</td>\n",
              "      <td>0.021256</td>\n",
              "      <td>0.003290</td>\n",
              "      <td>0.000469</td>\n",
              "      <td>17.340426</td>\n",
              "      <td>0.000000</td>\n",
              "      <td>7.461548</td>\n",
              "      <td>14.158398</td>\n",
              "      <td>2.791625</td>\n",
              "      <td>...</td>\n",
              "      <td>0.000323</td>\n",
              "      <td>50.0</td>\n",
              "      <td>0.0</td>\n",
              "      <td>0.0</td>\n",
              "      <td>0.0</td>\n",
              "      <td>0.0</td>\n",
              "      <td>0.0</td>\n",
              "      <td>0.0</td>\n",
              "      <td>0.0</td>\n",
              "      <td>0.0</td>\n",
              "    </tr>\n",
              "    <tr>\n",
              "      <th>1</th>\n",
              "      <td>0.000481</td>\n",
              "      <td>0.000323</td>\n",
              "      <td>0.000000</td>\n",
              "      <td>0.000000</td>\n",
              "      <td>0.000000</td>\n",
              "      <td>0.000000</td>\n",
              "      <td>0.000000</td>\n",
              "      <td>0.000000</td>\n",
              "      <td>0.000000</td>\n",
              "      <td>0.000000</td>\n",
              "      <td>...</td>\n",
              "      <td>0.000000</td>\n",
              "      <td>50.0</td>\n",
              "      <td>0.0</td>\n",
              "      <td>0.0</td>\n",
              "      <td>0.0</td>\n",
              "      <td>0.0</td>\n",
              "      <td>0.0</td>\n",
              "      <td>0.0</td>\n",
              "      <td>0.0</td>\n",
              "      <td>0.0</td>\n",
              "    </tr>\n",
              "    <tr>\n",
              "      <th>2</th>\n",
              "      <td>0.008566</td>\n",
              "      <td>0.000646</td>\n",
              "      <td>0.021256</td>\n",
              "      <td>0.003290</td>\n",
              "      <td>0.000469</td>\n",
              "      <td>17.340426</td>\n",
              "      <td>0.000000</td>\n",
              "      <td>7.461548</td>\n",
              "      <td>14.158398</td>\n",
              "      <td>2.791625</td>\n",
              "      <td>...</td>\n",
              "      <td>0.000323</td>\n",
              "      <td>50.0</td>\n",
              "      <td>0.0</td>\n",
              "      <td>0.0</td>\n",
              "      <td>0.0</td>\n",
              "      <td>0.0</td>\n",
              "      <td>0.0</td>\n",
              "      <td>0.0</td>\n",
              "      <td>0.0</td>\n",
              "      <td>0.0</td>\n",
              "    </tr>\n",
              "    <tr>\n",
              "      <th>3</th>\n",
              "      <td>0.000381</td>\n",
              "      <td>0.000323</td>\n",
              "      <td>0.000000</td>\n",
              "      <td>0.000000</td>\n",
              "      <td>0.000000</td>\n",
              "      <td>0.000000</td>\n",
              "      <td>0.000000</td>\n",
              "      <td>0.000000</td>\n",
              "      <td>0.000000</td>\n",
              "      <td>0.000000</td>\n",
              "      <td>...</td>\n",
              "      <td>0.000000</td>\n",
              "      <td>50.0</td>\n",
              "      <td>0.0</td>\n",
              "      <td>0.0</td>\n",
              "      <td>0.0</td>\n",
              "      <td>0.0</td>\n",
              "      <td>0.0</td>\n",
              "      <td>0.0</td>\n",
              "      <td>0.0</td>\n",
              "      <td>0.0</td>\n",
              "    </tr>\n",
              "    <tr>\n",
              "      <th>4</th>\n",
              "      <td>0.008559</td>\n",
              "      <td>0.000646</td>\n",
              "      <td>0.021256</td>\n",
              "      <td>0.003290</td>\n",
              "      <td>0.000469</td>\n",
              "      <td>17.340426</td>\n",
              "      <td>0.000000</td>\n",
              "      <td>7.461548</td>\n",
              "      <td>14.158398</td>\n",
              "      <td>2.791625</td>\n",
              "      <td>...</td>\n",
              "      <td>0.000323</td>\n",
              "      <td>50.0</td>\n",
              "      <td>0.0</td>\n",
              "      <td>0.0</td>\n",
              "      <td>0.0</td>\n",
              "      <td>0.0</td>\n",
              "      <td>0.0</td>\n",
              "      <td>0.0</td>\n",
              "      <td>0.0</td>\n",
              "      <td>0.0</td>\n",
              "    </tr>\n",
              "    <tr>\n",
              "      <th>...</th>\n",
              "      <td>...</td>\n",
              "      <td>...</td>\n",
              "      <td>...</td>\n",
              "      <td>...</td>\n",
              "      <td>...</td>\n",
              "      <td>...</td>\n",
              "      <td>...</td>\n",
              "      <td>...</td>\n",
              "      <td>...</td>\n",
              "      <td>...</td>\n",
              "      <td>...</td>\n",
              "      <td>...</td>\n",
              "      <td>...</td>\n",
              "      <td>...</td>\n",
              "      <td>...</td>\n",
              "      <td>...</td>\n",
              "      <td>...</td>\n",
              "      <td>...</td>\n",
              "      <td>...</td>\n",
              "      <td>...</td>\n",
              "      <td>...</td>\n",
              "    </tr>\n",
              "    <tr>\n",
              "      <th>5204336</th>\n",
              "      <td>0.000265</td>\n",
              "      <td>0.000323</td>\n",
              "      <td>0.010628</td>\n",
              "      <td>0.000747</td>\n",
              "      <td>0.001229</td>\n",
              "      <td>1.968085</td>\n",
              "      <td>2.612994</td>\n",
              "      <td>2.540588</td>\n",
              "      <td>0.000000</td>\n",
              "      <td>5.109671</td>\n",
              "      <td>...</td>\n",
              "      <td>0.000323</td>\n",
              "      <td>20.0</td>\n",
              "      <td>0.0</td>\n",
              "      <td>0.0</td>\n",
              "      <td>0.0</td>\n",
              "      <td>0.0</td>\n",
              "      <td>0.0</td>\n",
              "      <td>0.0</td>\n",
              "      <td>0.0</td>\n",
              "      <td>0.0</td>\n",
              "    </tr>\n",
              "    <tr>\n",
              "      <th>5204337</th>\n",
              "      <td>0.000943</td>\n",
              "      <td>0.000000</td>\n",
              "      <td>0.005314</td>\n",
              "      <td>0.000616</td>\n",
              "      <td>0.000444</td>\n",
              "      <td>3.244681</td>\n",
              "      <td>4.307910</td>\n",
              "      <td>4.188538</td>\n",
              "      <td>0.000000</td>\n",
              "      <td>3.040877</td>\n",
              "      <td>...</td>\n",
              "      <td>0.000000</td>\n",
              "      <td>20.0</td>\n",
              "      <td>0.0</td>\n",
              "      <td>0.0</td>\n",
              "      <td>0.0</td>\n",
              "      <td>0.0</td>\n",
              "      <td>0.0</td>\n",
              "      <td>0.0</td>\n",
              "      <td>0.0</td>\n",
              "      <td>0.0</td>\n",
              "    </tr>\n",
              "    <tr>\n",
              "      <th>5204338</th>\n",
              "      <td>0.000924</td>\n",
              "      <td>0.000323</td>\n",
              "      <td>0.010628</td>\n",
              "      <td>0.001009</td>\n",
              "      <td>0.000935</td>\n",
              "      <td>2.659574</td>\n",
              "      <td>3.531073</td>\n",
              "      <td>3.433228</td>\n",
              "      <td>0.000000</td>\n",
              "      <td>3.639083</td>\n",
              "      <td>...</td>\n",
              "      <td>0.000323</td>\n",
              "      <td>20.0</td>\n",
              "      <td>0.0</td>\n",
              "      <td>0.0</td>\n",
              "      <td>0.0</td>\n",
              "      <td>0.0</td>\n",
              "      <td>0.0</td>\n",
              "      <td>0.0</td>\n",
              "      <td>0.0</td>\n",
              "      <td>0.0</td>\n",
              "    </tr>\n",
              "    <tr>\n",
              "      <th>5204339</th>\n",
              "      <td>0.000722</td>\n",
              "      <td>0.000323</td>\n",
              "      <td>0.010628</td>\n",
              "      <td>0.000747</td>\n",
              "      <td>0.001229</td>\n",
              "      <td>1.968085</td>\n",
              "      <td>2.612994</td>\n",
              "      <td>2.540588</td>\n",
              "      <td>0.000000</td>\n",
              "      <td>5.109671</td>\n",
              "      <td>...</td>\n",
              "      <td>0.000323</td>\n",
              "      <td>20.0</td>\n",
              "      <td>0.0</td>\n",
              "      <td>0.0</td>\n",
              "      <td>0.0</td>\n",
              "      <td>0.0</td>\n",
              "      <td>0.0</td>\n",
              "      <td>0.0</td>\n",
              "      <td>0.0</td>\n",
              "      <td>0.0</td>\n",
              "    </tr>\n",
              "    <tr>\n",
              "      <th>5204340</th>\n",
              "      <td>0.001152</td>\n",
              "      <td>0.000000</td>\n",
              "      <td>0.005314</td>\n",
              "      <td>0.000484</td>\n",
              "      <td>0.000396</td>\n",
              "      <td>2.553191</td>\n",
              "      <td>3.389831</td>\n",
              "      <td>3.295898</td>\n",
              "      <td>0.000000</td>\n",
              "      <td>2.716849</td>\n",
              "      <td>...</td>\n",
              "      <td>0.000000</td>\n",
              "      <td>20.0</td>\n",
              "      <td>0.0</td>\n",
              "      <td>0.0</td>\n",
              "      <td>0.0</td>\n",
              "      <td>0.0</td>\n",
              "      <td>0.0</td>\n",
              "      <td>0.0</td>\n",
              "      <td>0.0</td>\n",
              "      <td>0.0</td>\n",
              "    </tr>\n",
              "  </tbody>\n",
              "</table>\n",
              "<p>5204341 rows × 66 columns</p>\n",
              "</div>"
            ],
            "text/plain": [
              "         Flow Duration  Tot Fwd Pkts  Tot Bwd Pkts  TotLen Fwd Pkts  \\\n",
              "0             0.013399      0.000646      0.021256         0.003290   \n",
              "1             0.000481      0.000323      0.000000         0.000000   \n",
              "2             0.008566      0.000646      0.021256         0.003290   \n",
              "3             0.000381      0.000323      0.000000         0.000000   \n",
              "4             0.008559      0.000646      0.021256         0.003290   \n",
              "...                ...           ...           ...              ...   \n",
              "5204336       0.000265      0.000323      0.010628         0.000747   \n",
              "5204337       0.000943      0.000000      0.005314         0.000616   \n",
              "5204338       0.000924      0.000323      0.010628         0.001009   \n",
              "5204339       0.000722      0.000323      0.010628         0.000747   \n",
              "5204340       0.001152      0.000000      0.005314         0.000484   \n",
              "\n",
              "         TotLen Bwd Pkts  Fwd Pkt Len Max  Fwd Pkt Len Min  Fwd Pkt Len Mean  \\\n",
              "0               0.000469        17.340426         0.000000          7.461548   \n",
              "1               0.000000         0.000000         0.000000          0.000000   \n",
              "2               0.000469        17.340426         0.000000          7.461548   \n",
              "3               0.000000         0.000000         0.000000          0.000000   \n",
              "4               0.000469        17.340426         0.000000          7.461548   \n",
              "...                  ...              ...              ...               ...   \n",
              "5204336         0.001229         1.968085         2.612994          2.540588   \n",
              "5204337         0.000444         3.244681         4.307910          4.188538   \n",
              "5204338         0.000935         2.659574         3.531073          3.433228   \n",
              "5204339         0.001229         1.968085         2.612994          2.540588   \n",
              "5204340         0.000396         2.553191         3.389831          3.295898   \n",
              "\n",
              "         Fwd Pkt Len Std  Bwd Pkt Len Max  ...  Fwd Act Data Pkts  \\\n",
              "0              14.158398         2.791625  ...           0.000323   \n",
              "1               0.000000         0.000000  ...           0.000000   \n",
              "2              14.158398         2.791625  ...           0.000323   \n",
              "3               0.000000         0.000000  ...           0.000000   \n",
              "4              14.158398         2.791625  ...           0.000323   \n",
              "...                  ...              ...  ...                ...   \n",
              "5204336         0.000000         5.109671  ...           0.000323   \n",
              "5204337         0.000000         3.040877  ...           0.000000   \n",
              "5204338         0.000000         3.639083  ...           0.000323   \n",
              "5204339         0.000000         5.109671  ...           0.000323   \n",
              "5204340         0.000000         2.716849  ...           0.000000   \n",
              "\n",
              "         Fwd Seg Size Min  Active Mean  Active Std  Active Max  Active Min  \\\n",
              "0                    50.0          0.0         0.0         0.0         0.0   \n",
              "1                    50.0          0.0         0.0         0.0         0.0   \n",
              "2                    50.0          0.0         0.0         0.0         0.0   \n",
              "3                    50.0          0.0         0.0         0.0         0.0   \n",
              "4                    50.0          0.0         0.0         0.0         0.0   \n",
              "...                   ...          ...         ...         ...         ...   \n",
              "5204336              20.0          0.0         0.0         0.0         0.0   \n",
              "5204337              20.0          0.0         0.0         0.0         0.0   \n",
              "5204338              20.0          0.0         0.0         0.0         0.0   \n",
              "5204339              20.0          0.0         0.0         0.0         0.0   \n",
              "5204340              20.0          0.0         0.0         0.0         0.0   \n",
              "\n",
              "         Idle Mean  Idle Std  Idle Max  Idle Min  \n",
              "0              0.0       0.0       0.0       0.0  \n",
              "1              0.0       0.0       0.0       0.0  \n",
              "2              0.0       0.0       0.0       0.0  \n",
              "3              0.0       0.0       0.0       0.0  \n",
              "4              0.0       0.0       0.0       0.0  \n",
              "...            ...       ...       ...       ...  \n",
              "5204336        0.0       0.0       0.0       0.0  \n",
              "5204337        0.0       0.0       0.0       0.0  \n",
              "5204338        0.0       0.0       0.0       0.0  \n",
              "5204339        0.0       0.0       0.0       0.0  \n",
              "5204340        0.0       0.0       0.0       0.0  \n",
              "\n",
              "[5204341 rows x 66 columns]"
            ]
          },
          "execution_count": 16,
          "metadata": {},
          "output_type": "execute_result"
        }
      ],
      "source": [
        "fulldata"
      ]
    },
    {
      "cell_type": "code",
      "execution_count": 17,
      "metadata": {},
      "outputs": [],
      "source": [
        "fulldata.reset_index(inplace=True, drop=True)\n",
        "fulldatalabels.reset_index(inplace=True, drop=True)\n",
        "fulldata = pd.concat([fulldata, fulldatalabels], axis=1)"
      ]
    },
    {
      "cell_type": "code",
      "execution_count": 18,
      "metadata": {},
      "outputs": [],
      "source": [
        "des = fulldata.describe()\n",
        "cols = []\n",
        "for i in fulldata.columns:\n",
        "    if i != 'Label':\n",
        "        if des[i]['max'] == 0:\n",
        "            cols.append(i)\n",
        "            print(i, des[i]['min'], des[i]['max'])"
      ]
    },
    {
      "cell_type": "code",
      "execution_count": 19,
      "metadata": {},
      "outputs": [
        {
          "data": {
            "text/plain": [
              "73187.6189999643"
            ]
          },
          "execution_count": 19,
          "metadata": {},
          "output_type": "execute_result"
        }
      ],
      "source": [
        "fulldata['Active Mean'].sum()"
      ]
    },
    {
      "attachments": {},
      "cell_type": "markdown",
      "metadata": {},
      "source": [
        "Removing unwanted columns using correlation"
      ]
    },
    {
      "cell_type": "code",
      "execution_count": 20,
      "metadata": {},
      "outputs": [
        {
          "data": {
            "text/plain": [
              "'\\ncorr_matrix = fulldata[fulldatacols].corr().abs()\\nthreshold = 0.99\\n# Find features with high correlation\\nupper = corr_matrix.where(np.triu(np.ones(corr_matrix.shape), k=1).astype(bool))\\nto_drop = [column for column in upper.columns if any(upper[column] > threshold)]\\nprint(f\"The following {len(to_drop)} features will be dropped due to high correlation: {to_drop}\")\\n'"
            ]
          },
          "execution_count": 20,
          "metadata": {},
          "output_type": "execute_result"
        }
      ],
      "source": [
        "'''\n",
        "corr_matrix = fulldata[fulldatacols].corr().abs()\n",
        "threshold = 0.99\n",
        "# Find features with high correlation\n",
        "upper = corr_matrix.where(np.triu(np.ones(corr_matrix.shape), k=1).astype(bool))\n",
        "to_drop = [column for column in upper.columns if any(upper[column] > threshold)]\n",
        "print(f\"The following {len(to_drop)} features will be dropped due to high correlation: {to_drop}\")\n",
        "'''"
      ]
    },
    {
      "cell_type": "code",
      "execution_count": 21,
      "metadata": {},
      "outputs": [
        {
          "data": {
            "text/plain": [
              "'\\nfulldata = fulldata.drop(to_drop, axis = 1)\\nfulldatacols = list(fulldata.columns)\\nlen(fulldatacols)\\n'"
            ]
          },
          "execution_count": 21,
          "metadata": {},
          "output_type": "execute_result"
        }
      ],
      "source": [
        "'''\n",
        "fulldata = fulldata.drop(to_drop, axis = 1)\n",
        "fulldatacols = list(fulldata.columns)\n",
        "len(fulldatacols)\n",
        "'''"
      ]
    },
    {
      "cell_type": "code",
      "execution_count": 22,
      "metadata": {},
      "outputs": [
        {
          "data": {
            "text/html": [
              "<div>\n",
              "<style scoped>\n",
              "    .dataframe tbody tr th:only-of-type {\n",
              "        vertical-align: middle;\n",
              "    }\n",
              "\n",
              "    .dataframe tbody tr th {\n",
              "        vertical-align: top;\n",
              "    }\n",
              "\n",
              "    .dataframe thead th {\n",
              "        text-align: right;\n",
              "    }\n",
              "</style>\n",
              "<table border=\"1\" class=\"dataframe\">\n",
              "  <thead>\n",
              "    <tr style=\"text-align: right;\">\n",
              "      <th></th>\n",
              "      <th>Flow Duration</th>\n",
              "      <th>Tot Fwd Pkts</th>\n",
              "      <th>Tot Bwd Pkts</th>\n",
              "      <th>TotLen Fwd Pkts</th>\n",
              "      <th>TotLen Bwd Pkts</th>\n",
              "      <th>Fwd Pkt Len Max</th>\n",
              "      <th>Fwd Pkt Len Min</th>\n",
              "      <th>Fwd Pkt Len Mean</th>\n",
              "      <th>Fwd Pkt Len Std</th>\n",
              "      <th>Bwd Pkt Len Max</th>\n",
              "      <th>...</th>\n",
              "      <th>Fwd Seg Size Min</th>\n",
              "      <th>Active Mean</th>\n",
              "      <th>Active Std</th>\n",
              "      <th>Active Max</th>\n",
              "      <th>Active Min</th>\n",
              "      <th>Idle Mean</th>\n",
              "      <th>Idle Std</th>\n",
              "      <th>Idle Max</th>\n",
              "      <th>Idle Min</th>\n",
              "      <th>Label</th>\n",
              "    </tr>\n",
              "  </thead>\n",
              "  <tbody>\n",
              "    <tr>\n",
              "      <th>0</th>\n",
              "      <td>0.013399</td>\n",
              "      <td>0.000646</td>\n",
              "      <td>0.021256</td>\n",
              "      <td>0.003290</td>\n",
              "      <td>0.000469</td>\n",
              "      <td>17.340426</td>\n",
              "      <td>0.000000</td>\n",
              "      <td>7.461548</td>\n",
              "      <td>14.158398</td>\n",
              "      <td>2.791625</td>\n",
              "      <td>...</td>\n",
              "      <td>50.0</td>\n",
              "      <td>0.0</td>\n",
              "      <td>0.0</td>\n",
              "      <td>0.0</td>\n",
              "      <td>0.0</td>\n",
              "      <td>0.0</td>\n",
              "      <td>0.0</td>\n",
              "      <td>0.0</td>\n",
              "      <td>0.0</td>\n",
              "      <td>Bot</td>\n",
              "    </tr>\n",
              "    <tr>\n",
              "      <th>1</th>\n",
              "      <td>0.000481</td>\n",
              "      <td>0.000323</td>\n",
              "      <td>0.000000</td>\n",
              "      <td>0.000000</td>\n",
              "      <td>0.000000</td>\n",
              "      <td>0.000000</td>\n",
              "      <td>0.000000</td>\n",
              "      <td>0.000000</td>\n",
              "      <td>0.000000</td>\n",
              "      <td>0.000000</td>\n",
              "      <td>...</td>\n",
              "      <td>50.0</td>\n",
              "      <td>0.0</td>\n",
              "      <td>0.0</td>\n",
              "      <td>0.0</td>\n",
              "      <td>0.0</td>\n",
              "      <td>0.0</td>\n",
              "      <td>0.0</td>\n",
              "      <td>0.0</td>\n",
              "      <td>0.0</td>\n",
              "      <td>Bot</td>\n",
              "    </tr>\n",
              "    <tr>\n",
              "      <th>2</th>\n",
              "      <td>0.008566</td>\n",
              "      <td>0.000646</td>\n",
              "      <td>0.021256</td>\n",
              "      <td>0.003290</td>\n",
              "      <td>0.000469</td>\n",
              "      <td>17.340426</td>\n",
              "      <td>0.000000</td>\n",
              "      <td>7.461548</td>\n",
              "      <td>14.158398</td>\n",
              "      <td>2.791625</td>\n",
              "      <td>...</td>\n",
              "      <td>50.0</td>\n",
              "      <td>0.0</td>\n",
              "      <td>0.0</td>\n",
              "      <td>0.0</td>\n",
              "      <td>0.0</td>\n",
              "      <td>0.0</td>\n",
              "      <td>0.0</td>\n",
              "      <td>0.0</td>\n",
              "      <td>0.0</td>\n",
              "      <td>Bot</td>\n",
              "    </tr>\n",
              "    <tr>\n",
              "      <th>3</th>\n",
              "      <td>0.000381</td>\n",
              "      <td>0.000323</td>\n",
              "      <td>0.000000</td>\n",
              "      <td>0.000000</td>\n",
              "      <td>0.000000</td>\n",
              "      <td>0.000000</td>\n",
              "      <td>0.000000</td>\n",
              "      <td>0.000000</td>\n",
              "      <td>0.000000</td>\n",
              "      <td>0.000000</td>\n",
              "      <td>...</td>\n",
              "      <td>50.0</td>\n",
              "      <td>0.0</td>\n",
              "      <td>0.0</td>\n",
              "      <td>0.0</td>\n",
              "      <td>0.0</td>\n",
              "      <td>0.0</td>\n",
              "      <td>0.0</td>\n",
              "      <td>0.0</td>\n",
              "      <td>0.0</td>\n",
              "      <td>Bot</td>\n",
              "    </tr>\n",
              "    <tr>\n",
              "      <th>4</th>\n",
              "      <td>0.008559</td>\n",
              "      <td>0.000646</td>\n",
              "      <td>0.021256</td>\n",
              "      <td>0.003290</td>\n",
              "      <td>0.000469</td>\n",
              "      <td>17.340426</td>\n",
              "      <td>0.000000</td>\n",
              "      <td>7.461548</td>\n",
              "      <td>14.158398</td>\n",
              "      <td>2.791625</td>\n",
              "      <td>...</td>\n",
              "      <td>50.0</td>\n",
              "      <td>0.0</td>\n",
              "      <td>0.0</td>\n",
              "      <td>0.0</td>\n",
              "      <td>0.0</td>\n",
              "      <td>0.0</td>\n",
              "      <td>0.0</td>\n",
              "      <td>0.0</td>\n",
              "      <td>0.0</td>\n",
              "      <td>Bot</td>\n",
              "    </tr>\n",
              "    <tr>\n",
              "      <th>...</th>\n",
              "      <td>...</td>\n",
              "      <td>...</td>\n",
              "      <td>...</td>\n",
              "      <td>...</td>\n",
              "      <td>...</td>\n",
              "      <td>...</td>\n",
              "      <td>...</td>\n",
              "      <td>...</td>\n",
              "      <td>...</td>\n",
              "      <td>...</td>\n",
              "      <td>...</td>\n",
              "      <td>...</td>\n",
              "      <td>...</td>\n",
              "      <td>...</td>\n",
              "      <td>...</td>\n",
              "      <td>...</td>\n",
              "      <td>...</td>\n",
              "      <td>...</td>\n",
              "      <td>...</td>\n",
              "      <td>...</td>\n",
              "      <td>...</td>\n",
              "    </tr>\n",
              "    <tr>\n",
              "      <th>5204336</th>\n",
              "      <td>0.000265</td>\n",
              "      <td>0.000323</td>\n",
              "      <td>0.010628</td>\n",
              "      <td>0.000747</td>\n",
              "      <td>0.001229</td>\n",
              "      <td>1.968085</td>\n",
              "      <td>2.612994</td>\n",
              "      <td>2.540588</td>\n",
              "      <td>0.000000</td>\n",
              "      <td>5.109671</td>\n",
              "      <td>...</td>\n",
              "      <td>20.0</td>\n",
              "      <td>0.0</td>\n",
              "      <td>0.0</td>\n",
              "      <td>0.0</td>\n",
              "      <td>0.0</td>\n",
              "      <td>0.0</td>\n",
              "      <td>0.0</td>\n",
              "      <td>0.0</td>\n",
              "      <td>0.0</td>\n",
              "      <td>Benign</td>\n",
              "    </tr>\n",
              "    <tr>\n",
              "      <th>5204337</th>\n",
              "      <td>0.000943</td>\n",
              "      <td>0.000000</td>\n",
              "      <td>0.005314</td>\n",
              "      <td>0.000616</td>\n",
              "      <td>0.000444</td>\n",
              "      <td>3.244681</td>\n",
              "      <td>4.307910</td>\n",
              "      <td>4.188538</td>\n",
              "      <td>0.000000</td>\n",
              "      <td>3.040877</td>\n",
              "      <td>...</td>\n",
              "      <td>20.0</td>\n",
              "      <td>0.0</td>\n",
              "      <td>0.0</td>\n",
              "      <td>0.0</td>\n",
              "      <td>0.0</td>\n",
              "      <td>0.0</td>\n",
              "      <td>0.0</td>\n",
              "      <td>0.0</td>\n",
              "      <td>0.0</td>\n",
              "      <td>Benign</td>\n",
              "    </tr>\n",
              "    <tr>\n",
              "      <th>5204338</th>\n",
              "      <td>0.000924</td>\n",
              "      <td>0.000323</td>\n",
              "      <td>0.010628</td>\n",
              "      <td>0.001009</td>\n",
              "      <td>0.000935</td>\n",
              "      <td>2.659574</td>\n",
              "      <td>3.531073</td>\n",
              "      <td>3.433228</td>\n",
              "      <td>0.000000</td>\n",
              "      <td>3.639083</td>\n",
              "      <td>...</td>\n",
              "      <td>20.0</td>\n",
              "      <td>0.0</td>\n",
              "      <td>0.0</td>\n",
              "      <td>0.0</td>\n",
              "      <td>0.0</td>\n",
              "      <td>0.0</td>\n",
              "      <td>0.0</td>\n",
              "      <td>0.0</td>\n",
              "      <td>0.0</td>\n",
              "      <td>Benign</td>\n",
              "    </tr>\n",
              "    <tr>\n",
              "      <th>5204339</th>\n",
              "      <td>0.000722</td>\n",
              "      <td>0.000323</td>\n",
              "      <td>0.010628</td>\n",
              "      <td>0.000747</td>\n",
              "      <td>0.001229</td>\n",
              "      <td>1.968085</td>\n",
              "      <td>2.612994</td>\n",
              "      <td>2.540588</td>\n",
              "      <td>0.000000</td>\n",
              "      <td>5.109671</td>\n",
              "      <td>...</td>\n",
              "      <td>20.0</td>\n",
              "      <td>0.0</td>\n",
              "      <td>0.0</td>\n",
              "      <td>0.0</td>\n",
              "      <td>0.0</td>\n",
              "      <td>0.0</td>\n",
              "      <td>0.0</td>\n",
              "      <td>0.0</td>\n",
              "      <td>0.0</td>\n",
              "      <td>Benign</td>\n",
              "    </tr>\n",
              "    <tr>\n",
              "      <th>5204340</th>\n",
              "      <td>0.001152</td>\n",
              "      <td>0.000000</td>\n",
              "      <td>0.005314</td>\n",
              "      <td>0.000484</td>\n",
              "      <td>0.000396</td>\n",
              "      <td>2.553191</td>\n",
              "      <td>3.389831</td>\n",
              "      <td>3.295898</td>\n",
              "      <td>0.000000</td>\n",
              "      <td>2.716849</td>\n",
              "      <td>...</td>\n",
              "      <td>20.0</td>\n",
              "      <td>0.0</td>\n",
              "      <td>0.0</td>\n",
              "      <td>0.0</td>\n",
              "      <td>0.0</td>\n",
              "      <td>0.0</td>\n",
              "      <td>0.0</td>\n",
              "      <td>0.0</td>\n",
              "      <td>0.0</td>\n",
              "      <td>Benign</td>\n",
              "    </tr>\n",
              "  </tbody>\n",
              "</table>\n",
              "<p>5204341 rows × 67 columns</p>\n",
              "</div>"
            ],
            "text/plain": [
              "         Flow Duration  Tot Fwd Pkts  Tot Bwd Pkts  TotLen Fwd Pkts  \\\n",
              "0             0.013399      0.000646      0.021256         0.003290   \n",
              "1             0.000481      0.000323      0.000000         0.000000   \n",
              "2             0.008566      0.000646      0.021256         0.003290   \n",
              "3             0.000381      0.000323      0.000000         0.000000   \n",
              "4             0.008559      0.000646      0.021256         0.003290   \n",
              "...                ...           ...           ...              ...   \n",
              "5204336       0.000265      0.000323      0.010628         0.000747   \n",
              "5204337       0.000943      0.000000      0.005314         0.000616   \n",
              "5204338       0.000924      0.000323      0.010628         0.001009   \n",
              "5204339       0.000722      0.000323      0.010628         0.000747   \n",
              "5204340       0.001152      0.000000      0.005314         0.000484   \n",
              "\n",
              "         TotLen Bwd Pkts  Fwd Pkt Len Max  Fwd Pkt Len Min  Fwd Pkt Len Mean  \\\n",
              "0               0.000469        17.340426         0.000000          7.461548   \n",
              "1               0.000000         0.000000         0.000000          0.000000   \n",
              "2               0.000469        17.340426         0.000000          7.461548   \n",
              "3               0.000000         0.000000         0.000000          0.000000   \n",
              "4               0.000469        17.340426         0.000000          7.461548   \n",
              "...                  ...              ...              ...               ...   \n",
              "5204336         0.001229         1.968085         2.612994          2.540588   \n",
              "5204337         0.000444         3.244681         4.307910          4.188538   \n",
              "5204338         0.000935         2.659574         3.531073          3.433228   \n",
              "5204339         0.001229         1.968085         2.612994          2.540588   \n",
              "5204340         0.000396         2.553191         3.389831          3.295898   \n",
              "\n",
              "         Fwd Pkt Len Std  Bwd Pkt Len Max  ...  Fwd Seg Size Min  Active Mean  \\\n",
              "0              14.158398         2.791625  ...              50.0          0.0   \n",
              "1               0.000000         0.000000  ...              50.0          0.0   \n",
              "2              14.158398         2.791625  ...              50.0          0.0   \n",
              "3               0.000000         0.000000  ...              50.0          0.0   \n",
              "4              14.158398         2.791625  ...              50.0          0.0   \n",
              "...                  ...              ...  ...               ...          ...   \n",
              "5204336         0.000000         5.109671  ...              20.0          0.0   \n",
              "5204337         0.000000         3.040877  ...              20.0          0.0   \n",
              "5204338         0.000000         3.639083  ...              20.0          0.0   \n",
              "5204339         0.000000         5.109671  ...              20.0          0.0   \n",
              "5204340         0.000000         2.716849  ...              20.0          0.0   \n",
              "\n",
              "         Active Std  Active Max  Active Min  Idle Mean  Idle Std  Idle Max  \\\n",
              "0               0.0         0.0         0.0        0.0       0.0       0.0   \n",
              "1               0.0         0.0         0.0        0.0       0.0       0.0   \n",
              "2               0.0         0.0         0.0        0.0       0.0       0.0   \n",
              "3               0.0         0.0         0.0        0.0       0.0       0.0   \n",
              "4               0.0         0.0         0.0        0.0       0.0       0.0   \n",
              "...             ...         ...         ...        ...       ...       ...   \n",
              "5204336         0.0         0.0         0.0        0.0       0.0       0.0   \n",
              "5204337         0.0         0.0         0.0        0.0       0.0       0.0   \n",
              "5204338         0.0         0.0         0.0        0.0       0.0       0.0   \n",
              "5204339         0.0         0.0         0.0        0.0       0.0       0.0   \n",
              "5204340         0.0         0.0         0.0        0.0       0.0       0.0   \n",
              "\n",
              "         Idle Min   Label  \n",
              "0             0.0     Bot  \n",
              "1             0.0     Bot  \n",
              "2             0.0     Bot  \n",
              "3             0.0     Bot  \n",
              "4             0.0     Bot  \n",
              "...           ...     ...  \n",
              "5204336       0.0  Benign  \n",
              "5204337       0.0  Benign  \n",
              "5204338       0.0  Benign  \n",
              "5204339       0.0  Benign  \n",
              "5204340       0.0  Benign  \n",
              "\n",
              "[5204341 rows x 67 columns]"
            ]
          },
          "execution_count": 22,
          "metadata": {},
          "output_type": "execute_result"
        }
      ],
      "source": [
        "fulldata"
      ]
    },
    {
      "cell_type": "code",
      "execution_count": 23,
      "metadata": {},
      "outputs": [],
      "source": [
        "for i in attackdata:\n",
        "    attackdata[i] = fulldata[fulldata['Label'] == i[:-4]]\n",
        "bendata = fulldata[fulldata['Label'] == 'Benign']"
      ]
    },
    {
      "cell_type": "code",
      "execution_count": 24,
      "metadata": {},
      "outputs": [],
      "source": [
        "del fulldata"
      ]
    },
    {
      "cell_type": "code",
      "execution_count": 25,
      "metadata": {},
      "outputs": [
        {
          "name": "stdout",
          "output_type": "stream",
          "text": [
            "Bot.csv\n",
            "DDOS attack-HOIC.csv\n",
            "DDoS attacks-LOIC-HTTP.csv\n",
            "DoS attacks-Hulk.csv\n",
            "DoS attacks-SlowHTTPTest.csv\n",
            "FTP-BruteForce.csv\n",
            "Infilteration.csv\n",
            "SSH-Bruteforce.csv\n"
          ]
        }
      ],
      "source": [
        "attbenmixdata = {}\n",
        "mixbendata = bendata[:int(bendata.shape[0]*0.05)]\n",
        "for i in attackdata:\n",
        "  if attackdata[i].shape[0] > 100000:\n",
        "    print(i)\n",
        "    attbenmixdata[i] = pd.concat([attackdata[i][:int(attackdata[i].shape[0]*0.7)], mixbendata], axis=0)\n",
        "    attbenmixdata[i] = attbenmixdata[i].sample(frac=1).reset_index(drop=True)"
      ]
    },
    {
      "cell_type": "code",
      "execution_count": 26,
      "metadata": {},
      "outputs": [
        {
          "name": "stdout",
          "output_type": "stream",
          "text": [
            "Bot.csv : (323198, 67)\n",
            "Label\n",
            "Bot       200333\n",
            "Benign    122865\n",
            "Name: count, dtype: int64\n",
            "DDOS attack-HOIC.csv : (603073, 67)\n",
            "Label\n",
            "DDOS attack-HOIC    480208\n",
            "Benign              122865\n",
            "Name: count, dtype: int64\n",
            "DDoS attacks-LOIC-HTTP.csv : (526198, 67)\n",
            "Label\n",
            "DDoS attacks-LOIC-HTTP    403333\n",
            "Benign                    122865\n",
            "Name: count, dtype: int64\n",
            "DoS attacks-Hulk.csv : (446203, 67)\n",
            "Label\n",
            "DoS attacks-Hulk    323338\n",
            "Benign              122865\n",
            "Name: count, dtype: int64\n",
            "DoS attacks-SlowHTTPTest.csv : (220788, 67)\n",
            "Label\n",
            "Benign                      122865\n",
            "DoS attacks-SlowHTTPTest     97923\n",
            "Name: count, dtype: int64\n",
            "FTP-BruteForce.csv : (258212, 67)\n",
            "Label\n",
            "FTP-BruteForce    135347\n",
            "Benign            122865\n",
            "Name: count, dtype: int64\n",
            "Infilteration.csv : (235382, 67)\n",
            "Label\n",
            "Benign           122865\n",
            "Infilteration    112517\n",
            "Name: count, dtype: int64\n",
            "SSH-Bruteforce.csv : (254177, 67)\n",
            "Label\n",
            "SSH-Bruteforce    131312\n",
            "Benign            122865\n",
            "Name: count, dtype: int64\n"
          ]
        }
      ],
      "source": [
        "for i in attbenmixdata:\n",
        "  print(i + \" : \" + str(attbenmixdata[i].shape))\n",
        "  print(attbenmixdata[i]['Label'].value_counts())"
      ]
    },
    {
      "cell_type": "code",
      "execution_count": 27,
      "metadata": {},
      "outputs": [],
      "source": [
        "attbenmixdatalabels = {}\n",
        "for i in attbenmixdata:\n",
        "  attbenmixdatalabels[i] = attbenmixdata[i]['Label']\n",
        "  attbenmixdata[i].drop(['Label'], axis=1, inplace=True)"
      ]
    },
    {
      "cell_type": "code",
      "execution_count": 28,
      "metadata": {},
      "outputs": [],
      "source": [
        "#find minimum length for selecting equal number of samples from each class\n",
        "not_set_len = []\n",
        "for i in attackdata:\n",
        "    if attackdata[i].shape[0] < 100000:\n",
        "        not_set_len.append(attackdata[i].shape[0])\n",
        "not_set_len = min(not_set_len)"
      ]
    },
    {
      "cell_type": "code",
      "execution_count": 29,
      "metadata": {},
      "outputs": [],
      "source": [
        "#combine all attack data and get equal number of data from each attack \n",
        "selectedattackbenmix = pd.DataFrame()\n",
        "notselectedattackbenmix = pd.DataFrame()\n",
        "for i in attackdata:\n",
        "    if attackdata[i].shape[0] > 100000:\n",
        "        selectedattackbenmix = pd.concat([selectedattackbenmix, attackdata[i][-10000:]], axis=0)\n",
        "    else:\n",
        "        notselectedattackbenmix = pd.concat([notselectedattackbenmix, attackdata[i][-not_set_len:]], axis=0)"
      ]
    },
    {
      "cell_type": "code",
      "execution_count": 30,
      "metadata": {},
      "outputs": [
        {
          "name": "stdout",
          "output_type": "stream",
          "text": [
            "Label\n",
            "Bot                         10000\n",
            "DDOS attack-HOIC            10000\n",
            "DDoS attacks-LOIC-HTTP      10000\n",
            "DoS attacks-Hulk            10000\n",
            "DoS attacks-SlowHTTPTest    10000\n",
            "FTP-BruteForce              10000\n",
            "Infilteration               10000\n",
            "SSH-Bruteforce              10000\n",
            "Benign                      10000\n",
            "Name: count, dtype: int64\n",
            "Label\n",
            "Brute Force -Web         87\n",
            "Brute Force -XSS         87\n",
            "DDOS attack-LOIC-UDP     87\n",
            "DoS attacks-GoldenEye    87\n",
            "DoS attacks-Slowloris    87\n",
            "SQL Injection            87\n",
            "Benign                   87\n",
            "Name: count, dtype: int64\n"
          ]
        }
      ],
      "source": [
        "#combine selected and not selected attack data with benign data\n",
        "selectedattackbenmix = pd.concat([selectedattackbenmix, bendata[-10000:]], axis=0)\n",
        "notselectedattackbenmix = pd.concat([notselectedattackbenmix, bendata[-not_set_len:]], axis=0)\n",
        "print(selectedattackbenmix['Label'].value_counts())\n",
        "print(notselectedattackbenmix['Label'].value_counts())"
      ]
    },
    {
      "cell_type": "code",
      "execution_count": 31,
      "metadata": {
        "id": "wDYta4F9DA9Z"
      },
      "outputs": [
        {
          "name": "stdout",
          "output_type": "stream",
          "text": [
            "bendata : (2457307, 67)\n"
          ]
        }
      ],
      "source": [
        "print('bendata' + \" : \" + str(bendata.shape))"
      ]
    },
    {
      "cell_type": "code",
      "execution_count": 32,
      "metadata": {
        "id": "dwj97zQuI-VU",
        "outputId": "bb607b8b-6632-4908-9f16-5aef8711db8d"
      },
      "outputs": [
        {
          "data": {
            "text/plain": [
              "14"
            ]
          },
          "execution_count": 32,
          "metadata": {},
          "output_type": "execute_result"
        }
      ],
      "source": [
        "len(attackdata)"
      ]
    },
    {
      "cell_type": "code",
      "execution_count": 33,
      "metadata": {},
      "outputs": [
        {
          "name": "stderr",
          "output_type": "stream",
          "text": [
            "C:\\Users\\amenu4aie20110\\AppData\\Local\\Temp\\ipykernel_12776\\1938366929.py:2: SettingWithCopyWarning: \n",
            "A value is trying to be set on a copy of a slice from a DataFrame\n",
            "\n",
            "See the caveats in the documentation: https://pandas.pydata.org/pandas-docs/stable/user_guide/indexing.html#returning-a-view-versus-a-copy\n",
            "  attackdata[i].drop(['Label'], axis=1, inplace=True)\n",
            "C:\\Users\\amenu4aie20110\\AppData\\Local\\Temp\\ipykernel_12776\\1938366929.py:2: SettingWithCopyWarning: \n",
            "A value is trying to be set on a copy of a slice from a DataFrame\n",
            "\n",
            "See the caveats in the documentation: https://pandas.pydata.org/pandas-docs/stable/user_guide/indexing.html#returning-a-view-versus-a-copy\n",
            "  attackdata[i].drop(['Label'], axis=1, inplace=True)\n",
            "C:\\Users\\amenu4aie20110\\AppData\\Local\\Temp\\ipykernel_12776\\1938366929.py:2: SettingWithCopyWarning: \n",
            "A value is trying to be set on a copy of a slice from a DataFrame\n",
            "\n",
            "See the caveats in the documentation: https://pandas.pydata.org/pandas-docs/stable/user_guide/indexing.html#returning-a-view-versus-a-copy\n",
            "  attackdata[i].drop(['Label'], axis=1, inplace=True)\n",
            "C:\\Users\\amenu4aie20110\\AppData\\Local\\Temp\\ipykernel_12776\\1938366929.py:2: SettingWithCopyWarning: \n",
            "A value is trying to be set on a copy of a slice from a DataFrame\n",
            "\n",
            "See the caveats in the documentation: https://pandas.pydata.org/pandas-docs/stable/user_guide/indexing.html#returning-a-view-versus-a-copy\n",
            "  attackdata[i].drop(['Label'], axis=1, inplace=True)\n",
            "C:\\Users\\amenu4aie20110\\AppData\\Local\\Temp\\ipykernel_12776\\1938366929.py:2: SettingWithCopyWarning: \n",
            "A value is trying to be set on a copy of a slice from a DataFrame\n",
            "\n",
            "See the caveats in the documentation: https://pandas.pydata.org/pandas-docs/stable/user_guide/indexing.html#returning-a-view-versus-a-copy\n",
            "  attackdata[i].drop(['Label'], axis=1, inplace=True)\n",
            "C:\\Users\\amenu4aie20110\\AppData\\Local\\Temp\\ipykernel_12776\\1938366929.py:2: SettingWithCopyWarning: \n",
            "A value is trying to be set on a copy of a slice from a DataFrame\n",
            "\n",
            "See the caveats in the documentation: https://pandas.pydata.org/pandas-docs/stable/user_guide/indexing.html#returning-a-view-versus-a-copy\n",
            "  attackdata[i].drop(['Label'], axis=1, inplace=True)\n",
            "C:\\Users\\amenu4aie20110\\AppData\\Local\\Temp\\ipykernel_12776\\1938366929.py:2: SettingWithCopyWarning: \n",
            "A value is trying to be set on a copy of a slice from a DataFrame\n",
            "\n",
            "See the caveats in the documentation: https://pandas.pydata.org/pandas-docs/stable/user_guide/indexing.html#returning-a-view-versus-a-copy\n",
            "  attackdata[i].drop(['Label'], axis=1, inplace=True)\n",
            "C:\\Users\\amenu4aie20110\\AppData\\Local\\Temp\\ipykernel_12776\\1938366929.py:2: SettingWithCopyWarning: \n",
            "A value is trying to be set on a copy of a slice from a DataFrame\n",
            "\n",
            "See the caveats in the documentation: https://pandas.pydata.org/pandas-docs/stable/user_guide/indexing.html#returning-a-view-versus-a-copy\n",
            "  attackdata[i].drop(['Label'], axis=1, inplace=True)\n",
            "C:\\Users\\amenu4aie20110\\AppData\\Local\\Temp\\ipykernel_12776\\1938366929.py:2: SettingWithCopyWarning: \n",
            "A value is trying to be set on a copy of a slice from a DataFrame\n",
            "\n",
            "See the caveats in the documentation: https://pandas.pydata.org/pandas-docs/stable/user_guide/indexing.html#returning-a-view-versus-a-copy\n",
            "  attackdata[i].drop(['Label'], axis=1, inplace=True)\n",
            "C:\\Users\\amenu4aie20110\\AppData\\Local\\Temp\\ipykernel_12776\\1938366929.py:2: SettingWithCopyWarning: \n",
            "A value is trying to be set on a copy of a slice from a DataFrame\n",
            "\n",
            "See the caveats in the documentation: https://pandas.pydata.org/pandas-docs/stable/user_guide/indexing.html#returning-a-view-versus-a-copy\n",
            "  attackdata[i].drop(['Label'], axis=1, inplace=True)\n",
            "C:\\Users\\amenu4aie20110\\AppData\\Local\\Temp\\ipykernel_12776\\1938366929.py:2: SettingWithCopyWarning: \n",
            "A value is trying to be set on a copy of a slice from a DataFrame\n",
            "\n",
            "See the caveats in the documentation: https://pandas.pydata.org/pandas-docs/stable/user_guide/indexing.html#returning-a-view-versus-a-copy\n",
            "  attackdata[i].drop(['Label'], axis=1, inplace=True)\n",
            "C:\\Users\\amenu4aie20110\\AppData\\Local\\Temp\\ipykernel_12776\\1938366929.py:2: SettingWithCopyWarning: \n",
            "A value is trying to be set on a copy of a slice from a DataFrame\n",
            "\n",
            "See the caveats in the documentation: https://pandas.pydata.org/pandas-docs/stable/user_guide/indexing.html#returning-a-view-versus-a-copy\n",
            "  attackdata[i].drop(['Label'], axis=1, inplace=True)\n",
            "C:\\Users\\amenu4aie20110\\AppData\\Local\\Temp\\ipykernel_12776\\1938366929.py:2: SettingWithCopyWarning: \n",
            "A value is trying to be set on a copy of a slice from a DataFrame\n",
            "\n",
            "See the caveats in the documentation: https://pandas.pydata.org/pandas-docs/stable/user_guide/indexing.html#returning-a-view-versus-a-copy\n",
            "  attackdata[i].drop(['Label'], axis=1, inplace=True)\n",
            "C:\\Users\\amenu4aie20110\\AppData\\Local\\Temp\\ipykernel_12776\\1938366929.py:2: SettingWithCopyWarning: \n",
            "A value is trying to be set on a copy of a slice from a DataFrame\n",
            "\n",
            "See the caveats in the documentation: https://pandas.pydata.org/pandas-docs/stable/user_guide/indexing.html#returning-a-view-versus-a-copy\n",
            "  attackdata[i].drop(['Label'], axis=1, inplace=True)\n",
            "C:\\Users\\amenu4aie20110\\AppData\\Local\\Temp\\ipykernel_12776\\1938366929.py:3: SettingWithCopyWarning: \n",
            "A value is trying to be set on a copy of a slice from a DataFrame\n",
            "\n",
            "See the caveats in the documentation: https://pandas.pydata.org/pandas-docs/stable/user_guide/indexing.html#returning-a-view-versus-a-copy\n",
            "  bendata.drop(['Label'], axis=1, inplace=True)\n"
          ]
        }
      ],
      "source": [
        "for i in attackdata:\n",
        "  attackdata[i].drop(['Label'], axis=1, inplace=True)\n",
        "bendata.drop(['Label'], axis=1, inplace=True)"
      ]
    },
    {
      "cell_type": "code",
      "execution_count": 34,
      "metadata": {
        "id": "-QiC8hkiJKf4",
        "outputId": "cb62f840-ac5a-4ed6-9807-1f5bfd529658"
      },
      "outputs": [
        {
          "name": "stdout",
          "output_type": "stream",
          "text": [
            "Bot.csv : (286191, 66)\n",
            "Brute Force -Web.csv : (611, 66)\n",
            "Brute Force -XSS.csv : (230, 66)\n",
            "DDOS attack-HOIC.csv : (686012, 66)\n",
            "DDOS attack-LOIC-UDP.csv : (1730, 66)\n",
            "DDoS attacks-LOIC-HTTP.csv : (576191, 66)\n",
            "DoS attacks-GoldenEye.csv : (41508, 66)\n",
            "DoS attacks-Hulk.csv : (461912, 66)\n",
            "DoS attacks-SlowHTTPTest.csv : (139890, 66)\n",
            "DoS attacks-Slowloris.csv : (10990, 66)\n",
            "FTP-BruteForce.csv : (193354, 66)\n",
            "Infilteration.csv : (160739, 66)\n",
            "SQL Injection.csv : (87, 66)\n",
            "SSH-Bruteforce.csv : (187589, 66)\n"
          ]
        }
      ],
      "source": [
        "#printing the shapes of the data\n",
        "for i in attackdata:\n",
        "  print(i + \" : \" + str(attackdata[i].shape))"
      ]
    },
    {
      "cell_type": "code",
      "execution_count": 35,
      "metadata": {},
      "outputs": [],
      "source": [
        "for i in attackdata:\n",
        "    attackdata[i] = attackdata[i].to_numpy()"
      ]
    },
    {
      "cell_type": "code",
      "execution_count": 36,
      "metadata": {},
      "outputs": [
        {
          "name": "stdout",
          "output_type": "stream",
          "text": [
            "257571 28620\n",
            "617410 68602\n",
            "518571 57620\n",
            "415720 46192\n",
            "125901 13989\n",
            "174018 19336\n",
            "144665 16074\n",
            "168830 18759\n"
          ]
        }
      ],
      "source": [
        "for i in attackdata:\n",
        "  if attackdata[i].shape[0] > 100000:\n",
        "    print(int(attackdata[i].shape[0]*0.9), (int(attackdata[i].shape[0]) - int(attackdata[i].shape[0]*0.9)))"
      ]
    },
    {
      "cell_type": "code",
      "execution_count": 37,
      "metadata": {
        "id": "LCBO3J8zgdgJ"
      },
      "outputs": [],
      "source": [
        "#loading data into pytorch dataloader as train and test\n",
        "devices = []\n",
        "batch_size = 128\n",
        "train_loader = {}\n",
        "test_loader = {}\n",
        "for i in attackdata:\n",
        "  if attackdata[i].shape[0] > 100000:\n",
        "    train_loader[i] = torch.utils.data.DataLoader(attackdata[i][:int(attackdata[i].shape[0]*0.9)], batch_size = batch_size, shuffle=True)\n",
        "    test_loader[i] = torch.utils.data.DataLoader(attackdata[i][int(attackdata[i].shape[0]*0.9):], batch_size = batch_size, shuffle=True)\n",
        "    devices.append(i)"
      ]
    },
    {
      "cell_type": "code",
      "execution_count": 38,
      "metadata": {},
      "outputs": [
        {
          "name": "stdout",
          "output_type": "stream",
          "text": [
            "224\n",
            "536\n",
            "451\n",
            "361\n",
            "110\n",
            "152\n",
            "126\n",
            "147\n"
          ]
        }
      ],
      "source": [
        "for i in attackdata:\n",
        "  if attackdata[i].shape[0] > 100000:\n",
        "    print(len(test_loader[i]))"
      ]
    },
    {
      "cell_type": "code",
      "execution_count": 39,
      "metadata": {},
      "outputs": [],
      "source": [
        "bendata = bendata.to_numpy()"
      ]
    },
    {
      "cell_type": "code",
      "execution_count": 40,
      "metadata": {
        "id": "B3TCx-WgDA9a"
      },
      "outputs": [],
      "source": [
        "ben_loader = torch.utils.data.DataLoader(bendata[int(bendata.shape[0]*0.9):], batch_size = batch_size, shuffle=True)"
      ]
    },
    {
      "cell_type": "code",
      "execution_count": 41,
      "metadata": {},
      "outputs": [],
      "source": [
        "for i in attbenmixdata:\n",
        "    attbenmixdata[i] = attbenmixdata[i].to_numpy()"
      ]
    },
    {
      "cell_type": "code",
      "execution_count": 42,
      "metadata": {},
      "outputs": [],
      "source": [
        "attbenmixdata_loader = {}\n",
        "for i in attbenmixdata:\n",
        "    attbenmixdata_loader[i] = torch.utils.data.DataLoader(attbenmixdata[i], batch_size = batch_size, shuffle=True)"
      ]
    },
    {
      "cell_type": "code",
      "execution_count": 43,
      "metadata": {},
      "outputs": [],
      "source": [
        "selectedattackbenmix_labels = selectedattackbenmix['Label']\n",
        "notselectedattackbenmix_labels = notselectedattackbenmix['Label']\n",
        "selectedattackbenmix.drop(['Label'], axis=1, inplace=True)\n",
        "notselectedattackbenmix.drop(['Label'], axis=1, inplace=True)"
      ]
    },
    {
      "cell_type": "code",
      "execution_count": 44,
      "metadata": {},
      "outputs": [],
      "source": [
        "selectedattackbenmix = selectedattackbenmix.to_numpy()\n",
        "notselectedattackbenmix = notselectedattackbenmix.to_numpy()"
      ]
    },
    {
      "cell_type": "code",
      "execution_count": 45,
      "metadata": {},
      "outputs": [],
      "source": [
        "selectedattackbenmix_loader = torch.utils.data.DataLoader(selectedattackbenmix, batch_size = batch_size, shuffle=True)\n",
        "notselectedattackbenmix_loader = torch.utils.data.DataLoader(notselectedattackbenmix, batch_size = batch_size, shuffle=True)"
      ]
    },
    {
      "cell_type": "code",
      "execution_count": 46,
      "metadata": {
        "id": "deSST083Kesa",
        "outputId": "e8ff9610-7059-4c54-b405-cdf13271fca8"
      },
      "outputs": [],
      "source": [
        "train_loader['Benign.csv'] = ben_loader"
      ]
    },
    {
      "cell_type": "code",
      "execution_count": 47,
      "metadata": {},
      "outputs": [],
      "source": [
        "devices.append('Benign.csv')"
      ]
    },
    {
      "cell_type": "code",
      "execution_count": 48,
      "metadata": {},
      "outputs": [
        {
          "data": {
            "text/plain": [
              "9"
            ]
          },
          "execution_count": 48,
          "metadata": {},
          "output_type": "execute_result"
        }
      ],
      "source": [
        "len(train_loader)"
      ]
    },
    {
      "cell_type": "code",
      "execution_count": 49,
      "metadata": {
        "id": "R7qV9yUoWfUg",
        "outputId": "85e3c27b-8c1c-4034-f7c8-d9877b4beb87"
      },
      "outputs": [
        {
          "data": {
            "text/plain": [
              "9"
            ]
          },
          "execution_count": 49,
          "metadata": {},
          "output_type": "execute_result"
        }
      ],
      "source": [
        "len(devices)"
      ]
    },
    {
      "cell_type": "code",
      "execution_count": 50,
      "metadata": {
        "id": "XAsJUgfC5IuY"
      },
      "outputs": [],
      "source": [
        "#initialising config variables\n",
        "num_clients = len(train_loader)      # Number of clients\n",
        "num_selected = len(train_loader)    # Typically, num_selected is around 30–40% of the num_clients.\n",
        "#baseline_num = 1000  # choose some data from the train set to retrain the data from trained model\n",
        "num_rounds = 10  #100      # Total number of communication rounds for the global model to train.\n",
        "epochs = 30          # for train client model\n",
        "#retrain_epochs = 3  # Total number of retraining rounds on the global server after receiving the model weights\n",
        "                      # from all the clients that participated in the communication round."
      ]
    },
    {
      "attachments": {},
      "cell_type": "markdown",
      "metadata": {
        "id": "uF4N6pX57Bmo"
      },
      "source": [
        "## FedAvg / FedAvgM"
      ]
    },
    {
      "cell_type": "code",
      "execution_count": 51,
      "metadata": {
        "id": "GEhJPuT5633Z"
      },
      "outputs": [],
      "source": [
        "# aggregates the model weights received from every client\n",
        "# and updates the global model with updated weights\n",
        "\n",
        "# FedAvg\n",
        "def server_aggregate(global_model, client_models, client_lens):\n",
        "    total = sum(client_lens)\n",
        "    n = len(client_models)\n",
        "    # n = num_selected\n",
        "    global_dict = global_model.state_dict()\n",
        "    for k in global_dict.keys(): # calculate average weight/bias --> avg_w/b\n",
        "        global_dict[k] -= torch.stack([client_models[i].state_dict()[k].float() * (n * client_lens[i] / total) for i in range(len(client_models))], 0).mean(0)\n",
        "    global_model.load_state_dict(global_dict)\n",
        "    for model in client_models:\n",
        "        model.load_state_dict(global_model.state_dict()) # local model get updated weight/bias\n",
        "\n",
        "# FedAvgM\n",
        "def server_aggregate_M(global_model, client_models, client_lens):\n",
        "    total = sum(client_lens)    # 592    sum [51, 122, 162, 257]\n",
        "    n = len(client_models)      # 4 local clients\n",
        "    global_dict = global_model.state_dict() # weight/bias dict --> {'encoder.0.weight': Tensor with shape torch.Size([86, 115]), 'encoder.0.bias':....} 16 items\n",
        "    temp = copy.deepcopy(global_dict)       # temporary weight/bias dict\n",
        "    v = {x:1 for x in copy.deepcopy(global_dict)}   # initialise v\n",
        "\n",
        "    for i,k in enumerate(global_dict.keys()):\n",
        "        # calculate average weight/bias --> avg_w/b\n",
        "        temp[k] = torch.stack([client_models[i].state_dict()[k].float() * (n * client_lens[i] / total) for i in range(len(client_models))], 0).mean(0)\n",
        "        temp_v = 0.9 * v[k] + temp[k]               # v = 0.9v + avg_w/b   momentum=0.9\n",
        "        global_dict[k] = global_dict[k] - temp_v    # w = w - v\n",
        "    global_model.load_state_dict(global_dict)\n",
        "\n",
        "    for model in client_models:\n",
        "        model.load_state_dict(global_model.state_dict()) # local model get updated weight/bias\n",
        "\n"
      ]
    },
    {
      "cell_type": "code",
      "execution_count": 52,
      "metadata": {
        "id": "iqaFf_cS5Ifg"
      },
      "outputs": [],
      "source": [
        "# for updates/trains client model on client data\n",
        "# local training round that takes place for every selected client\n",
        "\n",
        "def client_update(client_model, optimizer, train_data, epoch=3):\n",
        "    client_model.train()\n",
        "    for e in range(epoch):\n",
        "        running_loss = 0.0\n",
        "        for data in train_data:\n",
        "          output = client_model(data.float()) # tensor 115\n",
        "          optimizer.zero_grad()\n",
        "          # criterion = nn.MSELoss(reduction='mean')\n",
        "          # loss = criterion(data.to(device), output)\n",
        "          loss = nn.MSELoss(reduction='mean')(data.float().to(device), output)\n",
        "          loss.backward()\n",
        "          optimizer.step()\n",
        "          # print(loss.item())\n",
        "          running_loss += loss.item()\n",
        "        # print(running_loss)\n",
        "        epoch_loss = running_loss/len(train_data)\n",
        "        # metrics['train_loss'].append(epoch_loss)\n",
        "    return epoch_loss\n",
        "    # return loss.item()\n",
        "\n",
        "\n",
        "\n",
        "# synchronizes the client model with global weights (before training)\n",
        "\n",
        "def client_syn(client_model, global_model):\n",
        "    client_model.load_state_dict(global_model.state_dict())"
      ]
    },
    {
      "attachments": {},
      "cell_type": "markdown",
      "metadata": {
        "id": "sPE5Fx5I7HZM"
      },
      "source": [
        "## Deep Auto-encoder Model"
      ]
    },
    {
      "cell_type": "code",
      "execution_count": 53,
      "metadata": {
        "id": "QkVroa1V5IjN"
      },
      "outputs": [],
      "source": [
        "import torch.nn as nn\n",
        "\n",
        "input_dim = train_loader['Benign.csv'].dataset.shape[1]\n",
        "\n",
        "class AEModel(nn.Module):\n",
        "    def __init__(self, input_dim):\n",
        "        super(AEModel, self).__init__()\n",
        "        \n",
        "        xavier_gain = nn.init.calculate_gain('tanh')\n",
        "        \n",
        "        self.fc1 = nn.Linear(input_dim, input_dim)\n",
        "        self.fc2 = nn.Linear(input_dim, 32)  \n",
        "        self.fc3 = nn.Linear(32, 16)\n",
        "        self.fc4 = nn.Linear(16, 8)\n",
        "        self.fc5 = nn.Linear(8, 8)\n",
        "        self.fc6 = nn.Linear(8, 16)\n",
        "        self.fc7 = nn.Linear(16, 32)\n",
        "        self.fc8 = nn.Linear(32, input_dim)\n",
        "        self.fc9 = nn.Linear(input_dim, input_dim)\n",
        "       \n",
        "        self.activation = nn.Tanh()\n",
        "        \n",
        "        nn.init.xavier_uniform_(self.fc1.weight, gain=xavier_gain)\n",
        "        nn.init.xavier_uniform_(self.fc2.weight, gain=xavier_gain)\n",
        "        nn.init.xavier_uniform_(self.fc3.weight, gain=xavier_gain) \n",
        "        nn.init.xavier_uniform_(self.fc4.weight, gain=xavier_gain)\n",
        "        nn.init.xavier_uniform_(self.fc5.weight, gain=xavier_gain)\n",
        "        nn.init.xavier_uniform_(self.fc6.weight, gain=xavier_gain)\n",
        "        nn.init.xavier_uniform_(self.fc7.weight, gain=xavier_gain)\n",
        "        nn.init.xavier_uniform_(self.fc8.weight, gain=xavier_gain)\n",
        "        nn.init.xavier_uniform_(self.fc9.weight, gain=xavier_gain)\n",
        "        \n",
        "    def forward(self, x):\n",
        "        x = self.fc1(x) \n",
        "        x = self.activation(x)\n",
        "        x = self.fc2(x)\n",
        "        x = self.activation(x)\n",
        "        x = self.fc3(x)\n",
        "        x = self.activation(x)\n",
        "        x = self.fc4(x) \n",
        "        x = self.activation(x)\n",
        "        x = self.fc5(x)\n",
        "        x = self.activation(x) \n",
        "        x = self.fc6(x)\n",
        "        x = self.activation(x)\n",
        "        x = self.fc7(x)\n",
        "        x = self.activation(x)\n",
        "        x = self.fc8(x) \n",
        "        x = self.activation(x)\n",
        "        x = self.fc9(x)\n",
        "        return x"
      ]
    },
    {
      "attachments": {},
      "cell_type": "markdown",
      "metadata": {
        "id": "aAX3Z0BI8JDQ"
      },
      "source": [
        "## Initialisation"
      ]
    },
    {
      "cell_type": "code",
      "execution_count": 54,
      "metadata": {
        "id": "ZDbfUGGW63zk"
      },
      "outputs": [],
      "source": [
        "# Initializing models and optimizer\n",
        "\n",
        "global_model = AEModel(input_dim).to(device)\n",
        "client_models = [AEModel(input_dim).to(device) for _ in range(num_selected)] # part or all clients\n",
        "# print(client_models)\n",
        "for model in client_models:\n",
        "    model.load_state_dict(global_model.state_dict())\n",
        "\n",
        "# method_env = {'lr': (0.012, 0.012, 0.012, 0.0005)}\n",
        "#opt = [torch.optim.SGD(model.parameters(), lr = 0.012, weight_decay=1e-05, momentum=0.9) for model in client_models]\n",
        "# lr_list = [0.012, 0.012, 0.012, 0.00005]\n",
        "# # opt = [torch.optim.SGD(model.parameters(), lr = lr_list[client_models.index(model)], weight_decay=1e-05, momentum=0.9) for model in client_models]\n",
        "# opt = [torch.optim.Adam(model.parameters(), lr = lr_list[client_models.index(model)], weight_decay=1e-05) for model in client_models]\n",
        "opt = [torch.optim.Adam(model.parameters(), lr = 0.012, weight_decay=1e-05) for model in client_models]"
      ]
    },
    {
      "attachments": {},
      "cell_type": "markdown",
      "metadata": {
        "id": "YuOW_VP89i7j"
      },
      "source": [
        "# Training Federated Model"
      ]
    },
    {
      "cell_type": "code",
      "execution_count": 61,
      "metadata": {
        "id": "rT-jMXex63t8",
        "outputId": "dcce896e-cf42-49da-b608-95868864b0a7"
      },
      "outputs": [
        {
          "name": "stdout",
          "output_type": "stream",
          "text": [
            "\n",
            "round:  1\n",
            "client_idx:  [0, 1, 2, 3, 4, 5, 6, 7, 8]\n"
          ]
        },
        {
          "name": "stderr",
          "output_type": "stream",
          "text": [
            "100%|██████████| 8/8 [29:47<00:00, 223.44s/it]\n",
            "100%|██████████| 1/1 [02:51<00:00, 171.83s/it]\n"
          ]
        },
        {
          "name": "stdout",
          "output_type": "stream",
          "text": [
            "\n",
            "client_loss:  649.6205745748607\n",
            "\n",
            "round:  2\n",
            "client_idx:  [0, 1, 2, 3, 4, 5, 6, 7, 8]\n"
          ]
        },
        {
          "name": "stderr",
          "output_type": "stream",
          "text": [
            "100%|██████████| 8/8 [1:00:39<00:00, 454.92s/it]\n",
            "100%|██████████| 1/1 [06:07<00:00, 367.57s/it]\n"
          ]
        },
        {
          "name": "stdout",
          "output_type": "stream",
          "text": [
            "\n",
            "client_loss:  632.6671980344132\n",
            "\n",
            "round:  3\n",
            "client_idx:  [0, 1, 2, 3, 4, 5, 6, 7, 8]\n"
          ]
        },
        {
          "name": "stderr",
          "output_type": "stream",
          "text": [
            "100%|██████████| 8/8 [1:05:36<00:00, 492.07s/it]\n",
            "100%|██████████| 1/1 [04:55<00:00, 295.42s/it]\n"
          ]
        },
        {
          "name": "stdout",
          "output_type": "stream",
          "text": [
            "\n",
            "client_loss:  725.2607347688892\n",
            "\n",
            "round:  4\n",
            "client_idx:  [0, 1, 2, 3, 4, 5, 6, 7, 8]\n"
          ]
        },
        {
          "name": "stderr",
          "output_type": "stream",
          "text": [
            "100%|██████████| 8/8 [1:08:19<00:00, 512.38s/it]\n",
            "100%|██████████| 1/1 [05:14<00:00, 314.36s/it]\n"
          ]
        },
        {
          "name": "stdout",
          "output_type": "stream",
          "text": [
            "\n",
            "client_loss:  671.2616022533974\n",
            "\n",
            "round:  5\n",
            "client_idx:  [0, 1, 2, 3, 4, 5, 6, 7, 8]\n"
          ]
        },
        {
          "name": "stderr",
          "output_type": "stream",
          "text": [
            "100%|██████████| 8/8 [1:07:14<00:00, 504.35s/it]\n",
            "100%|██████████| 1/1 [05:40<00:00, 340.60s/it]\n"
          ]
        },
        {
          "name": "stdout",
          "output_type": "stream",
          "text": [
            "\n",
            "client_loss:  567.9093171532734\n",
            "\n",
            "round:  6\n",
            "client_idx:  [0, 1, 2, 3, 4, 5, 6, 7, 8]\n"
          ]
        },
        {
          "name": "stderr",
          "output_type": "stream",
          "text": [
            "100%|██████████| 8/8 [1:08:55<00:00, 517.00s/it]\n",
            "100%|██████████| 1/1 [06:06<00:00, 366.50s/it]\n"
          ]
        },
        {
          "name": "stdout",
          "output_type": "stream",
          "text": [
            "\n",
            "client_loss:  442.47212789669567\n",
            "\n",
            "round:  7\n",
            "client_idx:  [0, 1, 2, 3, 4, 5, 6, 7, 8]\n"
          ]
        },
        {
          "name": "stderr",
          "output_type": "stream",
          "text": [
            "100%|██████████| 8/8 [1:07:03<00:00, 502.91s/it]\n",
            "100%|██████████| 1/1 [05:29<00:00, 329.63s/it]\n"
          ]
        },
        {
          "name": "stdout",
          "output_type": "stream",
          "text": [
            "\n",
            "client_loss:  220.26068172051023\n",
            "\n",
            "round:  8\n",
            "client_idx:  [0, 1, 2, 3, 4, 5, 6, 7, 8]\n"
          ]
        },
        {
          "name": "stderr",
          "output_type": "stream",
          "text": [
            "100%|██████████| 8/8 [1:07:35<00:00, 506.98s/it]\n",
            "100%|██████████| 1/1 [08:22<00:00, 502.53s/it]\n"
          ]
        },
        {
          "name": "stdout",
          "output_type": "stream",
          "text": [
            "\n",
            "client_loss:  576.8955320837031\n",
            "\n",
            "round:  9\n",
            "client_idx:  [0, 1, 2, 3, 4, 5, 6, 7, 8]\n"
          ]
        },
        {
          "name": "stderr",
          "output_type": "stream",
          "text": [
            "100%|██████████| 8/8 [1:03:50<00:00, 478.85s/it]\n",
            "100%|██████████| 1/1 [06:31<00:00, 391.66s/it]\n"
          ]
        },
        {
          "name": "stdout",
          "output_type": "stream",
          "text": [
            "\n",
            "client_loss:  527.0657802443228\n",
            "\n",
            "round:  10\n",
            "client_idx:  [0, 1, 2, 3, 4, 5, 6, 7, 8]\n"
          ]
        },
        {
          "name": "stderr",
          "output_type": "stream",
          "text": [
            "100%|██████████| 8/8 [1:06:42<00:00, 500.32s/it]\n",
            "100%|██████████| 1/1 [06:08<00:00, 368.79s/it]"
          ]
        },
        {
          "name": "stdout",
          "output_type": "stream",
          "text": [
            "\n",
            "client_loss:  551.7056388567815\n",
            "/nTIME: 683.2467776616414mins\n"
          ]
        },
        {
          "name": "stderr",
          "output_type": "stream",
          "text": [
            "\n"
          ]
        }
      ],
      "source": [
        "# Train Client Model and Global Model\n",
        "train_loss_client = []\n",
        "train_loss_global = []\n",
        "train_loss_per_client = [[] for i in range(num_clients)]\n",
        "train_loss_benign = []\n",
        "\n",
        "start_time = time.time()\n",
        "\n",
        "for r in range(num_rounds): # total number of rounds\n",
        "\n",
        "    print('\\nround: ', r+1)\n",
        "    # num_selected = random.choice(range(1,num_clients))\n",
        "    #client_idx = np.random.permutation(num_clients)[:num_selected] # random pick some clients from all clients for train\n",
        "    client_idx = list(range(num_clients))\n",
        "    print('client_idx: ', client_idx)\n",
        "    client_lens = [len(train_loader[devices[idx]]) for idx in client_idx ] # Need to fix this. It is part of server aggregation.\n",
        "    # client_lens = [len(train_lotrain_loaderader[idx]) for idx in client_idx ]\n",
        "    #print(client_lens)\n",
        "\n",
        "\n",
        "    #### client update ####\n",
        "    loss = 0\n",
        "    for i in tqdm(range(num_selected-1)): # num_selected-1 because last client is benign\n",
        "        # print(i)\n",
        "        client_syn(client_models[i], global_model)\n",
        "        # print(train_loader[devices[client_idx[i]]])\n",
        "        l = client_update(client_models[i], opt[i], train_loader[devices[client_idx[i]]], epochs)\n",
        "        train_loss_per_client[i].append(l)\n",
        "        loss += l\n",
        "    train_loss_client.append(loss)\n",
        "\n",
        "    #### benign client update ####\n",
        "    for i in tqdm(range(1)):\n",
        "        l = client_update(client_models[-1], opt[-1], train_loader[devices[client_idx[-1]]], epochs)\n",
        "        train_loss_benign.append(l)\n",
        "    train_loss_per_client[-1] = train_loss_benign\n",
        "    train_loss_client.append(sum(train_loss_benign))\n",
        "\n",
        "\n",
        "    #### retraining on the global server ####\n",
        "    #loss_retrain = 0\n",
        "    #for i in tqdm(range(num_selected)):\n",
        "    #    loss_retrain += client_update(client_models[i], opt[i], baseline_data[devices[client_idx[i]]], retrain_epochs)\n",
        "    #train_loss_global.append(loss_retrain/num_selected)\n",
        "\n",
        "    attackclients = []\n",
        "    for i in devices:\n",
        "        if i != 'Benign.csv':\n",
        "            attackclients.append(client_models[devices.index(i)])\n",
        "    \n",
        "    ### aggregate models ###\n",
        "    server_aggregate(global_model, attackclients, client_lens)      # FedAvg\n",
        "    #server_aggregate_M(global_model, attackclients, client_lens)    # FedAvgM\n",
        "\n",
        "    print(\"\\nclient_loss: \", loss)\n",
        "    #print('global_loss: ', loss_retrain/num_selected)\n",
        "\n",
        "time_required = time.time() - start_time\n",
        "print('/nTIME: {}mins'.format(time_required/60))"
      ]
    },
    {
      "cell_type": "code",
      "execution_count": 62,
      "metadata": {},
      "outputs": [
        {
          "name": "stdout",
          "output_type": "stream",
          "text": [
            "[155.39759311969755, 155.39212599336005, 155.3835383423276, 1.354668742232441, 155.37272843400223, 0.832687278374404, 1.9392779265945408, 155.36611357839084, 109.36942584465164, 155.12466373055122]\n",
            "[125.18416735869204, 135.2945189167611, 135.30158561023313, 135.31044651461676, 134.89079880583444, 87.92165958392859, 95.04037472275843, 135.30989286476503, 39.49133426286967, 127.91308021504906]\n",
            "[182.3884624411064, 124.56393284658807, 188.0968091010106, 188.03486516186186, 13.785939910216486, 14.235393963585013, 13.817887457843359, 130.85473701513766, 13.726814602228638, 188.19619161402485]\n",
            "[18.70722847431898, 18.54891682303341, 18.67773967597799, 18.679279878001495, 18.678141405668313, 18.67799247409506, 18.6769428147471, 18.68465442182909, 12.252298431204897, 8.218597376663839]\n",
            "[1.3986541706372082, 1.3996343572692174, 1.3992672094363507, 1.399587667085291, 1.39943663382191, 1.3996776190957403, 1.3989196551766823, 1.3983855570356052, 1.3987302353105895, 1.399136441933915]\n",
            "[5.576004470797146, 5.570296373788048, 5.568940835489946, 5.567201315129505, 5.568893002762514, 6.210838571366142, 5.564491436937276, 5.568420799339519, 5.571082784147824, 5.568335515961928]\n",
            "[80.080313634493, 133.02191300396368, 220.79096567978593, 189.73787474695504, 107.0600795526614, 181.82476020091198, 83.78153064839087, 129.486324327167, 214.07161345005457, 59.107355768758566]\n",
            "[80.88815090511844, 58.87585971964957, 0.041888314627613686, 131.177678227515, 131.15329940830603, 131.36911820533874, 0.04125705806198131, 0.22700352003830368, 131.18448063385495, 6.178278193838041]\n",
            "[3.2013349374135336, 3.2017494598403573, 3.2050789842382073, 3.270336280701061, 3.203022868776073, 3.202412307479729, 3.2037401872687044, 3.2800934626720846, 3.201663532635818, 3.227854238512615]\n"
          ]
        }
      ],
      "source": [
        "for i in range(len(train_loss_per_client)):\n",
        "  print(train_loss_per_client[i])"
      ]
    },
    {
      "cell_type": "code",
      "execution_count": 63,
      "metadata": {
        "id": "mTE7-ISNDA9e"
      },
      "outputs": [],
      "source": [
        "# save model\n",
        "torch.save(global_model,'C:/Final Year Project/models/globalattackmodel.pt')"
      ]
    },
    {
      "cell_type": "code",
      "execution_count": 64,
      "metadata": {
        "id": "WbFb24eT6ggV"
      },
      "outputs": [],
      "source": [
        "for i in range(len(devices)):\n",
        "  torch.save(client_models[i],'C:/Final Year Project/models/clients/' + devices[i] + '.pt')"
      ]
    },
    {
      "cell_type": "code",
      "execution_count": 65,
      "metadata": {
        "id": "oI1CQSuoDA9f"
      },
      "outputs": [],
      "source": [
        "losspic = 1\n",
        "def printperformance(losses, modelname):\n",
        "    global losspic\n",
        "    plt.plot(losses)\n",
        "    plt.xlabel('number of rounds')\n",
        "    plt.ylabel('loss')\n",
        "    plt.ylim((0, 2.5))\n",
        "    plt.grid()\n",
        "    plt.title(modelname)\n",
        "    plt.show()\n",
        "    plt.savefig(\"C:/Final Year Project/images/\" + str(modelname) + str(losspic) + \".png\")\n",
        "    losspic += 1"
      ]
    },
    {
      "cell_type": "code",
      "execution_count": 66,
      "metadata": {
        "id": "Sb5v5VOjDA9f",
        "outputId": "cf345ffd-04e8-4892-f7be-a12d48d6dc5f"
      },
      "outputs": [
        {
          "data": {
            "image/png": "[encoded data removed]",
            "text/plain": [
              "<Figure size 640x480 with 1 Axes>"
            ]
          },
          "metadata": {},
          "output_type": "display_data"
        },
        {
          "data": {
            "image/png": "[encoded data removed]",
            "text/plain": [
              "<Figure size 640x480 with 1 Axes>"
            ]
          },
          "metadata": {},
          "output_type": "display_data"
        },
        {
          "data": {
            "image/png": "[encoded data removed]",
            "text/plain": [
              "<Figure size 640x480 with 1 Axes>"
            ]
          },
          "metadata": {},
          "output_type": "display_data"
        },
        {
          "data": {
            "image/png": "[encoded data removed]",
            "text/plain": [
              "<Figure size 640x480 with 1 Axes>"
            ]
          },
          "metadata": {},
          "output_type": "display_data"
        },
        {
          "data": {
            "image/png": "[encoded data removed]",
            "text/plain": [
              "<Figure size 640x480 with 1 Axes>"
            ]
          },
          "metadata": {},
          "output_type": "display_data"
        },
        {
          "data": {
            "image/png": "[encoded data removed]",
            "text/plain": [
              "<Figure size 640x480 with 1 Axes>"
            ]
          },
          "metadata": {},
          "output_type": "display_data"
        },
        {
          "data": {
            "image/png": "[encoded data removed]",
            "text/plain": [
              "<Figure size 640x480 with 1 Axes>"
            ]
          },
          "metadata": {},
          "output_type": "display_data"
        },
        {
          "data": {
            "image/png": "[encoded data removed]",
            "text/plain": [
              "<Figure size 640x480 with 1 Axes>"
            ]
          },
          "metadata": {},
          "output_type": "display_data"
        },
        {
          "data": {
            "text/plain": [
              "<Figure size 640x480 with 0 Axes>"
            ]
          },
          "metadata": {},
          "output_type": "display_data"
        }
      ],
      "source": [
        "for i in range(len(devices)-1):\n",
        "  printperformance(train_loss_per_client[i], devices[i])"
      ]
    },
    {
      "cell_type": "code",
      "execution_count": 67,
      "metadata": {},
      "outputs": [
        {
          "data": {
            "image/png": "[encoded data removed]",
            "text/plain": [
              "<Figure size 640x480 with 1 Axes>"
            ]
          },
          "metadata": {},
          "output_type": "display_data"
        },
        {
          "data": {
            "text/plain": [
              "<Figure size 640x480 with 0 Axes>"
            ]
          },
          "metadata": {},
          "output_type": "display_data"
        }
      ],
      "source": [
        "# print performance of benign client\n",
        "printperformance(train_loss_benign, devices[-1])"
      ]
    },
    {
      "cell_type": "code",
      "execution_count": 68,
      "metadata": {
        "id": "Ix3zjB1U63cb",
        "outputId": "b1c7278e-2873-46f8-c710-5ae420f4cf5a"
      },
      "outputs": [
        {
          "data": {
            "image/png": "[encoded data removed]",
            "text/plain": [
              "<Figure size 640x480 with 1 Axes>"
            ]
          },
          "metadata": {},
          "output_type": "display_data"
        },
        {
          "data": {
            "text/plain": [
              "<Figure size 640x480 with 0 Axes>"
            ]
          },
          "metadata": {},
          "output_type": "display_data"
        }
      ],
      "source": [
        "# train_loss_global\n",
        "plt.plot(train_loss_global)\n",
        "plt.xlabel('number of rounds')\n",
        "plt.ylabel('loss')\n",
        "plt.ylim((0, 2.5))\n",
        "plt.grid()\n",
        "plt.title('Federated Model with FedAvg (use five devices to train)')\n",
        "plt.show()\n",
        "plt.savefig(\"C:/Final Year Project/images/Global10.png\")"
      ]
    },
    {
      "attachments": {},
      "cell_type": "markdown",
      "metadata": {
        "id": "dK43oLbY9uNr"
      },
      "source": [
        "# Evaluation"
      ]
    },
    {
      "cell_type": "code",
      "execution_count": 55,
      "metadata": {
        "id": "ku4dyUThDZF1"
      },
      "outputs": [],
      "source": [
        "client_models = []\n",
        "for i in range(len(devices)):\n",
        "  client_models.append(torch.load('C:/Final Year Project/models/clients/' + devices[i] + '.pt'))"
      ]
    },
    {
      "cell_type": "code",
      "execution_count": 56,
      "metadata": {
        "id": "1DvI0napggwm"
      },
      "outputs": [],
      "source": [
        "from sklearn import metrics"
      ]
    },
    {
      "cell_type": "code",
      "execution_count": 87,
      "metadata": {
        "id": "h1HJ9RZw63Z-"
      },
      "outputs": [],
      "source": [
        "def get_thresh(model, dataloader):\n",
        "\n",
        "    model.eval()\n",
        "    errs = []\n",
        "    mses = []\n",
        "    for batch in dataloader:\n",
        "       for data in batch:\n",
        "         mse = np.power(data.float().cpu().detach().numpy() - model(data.float()).cpu().detach().numpy(), 2) #before np.mean(..., axis=0) (len(mse) = 56)\n",
        "         mses.append(mse)\n",
        "    mses = np.array(mses)\n",
        "    print(\"MSES: \" + str(mses.shape))\n",
        "    thresh = mses.mean(axis=0) + mses.std(axis=0)\n",
        "    print(thresh.shape)\n",
        "    #errs.append(thresh)\n",
        "    #thresh = sum(errs) / len(errs)\n",
        "    return thresh\n",
        "\n",
        "    #model.eval()\n",
        "    #pred = global_model(tr_data).cpu().detach().numpy()\n",
        "    #print(pred)\n",
        "    #print(np.isnan(pred))\n",
        "    #thresh = np.sqrt(metrics.mean_squared_error(pred, threshben.numpy()))\n",
        "    #mse = np.mean(np.power(tr_data.cpu().detach().numpy() - model(tr_data).cpu().detach().numpy(), 2), axis=1)\n",
        "    #tr = np.sqrt(metrics.mean_squared_error(model(tr_data).cpu().detach().numpy(), tr_data.cpu().detach().numpy()))\n",
        "    #tr = np.sqrt(mse)\n",
        "    #return thresh\n",
        "\n",
        "    \n",
        "def quan_thresh(model, dataloader, quantile=0.9):\n",
        "\n",
        "  model.eval()\n",
        "  errs = []\n",
        "  mse = []\n",
        "  \n",
        "  for batch in dataloader:\n",
        "    \n",
        "    for data in batch:\n",
        "      error = np.power(data.float().cpu().numpy() - model(data.float()).cpu().detach().numpy(), 2) # len(error) = 56\n",
        "      mse.append(error)\n",
        "    # Calculate threshold as quantile of errors \n",
        "    thresh = np.quantile(mse, quantile, axis=0) #before it was thresh = np.quantile(mse, quantile)\n",
        "    errs.append(thresh)\n",
        "  #thresh = np.quantile(mse, quantile)\n",
        "  return np.mean(errs) #before it was np.mean(errs)\n",
        "  #return thresh\n",
        "\n",
        "def quan_recon(model, dataloader, quantile=0.8):\n",
        "  model.eval()\n",
        "  datas = []\n",
        "  for batch in dataloader:\n",
        "    for data in batch:\n",
        "      datas.append(model(data.float()).cpu().detach().numpy())\n",
        "  thresh = np.quantile(datas, quantile, axis=0)\n",
        "  return thresh\n",
        "\n",
        "def perf_measure(y_actual, y_pred):\n",
        "    TP = 0\n",
        "    FP = 0\n",
        "    TN = 0\n",
        "    FN = 0\n",
        "    for i in range(len(y_pred)):\n",
        "        if y_actual[i] == y_pred[i] == 1:\n",
        "           TP += 1\n",
        "        if y_pred[i] == 1 and y_actual[i] != y_pred[i]:\n",
        "           FP += 1\n",
        "        if y_actual[i] == y_pred[i] == 0:\n",
        "           TN += 1\n",
        "        if y_pred[i] == 0 and y_actual[i] != y_pred[i]:\n",
        "           FN += 1\n",
        "    return (TP, FP, TN, FN)\n",
        "\n",
        "def get_mix_result(model, tr, mix_data, mix_label):\n",
        "    model.eval()\n",
        "    prediction = []\n",
        "    for i in mix_data:\n",
        "      pred = model(i).cpu().detach().numpy()\n",
        "      error = np.sqrt(metrics.mean_squared_error(pred, threshben.numpy()))\n",
        "      if error > tr:\n",
        "        prediction.append(1)\n",
        "      else:\n",
        "        prediction.append(0)\n",
        "\n",
        "    mix_label_list = mix_label.tolist()\n",
        "\n",
        "    TP,FP,TN,FN = perf_measure(mix_label_list, prediction)\n",
        "\n",
        "    conf = [[TP, FN],[FP, TN]]\n",
        "    print(conf)\n",
        "    x_axis_label = ['abnormal', 'benign']\n",
        "    y_axis_label = ['abnormal', 'benign']\n",
        "\n",
        "    plt.figure()\n",
        "    sns.heatmap(conf,xticklabels=x_axis_label, yticklabels=y_axis_label, annot=True,annot_kws={\"size\": 16},fmt='g')\n",
        "\n",
        "    acc = (TP+TN) / (TP+TN+FP+FN)\n",
        "    precision = TP/(TP+FP)\n",
        "    recall = TP/(TP+FN)\n",
        "    F1score = 2 * ((precision * recall) / (precision + recall))\n",
        "\n",
        "    TPR = round((TP / (TP+FN)), 6)\n",
        "    # print('TPR is: {}%'.format(TPR))\n",
        "\n",
        "    FPR = round((FP / (FP + TN)), 6)\n",
        "    # print('TPR is: {}%'.format(FPR))\n",
        "\n",
        "    print('Acc: %.3f%% \\nPrecision: %.3f \\nRecall: %.3f \\nF1score: %.3f \\nTPR: %.5f \\nFPR: %.5f'%(acc*100,\n",
        "                                                                                                   precision,\n",
        "                                                                                                   recall,\n",
        "                                                                                                   F1score*100,\n",
        "                                                                                                   TPR,\n",
        "                                                                                                   FPR))\n",
        "\n",
        "#   [['TP', 'FN']\n",
        "#   ['FP', 'TN']]"
      ]
    },
    {
      "cell_type": "code",
      "execution_count": 88,
      "metadata": {
        "id": "FhTUbMWYDca5"
      },
      "outputs": [],
      "source": [
        "thresholds = {}\n",
        "for i in range(len(devices)):\n",
        "    model = client_models[i]\n",
        "    dataloader = train_loader[devices[i]]\n",
        "    thresholds[devices[i]] = quan_thresh(model, dataloader)\n",
        "    #thresholds[devices[i]] = quan_recon(model, dataloader)\n",
        "print(thresholds)"
      ]
    },
    {
      "cell_type": "code",
      "execution_count": null,
      "metadata": {},
      "outputs": [
        {
          "data": {
            "text/plain": [
              "'thresholds_test = {}\\nfor i in range(len(devices)):\\n    model = client_models[i]\\n    dataloader = test_loader[devices[i]]\\n    thresholds_test[devices[i]] = get_thresh(model, dataloader)\\nprint(thresholds_test)'"
            ]
          },
          "execution_count": 63,
          "metadata": {},
          "output_type": "execute_result"
        }
      ],
      "source": [
        "'''thresholds_test = {}\n",
        "for i in range(len(devices)):\n",
        "    model = client_models[i]\n",
        "    dataloader = test_loader[devices[i]]\n",
        "    thresholds_test[devices[i]] = get_thresh(model, dataloader)\n",
        "print(thresholds_test)'''"
      ]
    },
    {
      "cell_type": "code",
      "execution_count": null,
      "metadata": {},
      "outputs": [
        {
          "data": {
            "text/plain": [
              "9"
            ]
          },
          "execution_count": 64,
          "metadata": {},
          "output_type": "execute_result"
        }
      ],
      "source": [
        "len(thresholds)"
      ]
    },
    {
      "cell_type": "code",
      "execution_count": null,
      "metadata": {},
      "outputs": [
        {
          "data": {
            "text/plain": [
              "['Bot.csv',\n",
              " 'DDOS attack-HOIC.csv',\n",
              " 'DDoS attacks-LOIC-HTTP.csv',\n",
              " 'DoS attacks-Hulk.csv',\n",
              " 'DoS attacks-SlowHTTPTest.csv',\n",
              " 'FTP-BruteForce.csv',\n",
              " 'Infilteration.csv',\n",
              " 'SSH-Bruteforce.csv',\n",
              " 'Benign.csv']"
            ]
          },
          "execution_count": 65,
          "metadata": {},
          "output_type": "execute_result"
        }
      ],
      "source": [
        "devices"
      ]
    },
    {
      "cell_type": "code",
      "execution_count": null,
      "metadata": {},
      "outputs": [
        {
          "data": {
            "text/plain": [
              "{'Bot.csv': <torch.utils.data.dataloader.DataLoader at 0x2a053d13070>,\n",
              " 'DDOS attack-HOIC.csv': <torch.utils.data.dataloader.DataLoader at 0x2a053d12ec0>,\n",
              " 'DDoS attacks-LOIC-HTTP.csv': <torch.utils.data.dataloader.DataLoader at 0x2a053d13f40>,\n",
              " 'DoS attacks-Hulk.csv': <torch.utils.data.dataloader.DataLoader at 0x2a053d12710>,\n",
              " 'DoS attacks-SlowHTTPTest.csv': <torch.utils.data.dataloader.DataLoader at 0x2a053d128f0>,\n",
              " 'FTP-BruteForce.csv': <torch.utils.data.dataloader.DataLoader at 0x2a053d12ef0>,\n",
              " 'Infilteration.csv': <torch.utils.data.dataloader.DataLoader at 0x2a053d122f0>,\n",
              " 'SSH-Bruteforce.csv': <torch.utils.data.dataloader.DataLoader at 0x2a053d13160>}"
            ]
          },
          "execution_count": 66,
          "metadata": {},
          "output_type": "execute_result"
        }
      ],
      "source": [
        "test_loader"
      ]
    },
    {
      "attachments": {},
      "cell_type": "markdown",
      "metadata": {},
      "source": [
        "### What the model is supposed to find = 1 (Error < Threshold)\n",
        "### What the model is not supposed to find = 0 (Error > Threshold)"
      ]
    },
    {
      "cell_type": "code",
      "execution_count": null,
      "metadata": {},
      "outputs": [],
      "source": [
        "import matplotlib.pyplot as plt\n",
        "import seaborn as sns\n",
        "from scipy.stats import spearmanr, rankdata\n",
        "matrices=[]\n",
        "device_idx = {device: i for i, device in enumerate(devices)}\n",
        "for device in devices:\n",
        "  \n",
        "  model = client_models[device_idx[device]]\n",
        "  model.eval()\n",
        "  threshold = thresholds[device]\n",
        "  for i in attbenmixdata_loader:\n",
        "    test_set = attbenmixdata_loader[i]\n",
        "    labels = list(attbenmixdatalabels[i])\n",
        "    y_true = []\n",
        "    y_pred = []\n",
        "    for batch in test_set:\n",
        "      for data in batch:\n",
        "        #pred = model(data.float()).cpu().detach().numpy()\n",
        "        error = np.power(data.float().cpu().numpy() - model(data.float()).cpu().detach().numpy(), 2)\n",
        "        #threshold_ranked = rankdata(threshold)\n",
        "        #pred_ranked = rankdata(pred)\n",
        "        #coeff, p = spearmanr(threshold_ranked, pred_ranked)\n",
        "        if device == i:\n",
        "          y_true.append(1)\n",
        "          y_pred.append(1 if error < threshold else 0)\n",
        "        else:\n",
        "          y_true.append(0)\n",
        "          y_pred.append(0 if error >= threshold else 1)\n",
        "    TP, FP, TN, FN = perf_measure(y_true, y_pred)\n",
        "    TP += 1\n",
        "    FN += 1\n",
        "    TN += 1\n",
        "    FP += 1\n",
        "    conf_matrix = [[TP, FN], [FP, TN]]\n",
        "    plt.figure() \n",
        "    sns.heatmap(conf_matrix, annot=True, fmt=\"d\")\n",
        "    plt.title(\"Confusion Matrix for Client \" + str(device) +\" with \"+ str(i))\n",
        "    plt.xlabel(\"Predicted Label\")\n",
        "    plt.ylabel(\"True Label\")\n",
        "\n",
        "    acc = (TP+TN) / (TP+TN+FP+FN)\n",
        "    precision = TP/(TP+FP)\n",
        "    recall = TP/(TP+FN)\n",
        "    F1score = 2 * ((precision * recall) / (precision + recall))\n",
        "\n",
        "    TPR = round((TP / (TP+FN)), 6)\n",
        "    # print('TPR is: {}%'.format(TPR))\n",
        "\n",
        "    FPR = round((FP / (FP + TN)), 6)\n",
        "    # print('TPR is: {}%'.format(FPR))\n",
        "\n",
        "    matrices.append([str(\"Stats for Client \" + str(device) +\" with \"+ str(i)),acc*100,precision,recall,F1score*100,TPR,FPR])\n",
        "\n",
        "#   [['TP', 'FN']\n",
        "#   ['FP', 'TN']]"
      ]
    },
    {
      "cell_type": "code",
      "execution_count": null,
      "metadata": {},
      "outputs": [],
      "source": [
        "for i in matrices:\n",
        "    print(\"Title: \" + i[0])\n",
        "    print(\"Accuracy: \" + str(i[1]))\n",
        "    print(\"Precision: \" + str(i[2]))\n",
        "    print(\"Recall: \" + str(i[3]))\n",
        "    print(\"F1 score : \" + str(i[4]))\n",
        "    print(\"TPR : \" + str(i[5]))\n",
        "    print(\"FPR : \" + str(i[6]))"
      ]
    },
    {
      "attachments": {},
      "cell_type": "markdown",
      "metadata": {},
      "source": [
        "Plot for global model"
      ]
    },
    {
      "cell_type": "code",
      "execution_count": null,
      "metadata": {
        "id": "oomBBYuq63WS"
      },
      "outputs": [],
      "source": [
        "# load model\n",
        "global_model = torch.load('C:/Final Year Project/models/globalattackmodel.pt')                                        "
      ]
    },
    {
      "attachments": {},
      "cell_type": "markdown",
      "metadata": {
        "id": "0zKO6BUI97sa"
      },
      "source": [
        "# Testing client models with equal number of all data (selected and not selected)"
      ]
    },
    {
      "cell_type": "code",
      "execution_count": 82,
      "metadata": {},
      "outputs": [
        {
          "data": {
            "image/png": "[encoded data removed]",
            "text/plain": [
              "<Figure size 640x480 with 2 Axes>"
            ]
          },
          "metadata": {},
          "output_type": "display_data"
        }
      ],
      "source": [
        "import matplotlib.pyplot as plt\n",
        "import seaborn as sns\n",
        "from scipy.stats import spearmanr, rankdata, pearsonr\n",
        "from sklearn.metrics import mutual_info_score\n",
        "selectedattackbenmix_stats = []\n",
        "cf=[]\n",
        "device_idx = {device: i for i, device in enumerate(devices)}\n",
        "for device in devices:\n",
        "  if device == 'Bot.csv':\n",
        "    model = client_models[device_idx[device]]\n",
        "    model.eval()\n",
        "    labels = list(selectedattackbenmix_labels)\n",
        "    threshold = thresholds[device]\n",
        "    y_true = []\n",
        "    y_pred = []\n",
        "    test_set = selectedattackbenmix_loader\n",
        "    ind = 0\n",
        "    for batch in test_set:\n",
        "      for data in batch:\n",
        "        #pred = model(data.float()).cpu().detach().numpy()\n",
        "        #pred_ranked = rankdata(pred)\n",
        "        #threshold_ranked = rankdata(threshold)\n",
        "        #coeff, p = pearsonr(threshold, pred)\n",
        "        error = np.mean(np.power(data.float().cpu().numpy() - model(data.float()).cpu().detach().numpy(), 2))\n",
        "        if device[:-4] == labels[ind]:\n",
        "            y_true.append(1)\n",
        "            y_pred.append(1 if error < threshold else 0)\n",
        "        else:\n",
        "            y_true.append(0)\n",
        "            y_pred.append(0 if error >= threshold else 1)\n",
        "        #cf.append([coeff, p, device[:-4] == labels[ind]])\n",
        "        ind += 1\n",
        "    TP, FP, TN, FN = perf_measure(y_true, y_pred)\n",
        "    TP += 1\n",
        "    FN += 1\n",
        "    TN += 1\n",
        "    FP += 1\n",
        "    conf_matrix = [[TP, FN], [FP, TN]]\n",
        "    plt.figure() \n",
        "    sns.heatmap(conf_matrix, annot=True, fmt=\"d\")\n",
        "    plt.title(\"Confusion Matrix for Client \" + str(device) +\" with trained attack dataframe\")\n",
        "    plt.xlabel(\"Predicted Label\")\n",
        "    plt.ylabel(\"True Label\")\n",
        "\n",
        "    acc = (TP+TN) / (TP+TN+FP+FN)\n",
        "    precision = TP/(TP+FP)\n",
        "    recall = TP/(TP+FN)\n",
        "    F1score = 2 * ((precision * recall) / (precision + recall))\n",
        "\n",
        "    TPR = round((TP / (TP+FN)), 6)\n",
        "    # print('TPR is: {}%'.format(TPR))\n",
        "\n",
        "    FPR = round((FP / (FP + TN)), 6)\n",
        "    # print('TPR is: {}%'.format(FPR))\n",
        "\n",
        "    selectedattackbenmix_stats.append([str(\"Stats for Client \" + str(device) +\" with trained attack dataframe\"),acc*100,precision,recall,F1score*100,TPR,FPR])\n",
        "\n",
        "  #   [['TP', 'FN']\n",
        "  #   ['FP', 'TN']]"
      ]
    },
    {
      "cell_type": "code",
      "execution_count": 83,
      "metadata": {},
      "outputs": [
        {
          "data": {
            "text/plain": [
              "[[0.7789931171972233, 1.3428127625645602e-14, True],\n",
              " [0.5582733738388539, 1.1125209896802275e-06, True],\n",
              " [0.8432085024388756, 6.565772572622583e-19, True],\n",
              " [0.30139753526513846, 0.013922302243070452, True],\n",
              " [0.7425626127636669, 9.566173319206277e-13, True],\n",
              " [0.8457916094509705, 4.023561548932235e-19, True],\n",
              " [0.7789947721679359, 1.3425282759108361e-14, True],\n",
              " [0.8864638297475614, 4.2930291820173664e-23, True],\n",
              " [0.08664530562564975, 0.48908613279573926, True],\n",
              " [0.638162609675564, 8.221729441130455e-09, True],\n",
              " [0.30139753526513846, 0.013922302243070452, True],\n",
              " [0.7205102598222962, 9.08558255717834e-12, True],\n",
              " [0.5973496681909499, 1.191953196077221e-07, True],\n",
              " [0.7045886318116451, 4.0576287982876476e-11, True],\n",
              " [0.8432085024388756, 6.565772572622583e-19, True],\n",
              " [0.8432085024388756, 6.565772572622583e-19, True],\n",
              " [0.7767990595568282, 1.7754906635096883e-14, True],\n",
              " [0.30139753526513846, 0.013922302243070452, True],\n",
              " [0.08536188906075595, 0.49556872233093496, True],\n",
              " [0.04620914703956775, 0.7125533234584202, True],\n",
              " [0.8589312278734814, 2.8780656964594133e-20, True],\n",
              " [0.8864520669610818, 4.3064804701531e-23, True],\n",
              " [0.8432085024388756, 6.565772572622583e-19, True],\n",
              " [0.8432085024388756, 6.565772572622583e-19, True],\n",
              " [0.8966266416326913, 2.508686963689536e-24, True],\n",
              " [0.8436084615931736, 6.089862517763327e-19, True],\n",
              " [0.8432085024388756, 6.565772572622583e-19, True],\n",
              " [0.5818661082004398, 2.990956835464806e-07, True],\n",
              " [0.9558086978105504, 9.758516999855591e-36, True],\n",
              " [0.5972344253793921, 1.200358605296582e-07, True],\n",
              " [0.30139753526513846, 0.013922302243070452, True],\n",
              " [0.8864243938487828, 4.3382865025547415e-23, True],\n",
              " [0.598221957271343, 1.1301100744140221e-07, True],\n",
              " [0.8864067244820756, 4.358713175591663e-23, True],\n",
              " [0.8432085024388756, 6.565772572622583e-19, True],\n",
              " [0.08660986853979658, 0.4892645261934269, True],\n",
              " [0.7775415332099106, 1.6159313955440183e-14, True],\n",
              " [0.30139753526513846, 0.013922302243070452, True],\n",
              " [0.30139753526513846, 0.013922302243070452, True],\n",
              " [0.9558269936496387, 9.632762713000542e-36, True],\n",
              " [0.8432085024388756, 6.565772572622583e-19, True],\n",
              " [0.6636755865362766, 1.2521641356120118e-09, True],\n",
              " [0.8014407221888227, 6.338912844350617e-16, True],\n",
              " [0.30139753526513846, 0.013922302243070452, True],\n",
              " [0.8863563955301239, 4.417405828717506e-23, True],\n",
              " [0.8863849983875387, 4.383956844979935e-23, True],\n",
              " [0.8583354553892367, 3.2621529498403786e-20, True],\n",
              " [0.8863964928906242, 4.37058379789023e-23, True],\n",
              " [0.08614554966938869, 0.4916051055991617, True],\n",
              " [0.8864462949016895, 4.313095949372095e-23, True],\n",
              " [0.7425626127636669, 9.566173319206277e-13, True],\n",
              " [0.9140605431801387, 8.946171355810286e-27, True],\n",
              " [0.8408272561738214, 1.0232353697515876e-18, True],\n",
              " [0.9557946005908979, 9.856494375701798e-36, True],\n",
              " [0.8864640747156184, 4.2927494811028194e-23, True],\n",
              " [0.8432085024388756, 6.565772572622583e-19, True],\n",
              " [0.5966709011523543, 1.2422722224597331e-07, True],\n",
              " [0.7789859445368499, 1.3440463994243713e-14, True],\n",
              " [0.8320004377676979, 4.9845929809453106e-18, True],\n",
              " [0.955803949579578, 9.791412079652322e-36, True],\n",
              " [0.5968783781761254, 1.226682388231579e-07, True],\n",
              " [0.35765009708369594, 0.003195940560501075, True],\n",
              " [0.7031746187423759, 4.6123727961616065e-11, True],\n",
              " [0.5300279764593374, 4.721107758438826e-06, True],\n",
              " [0.934814432991975, 1.7815091347741868e-30, True],\n",
              " [0.21616076839626444, 0.08129528341044102, True],\n",
              " [0.6651013909666401, 1.1211189065602292e-09, True],\n",
              " [0.9318572622193654, 7.037847014697351e-30, True],\n",
              " [0.7772424606762793, 1.678474148093349e-14, True],\n",
              " [-0.05262520953536708, 0.6747400044612526, True],\n",
              " [0.8511363066948784, 1.4189119426849562e-19, True],\n",
              " [0.8398244451740863, 1.230780140544315e-18, True],\n",
              " [0.8863980162257697, 4.3688144607819963e-23, True],\n",
              " [0.35765009708369594, 0.003195940560501075, True],\n",
              " [0.8455134062246876, 4.243284981572498e-19, True],\n",
              " [0.842512893291014, 7.480033433011165e-19, True],\n",
              " [0.8863369921413976, 4.4402367234120437e-23, True],\n",
              " [0.8432085024388756, 6.565772572622583e-19, True],\n",
              " [0.8863299391301172, 4.4485637898947667e-23, True],\n",
              " [0.7767119378463581, 1.7951751273194597e-14, True],\n",
              " [0.6588914107985856, 1.8066668500620236e-09, True],\n",
              " [0.8526820578364569, 1.0416904766709023e-19, True],\n",
              " [0.7361869811794709, 1.8764363822377463e-12, True],\n",
              " [0.5942407621564355, 1.4393626119868216e-07, True],\n",
              " [0.7789948401628326, 1.342516588940469e-14, True],\n",
              " [0.8864705773420928, 4.2853313023946835e-23, True],\n",
              " [0.955844384582195, 9.514682374597958e-36, True],\n",
              " [0.596392716521446, 1.263468729841295e-07, True],\n",
              " [0.5965130726213491, 1.2542565316695148e-07, True],\n",
              " [0.8864552149785209, 4.302876587533286e-23, True],\n",
              " [0.5930035464784831, 1.5506996954347282e-07, True],\n",
              " [0.8014407221888227, 6.338912844350617e-16, True],\n",
              " [0.35765009708369594, 0.003195940560501075, True],\n",
              " [0.9558056981392983, 9.779285844273576e-36, True],\n",
              " [0.8863070510575649, 4.4756902688228043e-23, True],\n",
              " [0.8488626287703993, 2.2215084629137187e-19, True],\n",
              " [0.5920730199828228, 1.6397400641520192e-07, True],\n",
              " [0.5950605048839808, 1.369796962969313e-07, True],\n",
              " [0.09681724252319138, 0.4393223575654206, True],\n",
              " [0.7425626127636669, 9.566173319206277e-13, True]]"
            ]
          },
          "execution_count": 83,
          "metadata": {},
          "output_type": "execute_result"
        }
      ],
      "source": [
        "cf[:100]"
      ]
    },
    {
      "cell_type": "code",
      "execution_count": 84,
      "metadata": {},
      "outputs": [
        {
          "data": {
            "text/plain": [
              "[[0.7790003553255149, 1.3415689671741422e-14, False],\n",
              " [0.35765009708369594, 0.003195940560501075, False],\n",
              " [0.47372097902436283, 5.880811973817382e-05, False],\n",
              " [0.8014407221888227, 6.338912844350617e-16, False],\n",
              " [0.7789868951024942, 1.3438828476958664e-14, False],\n",
              " [0.8864111535610909, 4.353584241015057e-23, False],\n",
              " [0.8432085024388756, 6.565772572622583e-19, False],\n",
              " [0.5891490812069482, 1.951962376049455e-07, False],\n",
              " [0.7762076662271948, 1.9132899479124984e-14, False],\n",
              " [0.8432085024388756, 6.565772572622583e-19, False],\n",
              " [0.7425626127636669, 9.566173319206277e-13, False],\n",
              " [0.8475580445681562, 2.8636740703416703e-19, False],\n",
              " [0.08583362288820083, 0.49318078261815507, False],\n",
              " [0.47372097902436283, 5.880811973817382e-05, False],\n",
              " [0.47372097902436283, 5.880811973817382e-05, False],\n",
              " [0.590635380329935, 1.7868445424609665e-07, False],\n",
              " [0.8454842922120616, 4.266935825096524e-19, False],\n",
              " [0.8857504619473437, 5.186695008752187e-23, False],\n",
              " [0.35765009708369594, 0.003195940560501075, False],\n",
              " [0.9004433247674004, 7.994374701867933e-25, False],\n",
              " [0.8432085024388756, 6.565772572622583e-19, False],\n",
              " [0.8752161228431684, 7.375032809307009e-22, False],\n",
              " [0.2160522506870168, 0.08145193077977675, False],\n",
              " [0.5677550832316105, 6.642799102833158e-07, False],\n",
              " [0.855217125625568, 6.226935916071707e-20, False],\n",
              " [0.5910128206006475, 1.7470624171347563e-07, False],\n",
              " [0.8520442663849198, 1.183865603249548e-19, False],\n",
              " [0.7789933088232588, 1.3427798194138856e-14, False],\n",
              " [0.8863588456681559, 4.414530953255008e-23, False],\n",
              " [0.8563233203970224, 4.959415602677238e-20, False],\n",
              " [0.6176337180034911, 3.3100629409484325e-08, False],\n",
              " [0.7045831946287591, 4.059634473330802e-11, False],\n",
              " [0.35765009708369594, 0.003195940560501075, False],\n",
              " [0.8257652074014111, 1.444880468309064e-17, False],\n",
              " [0.5903170595095817, 1.821058207465829e-07, False],\n",
              " [0.5551206335281091, 1.3159854004709871e-06, False],\n",
              " [0.903388390959771, 3.20349401534812e-25, False],\n",
              " [0.8864630612615186, 4.2939067421500776e-23, False],\n",
              " [0.8432085024388756, 6.565772572622583e-19, False],\n",
              " [0.8843273320821164, 7.535501292990665e-23, False],\n",
              " [0.9558069024876189, 9.770942157200204e-36, False],\n",
              " [0.8547113215777171, 6.905545417095814e-20, False],\n",
              " [0.8432085024388756, 6.565772572622583e-19, False],\n",
              " [0.5915688415859404, 1.6899771969549963e-07, False],\n",
              " [0.8432085024388756, 6.565772572622583e-19, False],\n",
              " [0.8432085024388756, 6.565772572622583e-19, False],\n",
              " [0.6651013909666401, 1.1211189065602292e-09, False],\n",
              " [0.30139753526513846, 0.013922302243070452, False],\n",
              " [0.8014407221888227, 6.338912844350617e-16, False],\n",
              " [0.8432085024388756, 6.565772572622583e-19, False],\n",
              " [0.8432085024388756, 6.565772572622583e-19, False],\n",
              " [0.8864720047428346, 4.283704583698288e-23, False],\n",
              " [0.8413002591189457, 9.374593433060754e-19, False],\n",
              " [0.8772544252600267, 4.497864539841692e-22, False],\n",
              " [0.8864514334355947, 4.30720608854213e-23, False],\n",
              " [0.9115480528967211, 2.162761887843944e-26, False],\n",
              " [0.8830444188651645, 1.0508481763311335e-22, False],\n",
              " [0.8615413391993119, 1.6511665255012842e-20, False],\n",
              " [0.8432085024388756, 6.565772572622583e-19, False],\n",
              " [0.5949321012513122, 1.3804798982097647e-07, False],\n",
              " [0.88646849321568, 4.287707520391076e-23, False],\n",
              " [0.8014407221888227, 6.338912844350617e-16, False],\n",
              " [0.8547350540088828, 6.872170994418083e-20, False],\n",
              " [0.9558111855914488, 9.741324707983341e-36, False],\n",
              " [0.8615917050826003, 1.6333762614279247e-20, False],\n",
              " [0.5955263904049455, 1.3316877265116189e-07, False],\n",
              " [0.8849073880094286, 6.475149529979738e-23, False],\n",
              " [0.8446696959929427, 4.98259532548017e-19, False],\n",
              " [0.35765009708369594, 0.003195940560501075, False],\n",
              " [0.47372097902436283, 5.880811973817382e-05, False],\n",
              " [0.8471911742466035, 3.0743243541200724e-19, False],\n",
              " [0.30139753526513846, 0.013922302243070452, False],\n",
              " [0.7790176383182243, 1.3386035380358475e-14, False],\n",
              " [0.886467097769666, 4.289299249491965e-23, False],\n",
              " [0.8432085024388756, 6.565772572622583e-19, False],\n",
              " [0.8861499658083716, 4.666217784329238e-23, False],\n",
              " [0.7425626127636669, 9.566173319206277e-13, False],\n",
              " [0.30139753526513846, 0.013922302243070452, False],\n",
              " [0.8014407221888227, 6.338912844350617e-16, False],\n",
              " [0.47372097902436283, 5.880811973817382e-05, False],\n",
              " [0.9557925781359106, 9.87062850239624e-36, False],\n",
              " [0.8863744864263053, 4.396221327544154e-23, False],\n",
              " [0.6314962325406059, 1.306937741964441e-08, False],\n",
              " [0.933472551363807, 3.349115319150027e-30, False],\n",
              " [0.8864597909873831, 4.297643114208322e-23, False],\n",
              " [0.7789928385501095, 1.3428606672189686e-14, False],\n",
              " [0.8432085024388756, 6.565772572622583e-19, False],\n",
              " [0.6782406514472381, 3.9326525903710594e-10, False],\n",
              " [0.8457948764636672, 4.0210475527409334e-19, False],\n",
              " [0.9558747722517285, 9.311709853451847e-36, False],\n",
              " [0.7041857998636977, 4.208815789017212e-11, False],\n",
              " [0.6839337974845237, 2.4560643277752713e-10, False],\n",
              " [0.5978120978945055, 1.1587808136652307e-07, False],\n",
              " [0.9136796431466112, 1.0244854612733444e-26, False],\n",
              " [0.8432085024388756, 6.565772572622583e-19, False],\n",
              " [0.813534190189101, 1.0362751374014716e-16, False],\n",
              " [0.8432085024388756, 6.565772572622583e-19, False],\n",
              " [0.08749749592841545, 0.4848064541479505, False],\n",
              " [0.8864155371388087, 4.3485137311910346e-23, False],\n",
              " [0.955794795948082, 9.85513014009946e-36, False]]"
            ]
          },
          "execution_count": 84,
          "metadata": {},
          "output_type": "execute_result"
        }
      ],
      "source": [
        "cf[-100:]"
      ]
    },
    {
      "cell_type": "code",
      "execution_count": 85,
      "metadata": {},
      "outputs": [
        {
          "name": "stdout",
          "output_type": "stream",
          "text": [
            "Title: Stats for Client Bot.csv with trained attack dataframe\n",
            "Accuracy: 49.86445046886805\n",
            "Precision: 0.11017137275794708\n",
            "Recall: 0.4962007598480304\n",
            "F1 score : 18.03088101725704\n",
            "TPR : 0.496201\n",
            "FPR : 0.50105\n"
          ]
        }
      ],
      "source": [
        "for i in selectedattackbenmix_stats:\n",
        "    print(\"Title: \" + i[0])\n",
        "    print(\"Accuracy: \" + str(i[1]))\n",
        "    print(\"Precision: \" + str(i[2]))\n",
        "    print(\"Recall: \" + str(i[3]))\n",
        "    print(\"F1 score : \" + str(i[4]))\n",
        "    print(\"TPR : \" + str(i[5]))\n",
        "    print(\"FPR : \" + str(i[6]))"
      ]
    },
    {
      "cell_type": "code",
      "execution_count": null,
      "metadata": {},
      "outputs": [],
      "source": [
        "import matplotlib\n",
        "matplotlib.pyplot.close()"
      ]
    },
    {
      "cell_type": "code",
      "execution_count": null,
      "metadata": {},
      "outputs": [
        {
          "data": {
            "image/png": "[encoded data removed]",
            "text/plain": [
              "<Figure size 640x480 with 2 Axes>"
            ]
          },
          "metadata": {},
          "output_type": "display_data"
        },
        {
          "data": {
            "image/png": "[encoded data removed]",
            "text/plain": [
              "<Figure size 640x480 with 2 Axes>"
            ]
          },
          "metadata": {},
          "output_type": "display_data"
        },
        {
          "data": {
            "image/png": "[encoded data removed]",
            "text/plain": [
              "<Figure size 640x480 with 2 Axes>"
            ]
          },
          "metadata": {},
          "output_type": "display_data"
        },
        {
          "data": {
            "image/png": "[encoded data removed]",
            "text/plain": [
              "<Figure size 640x480 with 2 Axes>"
            ]
          },
          "metadata": {},
          "output_type": "display_data"
        },
        {
          "data": {
            "image/png": "[encoded data removed]",
            "text/plain": [
              "<Figure size 640x480 with 2 Axes>"
            ]
          },
          "metadata": {},
          "output_type": "display_data"
        },
        {
          "data": {
            "image/png": "[encoded data removed]",
            "text/plain": [
              "<Figure size 640x480 with 2 Axes>"
            ]
          },
          "metadata": {},
          "output_type": "display_data"
        },
        {
          "data": {
            "image/png": "[encoded data removed]",
            "text/plain": [
              "<Figure size 640x480 with 2 Axes>"
            ]
          },
          "metadata": {},
          "output_type": "display_data"
        },
        {
          "data": {
            "image/png": "[encoded data removed]",
            "text/plain": [
              "<Figure size 640x480 with 2 Axes>"
            ]
          },
          "metadata": {},
          "output_type": "display_data"
        },
        {
          "data": {
            "image/png": "[encoded data removed]",
            "text/plain": [
              "<Figure size 640x480 with 2 Axes>"
            ]
          },
          "metadata": {},
          "output_type": "display_data"
        }
      ],
      "source": [
        "import matplotlib.pyplot as plt\n",
        "import seaborn as sns\n",
        "from scipy.stats import spearmanr, rankdata\n",
        "notselectedattackbenmix_stats = []\n",
        "device_idx = {device: i for i, device in enumerate(devices)}\n",
        "for device in devices:\n",
        "  model = client_models[device_idx[device]]\n",
        "  model.eval()\n",
        "  threshold = thresholds[device]\n",
        "  labels = list(notselectedattackbenmix_labels)\n",
        "  y_true = []\n",
        "  y_pred = []\n",
        "  test_set = notselectedattackbenmix_loader\n",
        "  ind = 0\n",
        "  for batch in test_set:\n",
        "    for data in batch:\n",
        "      error = np.power(data.float().cpu().numpy() - model(data.float()).cpu().detach().numpy(), 2)\n",
        "      threshold_ranked = rankdata(threshold)\n",
        "      error_ranked = rankdata(error)\n",
        "      coeff, p = spearmanr(threshold_ranked, error_ranked)\n",
        "      if device[:-4] == labels[ind]:\n",
        "          y_true.append(1)\n",
        "          y_pred.append(1 if 0.75 <= coeff else 0)\n",
        "      else:\n",
        "          y_true.append(0)\n",
        "          y_pred.append(0 if 0.75 >= coeff else 1)\n",
        "      ind += 1\n",
        "  TP, FP, TN, FN = perf_measure(y_true, y_pred)\n",
        "  TP += 1\n",
        "  FN += 1\n",
        "  TN += 1\n",
        "  FP += 1\n",
        "  conf_matrix = [[TP, FN], [FP, TN]]\n",
        "  plt.figure() \n",
        "  sns.heatmap(conf_matrix, annot=True, fmt=\"d\")\n",
        "  plt.title(\"Confusion Matrix for Client \" + str(device) +\" with not trained attack dataframe\")\n",
        "  plt.xlabel(\"Predicted Label\")\n",
        "  plt.ylabel(\"True Label\")\n",
        "\n",
        "  acc = (TP+TN) / (TP+TN+FP+FN)\n",
        "  precision = TP/(TP+FP)\n",
        "  recall = TP/(TP+FN)\n",
        "  F1score = 2 * ((precision * recall) / (precision + recall))\n",
        "\n",
        "  TPR = round((TP / (TP+FN)), 6)\n",
        "  # print('TPR is: {}%'.format(TPR))\n",
        "\n",
        "  FPR = round((FP / (FP + TN)), 6)\n",
        "  # print('TPR is: {}%'.format(FPR))\n",
        "\n",
        "  notselectedattackbenmix_stats.append([str(\"Stats for Client \" + str(device) +\" with not trained attack dataframe\"),acc*100,precision,recall,F1score*100,TPR,FPR])\n",
        "\n",
        "#   [['TP', 'FN']\n",
        "#   ['FP', 'TN']]"
      ]
    },
    {
      "cell_type": "code",
      "execution_count": null,
      "metadata": {},
      "outputs": [
        {
          "name": "stdout",
          "output_type": "stream",
          "text": [
            "Title: Stats for Client Bot.csv with not trained attack dataframe\n",
            "Accuracy: 99.673735725938\n",
            "Precision: 0.5\n",
            "Recall: 0.5\n",
            "F1 score : 50.0\n",
            "TPR : 0.5\n",
            "FPR : 0.001637\n",
            "Title: Stats for Client DDOS attack-HOIC.csv with not trained attack dataframe\n",
            "Accuracy: 42.90375203915171\n",
            "Precision: 0.002857142857142857\n",
            "Recall: 0.5\n",
            "F1 score : 0.5681818181818181\n",
            "TPR : 0.5\n",
            "FPR : 0.571195\n",
            "Title: Stats for Client DDoS attacks-LOIC-HTTP.csv with not trained attack dataframe\n",
            "Accuracy: 26.42740619902121\n",
            "Precision: 0.0022172949002217295\n",
            "Recall: 0.5\n",
            "F1 score : 0.44150110375275936\n",
            "TPR : 0.5\n",
            "FPR : 0.736498\n",
            "Title: Stats for Client DoS attacks-Hulk.csv with not trained attack dataframe\n",
            "Accuracy: 99.673735725938\n",
            "Precision: 0.5\n",
            "Recall: 0.5\n",
            "F1 score : 50.0\n",
            "TPR : 0.5\n",
            "FPR : 0.001637\n",
            "Title: Stats for Client DoS attacks-SlowHTTPTest.csv with not trained attack dataframe\n",
            "Accuracy: 99.673735725938\n",
            "Precision: 0.5\n",
            "Recall: 0.5\n",
            "F1 score : 50.0\n",
            "TPR : 0.5\n",
            "FPR : 0.001637\n",
            "Title: Stats for Client FTP-BruteForce.csv with not trained attack dataframe\n",
            "Accuracy: 19.575856443719413\n",
            "Precision: 0.002028397565922921\n",
            "Recall: 0.5\n",
            "F1 score : 0.40404040404040403\n",
            "TPR : 0.5\n",
            "FPR : 0.805237\n",
            "Title: Stats for Client Infilteration.csv with not trained attack dataframe\n",
            "Accuracy: 26.916802610114193\n",
            "Precision: 0.002232142857142857\n",
            "Recall: 0.5\n",
            "F1 score : 0.44444444444444436\n",
            "TPR : 0.5\n",
            "FPR : 0.731588\n",
            "Title: Stats for Client SSH-Bruteforce.csv with not trained attack dataframe\n",
            "Accuracy: 36.378466557911906\n",
            "Precision: 0.002564102564102564\n",
            "Recall: 0.5\n",
            "F1 score : 0.5102040816326531\n",
            "TPR : 0.5\n",
            "FPR : 0.636661\n",
            "Title: Stats for Client Benign.csv with not trained attack dataframe\n",
            "Accuracy: 79.6084828711256\n",
            "Precision: 0.14\n",
            "Recall: 0.07865168539325842\n",
            "F1 score : 10.071942446043167\n",
            "TPR : 0.078652\n",
            "FPR : 0.082061\n"
          ]
        }
      ],
      "source": [
        "for i in notselectedattackbenmix_stats:\n",
        "    print(\"Title: \" + i[0])\n",
        "    print(\"Accuracy: \" + str(i[1]))\n",
        "    print(\"Precision: \" + str(i[2]))\n",
        "    print(\"Recall: \" + str(i[3]))\n",
        "    print(\"F1 score : \" + str(i[4]))\n",
        "    print(\"TPR : \" + str(i[5]))\n",
        "    print(\"FPR : \" + str(i[6]))"
      ]
    },
    {
      "cell_type": "code",
      "execution_count": null,
      "metadata": {},
      "outputs": [],
      "source": [
        "import matplotlib\n",
        "matplotlib.pyplot.close()"
      ]
    },
    {
      "attachments": {},
      "cell_type": "markdown",
      "metadata": {},
      "source": [
        "# Testing global model with equal number of all data (selected only) (not selected does not have threshold)"
      ]
    },
    {
      "cell_type": "code",
      "execution_count": null,
      "metadata": {},
      "outputs": [
        {
          "data": {
            "image/png": "[encoded data removed]",
            "text/plain": [
              "<Figure size 640x480 with 2 Axes>"
            ]
          },
          "metadata": {},
          "output_type": "display_data"
        }
      ],
      "source": [
        "import matplotlib.pyplot as plt\n",
        "import seaborn as sns\n",
        "selectedattackbenmix_stats_global = []\n",
        "device_idx = {device: i for i, device in enumerate(devices)}\n",
        "model = global_model\n",
        "model.eval()\n",
        "test_set = selectedattackbenmix_loader\n",
        "labels = list(selectedattackbenmix_labels)\n",
        "y_true = []\n",
        "y_pred = []\n",
        "ind = 0\n",
        "for batch in test_set:\n",
        "    for data in batch:\n",
        "        pred = model(data.float())\n",
        "        error = torch.mean((pred.float() - data.float())**2, dim=tuple(range(1,pred.ndim)))\n",
        "        label = labels[ind]\n",
        "        threshold = thresholds[label+str('.csv')]\n",
        "        if label == 'Benign':\n",
        "            threshold = max(thresholds.values())\n",
        "            y_true.append(0)\n",
        "            y_pred.append(0 if error >= threshold else 1)\n",
        "        else:\n",
        "            y_true.append(1)\n",
        "            y_pred.append(1 if error <= threshold else 0)\n",
        "        ind += 1\n",
        "TP, FP, TN, FN = perf_measure(y_true, y_pred)\n",
        "TP += 1\n",
        "FN += 1\n",
        "TN += 1\n",
        "FP += 1\n",
        "conf_matrix = [[TP, FN], [FP, TN]]\n",
        "plt.figure() \n",
        "sns.heatmap(conf_matrix, annot=True, fmt=\"d\")\n",
        "plt.title(\"Confusion Matrix for Global Model with trained attack dataframe\")\n",
        "plt.xlabel(\"Predicted Label\")\n",
        "plt.ylabel(\"True Label\")\n",
        "\n",
        "acc = (TP+TN) / (TP+TN+FP+FN)\n",
        "precision = TP/(TP+FP)\n",
        "recall = TP/(TP+FN)\n",
        "F1score = 2 * ((precision * recall) / (precision + recall))\n",
        "\n",
        "TPR = round((TP / (TP+FN)), 6)\n",
        "# print('TPR is: {}%'.format(TPR))\n",
        "\n",
        "FPR = round((FP / (FP + TN)), 6)\n",
        "# print('TPR is: {}%'.format(FPR))\n",
        "\n",
        "selectedattackbenmix_stats_global.append([str(\"Stats for Globel Model with trained attack dataframe\"), acc*100, precision, recall, F1score*100, TPR, FPR])\n",
        "\n",
        "#   [['TP', 'FN']\n",
        "#   ['FP', 'TN']]"
      ]
    },
    {
      "cell_type": "code",
      "execution_count": null,
      "metadata": {},
      "outputs": [
        {
          "name": "stdout",
          "output_type": "stream",
          "text": [
            "Title: Stats for Globel Model with trained attack dataframe\n",
            "Accuracy: 44.47469001377716\n",
            "Precision: 0.8010587739878482\n",
            "Recall: 0.49933751656208597\n",
            "F1 score : 61.519507819297615\n",
            "TPR : 0.499338\n",
            "FPR : 0.991902\n"
          ]
        }
      ],
      "source": [
        "for i in selectedattackbenmix_stats_global:\n",
        "    print(\"Title: \" + i[0])\n",
        "    print(\"Accuracy: \" + str(i[1]))\n",
        "    print(\"Precision: \" + str(i[2]))\n",
        "    print(\"Recall: \" + str(i[3]))\n",
        "    print(\"F1 score : \" + str(i[4]))\n",
        "    print(\"TPR : \" + str(i[5]))\n",
        "    print(\"FPR : \" + str(i[6]))"
      ]
    },
    {
      "cell_type": "code",
      "execution_count": null,
      "metadata": {},
      "outputs": [],
      "source": [
        "import matplotlib\n",
        "matplotlib.pyplot.close()"
      ]
    },
    {
      "cell_type": "code",
      "execution_count": null,
      "metadata": {},
      "outputs": [],
      "source": []
    }
  ],
  "metadata": {
    "colab": {
      "provenance": []
    },
    "kernelspec": {
      "display_name": "Python 3",
      "name": "python3"
    },
    "language_info": {
      "codemirror_mode": {
        "name": "ipython",
        "version": 3
      },
      "file_extension": ".py",
      "mimetype": "text/x-python",
      "name": "python",
      "nbconvert_exporter": "python",
      "pygments_lexer": "ipython3",
      "version": "3.10.0"
    }
  },
  "nbformat": 4,
  "nbformat_minor": 0
}
