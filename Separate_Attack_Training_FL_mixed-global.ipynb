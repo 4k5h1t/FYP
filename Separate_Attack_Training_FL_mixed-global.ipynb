{
  "cells": [
    {
      "attachments": {},
      "cell_type": "markdown",
      "metadata": {
        "id": "vjoXjjOj2Kaq"
      },
      "source": [
        "# Import Libraries/Packages & Datasets"
      ]
    },
    {
      "cell_type": "code",
      "execution_count": 2,
      "metadata": {
        "id": "eMvQwUpC2CyT"
      },
      "outputs": [],
      "source": [
        "import pandas as pd\n",
        "import numpy as np\n",
        "import seaborn as sns\n",
        "import matplotlib.pyplot as plt\n",
        "import random\n",
        "from tqdm import tqdm\n",
        "import time\n",
        "import copy\n",
        "\n",
        "from sklearn import preprocessing\n",
        "from sklearn.preprocessing import StandardScaler\n",
        "from sklearn.model_selection import train_test_split\n",
        "from sklearn.utils import shuffle\n",
        "\n",
        "import torch\n",
        "from torch import nn, optim\n",
        "import torch.nn.functional as F\n",
        "from torch.utils.data import Dataset, DataLoader\n",
        "\n",
        "torch.backends.cudnn.benchmark=True\n",
        "device = torch.device(\"cuda\" if torch.cuda.is_available() else \"cpu\")\n",
        "torch.cuda.manual_seed(5703)\n",
        "torch.manual_seed(5703)\n",
        "np.random.seed(5703)\n",
        "random.seed(5703)"
      ]
    },
    {
      "cell_type": "code",
      "execution_count": 3,
      "metadata": {
        "id": "Sb5nz59HHF7L"
      },
      "outputs": [],
      "source": [
        "#load data\n",
        "import os\n",
        "attackdata = {}\n",
        "os.chdir('C:/Final Year Project/idsattacks')\n",
        "for i in os.listdir():\n",
        "  if i != 'Benign.csv':\n",
        "    attackdata[i] = pd.read_csv(i)\n",
        "    attackdata[i].drop(['Dst Port', 'Timestamp', 'Flow Byts/s', 'Flow Pkts/s'], axis=1, inplace=True)\n"
      ]
    },
    {
      "cell_type": "code",
      "execution_count": 4,
      "metadata": {},
      "outputs": [
        {
          "name": "stdout",
          "output_type": "stream",
          "text": [
            "Bot.csv (286191, 76)\n",
            "Brute Force -Web.csv (611, 76)\n",
            "Brute Force -XSS.csv (230, 76)\n",
            "DDOS attack-HOIC.csv (686012, 76)\n",
            "DDOS attack-LOIC-UDP.csv (1730, 76)\n",
            "DDoS attacks-LOIC-HTTP.csv (576191, 76)\n",
            "DoS attacks-GoldenEye.csv (41508, 76)\n",
            "DoS attacks-Hulk.csv (461912, 76)\n",
            "DoS attacks-SlowHTTPTest.csv (139890, 76)\n",
            "DoS attacks-Slowloris.csv (10990, 76)\n",
            "FTP-BruteForce.csv (193354, 76)\n",
            "Infilteration.csv (160739, 76)\n",
            "SQL Injection.csv (87, 76)\n",
            "SSH-Bruteforce.csv (187589, 76)\n"
          ]
        }
      ],
      "source": [
        "for i in attackdata:\n",
        "    print(i, attackdata[i].shape)"
      ]
    },
    {
      "cell_type": "code",
      "execution_count": 5,
      "metadata": {
        "id": "U940RYEXDA9T"
      },
      "outputs": [
        {
          "name": "stdout",
          "output_type": "stream",
          "text": [
            "(2457307, 77)\n"
          ]
        }
      ],
      "source": [
        "bendata = pd.read_csv('C:/Final Year Project/idsattacks/Benign.csv')\n",
        "#bendata.drop(['Unnamed: 0'], axis=1, inplace=True)\n",
        "print(bendata.shape)"
      ]
    },
    {
      "cell_type": "code",
      "execution_count": 6,
      "metadata": {
        "id": "RMv1avXUIToj"
      },
      "outputs": [],
      "source": [
        "#checking for unwanted columns\n",
        "for i in attackdata:\n",
        "  for j in ['Flow ID', 'Src IP', 'Src Port', 'Dst IP']:\n",
        "    if j in attackdata[i].columns:\n",
        "      print(i + \" : \" + j)\n",
        "#attackdata[i].drop(['Flow ID', 'Src IP', 'Src Port', 'Dst IP'], axis=1, inplace=True)"
      ]
    },
    {
      "cell_type": "code",
      "execution_count": 7,
      "metadata": {
        "id": "JPkTI9NcDA9U"
      },
      "outputs": [
        {
          "name": "stdout",
          "output_type": "stream",
          "text": [
            "bendata : Unnamed: 0\n"
          ]
        }
      ],
      "source": [
        "for i in ['Unnamed: 0','Flow ID', 'Src IP', 'Src Port', 'Dst IP', 'Dst Port', 'Timestamp', 'Flow Byts/s', 'Flow Pkts/s']:\n",
        "    if i in bendata.columns:\n",
        "      print('bendata' + \" : \" + i)\n",
        "bendata.drop(['Unnamed: 0'],axis=1,inplace=True)"
      ]
    },
    {
      "cell_type": "code",
      "execution_count": 8,
      "metadata": {},
      "outputs": [
        {
          "name": "stdout",
          "output_type": "stream",
          "text": [
            "(2457307, 76)\n"
          ]
        }
      ],
      "source": [
        "print(bendata.shape)"
      ]
    },
    {
      "cell_type": "code",
      "execution_count": 9,
      "metadata": {},
      "outputs": [
        {
          "data": {
            "text/html": [
              "<div>\n",
              "<style scoped>\n",
              "    .dataframe tbody tr th:only-of-type {\n",
              "        vertical-align: middle;\n",
              "    }\n",
              "\n",
              "    .dataframe tbody tr th {\n",
              "        vertical-align: top;\n",
              "    }\n",
              "\n",
              "    .dataframe thead th {\n",
              "        text-align: right;\n",
              "    }\n",
              "</style>\n",
              "<table border=\"1\" class=\"dataframe\">\n",
              "  <thead>\n",
              "    <tr style=\"text-align: right;\">\n",
              "      <th></th>\n",
              "      <th>Protocol</th>\n",
              "      <th>Flow Duration</th>\n",
              "      <th>Tot Fwd Pkts</th>\n",
              "      <th>Tot Bwd Pkts</th>\n",
              "      <th>TotLen Fwd Pkts</th>\n",
              "      <th>TotLen Bwd Pkts</th>\n",
              "      <th>Fwd Pkt Len Max</th>\n",
              "      <th>Fwd Pkt Len Min</th>\n",
              "      <th>Fwd Pkt Len Mean</th>\n",
              "      <th>Fwd Pkt Len Std</th>\n",
              "      <th>...</th>\n",
              "      <th>Fwd Seg Size Min</th>\n",
              "      <th>Active Mean</th>\n",
              "      <th>Active Std</th>\n",
              "      <th>Active Max</th>\n",
              "      <th>Active Min</th>\n",
              "      <th>Idle Mean</th>\n",
              "      <th>Idle Std</th>\n",
              "      <th>Idle Max</th>\n",
              "      <th>Idle Min</th>\n",
              "      <th>Label</th>\n",
              "    </tr>\n",
              "  </thead>\n",
              "  <tbody>\n",
              "    <tr>\n",
              "      <th>0</th>\n",
              "      <td>6</td>\n",
              "      <td>16079</td>\n",
              "      <td>3</td>\n",
              "      <td>4</td>\n",
              "      <td>326.0</td>\n",
              "      <td>129.0</td>\n",
              "      <td>326.0</td>\n",
              "      <td>0.0</td>\n",
              "      <td>108.666667</td>\n",
              "      <td>188.216188</td>\n",
              "      <td>...</td>\n",
              "      <td>20</td>\n",
              "      <td>0.0</td>\n",
              "      <td>0.0</td>\n",
              "      <td>0.0</td>\n",
              "      <td>0.0</td>\n",
              "      <td>0.0</td>\n",
              "      <td>0.0</td>\n",
              "      <td>0.0</td>\n",
              "      <td>0.0</td>\n",
              "      <td>Bot</td>\n",
              "    </tr>\n",
              "    <tr>\n",
              "      <th>1</th>\n",
              "      <td>6</td>\n",
              "      <td>577</td>\n",
              "      <td>2</td>\n",
              "      <td>0</td>\n",
              "      <td>0.0</td>\n",
              "      <td>0.0</td>\n",
              "      <td>0.0</td>\n",
              "      <td>0.0</td>\n",
              "      <td>0.000000</td>\n",
              "      <td>0.000000</td>\n",
              "      <td>...</td>\n",
              "      <td>20</td>\n",
              "      <td>0.0</td>\n",
              "      <td>0.0</td>\n",
              "      <td>0.0</td>\n",
              "      <td>0.0</td>\n",
              "      <td>0.0</td>\n",
              "      <td>0.0</td>\n",
              "      <td>0.0</td>\n",
              "      <td>0.0</td>\n",
              "      <td>Bot</td>\n",
              "    </tr>\n",
              "    <tr>\n",
              "      <th>2</th>\n",
              "      <td>6</td>\n",
              "      <td>10279</td>\n",
              "      <td>3</td>\n",
              "      <td>4</td>\n",
              "      <td>326.0</td>\n",
              "      <td>129.0</td>\n",
              "      <td>326.0</td>\n",
              "      <td>0.0</td>\n",
              "      <td>108.666667</td>\n",
              "      <td>188.216188</td>\n",
              "      <td>...</td>\n",
              "      <td>20</td>\n",
              "      <td>0.0</td>\n",
              "      <td>0.0</td>\n",
              "      <td>0.0</td>\n",
              "      <td>0.0</td>\n",
              "      <td>0.0</td>\n",
              "      <td>0.0</td>\n",
              "      <td>0.0</td>\n",
              "      <td>0.0</td>\n",
              "      <td>Bot</td>\n",
              "    </tr>\n",
              "    <tr>\n",
              "      <th>3</th>\n",
              "      <td>6</td>\n",
              "      <td>457</td>\n",
              "      <td>2</td>\n",
              "      <td>0</td>\n",
              "      <td>0.0</td>\n",
              "      <td>0.0</td>\n",
              "      <td>0.0</td>\n",
              "      <td>0.0</td>\n",
              "      <td>0.000000</td>\n",
              "      <td>0.000000</td>\n",
              "      <td>...</td>\n",
              "      <td>20</td>\n",
              "      <td>0.0</td>\n",
              "      <td>0.0</td>\n",
              "      <td>0.0</td>\n",
              "      <td>0.0</td>\n",
              "      <td>0.0</td>\n",
              "      <td>0.0</td>\n",
              "      <td>0.0</td>\n",
              "      <td>0.0</td>\n",
              "      <td>Bot</td>\n",
              "    </tr>\n",
              "    <tr>\n",
              "      <th>4</th>\n",
              "      <td>6</td>\n",
              "      <td>10271</td>\n",
              "      <td>3</td>\n",
              "      <td>4</td>\n",
              "      <td>326.0</td>\n",
              "      <td>129.0</td>\n",
              "      <td>326.0</td>\n",
              "      <td>0.0</td>\n",
              "      <td>108.666667</td>\n",
              "      <td>188.216188</td>\n",
              "      <td>...</td>\n",
              "      <td>20</td>\n",
              "      <td>0.0</td>\n",
              "      <td>0.0</td>\n",
              "      <td>0.0</td>\n",
              "      <td>0.0</td>\n",
              "      <td>0.0</td>\n",
              "      <td>0.0</td>\n",
              "      <td>0.0</td>\n",
              "      <td>0.0</td>\n",
              "      <td>Bot</td>\n",
              "    </tr>\n",
              "    <tr>\n",
              "      <th>...</th>\n",
              "      <td>...</td>\n",
              "      <td>...</td>\n",
              "      <td>...</td>\n",
              "      <td>...</td>\n",
              "      <td>...</td>\n",
              "      <td>...</td>\n",
              "      <td>...</td>\n",
              "      <td>...</td>\n",
              "      <td>...</td>\n",
              "      <td>...</td>\n",
              "      <td>...</td>\n",
              "      <td>...</td>\n",
              "      <td>...</td>\n",
              "      <td>...</td>\n",
              "      <td>...</td>\n",
              "      <td>...</td>\n",
              "      <td>...</td>\n",
              "      <td>...</td>\n",
              "      <td>...</td>\n",
              "      <td>...</td>\n",
              "      <td>...</td>\n",
              "    </tr>\n",
              "    <tr>\n",
              "      <th>2457302</th>\n",
              "      <td>17</td>\n",
              "      <td>318</td>\n",
              "      <td>2</td>\n",
              "      <td>2</td>\n",
              "      <td>74.0</td>\n",
              "      <td>338.0</td>\n",
              "      <td>37.0</td>\n",
              "      <td>37.0</td>\n",
              "      <td>37.000000</td>\n",
              "      <td>0.000000</td>\n",
              "      <td>...</td>\n",
              "      <td>8</td>\n",
              "      <td>0.0</td>\n",
              "      <td>0.0</td>\n",
              "      <td>0.0</td>\n",
              "      <td>0.0</td>\n",
              "      <td>0.0</td>\n",
              "      <td>0.0</td>\n",
              "      <td>0.0</td>\n",
              "      <td>0.0</td>\n",
              "      <td>Benign</td>\n",
              "    </tr>\n",
              "    <tr>\n",
              "      <th>2457303</th>\n",
              "      <td>17</td>\n",
              "      <td>1131</td>\n",
              "      <td>1</td>\n",
              "      <td>1</td>\n",
              "      <td>61.0</td>\n",
              "      <td>122.0</td>\n",
              "      <td>61.0</td>\n",
              "      <td>61.0</td>\n",
              "      <td>61.000000</td>\n",
              "      <td>0.000000</td>\n",
              "      <td>...</td>\n",
              "      <td>8</td>\n",
              "      <td>0.0</td>\n",
              "      <td>0.0</td>\n",
              "      <td>0.0</td>\n",
              "      <td>0.0</td>\n",
              "      <td>0.0</td>\n",
              "      <td>0.0</td>\n",
              "      <td>0.0</td>\n",
              "      <td>0.0</td>\n",
              "      <td>Benign</td>\n",
              "    </tr>\n",
              "    <tr>\n",
              "      <th>2457304</th>\n",
              "      <td>17</td>\n",
              "      <td>1109</td>\n",
              "      <td>2</td>\n",
              "      <td>2</td>\n",
              "      <td>100.0</td>\n",
              "      <td>257.0</td>\n",
              "      <td>50.0</td>\n",
              "      <td>50.0</td>\n",
              "      <td>50.000000</td>\n",
              "      <td>0.000000</td>\n",
              "      <td>...</td>\n",
              "      <td>8</td>\n",
              "      <td>0.0</td>\n",
              "      <td>0.0</td>\n",
              "      <td>0.0</td>\n",
              "      <td>0.0</td>\n",
              "      <td>0.0</td>\n",
              "      <td>0.0</td>\n",
              "      <td>0.0</td>\n",
              "      <td>0.0</td>\n",
              "      <td>Benign</td>\n",
              "    </tr>\n",
              "    <tr>\n",
              "      <th>2457305</th>\n",
              "      <td>17</td>\n",
              "      <td>866</td>\n",
              "      <td>2</td>\n",
              "      <td>2</td>\n",
              "      <td>74.0</td>\n",
              "      <td>338.0</td>\n",
              "      <td>37.0</td>\n",
              "      <td>37.0</td>\n",
              "      <td>37.000000</td>\n",
              "      <td>0.000000</td>\n",
              "      <td>...</td>\n",
              "      <td>8</td>\n",
              "      <td>0.0</td>\n",
              "      <td>0.0</td>\n",
              "      <td>0.0</td>\n",
              "      <td>0.0</td>\n",
              "      <td>0.0</td>\n",
              "      <td>0.0</td>\n",
              "      <td>0.0</td>\n",
              "      <td>0.0</td>\n",
              "      <td>Benign</td>\n",
              "    </tr>\n",
              "    <tr>\n",
              "      <th>2457306</th>\n",
              "      <td>17</td>\n",
              "      <td>1382</td>\n",
              "      <td>1</td>\n",
              "      <td>1</td>\n",
              "      <td>48.0</td>\n",
              "      <td>109.0</td>\n",
              "      <td>48.0</td>\n",
              "      <td>48.0</td>\n",
              "      <td>48.000000</td>\n",
              "      <td>0.000000</td>\n",
              "      <td>...</td>\n",
              "      <td>8</td>\n",
              "      <td>0.0</td>\n",
              "      <td>0.0</td>\n",
              "      <td>0.0</td>\n",
              "      <td>0.0</td>\n",
              "      <td>0.0</td>\n",
              "      <td>0.0</td>\n",
              "      <td>0.0</td>\n",
              "      <td>0.0</td>\n",
              "      <td>Benign</td>\n",
              "    </tr>\n",
              "  </tbody>\n",
              "</table>\n",
              "<p>5204341 rows × 76 columns</p>\n",
              "</div>"
            ],
            "text/plain": [
              "         Protocol  Flow Duration  Tot Fwd Pkts  Tot Bwd Pkts  TotLen Fwd Pkts  \\\n",
              "0               6          16079             3             4            326.0   \n",
              "1               6            577             2             0              0.0   \n",
              "2               6          10279             3             4            326.0   \n",
              "3               6            457             2             0              0.0   \n",
              "4               6          10271             3             4            326.0   \n",
              "...           ...            ...           ...           ...              ...   \n",
              "2457302        17            318             2             2             74.0   \n",
              "2457303        17           1131             1             1             61.0   \n",
              "2457304        17           1109             2             2            100.0   \n",
              "2457305        17            866             2             2             74.0   \n",
              "2457306        17           1382             1             1             48.0   \n",
              "\n",
              "         TotLen Bwd Pkts  Fwd Pkt Len Max  Fwd Pkt Len Min  Fwd Pkt Len Mean  \\\n",
              "0                  129.0            326.0              0.0        108.666667   \n",
              "1                    0.0              0.0              0.0          0.000000   \n",
              "2                  129.0            326.0              0.0        108.666667   \n",
              "3                    0.0              0.0              0.0          0.000000   \n",
              "4                  129.0            326.0              0.0        108.666667   \n",
              "...                  ...              ...              ...               ...   \n",
              "2457302            338.0             37.0             37.0         37.000000   \n",
              "2457303            122.0             61.0             61.0         61.000000   \n",
              "2457304            257.0             50.0             50.0         50.000000   \n",
              "2457305            338.0             37.0             37.0         37.000000   \n",
              "2457306            109.0             48.0             48.0         48.000000   \n",
              "\n",
              "         Fwd Pkt Len Std  ...  Fwd Seg Size Min  Active Mean  Active Std  \\\n",
              "0             188.216188  ...                20          0.0         0.0   \n",
              "1               0.000000  ...                20          0.0         0.0   \n",
              "2             188.216188  ...                20          0.0         0.0   \n",
              "3               0.000000  ...                20          0.0         0.0   \n",
              "4             188.216188  ...                20          0.0         0.0   \n",
              "...                  ...  ...               ...          ...         ...   \n",
              "2457302         0.000000  ...                 8          0.0         0.0   \n",
              "2457303         0.000000  ...                 8          0.0         0.0   \n",
              "2457304         0.000000  ...                 8          0.0         0.0   \n",
              "2457305         0.000000  ...                 8          0.0         0.0   \n",
              "2457306         0.000000  ...                 8          0.0         0.0   \n",
              "\n",
              "         Active Max  Active Min  Idle Mean  Idle Std  Idle Max  Idle Min  \\\n",
              "0               0.0         0.0        0.0       0.0       0.0       0.0   \n",
              "1               0.0         0.0        0.0       0.0       0.0       0.0   \n",
              "2               0.0         0.0        0.0       0.0       0.0       0.0   \n",
              "3               0.0         0.0        0.0       0.0       0.0       0.0   \n",
              "4               0.0         0.0        0.0       0.0       0.0       0.0   \n",
              "...             ...         ...        ...       ...       ...       ...   \n",
              "2457302         0.0         0.0        0.0       0.0       0.0       0.0   \n",
              "2457303         0.0         0.0        0.0       0.0       0.0       0.0   \n",
              "2457304         0.0         0.0        0.0       0.0       0.0       0.0   \n",
              "2457305         0.0         0.0        0.0       0.0       0.0       0.0   \n",
              "2457306         0.0         0.0        0.0       0.0       0.0       0.0   \n",
              "\n",
              "          Label  \n",
              "0           Bot  \n",
              "1           Bot  \n",
              "2           Bot  \n",
              "3           Bot  \n",
              "4           Bot  \n",
              "...         ...  \n",
              "2457302  Benign  \n",
              "2457303  Benign  \n",
              "2457304  Benign  \n",
              "2457305  Benign  \n",
              "2457306  Benign  \n",
              "\n",
              "[5204341 rows x 76 columns]"
            ]
          },
          "execution_count": 9,
          "metadata": {},
          "output_type": "execute_result"
        }
      ],
      "source": [
        "#full data combined\n",
        "fulldata = pd.DataFrame()\n",
        "for i in attackdata:\n",
        "    fulldata = pd.concat([fulldata, attackdata[i]], axis=0)\n",
        "fulldata = pd.concat([fulldata, bendata], axis=0)\n",
        "fulldata"
      ]
    },
    {
      "cell_type": "code",
      "execution_count": 10,
      "metadata": {},
      "outputs": [
        {
          "data": {
            "text/plain": [
              "['Protocol',\n",
              " 'Flow Duration',\n",
              " 'Tot Fwd Pkts',\n",
              " 'Tot Bwd Pkts',\n",
              " 'TotLen Fwd Pkts',\n",
              " 'TotLen Bwd Pkts',\n",
              " 'Fwd Pkt Len Max',\n",
              " 'Fwd Pkt Len Min',\n",
              " 'Fwd Pkt Len Mean',\n",
              " 'Fwd Pkt Len Std',\n",
              " 'Bwd Pkt Len Max',\n",
              " 'Bwd Pkt Len Min',\n",
              " 'Bwd Pkt Len Mean',\n",
              " 'Bwd Pkt Len Std',\n",
              " 'Flow IAT Mean',\n",
              " 'Flow IAT Std',\n",
              " 'Flow IAT Max',\n",
              " 'Flow IAT Min',\n",
              " 'Fwd IAT Tot',\n",
              " 'Fwd IAT Mean',\n",
              " 'Fwd IAT Std',\n",
              " 'Fwd IAT Max',\n",
              " 'Fwd IAT Min',\n",
              " 'Bwd IAT Tot',\n",
              " 'Bwd IAT Mean',\n",
              " 'Bwd IAT Std',\n",
              " 'Bwd IAT Max',\n",
              " 'Bwd IAT Min',\n",
              " 'Fwd PSH Flags',\n",
              " 'Bwd PSH Flags',\n",
              " 'Fwd URG Flags',\n",
              " 'Bwd URG Flags',\n",
              " 'Fwd Header Len',\n",
              " 'Bwd Header Len',\n",
              " 'Fwd Pkts/s',\n",
              " 'Bwd Pkts/s',\n",
              " 'Pkt Len Min',\n",
              " 'Pkt Len Max',\n",
              " 'Pkt Len Mean',\n",
              " 'Pkt Len Std',\n",
              " 'Pkt Len Var',\n",
              " 'FIN Flag Cnt',\n",
              " 'SYN Flag Cnt',\n",
              " 'RST Flag Cnt',\n",
              " 'PSH Flag Cnt',\n",
              " 'ACK Flag Cnt',\n",
              " 'URG Flag Cnt',\n",
              " 'CWE Flag Count',\n",
              " 'ECE Flag Cnt',\n",
              " 'Down/Up Ratio',\n",
              " 'Pkt Size Avg',\n",
              " 'Fwd Seg Size Avg',\n",
              " 'Bwd Seg Size Avg',\n",
              " 'Fwd Byts/b Avg',\n",
              " 'Fwd Pkts/b Avg',\n",
              " 'Fwd Blk Rate Avg',\n",
              " 'Bwd Byts/b Avg',\n",
              " 'Bwd Pkts/b Avg',\n",
              " 'Bwd Blk Rate Avg',\n",
              " 'Subflow Fwd Pkts',\n",
              " 'Subflow Fwd Byts',\n",
              " 'Subflow Bwd Pkts',\n",
              " 'Subflow Bwd Byts',\n",
              " 'Init Fwd Win Byts',\n",
              " 'Init Bwd Win Byts',\n",
              " 'Fwd Act Data Pkts',\n",
              " 'Fwd Seg Size Min',\n",
              " 'Active Mean',\n",
              " 'Active Std',\n",
              " 'Active Max',\n",
              " 'Active Min',\n",
              " 'Idle Mean',\n",
              " 'Idle Std',\n",
              " 'Idle Max',\n",
              " 'Idle Min']"
            ]
          },
          "execution_count": 10,
          "metadata": {},
          "output_type": "execute_result"
        }
      ],
      "source": [
        "#storing columns\n",
        "fulldatacols = list(fulldata.columns)\n",
        "fulldatacols.remove('Label')\n",
        "fulldatacols"
      ]
    },
    {
      "cell_type": "code",
      "execution_count": 11,
      "metadata": {},
      "outputs": [],
      "source": [
        "#fulldata labels\n",
        "fulldatalabels = fulldata['Label']\n",
        "fulldata.drop(['Label'], axis=1, inplace=True)"
      ]
    },
    {
      "cell_type": "code",
      "execution_count": 12,
      "metadata": {},
      "outputs": [
        {
          "data": {
            "text/plain": [
              "pandas.core.series.Series"
            ]
          },
          "execution_count": 12,
          "metadata": {},
          "output_type": "execute_result"
        }
      ],
      "source": [
        "type(fulldatalabels)"
      ]
    },
    {
      "cell_type": "code",
      "execution_count": 13,
      "metadata": {},
      "outputs": [],
      "source": [
        "#scaling data\n",
        "scaler = StandardScaler()\n",
        "fulldata = scaler.fit_transform(fulldata)"
      ]
    },
    {
      "cell_type": "code",
      "execution_count": 14,
      "metadata": {},
      "outputs": [],
      "source": [
        "fulldata = pd.DataFrame(fulldata, columns=fulldatacols)"
      ]
    },
    {
      "cell_type": "code",
      "execution_count": 15,
      "metadata": {},
      "outputs": [
        {
          "data": {
            "text/html": [
              "<div>\n",
              "<style scoped>\n",
              "    .dataframe tbody tr th:only-of-type {\n",
              "        vertical-align: middle;\n",
              "    }\n",
              "\n",
              "    .dataframe tbody tr th {\n",
              "        vertical-align: top;\n",
              "    }\n",
              "\n",
              "    .dataframe thead th {\n",
              "        text-align: right;\n",
              "    }\n",
              "</style>\n",
              "<table border=\"1\" class=\"dataframe\">\n",
              "  <thead>\n",
              "    <tr style=\"text-align: right;\">\n",
              "      <th></th>\n",
              "      <th>Protocol</th>\n",
              "      <th>Flow Duration</th>\n",
              "      <th>Tot Fwd Pkts</th>\n",
              "      <th>Tot Bwd Pkts</th>\n",
              "      <th>TotLen Fwd Pkts</th>\n",
              "      <th>TotLen Bwd Pkts</th>\n",
              "      <th>Fwd Pkt Len Max</th>\n",
              "      <th>Fwd Pkt Len Min</th>\n",
              "      <th>Fwd Pkt Len Mean</th>\n",
              "      <th>Fwd Pkt Len Std</th>\n",
              "      <th>...</th>\n",
              "      <th>Fwd Act Data Pkts</th>\n",
              "      <th>Fwd Seg Size Min</th>\n",
              "      <th>Active Mean</th>\n",
              "      <th>Active Std</th>\n",
              "      <th>Active Max</th>\n",
              "      <th>Active Min</th>\n",
              "      <th>Idle Mean</th>\n",
              "      <th>Idle Std</th>\n",
              "      <th>Idle Max</th>\n",
              "      <th>Idle Min</th>\n",
              "    </tr>\n",
              "  </thead>\n",
              "  <tbody>\n",
              "    <tr>\n",
              "      <th>0</th>\n",
              "      <td>-0.964372</td>\n",
              "      <td>-0.201171</td>\n",
              "      <td>-0.020599</td>\n",
              "      <td>0.223021</td>\n",
              "      <td>-0.018262</td>\n",
              "      <td>-0.010154</td>\n",
              "      <td>2.204220</td>\n",
              "      <td>-0.908249</td>\n",
              "      <td>2.487549</td>\n",
              "      <td>3.319083</td>\n",
              "      <td>...</td>\n",
              "      <td>-0.020755</td>\n",
              "      <td>0.276783</td>\n",
              "      <td>-0.026816</td>\n",
              "      <td>-0.017742</td>\n",
              "      <td>-0.027417</td>\n",
              "      <td>-0.023571</td>\n",
              "      <td>-0.203215</td>\n",
              "      <td>-0.037831</td>\n",
              "      <td>-0.203415</td>\n",
              "      <td>-0.201341</td>\n",
              "    </tr>\n",
              "    <tr>\n",
              "      <th>1</th>\n",
              "      <td>-0.964372</td>\n",
              "      <td>-0.202712</td>\n",
              "      <td>-0.020972</td>\n",
              "      <td>-0.158994</td>\n",
              "      <td>-0.022048</td>\n",
              "      <td>-0.019729</td>\n",
              "      <td>-0.482145</td>\n",
              "      <td>-0.908249</td>\n",
              "      <td>-0.932596</td>\n",
              "      <td>-0.330332</td>\n",
              "      <td>...</td>\n",
              "      <td>-0.021128</td>\n",
              "      <td>0.276783</td>\n",
              "      <td>-0.026816</td>\n",
              "      <td>-0.017742</td>\n",
              "      <td>-0.027417</td>\n",
              "      <td>-0.023571</td>\n",
              "      <td>-0.203215</td>\n",
              "      <td>-0.037831</td>\n",
              "      <td>-0.203415</td>\n",
              "      <td>-0.201341</td>\n",
              "    </tr>\n",
              "    <tr>\n",
              "      <th>2</th>\n",
              "      <td>-0.964372</td>\n",
              "      <td>-0.201747</td>\n",
              "      <td>-0.020599</td>\n",
              "      <td>0.223021</td>\n",
              "      <td>-0.018262</td>\n",
              "      <td>-0.010154</td>\n",
              "      <td>2.204220</td>\n",
              "      <td>-0.908249</td>\n",
              "      <td>2.487549</td>\n",
              "      <td>3.319083</td>\n",
              "      <td>...</td>\n",
              "      <td>-0.020755</td>\n",
              "      <td>0.276783</td>\n",
              "      <td>-0.026816</td>\n",
              "      <td>-0.017742</td>\n",
              "      <td>-0.027417</td>\n",
              "      <td>-0.023571</td>\n",
              "      <td>-0.203215</td>\n",
              "      <td>-0.037831</td>\n",
              "      <td>-0.203415</td>\n",
              "      <td>-0.201341</td>\n",
              "    </tr>\n",
              "    <tr>\n",
              "      <th>3</th>\n",
              "      <td>-0.964372</td>\n",
              "      <td>-0.202724</td>\n",
              "      <td>-0.020972</td>\n",
              "      <td>-0.158994</td>\n",
              "      <td>-0.022048</td>\n",
              "      <td>-0.019729</td>\n",
              "      <td>-0.482145</td>\n",
              "      <td>-0.908249</td>\n",
              "      <td>-0.932596</td>\n",
              "      <td>-0.330332</td>\n",
              "      <td>...</td>\n",
              "      <td>-0.021128</td>\n",
              "      <td>0.276783</td>\n",
              "      <td>-0.026816</td>\n",
              "      <td>-0.017742</td>\n",
              "      <td>-0.027417</td>\n",
              "      <td>-0.023571</td>\n",
              "      <td>-0.203215</td>\n",
              "      <td>-0.037831</td>\n",
              "      <td>-0.203415</td>\n",
              "      <td>-0.201341</td>\n",
              "    </tr>\n",
              "    <tr>\n",
              "      <th>4</th>\n",
              "      <td>-0.964372</td>\n",
              "      <td>-0.201748</td>\n",
              "      <td>-0.020599</td>\n",
              "      <td>0.223021</td>\n",
              "      <td>-0.018262</td>\n",
              "      <td>-0.010154</td>\n",
              "      <td>2.204220</td>\n",
              "      <td>-0.908249</td>\n",
              "      <td>2.487549</td>\n",
              "      <td>3.319083</td>\n",
              "      <td>...</td>\n",
              "      <td>-0.020755</td>\n",
              "      <td>0.276783</td>\n",
              "      <td>-0.026816</td>\n",
              "      <td>-0.017742</td>\n",
              "      <td>-0.027417</td>\n",
              "      <td>-0.023571</td>\n",
              "      <td>-0.203215</td>\n",
              "      <td>-0.037831</td>\n",
              "      <td>-0.203415</td>\n",
              "      <td>-0.201341</td>\n",
              "    </tr>\n",
              "    <tr>\n",
              "      <th>...</th>\n",
              "      <td>...</td>\n",
              "      <td>...</td>\n",
              "      <td>...</td>\n",
              "      <td>...</td>\n",
              "      <td>...</td>\n",
              "      <td>...</td>\n",
              "      <td>...</td>\n",
              "      <td>...</td>\n",
              "      <td>...</td>\n",
              "      <td>...</td>\n",
              "      <td>...</td>\n",
              "      <td>...</td>\n",
              "      <td>...</td>\n",
              "      <td>...</td>\n",
              "      <td>...</td>\n",
              "      <td>...</td>\n",
              "      <td>...</td>\n",
              "      <td>...</td>\n",
              "      <td>...</td>\n",
              "      <td>...</td>\n",
              "      <td>...</td>\n",
              "    </tr>\n",
              "    <tr>\n",
              "      <th>5204336</th>\n",
              "      <td>1.035242</td>\n",
              "      <td>-0.202738</td>\n",
              "      <td>-0.020972</td>\n",
              "      <td>0.032013</td>\n",
              "      <td>-0.021189</td>\n",
              "      <td>0.005360</td>\n",
              "      <td>-0.177251</td>\n",
              "      <td>0.805428</td>\n",
              "      <td>0.231932</td>\n",
              "      <td>-0.330332</td>\n",
              "      <td>...</td>\n",
              "      <td>-0.020755</td>\n",
              "      <td>-0.883533</td>\n",
              "      <td>-0.026816</td>\n",
              "      <td>-0.017742</td>\n",
              "      <td>-0.027417</td>\n",
              "      <td>-0.023571</td>\n",
              "      <td>-0.203215</td>\n",
              "      <td>-0.037831</td>\n",
              "      <td>-0.203415</td>\n",
              "      <td>-0.201341</td>\n",
              "    </tr>\n",
              "    <tr>\n",
              "      <th>5204337</th>\n",
              "      <td>1.035242</td>\n",
              "      <td>-0.202657</td>\n",
              "      <td>-0.021344</td>\n",
              "      <td>-0.063490</td>\n",
              "      <td>-0.021340</td>\n",
              "      <td>-0.010673</td>\n",
              "      <td>0.020519</td>\n",
              "      <td>1.917002</td>\n",
              "      <td>0.987302</td>\n",
              "      <td>-0.330332</td>\n",
              "      <td>...</td>\n",
              "      <td>-0.021128</td>\n",
              "      <td>-0.883533</td>\n",
              "      <td>-0.026816</td>\n",
              "      <td>-0.017742</td>\n",
              "      <td>-0.027417</td>\n",
              "      <td>-0.023571</td>\n",
              "      <td>-0.203215</td>\n",
              "      <td>-0.037831</td>\n",
              "      <td>-0.203415</td>\n",
              "      <td>-0.201341</td>\n",
              "    </tr>\n",
              "    <tr>\n",
              "      <th>5204338</th>\n",
              "      <td>1.035242</td>\n",
              "      <td>-0.202659</td>\n",
              "      <td>-0.020972</td>\n",
              "      <td>0.032013</td>\n",
              "      <td>-0.020887</td>\n",
              "      <td>-0.000653</td>\n",
              "      <td>-0.070126</td>\n",
              "      <td>1.407530</td>\n",
              "      <td>0.641091</td>\n",
              "      <td>-0.330332</td>\n",
              "      <td>...</td>\n",
              "      <td>-0.020755</td>\n",
              "      <td>-0.883533</td>\n",
              "      <td>-0.026816</td>\n",
              "      <td>-0.017742</td>\n",
              "      <td>-0.027417</td>\n",
              "      <td>-0.023571</td>\n",
              "      <td>-0.203215</td>\n",
              "      <td>-0.037831</td>\n",
              "      <td>-0.203415</td>\n",
              "      <td>-0.201341</td>\n",
              "    </tr>\n",
              "    <tr>\n",
              "      <th>5204339</th>\n",
              "      <td>1.035242</td>\n",
              "      <td>-0.202683</td>\n",
              "      <td>-0.020972</td>\n",
              "      <td>0.032013</td>\n",
              "      <td>-0.021189</td>\n",
              "      <td>0.005360</td>\n",
              "      <td>-0.177251</td>\n",
              "      <td>0.805428</td>\n",
              "      <td>0.231932</td>\n",
              "      <td>-0.330332</td>\n",
              "      <td>...</td>\n",
              "      <td>-0.020755</td>\n",
              "      <td>-0.883533</td>\n",
              "      <td>-0.026816</td>\n",
              "      <td>-0.017742</td>\n",
              "      <td>-0.027417</td>\n",
              "      <td>-0.023571</td>\n",
              "      <td>-0.203215</td>\n",
              "      <td>-0.037831</td>\n",
              "      <td>-0.203415</td>\n",
              "      <td>-0.201341</td>\n",
              "    </tr>\n",
              "    <tr>\n",
              "      <th>5204340</th>\n",
              "      <td>1.035242</td>\n",
              "      <td>-0.202632</td>\n",
              "      <td>-0.021344</td>\n",
              "      <td>-0.063490</td>\n",
              "      <td>-0.021491</td>\n",
              "      <td>-0.011638</td>\n",
              "      <td>-0.086606</td>\n",
              "      <td>1.314899</td>\n",
              "      <td>0.578143</td>\n",
              "      <td>-0.330332</td>\n",
              "      <td>...</td>\n",
              "      <td>-0.021128</td>\n",
              "      <td>-0.883533</td>\n",
              "      <td>-0.026816</td>\n",
              "      <td>-0.017742</td>\n",
              "      <td>-0.027417</td>\n",
              "      <td>-0.023571</td>\n",
              "      <td>-0.203215</td>\n",
              "      <td>-0.037831</td>\n",
              "      <td>-0.203415</td>\n",
              "      <td>-0.201341</td>\n",
              "    </tr>\n",
              "  </tbody>\n",
              "</table>\n",
              "<p>5204341 rows × 75 columns</p>\n",
              "</div>"
            ],
            "text/plain": [
              "         Protocol  Flow Duration  Tot Fwd Pkts  Tot Bwd Pkts  TotLen Fwd Pkts  \\\n",
              "0       -0.964372      -0.201171     -0.020599      0.223021        -0.018262   \n",
              "1       -0.964372      -0.202712     -0.020972     -0.158994        -0.022048   \n",
              "2       -0.964372      -0.201747     -0.020599      0.223021        -0.018262   \n",
              "3       -0.964372      -0.202724     -0.020972     -0.158994        -0.022048   \n",
              "4       -0.964372      -0.201748     -0.020599      0.223021        -0.018262   \n",
              "...           ...            ...           ...           ...              ...   \n",
              "5204336  1.035242      -0.202738     -0.020972      0.032013        -0.021189   \n",
              "5204337  1.035242      -0.202657     -0.021344     -0.063490        -0.021340   \n",
              "5204338  1.035242      -0.202659     -0.020972      0.032013        -0.020887   \n",
              "5204339  1.035242      -0.202683     -0.020972      0.032013        -0.021189   \n",
              "5204340  1.035242      -0.202632     -0.021344     -0.063490        -0.021491   \n",
              "\n",
              "         TotLen Bwd Pkts  Fwd Pkt Len Max  Fwd Pkt Len Min  Fwd Pkt Len Mean  \\\n",
              "0              -0.010154         2.204220        -0.908249          2.487549   \n",
              "1              -0.019729        -0.482145        -0.908249         -0.932596   \n",
              "2              -0.010154         2.204220        -0.908249          2.487549   \n",
              "3              -0.019729        -0.482145        -0.908249         -0.932596   \n",
              "4              -0.010154         2.204220        -0.908249          2.487549   \n",
              "...                  ...              ...              ...               ...   \n",
              "5204336         0.005360        -0.177251         0.805428          0.231932   \n",
              "5204337        -0.010673         0.020519         1.917002          0.987302   \n",
              "5204338        -0.000653        -0.070126         1.407530          0.641091   \n",
              "5204339         0.005360        -0.177251         0.805428          0.231932   \n",
              "5204340        -0.011638        -0.086606         1.314899          0.578143   \n",
              "\n",
              "         Fwd Pkt Len Std  ...  Fwd Act Data Pkts  Fwd Seg Size Min  \\\n",
              "0               3.319083  ...          -0.020755          0.276783   \n",
              "1              -0.330332  ...          -0.021128          0.276783   \n",
              "2               3.319083  ...          -0.020755          0.276783   \n",
              "3              -0.330332  ...          -0.021128          0.276783   \n",
              "4               3.319083  ...          -0.020755          0.276783   \n",
              "...                  ...  ...                ...               ...   \n",
              "5204336        -0.330332  ...          -0.020755         -0.883533   \n",
              "5204337        -0.330332  ...          -0.021128         -0.883533   \n",
              "5204338        -0.330332  ...          -0.020755         -0.883533   \n",
              "5204339        -0.330332  ...          -0.020755         -0.883533   \n",
              "5204340        -0.330332  ...          -0.021128         -0.883533   \n",
              "\n",
              "         Active Mean  Active Std  Active Max  Active Min  Idle Mean  Idle Std  \\\n",
              "0          -0.026816   -0.017742   -0.027417   -0.023571  -0.203215 -0.037831   \n",
              "1          -0.026816   -0.017742   -0.027417   -0.023571  -0.203215 -0.037831   \n",
              "2          -0.026816   -0.017742   -0.027417   -0.023571  -0.203215 -0.037831   \n",
              "3          -0.026816   -0.017742   -0.027417   -0.023571  -0.203215 -0.037831   \n",
              "4          -0.026816   -0.017742   -0.027417   -0.023571  -0.203215 -0.037831   \n",
              "...              ...         ...         ...         ...        ...       ...   \n",
              "5204336    -0.026816   -0.017742   -0.027417   -0.023571  -0.203215 -0.037831   \n",
              "5204337    -0.026816   -0.017742   -0.027417   -0.023571  -0.203215 -0.037831   \n",
              "5204338    -0.026816   -0.017742   -0.027417   -0.023571  -0.203215 -0.037831   \n",
              "5204339    -0.026816   -0.017742   -0.027417   -0.023571  -0.203215 -0.037831   \n",
              "5204340    -0.026816   -0.017742   -0.027417   -0.023571  -0.203215 -0.037831   \n",
              "\n",
              "         Idle Max  Idle Min  \n",
              "0       -0.203415 -0.201341  \n",
              "1       -0.203415 -0.201341  \n",
              "2       -0.203415 -0.201341  \n",
              "3       -0.203415 -0.201341  \n",
              "4       -0.203415 -0.201341  \n",
              "...           ...       ...  \n",
              "5204336 -0.203415 -0.201341  \n",
              "5204337 -0.203415 -0.201341  \n",
              "5204338 -0.203415 -0.201341  \n",
              "5204339 -0.203415 -0.201341  \n",
              "5204340 -0.203415 -0.201341  \n",
              "\n",
              "[5204341 rows x 75 columns]"
            ]
          },
          "execution_count": 15,
          "metadata": {},
          "output_type": "execute_result"
        }
      ],
      "source": [
        "fulldata"
      ]
    },
    {
      "cell_type": "code",
      "execution_count": 16,
      "metadata": {},
      "outputs": [],
      "source": [
        "fulldata.reset_index(inplace=True, drop=True)\n",
        "fulldatalabels.reset_index(inplace=True, drop=True)"
      ]
    },
    {
      "cell_type": "code",
      "execution_count": 17,
      "metadata": {},
      "outputs": [],
      "source": [
        "fulldata = pd.concat([fulldata, fulldatalabels], axis=1)\n",
        "for i in attackdata:\n",
        "    attackdata[i] = fulldata[fulldata['Label'] == i[:-4]]\n",
        "bendata = fulldata[fulldata['Label'] == 'Benign']"
      ]
    },
    {
      "cell_type": "code",
      "execution_count": 18,
      "metadata": {},
      "outputs": [],
      "source": [
        "del fulldata"
      ]
    },
    {
      "cell_type": "code",
      "execution_count": 19,
      "metadata": {},
      "outputs": [
        {
          "name": "stdout",
          "output_type": "stream",
          "text": [
            "Bot.csv\n",
            "DDOS attack-HOIC.csv\n",
            "DDoS attacks-LOIC-HTTP.csv\n",
            "DoS attacks-Hulk.csv\n",
            "DoS attacks-SlowHTTPTest.csv\n",
            "FTP-BruteForce.csv\n",
            "Infilteration.csv\n",
            "SSH-Bruteforce.csv\n"
          ]
        }
      ],
      "source": [
        "attbenmixdata = {}\n",
        "mixbendata = bendata[:int(bendata.shape[0]*0.05)]\n",
        "for i in attackdata:\n",
        "  if attackdata[i].shape[0] > 100000:\n",
        "    print(i)\n",
        "    attbenmixdata[i] = pd.concat([attackdata[i][:int(attackdata[i].shape[0]*0.7)], mixbendata], axis=0)\n",
        "    attbenmixdata[i] = attbenmixdata[i].sample(frac=1).reset_index(drop=True)"
      ]
    },
    {
      "cell_type": "code",
      "execution_count": 20,
      "metadata": {},
      "outputs": [
        {
          "name": "stdout",
          "output_type": "stream",
          "text": [
            "Bot.csv : (323198, 76)\n",
            "Label\n",
            "Bot       200333\n",
            "Benign    122865\n",
            "Name: count, dtype: int64\n",
            "DDOS attack-HOIC.csv : (603073, 76)\n",
            "Label\n",
            "DDOS attack-HOIC    480208\n",
            "Benign              122865\n",
            "Name: count, dtype: int64\n",
            "DDoS attacks-LOIC-HTTP.csv : (526198, 76)\n",
            "Label\n",
            "DDoS attacks-LOIC-HTTP    403333\n",
            "Benign                    122865\n",
            "Name: count, dtype: int64\n",
            "DoS attacks-Hulk.csv : (446203, 76)\n",
            "Label\n",
            "DoS attacks-Hulk    323338\n",
            "Benign              122865\n",
            "Name: count, dtype: int64\n",
            "DoS attacks-SlowHTTPTest.csv : (220788, 76)\n",
            "Label\n",
            "Benign                      122865\n",
            "DoS attacks-SlowHTTPTest     97923\n",
            "Name: count, dtype: int64\n",
            "FTP-BruteForce.csv : (258212, 76)\n",
            "Label\n",
            "FTP-BruteForce    135347\n",
            "Benign            122865\n",
            "Name: count, dtype: int64\n",
            "Infilteration.csv : (235382, 76)\n",
            "Label\n",
            "Benign           122865\n",
            "Infilteration    112517\n",
            "Name: count, dtype: int64\n",
            "SSH-Bruteforce.csv : (254177, 76)\n",
            "Label\n",
            "SSH-Bruteforce    131312\n",
            "Benign            122865\n",
            "Name: count, dtype: int64\n"
          ]
        }
      ],
      "source": [
        "for i in attbenmixdata:\n",
        "  print(i + \" : \" + str(attbenmixdata[i].shape))\n",
        "  print(attbenmixdata[i]['Label'].value_counts())"
      ]
    },
    {
      "cell_type": "code",
      "execution_count": 21,
      "metadata": {},
      "outputs": [],
      "source": [
        "attbenmixdatalabels = {}\n",
        "for i in attbenmixdata:\n",
        "  attbenmixdatalabels[i] = attbenmixdata[i]['Label']\n",
        "  attbenmixdata[i].drop(['Label'], axis=1, inplace=True)"
      ]
    },
    {
      "cell_type": "code",
      "execution_count": 22,
      "metadata": {},
      "outputs": [],
      "source": [
        "#find minimum length for selecting equal number of samples from each class\n",
        "set_len = []\n",
        "not_set_len = []\n",
        "for i in attackdata:\n",
        "    if attackdata[i].shape[0] > 100000:\n",
        "        set_len.append(attackdata[i].shape[0])\n",
        "    else:\n",
        "        not_set_len.append(attackdata[i].shape[0])\n",
        "set_len = min(set_len)\n",
        "not_set_len = min(not_set_len)"
      ]
    },
    {
      "cell_type": "code",
      "execution_count": 23,
      "metadata": {},
      "outputs": [],
      "source": [
        "#combine all attack data and get equal number of data from each attack \n",
        "selectedattackbenmix = pd.DataFrame()\n",
        "notselectedattackbenmix = pd.DataFrame()\n",
        "for i in attackdata:\n",
        "    if attackdata[i].shape[0] > 100000:\n",
        "        selectedattackbenmix = pd.concat([selectedattackbenmix, attackdata[i][:set_len]], axis=0)\n",
        "    else:\n",
        "        notselectedattackbenmix = pd.concat([notselectedattackbenmix, attackdata[i][:not_set_len]], axis=0)"
      ]
    },
    {
      "cell_type": "code",
      "execution_count": 24,
      "metadata": {},
      "outputs": [
        {
          "name": "stdout",
          "output_type": "stream",
          "text": [
            "Label\n",
            "Bot                         139890\n",
            "DDOS attack-HOIC            139890\n",
            "DDoS attacks-LOIC-HTTP      139890\n",
            "DoS attacks-Hulk            139890\n",
            "DoS attacks-SlowHTTPTest    139890\n",
            "FTP-BruteForce              139890\n",
            "Infilteration               139890\n",
            "SSH-Bruteforce              139890\n",
            "Benign                      139890\n",
            "Name: count, dtype: int64\n",
            "Label\n",
            "Brute Force -Web         87\n",
            "Brute Force -XSS         87\n",
            "DDOS attack-LOIC-UDP     87\n",
            "DoS attacks-GoldenEye    87\n",
            "DoS attacks-Slowloris    87\n",
            "SQL Injection            87\n",
            "Benign                   87\n",
            "Name: count, dtype: int64\n"
          ]
        }
      ],
      "source": [
        "#combine selected and not selected attack data with benign data\n",
        "selectedattackbenmix = pd.concat([selectedattackbenmix, bendata[:set_len]], axis=0)\n",
        "notselectedattackbenmix = pd.concat([notselectedattackbenmix, bendata[:not_set_len]], axis=0)\n",
        "print(selectedattackbenmix['Label'].value_counts())\n",
        "print(notselectedattackbenmix['Label'].value_counts())"
      ]
    },
    {
      "cell_type": "code",
      "execution_count": 25,
      "metadata": {
        "id": "wDYta4F9DA9Z"
      },
      "outputs": [
        {
          "name": "stdout",
          "output_type": "stream",
          "text": [
            "bendata : (2457307, 76)\n"
          ]
        }
      ],
      "source": [
        "print('bendata' + \" : \" + str(bendata.shape))"
      ]
    },
    {
      "cell_type": "code",
      "execution_count": 26,
      "metadata": {
        "id": "dwj97zQuI-VU",
        "outputId": "bb607b8b-6632-4908-9f16-5aef8711db8d"
      },
      "outputs": [
        {
          "data": {
            "text/plain": [
              "14"
            ]
          },
          "execution_count": 26,
          "metadata": {},
          "output_type": "execute_result"
        }
      ],
      "source": [
        "len(attackdata)"
      ]
    },
    {
      "cell_type": "code",
      "execution_count": 27,
      "metadata": {},
      "outputs": [],
      "source": [
        "for i in attackdata:\n",
        "  attackdata[i].drop(['Label'], axis=1, inplace=True)\n",
        "bendata.drop(['Label'], axis=1, inplace=True)"
      ]
    },
    {
      "cell_type": "code",
      "execution_count": 28,
      "metadata": {
        "id": "-QiC8hkiJKf4",
        "outputId": "cb62f840-ac5a-4ed6-9807-1f5bfd529658"
      },
      "outputs": [
        {
          "name": "stdout",
          "output_type": "stream",
          "text": [
            "Bot.csv : (286191, 75)\n",
            "Brute Force -Web.csv : (611, 75)\n",
            "Brute Force -XSS.csv : (230, 75)\n",
            "DDOS attack-HOIC.csv : (686012, 75)\n",
            "DDOS attack-LOIC-UDP.csv : (1730, 75)\n",
            "DDoS attacks-LOIC-HTTP.csv : (576191, 75)\n",
            "DoS attacks-GoldenEye.csv : (41508, 75)\n",
            "DoS attacks-Hulk.csv : (461912, 75)\n",
            "DoS attacks-SlowHTTPTest.csv : (139890, 75)\n",
            "DoS attacks-Slowloris.csv : (10990, 75)\n",
            "FTP-BruteForce.csv : (193354, 75)\n",
            "Infilteration.csv : (160739, 75)\n",
            "SQL Injection.csv : (87, 75)\n",
            "SSH-Bruteforce.csv : (187589, 75)\n"
          ]
        }
      ],
      "source": [
        "#printing the shapes of the data\n",
        "for i in attackdata:\n",
        "  print(i + \" : \" + str(attackdata[i].shape))"
      ]
    },
    {
      "cell_type": "code",
      "execution_count": 29,
      "metadata": {},
      "outputs": [],
      "source": [
        "for i in attackdata:\n",
        "    attackdata[i] = attackdata[i].to_numpy()"
      ]
    },
    {
      "cell_type": "code",
      "execution_count": 30,
      "metadata": {
        "id": "LCBO3J8zgdgJ"
      },
      "outputs": [],
      "source": [
        "#loading data into pytorch dataloader as train and test\n",
        "devices = []\n",
        "batch_size = 128\n",
        "train_loader = {}\n",
        "test_loader = {}\n",
        "for i in attackdata:\n",
        "  if attackdata[i].shape[0] > 100000:\n",
        "    train_loader[i] = torch.utils.data.DataLoader(attackdata[i][:int(attackdata[i].shape[0]*0.9)], batch_size = batch_size, shuffle=True)\n",
        "    test_loader[i] = torch.utils.data.DataLoader(attackdata[i][int(attackdata[i].shape[0]*0.9):], batch_size = batch_size, shuffle=True)\n",
        "    devices.append(i)"
      ]
    },
    {
      "cell_type": "code",
      "execution_count": 31,
      "metadata": {},
      "outputs": [
        {
          "name": "stdout",
          "output_type": "stream",
          "text": [
            "224\n",
            "536\n",
            "451\n",
            "361\n",
            "110\n",
            "152\n",
            "126\n",
            "147\n"
          ]
        }
      ],
      "source": [
        "for i in attackdata:\n",
        "  if attackdata[i].shape[0] > 100000:\n",
        "    print(len(test_loader[i]))"
      ]
    },
    {
      "cell_type": "code",
      "execution_count": 32,
      "metadata": {},
      "outputs": [],
      "source": [
        "bendata = bendata.to_numpy()"
      ]
    },
    {
      "cell_type": "code",
      "execution_count": 33,
      "metadata": {
        "id": "B3TCx-WgDA9a"
      },
      "outputs": [],
      "source": [
        "ben_loader = torch.utils.data.DataLoader(bendata[int(bendata.shape[0]*0.9):], batch_size = batch_size, shuffle=True)"
      ]
    },
    {
      "cell_type": "code",
      "execution_count": 34,
      "metadata": {},
      "outputs": [],
      "source": [
        "for i in attbenmixdata:\n",
        "    attbenmixdata[i] = attbenmixdata[i].to_numpy()"
      ]
    },
    {
      "cell_type": "code",
      "execution_count": 35,
      "metadata": {},
      "outputs": [],
      "source": [
        "attbenmixdata_loader = {}\n",
        "for i in attbenmixdata:\n",
        "    attbenmixdata_loader[i] = torch.utils.data.DataLoader(attbenmixdata[i], batch_size = batch_size, shuffle=True)"
      ]
    },
    {
      "cell_type": "code",
      "execution_count": 36,
      "metadata": {},
      "outputs": [],
      "source": [
        "selectedattackbenmix = selectedattackbenmix.to_numpy()\n",
        "notselectedattackbenmix = notselectedattackbenmix.to_numpy()"
      ]
    },
    {
      "cell_type": "code",
      "execution_count": 37,
      "metadata": {},
      "outputs": [],
      "source": [
        "selectedattackbenmix_loader = torch.utils.data.DataLoader(selectedattackbenmix, batch_size = batch_size, shuffle=True)\n",
        "notselectedattackbenmix_loader = torch.utils.data.DataLoader(notselectedattackbenmix, batch_size = batch_size, shuffle=True)"
      ]
    },
    {
      "cell_type": "code",
      "execution_count": 38,
      "metadata": {
        "id": "deSST083Kesa",
        "outputId": "e8ff9610-7059-4c54-b405-cdf13271fca8"
      },
      "outputs": [],
      "source": [
        "train_loader['Benign.csv'] = ben_loader"
      ]
    },
    {
      "cell_type": "code",
      "execution_count": 39,
      "metadata": {},
      "outputs": [],
      "source": [
        "devices.append('Benign.csv')"
      ]
    },
    {
      "cell_type": "code",
      "execution_count": 40,
      "metadata": {},
      "outputs": [
        {
          "data": {
            "text/plain": [
              "9"
            ]
          },
          "execution_count": 40,
          "metadata": {},
          "output_type": "execute_result"
        }
      ],
      "source": [
        "len(train_loader)"
      ]
    },
    {
      "cell_type": "code",
      "execution_count": 41,
      "metadata": {
        "id": "R7qV9yUoWfUg",
        "outputId": "85e3c27b-8c1c-4034-f7c8-d9877b4beb87"
      },
      "outputs": [
        {
          "data": {
            "text/plain": [
              "9"
            ]
          },
          "execution_count": 41,
          "metadata": {},
          "output_type": "execute_result"
        }
      ],
      "source": [
        "len(devices)"
      ]
    },
    {
      "cell_type": "code",
      "execution_count": 42,
      "metadata": {
        "id": "XAsJUgfC5IuY"
      },
      "outputs": [],
      "source": [
        "#initialising config variables\n",
        "num_clients = len(train_loader)      # Number of clients\n",
        "num_selected = len(train_loader)    # Typically, num_selected is around 30–40% of the num_clients.\n",
        "#baseline_num = 1000  # choose some data from the train set to retrain the data from trained model\n",
        "num_rounds = 10  #100      # Total number of communication rounds for the global model to train.\n",
        "epochs = 50          # for train client model\n",
        "#retrain_epochs = 3  # Total number of retraining rounds on the global server after receiving the model weights\n",
        "                      # from all the clients that participated in the communication round."
      ]
    },
    {
      "attachments": {},
      "cell_type": "markdown",
      "metadata": {
        "id": "uF4N6pX57Bmo"
      },
      "source": [
        "## FedAvg / FedAvgM"
      ]
    },
    {
      "cell_type": "code",
      "execution_count": 43,
      "metadata": {
        "id": "GEhJPuT5633Z"
      },
      "outputs": [],
      "source": [
        "# aggregates the model weights received from every client\n",
        "# and updates the global model with updated weights\n",
        "\n",
        "# FedAvg\n",
        "def server_aggregate(global_model, client_models, client_lens):\n",
        "    total = sum(client_lens)\n",
        "    n = len(client_models)\n",
        "    # n = num_selected\n",
        "    global_dict = global_model.state_dict()\n",
        "    for k in global_dict.keys(): # calculate average weight/bias --> avg_w/b\n",
        "        global_dict[k] -= torch.stack([client_models[i].state_dict()[k].float() * (n * client_lens[i] / total) for i in range(len(client_models))], 0).mean(0)\n",
        "    global_model.load_state_dict(global_dict)\n",
        "    for model in client_models:\n",
        "        model.load_state_dict(global_model.state_dict()) # local model get updated weight/bias\n",
        "\n",
        "# FedAvgM\n",
        "def server_aggregate_M(global_model, client_models, client_lens):\n",
        "    total = sum(client_lens)    # 592    sum [51, 122, 162, 257]\n",
        "    n = len(client_models)      # 4 local clients\n",
        "    global_dict = global_model.state_dict() # weight/bias dict --> {'encoder.0.weight': Tensor with shape torch.Size([86, 115]), 'encoder.0.bias':....} 16 items\n",
        "    temp = copy.deepcopy(global_dict)       # temporary weight/bias dict\n",
        "    v = {x:1 for x in copy.deepcopy(global_dict)}   # initialise v\n",
        "\n",
        "    for i,k in enumerate(global_dict.keys()):\n",
        "        # calculate average weight/bias --> avg_w/b\n",
        "        temp[k] = torch.stack([client_models[i].state_dict()[k].float() * (n * client_lens[i] / total) for i in range(len(client_models))], 0).mean(0)\n",
        "        temp_v = 0.9 * v[k] + temp[k]               # v = 0.9v + avg_w/b   momentum=0.9\n",
        "        global_dict[k] = global_dict[k] - temp_v    # w = w - v\n",
        "    global_model.load_state_dict(global_dict)\n",
        "\n",
        "    for model in client_models:\n",
        "        model.load_state_dict(global_model.state_dict()) # local model get updated weight/bias\n",
        "\n"
      ]
    },
    {
      "cell_type": "code",
      "execution_count": 44,
      "metadata": {
        "id": "iqaFf_cS5Ifg"
      },
      "outputs": [],
      "source": [
        "# for updates/trains client model on client data\n",
        "# local training round that takes place for every selected client\n",
        "\n",
        "def client_update(client_model, optimizer, train_data, epoch=3):\n",
        "    client_model.train()\n",
        "    for e in range(epoch):\n",
        "        running_loss = 0.0\n",
        "        for data in train_data:\n",
        "          output = client_model(data.float()) # tensor 115\n",
        "          optimizer.zero_grad()\n",
        "          # criterion = nn.MSELoss(reduction='mean')\n",
        "          # loss = criterion(data.to(device), output)\n",
        "          loss = nn.MSELoss(reduction='mean')(data.float().to(device), output)\n",
        "          loss.backward()\n",
        "          optimizer.step()\n",
        "          # print(loss.item())\n",
        "          running_loss += loss.item()\n",
        "        # print(running_loss)\n",
        "        epoch_loss = running_loss/len(train_data)\n",
        "        # metrics['train_loss'].append(epoch_loss)\n",
        "    return epoch_loss\n",
        "    # return loss.item()\n",
        "\n",
        "\n",
        "\n",
        "# synchronizes the client model with global weights (before training)\n",
        "\n",
        "def client_syn(client_model, global_model):\n",
        "    client_model.load_state_dict(global_model.state_dict())\n"
      ]
    },
    {
      "attachments": {},
      "cell_type": "markdown",
      "metadata": {
        "id": "sPE5Fx5I7HZM"
      },
      "source": [
        "## Deep Auto-encoder Model"
      ]
    },
    {
      "cell_type": "code",
      "execution_count": 45,
      "metadata": {
        "id": "QkVroa1V5IjN"
      },
      "outputs": [],
      "source": [
        "# Deep Auto-encoder model\n",
        "\n",
        "input_dim = 75\n",
        "class AEModel(nn.Module):\n",
        "    def __init__(self, input_dim):\n",
        "        super(AEModel, self).__init__()\n",
        "        self.fc1 = nn.Linear(input_dim, input_dim)\n",
        "        #self.bn1 = nn.BatchNorm1d(input_dim)\n",
        "        self.fc2 = nn.Linear(input_dim, 32)\n",
        "        #self.bn2 = nn.BatchNorm1d(32)\n",
        "        self.fc3 = nn.Linear(32, 16)\n",
        "        #self.bn3 = nn.BatchNorm1d(16)\n",
        "        self.fc4 = nn.Linear(16, 8)\n",
        "        #self.bn4 = nn.BatchNorm1d(8)\n",
        "        self.fc5 = nn.Linear(8, 8)\n",
        "        #self.bn5 = nn.BatchNorm1d(8)\n",
        "        self.fc6 = nn.Linear(8, 16)\n",
        "        #self.bn6 = nn.BatchNorm1d(16)\n",
        "        self.fc7 = nn.Linear(16, 32)\n",
        "        #self.bn7 = nn.BatchNorm1d(32)\n",
        "        self.fc8 = nn.Linear(32, input_dim)\n",
        "        #self.bn8 = nn.BatchNorm1d(input_dim)\n",
        "        self.fc9 = nn.Linear(input_dim, input_dim)\n",
        "        self.activation = nn.Tanh()\n",
        "\n",
        "        # Initialize weights using He initialization with Tanh\n",
        "        nn.init.kaiming_normal_(self.fc1.weight, nonlinearity='relu')\n",
        "        nn.init.kaiming_normal_(self.fc2.weight, nonlinearity='relu')\n",
        "        nn.init.kaiming_normal_(self.fc3.weight, nonlinearity='relu')\n",
        "        nn.init.kaiming_normal_(self.fc4.weight, nonlinearity='relu')\n",
        "        nn.init.kaiming_normal_(self.fc5.weight, nonlinearity='relu')\n",
        "        nn.init.kaiming_normal_(self.fc6.weight, nonlinearity='relu')\n",
        "        nn.init.kaiming_normal_(self.fc7.weight, nonlinearity='relu')\n",
        "        nn.init.kaiming_normal_(self.fc8.weight, nonlinearity='relu')\n",
        "        nn.init.kaiming_normal_(self.fc9.weight, nonlinearity='relu')\n",
        "\n",
        "    def forward(self, x):\n",
        "        x = self.fc1(x)\n",
        "        #x = self.bn1(x)\n",
        "        x = self.activation(x)\n",
        "        x = self.fc2(x)\n",
        "        #x = self.bn2(x)\n",
        "        x = self.activation(x)\n",
        "        x = self.fc3(x)\n",
        "        #x = self.bn3(x)\n",
        "        x = self.activation(x)\n",
        "        x = self.fc4(x)\n",
        "        #x = self.bn4(x)\n",
        "        x = self.activation(x)\n",
        "        x = self.fc5(x)\n",
        "        #x = self.bn5(x)\n",
        "        x = self.activation(x)\n",
        "        x = self.fc6(x)\n",
        "        #x = self.bn6(x)\n",
        "        x = self.activation(x)\n",
        "        x = self.fc7(x)\n",
        "        #x = self.bn7(x)\n",
        "        x = self.activation(x)\n",
        "        x = self.fc8(x)\n",
        "        #x = self.bn8(x)\n",
        "        x = self.activation(x)\n",
        "        x = self.fc9(x)\n",
        "        return x"
      ]
    },
    {
      "attachments": {},
      "cell_type": "markdown",
      "metadata": {
        "id": "aAX3Z0BI8JDQ"
      },
      "source": [
        "## Initialisation"
      ]
    },
    {
      "cell_type": "code",
      "execution_count": 46,
      "metadata": {
        "id": "ZDbfUGGW63zk"
      },
      "outputs": [],
      "source": [
        "# Initializing models and optimizer\n",
        "\n",
        "global_model = AEModel(input_dim).to(device)\n",
        "client_models = [AEModel(input_dim).to(device) for _ in range(num_selected)] # part or all clients\n",
        "# print(client_models)\n",
        "for model in client_models:\n",
        "    model.load_state_dict(global_model.state_dict())\n",
        "\n",
        "# method_env = {'lr': (0.012, 0.012, 0.012, 0.0005)}\n",
        "opt = [torch.optim.SGD(model.parameters(), lr = 0.012, weight_decay=1e-05, momentum=0.9) for model in client_models]\n",
        "# lr_list = [0.012, 0.012, 0.012, 0.00005]\n",
        "# # opt = [torch.optim.SGD(model.parameters(), lr = lr_list[client_models.index(model)], weight_decay=1e-05, momentum=0.9) for model in client_models]\n",
        "# opt = [torch.optim.Adam(model.parameters(), lr = lr_list[client_models.index(model)], weight_decay=1e-05) for model in client_models]\n",
        "# opt = [torch.optim.Adam(model.parameters(), lr = 0.012, weight_decay=1e-05) for model in client_models]"
      ]
    },
    {
      "attachments": {},
      "cell_type": "markdown",
      "metadata": {
        "id": "YuOW_VP89i7j"
      },
      "source": [
        "# Training Federated Model"
      ]
    },
    {
      "cell_type": "code",
      "execution_count": 47,
      "metadata": {
        "id": "rT-jMXex63t8",
        "outputId": "dcce896e-cf42-49da-b608-95868864b0a7"
      },
      "outputs": [
        {
          "name": "stdout",
          "output_type": "stream",
          "text": [
            "\n",
            "round:  1\n",
            "client_idx:  [0, 1, 2, 3, 4, 5, 6, 7, 8]\n"
          ]
        },
        {
          "name": "stderr",
          "output_type": "stream",
          "text": [
            "  0%|          | 0/8 [02:41<?, ?it/s]\n"
          ]
        },
        {
          "ename": "KeyboardInterrupt",
          "evalue": "",
          "output_type": "error",
          "traceback": [
            "\u001b[1;31m---------------------------------------------------------------------------\u001b[0m",
            "\u001b[1;31mKeyboardInterrupt\u001b[0m                         Traceback (most recent call last)",
            "\u001b[1;32mc:\\Final Year Project\\Separate_Attack_Training_FL_mixed-perfect.ipynb Cell 51\u001b[0m line \u001b[0;36m2\n\u001b[0;32m     <a href='vscode-notebook-cell:/c%3A/Final%20Year%20Project/Separate_Attack_Training_FL_mixed-perfect.ipynb#Y101sZmlsZQ%3D%3D?line=24'>25</a>\u001b[0m client_syn(client_models[i], global_model)\n\u001b[0;32m     <a href='vscode-notebook-cell:/c%3A/Final%20Year%20Project/Separate_Attack_Training_FL_mixed-perfect.ipynb#Y101sZmlsZQ%3D%3D?line=25'>26</a>\u001b[0m \u001b[39m# print(train_loader[devices[client_idx[i]]])\u001b[39;00m\n\u001b[1;32m---> <a href='vscode-notebook-cell:/c%3A/Final%20Year%20Project/Separate_Attack_Training_FL_mixed-perfect.ipynb#Y101sZmlsZQ%3D%3D?line=26'>27</a>\u001b[0m l \u001b[39m=\u001b[39m client_update(client_models[i], opt[i], train_loader[devices[client_idx[i]]], epochs)\n\u001b[0;32m     <a href='vscode-notebook-cell:/c%3A/Final%20Year%20Project/Separate_Attack_Training_FL_mixed-perfect.ipynb#Y101sZmlsZQ%3D%3D?line=27'>28</a>\u001b[0m train_loss_per_client[i]\u001b[39m.\u001b[39mappend(l)\n\u001b[0;32m     <a href='vscode-notebook-cell:/c%3A/Final%20Year%20Project/Separate_Attack_Training_FL_mixed-perfect.ipynb#Y101sZmlsZQ%3D%3D?line=28'>29</a>\u001b[0m loss \u001b[39m+\u001b[39m\u001b[39m=\u001b[39m l\n",
            "\u001b[1;32mc:\\Final Year Project\\Separate_Attack_Training_FL_mixed-perfect.ipynb Cell 51\u001b[0m line \u001b[0;36m9\n\u001b[0;32m      <a href='vscode-notebook-cell:/c%3A/Final%20Year%20Project/Separate_Attack_Training_FL_mixed-perfect.ipynb#Y101sZmlsZQ%3D%3D?line=6'>7</a>\u001b[0m running_loss \u001b[39m=\u001b[39m \u001b[39m0.0\u001b[39m\n\u001b[0;32m      <a href='vscode-notebook-cell:/c%3A/Final%20Year%20Project/Separate_Attack_Training_FL_mixed-perfect.ipynb#Y101sZmlsZQ%3D%3D?line=7'>8</a>\u001b[0m \u001b[39mfor\u001b[39;00m data \u001b[39min\u001b[39;00m train_data:\n\u001b[1;32m----> <a href='vscode-notebook-cell:/c%3A/Final%20Year%20Project/Separate_Attack_Training_FL_mixed-perfect.ipynb#Y101sZmlsZQ%3D%3D?line=8'>9</a>\u001b[0m   output \u001b[39m=\u001b[39m client_model(data\u001b[39m.\u001b[39;49mfloat()) \u001b[39m# tensor 115\u001b[39;00m\n\u001b[0;32m     <a href='vscode-notebook-cell:/c%3A/Final%20Year%20Project/Separate_Attack_Training_FL_mixed-perfect.ipynb#Y101sZmlsZQ%3D%3D?line=9'>10</a>\u001b[0m   optimizer\u001b[39m.\u001b[39mzero_grad()\n\u001b[0;32m     <a href='vscode-notebook-cell:/c%3A/Final%20Year%20Project/Separate_Attack_Training_FL_mixed-perfect.ipynb#Y101sZmlsZQ%3D%3D?line=10'>11</a>\u001b[0m   \u001b[39m# criterion = nn.MSELoss(reduction='mean')\u001b[39;00m\n\u001b[0;32m     <a href='vscode-notebook-cell:/c%3A/Final%20Year%20Project/Separate_Attack_Training_FL_mixed-perfect.ipynb#Y101sZmlsZQ%3D%3D?line=11'>12</a>\u001b[0m   \u001b[39m# loss = criterion(data.to(device), output)\u001b[39;00m\n",
            "File \u001b[1;32mc:\\Users\\amenu4aie20110\\AppData\\Local\\Programs\\Python\\Python310\\lib\\site-packages\\torch\\nn\\modules\\module.py:1518\u001b[0m, in \u001b[0;36mModule._wrapped_call_impl\u001b[1;34m(self, *args, **kwargs)\u001b[0m\n\u001b[0;32m   1516\u001b[0m     \u001b[39mreturn\u001b[39;00m \u001b[39mself\u001b[39m\u001b[39m.\u001b[39m_compiled_call_impl(\u001b[39m*\u001b[39margs, \u001b[39m*\u001b[39m\u001b[39m*\u001b[39mkwargs)  \u001b[39m# type: ignore[misc]\u001b[39;00m\n\u001b[0;32m   1517\u001b[0m \u001b[39melse\u001b[39;00m:\n\u001b[1;32m-> 1518\u001b[0m     \u001b[39mreturn\u001b[39;00m \u001b[39mself\u001b[39m\u001b[39m.\u001b[39m_call_impl(\u001b[39m*\u001b[39margs, \u001b[39m*\u001b[39m\u001b[39m*\u001b[39mkwargs)\n",
            "File \u001b[1;32mc:\\Users\\amenu4aie20110\\AppData\\Local\\Programs\\Python\\Python310\\lib\\site-packages\\torch\\nn\\modules\\module.py:1527\u001b[0m, in \u001b[0;36mModule._call_impl\u001b[1;34m(self, *args, **kwargs)\u001b[0m\n\u001b[0;32m   1522\u001b[0m \u001b[39m# If we don't have any hooks, we want to skip the rest of the logic in\u001b[39;00m\n\u001b[0;32m   1523\u001b[0m \u001b[39m# this function, and just call forward.\u001b[39;00m\n\u001b[0;32m   1524\u001b[0m \u001b[39mif\u001b[39;00m \u001b[39mnot\u001b[39;00m (\u001b[39mself\u001b[39m\u001b[39m.\u001b[39m_backward_hooks \u001b[39mor\u001b[39;00m \u001b[39mself\u001b[39m\u001b[39m.\u001b[39m_backward_pre_hooks \u001b[39mor\u001b[39;00m \u001b[39mself\u001b[39m\u001b[39m.\u001b[39m_forward_hooks \u001b[39mor\u001b[39;00m \u001b[39mself\u001b[39m\u001b[39m.\u001b[39m_forward_pre_hooks\n\u001b[0;32m   1525\u001b[0m         \u001b[39mor\u001b[39;00m _global_backward_pre_hooks \u001b[39mor\u001b[39;00m _global_backward_hooks\n\u001b[0;32m   1526\u001b[0m         \u001b[39mor\u001b[39;00m _global_forward_hooks \u001b[39mor\u001b[39;00m _global_forward_pre_hooks):\n\u001b[1;32m-> 1527\u001b[0m     \u001b[39mreturn\u001b[39;00m forward_call(\u001b[39m*\u001b[39margs, \u001b[39m*\u001b[39m\u001b[39m*\u001b[39mkwargs)\n\u001b[0;32m   1529\u001b[0m \u001b[39mtry\u001b[39;00m:\n\u001b[0;32m   1530\u001b[0m     result \u001b[39m=\u001b[39m \u001b[39mNone\u001b[39;00m\n",
            "\u001b[1;32mc:\\Final Year Project\\Separate_Attack_Training_FL_mixed-perfect.ipynb Cell 51\u001b[0m line \u001b[0;36m5\n\u001b[0;32m     <a href='vscode-notebook-cell:/c%3A/Final%20Year%20Project/Separate_Attack_Training_FL_mixed-perfect.ipynb#Y101sZmlsZQ%3D%3D?line=50'>51</a>\u001b[0m \u001b[39m#x = self.bn5(x)\u001b[39;00m\n\u001b[0;32m     <a href='vscode-notebook-cell:/c%3A/Final%20Year%20Project/Separate_Attack_Training_FL_mixed-perfect.ipynb#Y101sZmlsZQ%3D%3D?line=51'>52</a>\u001b[0m x \u001b[39m=\u001b[39m \u001b[39mself\u001b[39m\u001b[39m.\u001b[39mactivation(x)\n\u001b[1;32m---> <a href='vscode-notebook-cell:/c%3A/Final%20Year%20Project/Separate_Attack_Training_FL_mixed-perfect.ipynb#Y101sZmlsZQ%3D%3D?line=52'>53</a>\u001b[0m x \u001b[39m=\u001b[39m \u001b[39mself\u001b[39;49m\u001b[39m.\u001b[39;49mfc6(x)\n\u001b[0;32m     <a href='vscode-notebook-cell:/c%3A/Final%20Year%20Project/Separate_Attack_Training_FL_mixed-perfect.ipynb#Y101sZmlsZQ%3D%3D?line=53'>54</a>\u001b[0m \u001b[39m#x = self.bn6(x)\u001b[39;00m\n\u001b[0;32m     <a href='vscode-notebook-cell:/c%3A/Final%20Year%20Project/Separate_Attack_Training_FL_mixed-perfect.ipynb#Y101sZmlsZQ%3D%3D?line=54'>55</a>\u001b[0m x \u001b[39m=\u001b[39m \u001b[39mself\u001b[39m\u001b[39m.\u001b[39mactivation(x)\n",
            "File \u001b[1;32mc:\\Users\\amenu4aie20110\\AppData\\Local\\Programs\\Python\\Python310\\lib\\site-packages\\torch\\nn\\modules\\module.py:1518\u001b[0m, in \u001b[0;36mModule._wrapped_call_impl\u001b[1;34m(self, *args, **kwargs)\u001b[0m\n\u001b[0;32m   1516\u001b[0m     \u001b[39mreturn\u001b[39;00m \u001b[39mself\u001b[39m\u001b[39m.\u001b[39m_compiled_call_impl(\u001b[39m*\u001b[39margs, \u001b[39m*\u001b[39m\u001b[39m*\u001b[39mkwargs)  \u001b[39m# type: ignore[misc]\u001b[39;00m\n\u001b[0;32m   1517\u001b[0m \u001b[39melse\u001b[39;00m:\n\u001b[1;32m-> 1518\u001b[0m     \u001b[39mreturn\u001b[39;00m \u001b[39mself\u001b[39m\u001b[39m.\u001b[39m_call_impl(\u001b[39m*\u001b[39margs, \u001b[39m*\u001b[39m\u001b[39m*\u001b[39mkwargs)\n",
            "File \u001b[1;32mc:\\Users\\amenu4aie20110\\AppData\\Local\\Programs\\Python\\Python310\\lib\\site-packages\\torch\\nn\\modules\\module.py:1527\u001b[0m, in \u001b[0;36mModule._call_impl\u001b[1;34m(self, *args, **kwargs)\u001b[0m\n\u001b[0;32m   1522\u001b[0m \u001b[39m# If we don't have any hooks, we want to skip the rest of the logic in\u001b[39;00m\n\u001b[0;32m   1523\u001b[0m \u001b[39m# this function, and just call forward.\u001b[39;00m\n\u001b[0;32m   1524\u001b[0m \u001b[39mif\u001b[39;00m \u001b[39mnot\u001b[39;00m (\u001b[39mself\u001b[39m\u001b[39m.\u001b[39m_backward_hooks \u001b[39mor\u001b[39;00m \u001b[39mself\u001b[39m\u001b[39m.\u001b[39m_backward_pre_hooks \u001b[39mor\u001b[39;00m \u001b[39mself\u001b[39m\u001b[39m.\u001b[39m_forward_hooks \u001b[39mor\u001b[39;00m \u001b[39mself\u001b[39m\u001b[39m.\u001b[39m_forward_pre_hooks\n\u001b[0;32m   1525\u001b[0m         \u001b[39mor\u001b[39;00m _global_backward_pre_hooks \u001b[39mor\u001b[39;00m _global_backward_hooks\n\u001b[0;32m   1526\u001b[0m         \u001b[39mor\u001b[39;00m _global_forward_hooks \u001b[39mor\u001b[39;00m _global_forward_pre_hooks):\n\u001b[1;32m-> 1527\u001b[0m     \u001b[39mreturn\u001b[39;00m forward_call(\u001b[39m*\u001b[39margs, \u001b[39m*\u001b[39m\u001b[39m*\u001b[39mkwargs)\n\u001b[0;32m   1529\u001b[0m \u001b[39mtry\u001b[39;00m:\n\u001b[0;32m   1530\u001b[0m     result \u001b[39m=\u001b[39m \u001b[39mNone\u001b[39;00m\n",
            "File \u001b[1;32mc:\\Users\\amenu4aie20110\\AppData\\Local\\Programs\\Python\\Python310\\lib\\site-packages\\torch\\nn\\modules\\linear.py:114\u001b[0m, in \u001b[0;36mLinear.forward\u001b[1;34m(self, input)\u001b[0m\n\u001b[0;32m    113\u001b[0m \u001b[39mdef\u001b[39;00m \u001b[39mforward\u001b[39m(\u001b[39mself\u001b[39m, \u001b[39minput\u001b[39m: Tensor) \u001b[39m-\u001b[39m\u001b[39m>\u001b[39m Tensor:\n\u001b[1;32m--> 114\u001b[0m     \u001b[39mreturn\u001b[39;00m F\u001b[39m.\u001b[39;49mlinear(\u001b[39minput\u001b[39;49m, \u001b[39mself\u001b[39;49m\u001b[39m.\u001b[39;49mweight, \u001b[39mself\u001b[39;49m\u001b[39m.\u001b[39;49mbias)\n",
            "\u001b[1;31mKeyboardInterrupt\u001b[0m: "
          ]
        }
      ],
      "source": [
        "\n",
        "'''\n",
        "# Train Client Model and Global Model\n",
        "train_loss_client = []\n",
        "train_loss_global = []\n",
        "train_loss_per_client = [[] for i in range(num_clients)]\n",
        "train_loss_benign = []\n",
        "\n",
        "start_time = time.time()\n",
        "\n",
        "for r in range(num_rounds): # total number of rounds\n",
        "\n",
        "    print('\\nround: ', r+1)\n",
        "    # num_selected = random.choice(range(1,num_clients))\n",
        "    #client_idx = np.random.permutation(num_clients)[:num_selected] # random pick some clients from all clients for train\n",
        "    client_idx = list(range(num_clients))\n",
        "    print('client_idx: ', client_idx)\n",
        "    client_lens = [len(train_loader[devices[idx]]) for idx in client_idx ] # Need to fix this. It is part of server aggregation.\n",
        "    # client_lens = [len(train_lotrain_loaderader[idx]) for idx in client_idx ]\n",
        "    #print(client_lens)\n",
        "\n",
        "\n",
        "    #### client update ####\n",
        "    loss = 0\n",
        "    for i in tqdm(range(num_selected-1)): # num_selected-1 because last client is benign\n",
        "        # print(i)\n",
        "        client_syn(client_models[i], global_model)\n",
        "        # print(train_loader[devices[client_idx[i]]])\n",
        "        l = client_update(client_models[i], opt[i], train_loader[devices[client_idx[i]]], epochs)\n",
        "        train_loss_per_client[i].append(l)\n",
        "        loss += l\n",
        "    train_loss_client.append(loss)\n",
        "\n",
        "    #### benign client update ####\n",
        "    for i in tqdm(range(1)):\n",
        "        l = client_update(client_models[-1], opt[-1], train_loader[devices[client_idx[-1]]], epochs)\n",
        "        train_loss_benign.append(l)\n",
        "\n",
        "\n",
        "    #### retraining on the global server ####\n",
        "    #loss_retrain = 0\n",
        "    #for i in tqdm(range(num_selected)):\n",
        "    #    loss_retrain += client_update(client_models[i], opt[i], baseline_data[devices[client_idx[i]]], retrain_epochs)\n",
        "    #train_loss_global.append(loss_retrain/num_selected)\n",
        "\n",
        "    attackclients = []\n",
        "    for i in devices:\n",
        "        if i != 'Benign.csv':\n",
        "            attackclients.append(client_models[devices.index(i)])\n",
        "    \n",
        "    ### aggregate models ###\n",
        "    server_aggregate(global_model, attackclients, client_lens)      # FedAvg\n",
        "    #server_aggregate_M(global_model, attackclients, client_lens)    # FedAvgM\n",
        "\n",
        "    print(\"\\nclient_loss: \", loss)\n",
        "    #print('global_loss: ', loss_retrain/num_selected)\n",
        "\n",
        "time_required = time.time() - start_time\n",
        "print('\\nTIME: {}mins'.format(time_required/60))\n",
        "'''"
      ]
    },
    {
      "cell_type": "code",
      "execution_count": null,
      "metadata": {},
      "outputs": [
        {
          "name": "stdout",
          "output_type": "stream",
          "text": [
            "[0.003990832540141762, 0.009034030109230522, 0.008477159039409172, 0.00763445939879495, 0.0061694385161081165, 0.01034646167362039, 0.008151526000544742, 0.009034950515557931, 0.01948195534546224, 0.004566880817950483]\n",
            "[1.392269145368849e-05, 2.545519517089852e-05, 2.188597980894119e-05, 2.6488238471831855e-05, 2.5443006904997275e-05, 2.067528397839574e-05, 1.809487925230981e-05, 1.1216347704544997e-05, 1.7687504582838354e-05, 1.6485588205927974e-05]\n",
            "[0.55584306103478, 0.5558159886514593, 0.5557458363491803, 0.555826508474094, 0.555778920523609, 0.02332839393871434, 0.5559190000606902, 0.024603476113888894, 0.04481536593678097, 0.55576789539642]\n",
            "[0.000410187581396259, 0.0010301564017436361, 0.0010064884714971602, 0.001013913420472044, 0.0010413294647307995, 0.0007204965194759649, 0.0010042027189839972, 0.0007005993092508222, 0.0007435493923823323, 0.0005637480012749199]\n",
            "[7.430766709518597e-06, 2.5853166618609855e-06, 6.666275347595921e-06, 8.021010926063909e-06, 7.1638525173789165e-06, 3.0099913297730812e-06, 4.5071857705232e-06, 5.447986555326479e-06, 7.069794487894641e-06, 6.1856710348406265e-06]\n",
            "[3.563914443518837e-06, 1.6638061240277747e-06, 1.5281181887453788e-06, 2.031876804994347e-06, 9.522145084872591e-07, 1.4188208932436657e-06, 9.516158198905219e-07, 2.6557987497125504e-06, 1.2126656995589844e-06, 7.804104123925312e-07]\n",
            "[6.287570492026028, 6.856137425576977, 5.899984147883853, 6.997625190003797, 5.660320302957355, 7.0289873681587, 5.502888982112591, 7.120451319333624, 5.550455727374838, 5.381146572576383]\n",
            "[0.0002591797650930803, 0.000924601629475263, 0.008781572802089736, 0.0010269285765105126, 0.0009284705058932785, 0.0008929988554559883, 0.004398265761027424, 0.0008974996174934904, 0.0008818929122612262, 0.0009542403460591128]\n",
            "[]\n"
          ]
        }
      ],
      "source": [
        "'''\n",
        "for i in range(len(train_loss_per_client)):\n",
        "  print(train_loss_per_client[i])\n",
        "'''"
      ]
    },
    {
      "cell_type": "code",
      "execution_count": null,
      "metadata": {
        "id": "mTE7-ISNDA9e"
      },
      "outputs": [],
      "source": [
        "'''\n",
        "# save model\n",
        "torch.save(global_model,'C:/Final Year Project/models/globalattackmodel.pt')\n",
        "'''"
      ]
    },
    {
      "cell_type": "code",
      "execution_count": null,
      "metadata": {
        "id": "WbFb24eT6ggV"
      },
      "outputs": [],
      "source": [
        "'''\n",
        "for i in range(len(devices)):\n",
        "  torch.save(client_models[i],'C:/Final Year Project/models/clients/' + devices[i] + '.pt')\n",
        "'''"
      ]
    },
    {
      "cell_type": "code",
      "execution_count": null,
      "metadata": {
        "id": "oI1CQSuoDA9f"
      },
      "outputs": [],
      "source": [
        "def printperformance(model, losses, modelname):\n",
        "    plt.plot(losses)\n",
        "    plt.xlabel('number of rounds')\n",
        "    plt.ylabel('loss')\n",
        "    plt.ylim((0, 2.5))\n",
        "    plt.grid()\n",
        "    plt.title(modelname)\n",
        "    plt.show()"
      ]
    },
    {
      "cell_type": "code",
      "execution_count": null,
      "metadata": {
        "id": "Sb5v5VOjDA9f",
        "outputId": "cf345ffd-04e8-4892-f7be-a12d48d6dc5f"
      },
      "outputs": [
        {
          "data": {
            "image/png": "[encoded data removed]",
            "text/plain": [
              "<Figure size 640x480 with 1 Axes>"
            ]
          },
          "metadata": {},
          "output_type": "display_data"
        },
        {
          "data": {
            "image/png": "[encoded data removed]",
            "text/plain": [
              "<Figure size 640x480 with 1 Axes>"
            ]
          },
          "metadata": {},
          "output_type": "display_data"
        },
        {
          "data": {
            "image/png": "[encoded data removed]",
            "text/plain": [
              "<Figure size 640x480 with 1 Axes>"
            ]
          },
          "metadata": {},
          "output_type": "display_data"
        },
        {
          "data": {
            "image/png": "[encoded data removed]",
            "text/plain": [
              "<Figure size 640x480 with 1 Axes>"
            ]
          },
          "metadata": {},
          "output_type": "display_data"
        },
        {
          "data": {
            "image/png": "[encoded data removed]",
            "text/plain": [
              "<Figure size 640x480 with 1 Axes>"
            ]
          },
          "metadata": {},
          "output_type": "display_data"
        },
        {
          "data": {
            "image/png": "[encoded data removed]",
            "text/plain": [
              "<Figure size 640x480 with 1 Axes>"
            ]
          },
          "metadata": {},
          "output_type": "display_data"
        },
        {
          "data": {
            "image/png": "[encoded data removed]",
            "text/plain": [
              "<Figure size 640x480 with 1 Axes>"
            ]
          },
          "metadata": {},
          "output_type": "display_data"
        },
        {
          "data": {
            "image/png": "[encoded data removed]",
            "text/plain": [
              "<Figure size 640x480 with 1 Axes>"
            ]
          },
          "metadata": {},
          "output_type": "display_data"
        }
      ],
      "source": [
        "'''\n",
        "for i in range(len(devices)-1):\n",
        "  printperformance(client_models[i], train_loss_per_client[i], devices[i])\n",
        "'''"
      ]
    },
    {
      "cell_type": "code",
      "execution_count": null,
      "metadata": {},
      "outputs": [
        {
          "data": {
            "image/png": "[encoded data removed]",
            "text/plain": [
              "<Figure size 640x480 with 1 Axes>"
            ]
          },
          "metadata": {},
          "output_type": "display_data"
        }
      ],
      "source": [
        "'''\n",
        "# print performance of benign client\n",
        "printperformance(client_models[-1], train_loss_benign, devices[-1])\n",
        "'''"
      ]
    },
    {
      "cell_type": "code",
      "execution_count": null,
      "metadata": {
        "id": "Ix3zjB1U63cb",
        "outputId": "b1c7278e-2873-46f8-c710-5ae420f4cf5a"
      },
      "outputs": [
        {
          "data": {
            "text/plain": [
              "\"\\n# train_loss_global\\nplt.plot(train_loss_global)\\nplt.xlabel('number of rounds')\\nplt.ylabel('loss')\\nplt.ylim((0, 2.5))\\nplt.grid()\\nplt.title('Federated Model with FedAvg (use five devices to train)')\\nplt.show()\\n\""
            ]
          },
          "execution_count": 54,
          "metadata": {},
          "output_type": "execute_result"
        }
      ],
      "source": [
        "'''\n",
        "# train_loss_global\n",
        "plt.plot(train_loss_global)\n",
        "plt.xlabel('number of rounds')\n",
        "plt.ylabel('loss')\n",
        "plt.ylim((0, 2.5))\n",
        "plt.grid()\n",
        "plt.title('Federated Model with FedAvg (use five devices to train)')\n",
        "plt.show()\n",
        "'''"
      ]
    },
    {
      "attachments": {},
      "cell_type": "markdown",
      "metadata": {
        "id": "dK43oLbY9uNr"
      },
      "source": [
        "# Evaluation"
      ]
    },
    {
      "cell_type": "code",
      "execution_count": 48,
      "metadata": {
        "id": "ku4dyUThDZF1"
      },
      "outputs": [],
      "source": [
        "client_models = []\n",
        "for i in range(len(devices)):\n",
        "  client_models.append(torch.load('C:/Final Year Project/models/clients/' + devices[i] + '.pt'))"
      ]
    },
    {
      "cell_type": "code",
      "execution_count": 49,
      "metadata": {
        "id": "1DvI0napggwm"
      },
      "outputs": [],
      "source": [
        "from sklearn import metrics"
      ]
    },
    {
      "cell_type": "code",
      "execution_count": 50,
      "metadata": {
        "id": "h1HJ9RZw63Z-"
      },
      "outputs": [],
      "source": [
        "def get_thresh(model, dataloader):\n",
        "\n",
        "    model.eval()\n",
        "    errs = []\n",
        "    for batch in dataloader:\n",
        "       for data in batch:\n",
        "         mse = np.mean(np.power(data.float().cpu().detach().numpy() - model(data.float()).cpu().detach().numpy(), 2), axis=0)\n",
        "         thresh = mse.mean() + mse.std()\n",
        "         errs.append(thresh)\n",
        "    thresh = sum(errs) / len(errs)\n",
        "    return thresh\n",
        "\n",
        "    #model.eval()\n",
        "    #pred = global_model(tr_data).cpu().detach().numpy()\n",
        "    #print(pred)\n",
        "    #print(np.isnan(pred))\n",
        "    #thresh = np.sqrt(metrics.mean_squared_error(pred, threshben.numpy()))\n",
        "    #mse = np.mean(np.power(tr_data.cpu().detach().numpy() - model(tr_data).cpu().detach().numpy(), 2), axis=1)\n",
        "    #tr = np.sqrt(metrics.mean_squared_error(model(tr_data).cpu().detach().numpy(), tr_data.cpu().detach().numpy()))\n",
        "    #tr = np.sqrt(mse)\n",
        "    #return thresh\n",
        "    \n",
        "    \n",
        "def quan_thresh(model, dataloader, quantile=0.9):\n",
        "\n",
        "  model.eval()\n",
        "  errs = []\n",
        "  \n",
        "  for batch in dataloader:\n",
        "    \n",
        "    mse = []\n",
        "    for data in batch:\n",
        "      error = np.power(data.float().cpu().numpy() - model(data.float()).cpu().detach().numpy(), 2)\n",
        "      mse.append(error)\n",
        "    \n",
        "    # Calculate threshold as quantile of errors \n",
        "    thresh = np.quantile(mse, quantile)  \n",
        "    errs.append(thresh)\n",
        "    \n",
        "  return np.mean(errs)\n",
        "\n",
        "def perf_measure(y_actual, y_pred):\n",
        "    TP = 0\n",
        "    FP = 0\n",
        "    TN = 0\n",
        "    FN = 0\n",
        "    for i in range(len(y_pred)):\n",
        "        if y_actual[i] == y_pred[i] == 1:\n",
        "           TP += 1\n",
        "        if y_pred[i] == 1 and y_actual[i] != y_pred[i]:\n",
        "           FP += 1\n",
        "        if y_actual[i] == y_pred[i] == 0:\n",
        "           TN += 1\n",
        "        if y_pred[i] == 0 and y_actual[i] != y_pred[i]:\n",
        "           FN += 1\n",
        "    return (TP, FP, TN, FN)\n",
        "\n",
        "def get_mix_result(model, tr, mix_data, mix_label):\n",
        "    model.eval()\n",
        "    prediction = []\n",
        "    for i in mix_data:\n",
        "      pred = model(i).cpu().detach().numpy()\n",
        "      error = np.sqrt(metrics.mean_squared_error(pred, threshben.numpy()))\n",
        "      if error > tr:\n",
        "        prediction.append(1)\n",
        "      else:\n",
        "        prediction.append(0)\n",
        "\n",
        "    mix_label_list = mix_label.tolist()\n",
        "\n",
        "    TP,FP,TN,FN = perf_measure(mix_label_list, prediction)\n",
        "\n",
        "    conf = [[TP, FN],[FP, TN]]\n",
        "    print(conf)\n",
        "    x_axis_label = ['abnormal', 'benign']\n",
        "    y_axis_label = ['abnormal', 'benign']\n",
        "\n",
        "    plt.figure()\n",
        "    sns.heatmap(conf,xticklabels=x_axis_label, yticklabels=y_axis_label, annot=True,annot_kws={\"size\": 16},fmt='g')\n",
        "\n",
        "    acc = (TP+TN) / (TP+TN+FP+FN)\n",
        "    precision = TP/(TP+FP)\n",
        "    recall = TP/(TP+FN)\n",
        "    F1score = 2 * ((precision * recall) / (precision + recall))\n",
        "\n",
        "    TPR = round((TP / (TP+FN)), 6)\n",
        "    # print('TPR is: {}%'.format(TPR))\n",
        "\n",
        "    FPR = round((FP / (FP + TN)), 6)\n",
        "    # print('TPR is: {}%'.format(FPR))\n",
        "\n",
        "    print('Acc: %.3f%% \\nPrecision: %.3f \\nRecall: %.3f \\nF1score: %.3f \\nTPR: %.5f \\nFPR: %.5f'%(acc*100,\n",
        "                                                                                                   precision,\n",
        "                                                                                                   recall,\n",
        "                                                                                                   F1score*100,\n",
        "                                                                                                   TPR,\n",
        "                                                                                                   FPR))\n",
        "\n",
        "#   [['TP', 'FN']\n",
        "#   ['FP', 'TN']]"
      ]
    },
    {
      "cell_type": "code",
      "execution_count": 51,
      "metadata": {
        "id": "FhTUbMWYDca5"
      },
      "outputs": [
        {
          "name": "stdout",
          "output_type": "stream",
          "text": [
            "{'Bot.csv': 1.2452236744757026, 'DDOS attack-HOIC.csv': 1.595149262170395, 'DDoS attacks-LOIC-HTTP.csv': 4.118785246421179, 'DoS attacks-Hulk.csv': 1.2305191080521773, 'DoS attacks-SlowHTTPTest.csv': 1.2713335752487183, 'FTP-BruteForce.csv': 1.2387499201736034, 'Infilteration.csv': 1.6718421294876806, 'SSH-Bruteforce.csv': 2.70165368713512, 'Benign.csv': 0.02458882410302373}\n"
          ]
        }
      ],
      "source": [
        "thresholds = {}\n",
        "for i in range(len(devices)):\n",
        "    model = client_models[i]\n",
        "    dataloader = train_loader[devices[i]]\n",
        "    thresholds[devices[i]] = quan_thresh(model, dataloader)\n",
        "print(thresholds)"
      ]
    },
    {
      "cell_type": "code",
      "execution_count": null,
      "metadata": {},
      "outputs": [
        {
          "data": {
            "text/plain": [
              "'thresholds_test = {}\\nfor i in range(len(devices)):\\n    model = client_models[i]\\n    dataloader = test_loader[devices[i]]\\n    thresholds_test[devices[i]] = get_thresh(model, dataloader)\\nprint(thresholds_test)'"
            ]
          },
          "execution_count": 33,
          "metadata": {},
          "output_type": "execute_result"
        }
      ],
      "source": [
        "'''thresholds_test = {}\n",
        "for i in range(len(devices)):\n",
        "    model = client_models[i]\n",
        "    dataloader = test_loader[devices[i]]\n",
        "    thresholds_test[devices[i]] = get_thresh(model, dataloader)\n",
        "print(thresholds_test)'''"
      ]
    },
    {
      "cell_type": "code",
      "execution_count": 52,
      "metadata": {},
      "outputs": [
        {
          "data": {
            "text/plain": [
              "9"
            ]
          },
          "execution_count": 52,
          "metadata": {},
          "output_type": "execute_result"
        }
      ],
      "source": [
        "len(thresholds)"
      ]
    },
    {
      "cell_type": "code",
      "execution_count": 53,
      "metadata": {},
      "outputs": [
        {
          "data": {
            "text/plain": [
              "['Bot.csv',\n",
              " 'DDOS attack-HOIC.csv',\n",
              " 'DDoS attacks-LOIC-HTTP.csv',\n",
              " 'DoS attacks-Hulk.csv',\n",
              " 'DoS attacks-SlowHTTPTest.csv',\n",
              " 'FTP-BruteForce.csv',\n",
              " 'Infilteration.csv',\n",
              " 'SSH-Bruteforce.csv',\n",
              " 'Benign.csv']"
            ]
          },
          "execution_count": 53,
          "metadata": {},
          "output_type": "execute_result"
        }
      ],
      "source": [
        "devices"
      ]
    },
    {
      "cell_type": "code",
      "execution_count": 54,
      "metadata": {},
      "outputs": [
        {
          "data": {
            "text/plain": [
              "{'Bot.csv': <torch.utils.data.dataloader.DataLoader at 0x233ec8f52d0>,\n",
              " 'DDOS attack-HOIC.csv': <torch.utils.data.dataloader.DataLoader at 0x233ec8f5030>,\n",
              " 'DDoS attacks-LOIC-HTTP.csv': <torch.utils.data.dataloader.DataLoader at 0x233ec8f4f70>,\n",
              " 'DoS attacks-Hulk.csv': <torch.utils.data.dataloader.DataLoader at 0x233ec346ec0>,\n",
              " 'DoS attacks-SlowHTTPTest.csv': <torch.utils.data.dataloader.DataLoader at 0x233ec345cc0>,\n",
              " 'FTP-BruteForce.csv': <torch.utils.data.dataloader.DataLoader at 0x233ec344040>,\n",
              " 'Infilteration.csv': <torch.utils.data.dataloader.DataLoader at 0x233ec345f00>,\n",
              " 'SSH-Bruteforce.csv': <torch.utils.data.dataloader.DataLoader at 0x233ec347d60>}"
            ]
          },
          "execution_count": 54,
          "metadata": {},
          "output_type": "execute_result"
        }
      ],
      "source": [
        "test_loader"
      ]
    },
    {
      "cell_type": "code",
      "execution_count": 56,
      "metadata": {},
      "outputs": [
        {
          "name": "stdout",
          "output_type": "stream",
          "text": [
            "Acc: 99.722% \n",
            "Precision: 1.000 \n",
            "Recall: 0.997 \n",
            "F1score: 99.861 \n",
            "TPR: 0.99723 \n",
            "FPR: 0.50000\n",
            "Acc: 72.823% \n",
            "Precision: 0.000 \n",
            "Recall: 0.500 \n",
            "F1score: 0.001 \n",
            "TPR: 0.50000 \n",
            "FPR: 0.27177\n",
            "Acc: 88.668% \n",
            "Precision: 0.000 \n",
            "Recall: 0.500 \n",
            "F1score: 0.003 \n",
            "TPR: 0.50000 \n",
            "FPR: 0.11332\n",
            "Acc: 95.088% \n",
            "Precision: 0.000 \n",
            "Recall: 0.500 \n",
            "F1score: 0.009 \n",
            "TPR: 0.50000 \n",
            "FPR: 0.04911\n",
            "Acc: 99.593% \n",
            "Precision: 0.001 \n",
            "Recall: 0.500 \n",
            "F1score: 0.222 \n",
            "TPR: 0.50000 \n",
            "FPR: 0.00407\n",
            "Acc: 82.370% \n",
            "Precision: 0.000 \n",
            "Recall: 0.500 \n",
            "F1score: 0.004 \n",
            "TPR: 0.50000 \n",
            "FPR: 0.17630\n",
            "Acc: 82.834% \n",
            "Precision: 0.000 \n",
            "Recall: 0.500 \n",
            "F1score: 0.005 \n",
            "TPR: 0.50000 \n",
            "FPR: 0.17166\n",
            "Acc: 71.326% \n",
            "Precision: 0.000 \n",
            "Recall: 0.500 \n",
            "F1score: 0.003 \n",
            "TPR: 0.50000 \n",
            "FPR: 0.28674\n",
            "Acc: 99.724% \n",
            "Precision: 0.001 \n",
            "Recall: 0.500 \n",
            "F1score: 0.224 \n",
            "TPR: 0.50000 \n",
            "FPR: 0.00276\n",
            "Acc: 72.874% \n",
            "Precision: 1.000 \n",
            "Recall: 0.729 \n",
            "F1score: 84.309 \n",
            "TPR: 0.72874 \n",
            "FPR: 0.50000\n",
            "Acc: 90.355% \n",
            "Precision: 0.000 \n",
            "Recall: 0.500 \n",
            "F1score: 0.004 \n",
            "TPR: 0.50000 \n",
            "FPR: 0.09645\n",
            "Acc: 96.921% \n",
            "Precision: 0.000 \n",
            "Recall: 0.500 \n",
            "F1score: 0.015 \n",
            "TPR: 0.50000 \n",
            "FPR: 0.03078\n",
            "Acc: 99.924% \n",
            "Precision: 0.006 \n",
            "Recall: 0.500 \n",
            "F1score: 1.176 \n",
            "TPR: 0.50000 \n",
            "FPR: 0.00076\n",
            "Acc: 99.935% \n",
            "Precision: 0.006 \n",
            "Recall: 0.500 \n",
            "F1score: 1.176 \n",
            "TPR: 0.50000 \n",
            "FPR: 0.00065\n",
            "Acc: 83.211% \n",
            "Precision: 0.000 \n",
            "Recall: 0.500 \n",
            "F1score: 0.005 \n",
            "TPR: 0.50000 \n",
            "FPR: 0.16788\n",
            "Acc: 99.933% \n",
            "Precision: 0.006 \n",
            "Recall: 0.500 \n",
            "F1score: 1.163 \n",
            "TPR: 0.50000 \n",
            "FPR: 0.00067\n",
            "Acc: 99.883% \n",
            "Precision: 0.003 \n",
            "Recall: 0.500 \n",
            "F1score: 0.526 \n",
            "TPR: 0.50000 \n",
            "FPR: 0.00117\n",
            "Acc: 99.979% \n",
            "Precision: 0.008 \n",
            "Recall: 0.500 \n",
            "F1score: 1.562 \n",
            "TPR: 0.50000 \n",
            "FPR: 0.00021\n",
            "Acc: 97.796% \n",
            "Precision: 1.000 \n",
            "Recall: 0.978 \n",
            "F1score: 98.886 \n",
            "TPR: 0.97796 \n",
            "FPR: 0.50000\n",
            "Acc: 99.644% \n",
            "Precision: 0.001 \n",
            "Recall: 0.500 \n",
            "F1score: 0.126 \n",
            "TPR: 0.50000 \n",
            "FPR: 0.00356\n"
          ]
        },
        {
          "name": "stderr",
          "output_type": "stream",
          "text": [
            "C:\\Users\\amenu4aie20110\\AppData\\Local\\Temp\\ipykernel_16876\\1292926658.py:29: RuntimeWarning: More than 20 figures have been opened. Figures created through the pyplot interface (`matplotlib.pyplot.figure`) are retained until explicitly closed and may consume too much memory. (To control this warning, see the rcParam `figure.max_open_warning`). Consider using `matplotlib.pyplot.close()`.\n",
            "  plt.figure()\n"
          ]
        },
        {
          "name": "stdout",
          "output_type": "stream",
          "text": [
            "Acc: 99.943% \n",
            "Precision: 0.008 \n",
            "Recall: 0.500 \n",
            "F1score: 1.562 \n",
            "TPR: 0.50000 \n",
            "FPR: 0.00057\n",
            "Acc: 99.951% \n",
            "Precision: 0.008 \n",
            "Recall: 0.500 \n",
            "F1score: 1.562 \n",
            "TPR: 0.50000 \n",
            "FPR: 0.00048\n",
            "Acc: 85.812% \n",
            "Precision: 0.000 \n",
            "Recall: 0.500 \n",
            "F1score: 0.006 \n",
            "TPR: 0.50000 \n",
            "FPR: 0.14188\n",
            "Acc: 99.950% \n",
            "Precision: 0.008 \n",
            "Recall: 0.500 \n",
            "F1score: 1.562 \n",
            "TPR: 0.50000 \n",
            "FPR: 0.00049\n",
            "Acc: 99.722% \n",
            "Precision: 0.001 \n",
            "Recall: 0.500 \n",
            "F1score: 0.222 \n",
            "TPR: 0.50000 \n",
            "FPR: 0.00277\n",
            "Acc: 72.823% \n",
            "Precision: 0.000 \n",
            "Recall: 0.500 \n",
            "F1score: 0.001 \n",
            "TPR: 0.50000 \n",
            "FPR: 0.27177\n",
            "Acc: 88.610% \n",
            "Precision: 0.000 \n",
            "Recall: 0.500 \n",
            "F1score: 0.003 \n",
            "TPR: 0.50000 \n",
            "FPR: 0.11390\n",
            "Acc: 95.087% \n",
            "Precision: 1.000 \n",
            "Recall: 0.951 \n",
            "F1score: 97.482 \n",
            "TPR: 0.95087 \n",
            "FPR: 0.50000\n",
            "Acc: 99.593% \n",
            "Precision: 0.001 \n",
            "Recall: 0.500 \n",
            "F1score: 0.222 \n",
            "TPR: 0.50000 \n",
            "FPR: 0.00407\n",
            "Acc: 82.370% \n",
            "Precision: 0.000 \n",
            "Recall: 0.500 \n",
            "F1score: 0.004 \n",
            "TPR: 0.50000 \n",
            "FPR: 0.17630\n",
            "Acc: 82.826% \n",
            "Precision: 0.000 \n",
            "Recall: 0.500 \n",
            "F1score: 0.005 \n",
            "TPR: 0.50000 \n",
            "FPR: 0.17174\n",
            "Acc: 71.326% \n",
            "Precision: 0.000 \n",
            "Recall: 0.500 \n",
            "F1score: 0.003 \n",
            "TPR: 0.50000 \n",
            "FPR: 0.28674\n",
            "Acc: 99.723% \n",
            "Precision: 0.001 \n",
            "Recall: 0.500 \n",
            "F1score: 0.223 \n",
            "TPR: 0.50000 \n",
            "FPR: 0.00277\n",
            "Acc: 72.823% \n",
            "Precision: 0.000 \n",
            "Recall: 0.500 \n",
            "F1score: 0.001 \n",
            "TPR: 0.50000 \n",
            "FPR: 0.27177\n",
            "Acc: 88.859% \n",
            "Precision: 0.000 \n",
            "Recall: 0.500 \n",
            "F1score: 0.003 \n",
            "TPR: 0.50000 \n",
            "FPR: 0.11141\n",
            "Acc: 95.094% \n",
            "Precision: 0.000 \n",
            "Recall: 0.500 \n",
            "F1score: 0.009 \n",
            "TPR: 0.50000 \n",
            "FPR: 0.04906\n",
            "Acc: 99.593% \n",
            "Precision: 1.000 \n",
            "Recall: 0.996 \n",
            "F1score: 99.796 \n",
            "TPR: 0.99594 \n",
            "FPR: 0.50000\n",
            "Acc: 82.371% \n",
            "Precision: 0.000 \n",
            "Recall: 0.500 \n",
            "F1score: 0.004 \n",
            "TPR: 0.50000 \n",
            "FPR: 0.17629\n",
            "Acc: 82.841% \n",
            "Precision: 0.000 \n",
            "Recall: 0.500 \n",
            "F1score: 0.005 \n",
            "TPR: 0.50000 \n",
            "FPR: 0.17159\n",
            "Acc: 71.327% \n",
            "Precision: 0.000 \n",
            "Recall: 0.500 \n",
            "F1score: 0.003 \n",
            "TPR: 0.50000 \n",
            "FPR: 0.28673\n",
            "Acc: 99.722% \n",
            "Precision: 0.001 \n",
            "Recall: 0.500 \n",
            "F1score: 0.222 \n",
            "TPR: 0.50000 \n",
            "FPR: 0.00277\n",
            "Acc: 72.823% \n",
            "Precision: 0.000 \n",
            "Recall: 0.500 \n",
            "F1score: 0.001 \n",
            "TPR: 0.50000 \n",
            "FPR: 0.27177\n",
            "Acc: 88.610% \n",
            "Precision: 0.000 \n",
            "Recall: 0.500 \n",
            "F1score: 0.003 \n",
            "TPR: 0.50000 \n",
            "FPR: 0.11390\n",
            "Acc: 95.088% \n",
            "Precision: 0.000 \n",
            "Recall: 0.500 \n",
            "F1score: 0.009 \n",
            "TPR: 0.50000 \n",
            "FPR: 0.04912\n",
            "Acc: 99.593% \n",
            "Precision: 0.001 \n",
            "Recall: 0.500 \n",
            "F1score: 0.222 \n",
            "TPR: 0.50000 \n",
            "FPR: 0.00407\n",
            "Acc: 82.370% \n",
            "Precision: 1.000 \n",
            "Recall: 0.824 \n",
            "F1score: 90.333 \n",
            "TPR: 0.82370 \n",
            "FPR: 0.50000\n",
            "Acc: 82.827% \n",
            "Precision: 0.000 \n",
            "Recall: 0.500 \n",
            "F1score: 0.005 \n",
            "TPR: 0.50000 \n",
            "FPR: 0.17173\n",
            "Acc: 71.326% \n",
            "Precision: 0.000 \n",
            "Recall: 0.500 \n",
            "F1score: 0.003 \n",
            "TPR: 0.50000 \n",
            "FPR: 0.28674\n",
            "Acc: 99.730% \n",
            "Precision: 0.001 \n",
            "Recall: 0.500 \n",
            "F1score: 0.228 \n",
            "TPR: 0.50000 \n",
            "FPR: 0.00270\n",
            "Acc: 78.950% \n",
            "Precision: 0.000 \n",
            "Recall: 0.500 \n",
            "F1score: 0.002 \n",
            "TPR: 0.50000 \n",
            "FPR: 0.21050\n",
            "Acc: 90.675% \n",
            "Precision: 0.000 \n",
            "Recall: 0.500 \n",
            "F1score: 0.004 \n",
            "TPR: 0.50000 \n",
            "FPR: 0.09325\n",
            "Acc: 97.701% \n",
            "Precision: 0.000 \n",
            "Recall: 0.500 \n",
            "F1score: 0.019 \n",
            "TPR: 0.50000 \n",
            "FPR: 0.02299\n",
            "Acc: 99.932% \n",
            "Precision: 0.007 \n",
            "Recall: 0.500 \n",
            "F1score: 1.316 \n",
            "TPR: 0.50000 \n",
            "FPR: 0.00068\n",
            "Acc: 99.942% \n",
            "Precision: 0.007 \n",
            "Recall: 0.500 \n",
            "F1score: 1.316 \n",
            "TPR: 0.50000 \n",
            "FPR: 0.00058\n"
          ]
        }
      ],
      "source": [
        "import matplotlib.pyplot as plt\n",
        "import seaborn as sns\n",
        "\n",
        "device_idx = {device: i for i, device in enumerate(devices)}\n",
        "for device in devices:\n",
        "  model = client_models[device_idx[device]]\n",
        "  threshold = thresholds[device]\n",
        "  for i in attbenmixdata_loader:\n",
        "    test_set = attbenmixdata_loader[i]\n",
        "    labels = list(attbenmixdatalabels[i])\n",
        "    y_true = []\n",
        "    y_pred = []\n",
        "    for batch in test_set:\n",
        "      for data in batch:\n",
        "        pred = model(data.float())\n",
        "        error = torch.mean((pred.float() - data.float())**2, dim=tuple(range(1,pred.ndim)))\n",
        "        if device == i:\n",
        "          y_true.append(1)\n",
        "          y_pred.append(1 if error <= threshold else 0)\n",
        "        else:\n",
        "          y_true.append(0)\n",
        "          y_pred.append(0 if error <= threshold else 1)\n",
        "    TP, FP, TN, FN = perf_measure(y_true, y_pred)\n",
        "    TP += 1\n",
        "    FN += 1\n",
        "    TN += 1\n",
        "    FP += 1\n",
        "    conf_matrix = [[TP, FN], [FP, TN]]\n",
        "    plt.figure() \n",
        "    sns.heatmap(conf_matrix, annot=True, fmt=\"d\")\n",
        "    plt.title(\"Confusion Matrix for Client \" + str(device) +\" with \"+ str(i))\n",
        "    plt.xlabel(\"Predicted Label\")\n",
        "    plt.ylabel(\"True Label\")\n",
        "\n",
        "    acc = (TP+TN) / (TP+TN+FP+FN)\n",
        "    precision = TP/(TP+FP)\n",
        "    recall = TP/(TP+FN)\n",
        "    F1score = 2 * ((precision * recall) / (precision + recall))\n",
        "\n",
        "    TPR = round((TP / (TP+FN)), 6)\n",
        "    # print('TPR is: {}%'.format(TPR))\n",
        "\n",
        "    FPR = round((FP / (FP + TN)), 6)\n",
        "    # print('TPR is: {}%'.format(FPR))\n",
        "\n",
        "    print('Acc: %.3f%% \\nPrecision: %.3f \\nRecall: %.3f \\nF1score: %.3f \\nTPR: %.5f \\nFPR: %.5f'%(acc*100,\n",
        "                                                                                                   precision,\n",
        "                                                                                                   recall,\n",
        "                                                                                                   F1score*100,\n",
        "                                                                                                   TPR,\n",
        "                                                                                                   FPR))\n",
        "\n",
        "#   [['TP', 'FN']\n",
        "#   ['FP', 'TN']]"
      ]
    },
    {
      "cell_type": "markdown",
      "metadata": {},
      "source": [
        "Plot for global model"
      ]
    },
    {
      "cell_type": "code",
      "execution_count": null,
      "metadata": {
        "id": "oomBBYuq63WS"
      },
      "outputs": [
        {
          "ename": "FileNotFoundError",
          "evalue": "[Errno 2] No such file or directory: '/content/gdrive/My Drive/models/alldataglobal.pt'",
          "output_type": "error",
          "traceback": [
            "\u001b[1;31m---------------------------------------------------------------------------\u001b[0m",
            "\u001b[1;31mFileNotFoundError\u001b[0m                         Traceback (most recent call last)",
            "\u001b[1;32mc:\\Final Year Project\\Separate_Attack_Training_FL_mixed-perfect.ipynb Cell 69\u001b[0m line \u001b[0;36m2\n\u001b[0;32m      <a href='vscode-notebook-cell:/c%3A/Final%20Year%20Project/Separate_Attack_Training_FL_mixed-perfect.ipynb#Y114sZmlsZQ%3D%3D?line=0'>1</a>\u001b[0m \u001b[39m# load model\u001b[39;00m\n\u001b[1;32m----> <a href='vscode-notebook-cell:/c%3A/Final%20Year%20Project/Separate_Attack_Training_FL_mixed-perfect.ipynb#Y114sZmlsZQ%3D%3D?line=1'>2</a>\u001b[0m global_model \u001b[39m=\u001b[39m torch\u001b[39m.\u001b[39;49mload(\u001b[39m'\u001b[39;49m\u001b[39m/content/gdrive/My Drive/models/alldataglobal.pt\u001b[39;49m\u001b[39m'\u001b[39;49m)                                        \n",
            "File \u001b[1;32mc:\\Users\\amenu4aie20110\\AppData\\Local\\Programs\\Python\\Python310\\lib\\site-packages\\torch\\serialization.py:986\u001b[0m, in \u001b[0;36mload\u001b[1;34m(f, map_location, pickle_module, weights_only, mmap, **pickle_load_args)\u001b[0m\n\u001b[0;32m    983\u001b[0m \u001b[39mif\u001b[39;00m \u001b[39m'\u001b[39m\u001b[39mencoding\u001b[39m\u001b[39m'\u001b[39m \u001b[39mnot\u001b[39;00m \u001b[39min\u001b[39;00m pickle_load_args\u001b[39m.\u001b[39mkeys():\n\u001b[0;32m    984\u001b[0m     pickle_load_args[\u001b[39m'\u001b[39m\u001b[39mencoding\u001b[39m\u001b[39m'\u001b[39m] \u001b[39m=\u001b[39m \u001b[39m'\u001b[39m\u001b[39mutf-8\u001b[39m\u001b[39m'\u001b[39m\n\u001b[1;32m--> 986\u001b[0m \u001b[39mwith\u001b[39;00m _open_file_like(f, \u001b[39m'\u001b[39;49m\u001b[39mrb\u001b[39;49m\u001b[39m'\u001b[39;49m) \u001b[39mas\u001b[39;00m opened_file:\n\u001b[0;32m    987\u001b[0m     \u001b[39mif\u001b[39;00m _is_zipfile(opened_file):\n\u001b[0;32m    988\u001b[0m         \u001b[39m# The zipfile reader is going to advance the current file position.\u001b[39;00m\n\u001b[0;32m    989\u001b[0m         \u001b[39m# If we want to actually tail call to torch.jit.load, we need to\u001b[39;00m\n\u001b[0;32m    990\u001b[0m         \u001b[39m# reset back to the original position.\u001b[39;00m\n\u001b[0;32m    991\u001b[0m         orig_position \u001b[39m=\u001b[39m opened_file\u001b[39m.\u001b[39mtell()\n",
            "File \u001b[1;32mc:\\Users\\amenu4aie20110\\AppData\\Local\\Programs\\Python\\Python310\\lib\\site-packages\\torch\\serialization.py:435\u001b[0m, in \u001b[0;36m_open_file_like\u001b[1;34m(name_or_buffer, mode)\u001b[0m\n\u001b[0;32m    433\u001b[0m \u001b[39mdef\u001b[39;00m \u001b[39m_open_file_like\u001b[39m(name_or_buffer, mode):\n\u001b[0;32m    434\u001b[0m     \u001b[39mif\u001b[39;00m _is_path(name_or_buffer):\n\u001b[1;32m--> 435\u001b[0m         \u001b[39mreturn\u001b[39;00m _open_file(name_or_buffer, mode)\n\u001b[0;32m    436\u001b[0m     \u001b[39melse\u001b[39;00m:\n\u001b[0;32m    437\u001b[0m         \u001b[39mif\u001b[39;00m \u001b[39m'\u001b[39m\u001b[39mw\u001b[39m\u001b[39m'\u001b[39m \u001b[39min\u001b[39;00m mode:\n",
            "File \u001b[1;32mc:\\Users\\amenu4aie20110\\AppData\\Local\\Programs\\Python\\Python310\\lib\\site-packages\\torch\\serialization.py:416\u001b[0m, in \u001b[0;36m_open_file.__init__\u001b[1;34m(self, name, mode)\u001b[0m\n\u001b[0;32m    415\u001b[0m \u001b[39mdef\u001b[39;00m \u001b[39m__init__\u001b[39m(\u001b[39mself\u001b[39m, name, mode):\n\u001b[1;32m--> 416\u001b[0m     \u001b[39msuper\u001b[39m()\u001b[39m.\u001b[39m\u001b[39m__init__\u001b[39m(\u001b[39mopen\u001b[39;49m(name, mode))\n",
            "\u001b[1;31mFileNotFoundError\u001b[0m: [Errno 2] No such file or directory: '/content/gdrive/My Drive/models/alldataglobal.pt'"
          ]
        }
      ],
      "source": [
        "# load model\n",
        "global_model = torch.load('/content/gdrive/My Drive/models/alldataglobal.pt')                                        "
      ]
    },
    {
      "attachments": {},
      "cell_type": "markdown",
      "metadata": {
        "id": "0zKO6BUI97sa"
      },
      "source": [
        "# Test on client devices"
      ]
    },
    {
      "cell_type": "code",
      "execution_count": null,
      "metadata": {
        "id": "w-SKiqsY63PC"
      },
      "outputs": [],
      "source": [
        "threshben.drop(['Label'], axis=1, inplace=True)"
      ]
    },
    {
      "cell_type": "code",
      "execution_count": null,
      "metadata": {
        "id": "BlqqU4Huu7cx"
      },
      "outputs": [],
      "source": [
        "threshben = torch.from_numpy(np.array(threshben)).float().to(device)"
      ]
    },
    {
      "cell_type": "code",
      "execution_count": null,
      "metadata": {
        "id": "Xwjgu2CkApDJ"
      },
      "outputs": [],
      "source": [
        "print(threshben)"
      ]
    },
    {
      "cell_type": "code",
      "execution_count": null,
      "metadata": {
        "id": "Kq-lLOo4aTcY"
      },
      "outputs": [],
      "source": [
        "tensor_data = torch.cat([batch for batch in train_loader['D1']], dim=0)"
      ]
    },
    {
      "cell_type": "code",
      "execution_count": null,
      "metadata": {
        "id": "3cwLdmWeZA1g"
      },
      "outputs": [],
      "source": [
        "predtrain = global_model(tensor_data).cpu().detach().numpy()\n",
        "print(predtrain)"
      ]
    },
    {
      "cell_type": "code",
      "execution_count": null,
      "metadata": {
        "id": "OWy8MiYqAwSa"
      },
      "outputs": [],
      "source": [
        "pred = global_model(threshben).cpu().detach().numpy()\n",
        "print(pred)"
      ]
    },
    {
      "cell_type": "code",
      "execution_count": null,
      "metadata": {
        "id": "mFUghu6Ley5T"
      },
      "outputs": [],
      "source": [
        "thresh = get_thresh(global_model, threshben)"
      ]
    },
    {
      "cell_type": "code",
      "execution_count": null,
      "metadata": {
        "id": "vTwiz5R625dp"
      },
      "outputs": [],
      "source": [
        "thresh.shape"
      ]
    },
    {
      "cell_type": "code",
      "execution_count": null,
      "metadata": {
        "id": "OFN3HYdu69DD"
      },
      "outputs": [],
      "source": [
        "thresh"
      ]
    },
    {
      "cell_type": "code",
      "execution_count": null,
      "metadata": {
        "id": "sXc6Y-8G63Lv"
      },
      "outputs": [],
      "source": [
        "# use global model & device's TR\n",
        "testset = torch.from_numpy(np.array(testset)).float().to(device)\n",
        "print(\"D1: \")\n",
        "get_mix_result(global_model, thresh, testset, testlabels)"
      ]
    }
  ],
  "metadata": {
    "colab": {
      "provenance": []
    },
    "kernelspec": {
      "display_name": "Python 3",
      "name": "python3"
    },
    "language_info": {
      "codemirror_mode": {
        "name": "ipython",
        "version": 3
      },
      "file_extension": ".py",
      "mimetype": "text/x-python",
      "name": "python",
      "nbconvert_exporter": "python",
      "pygments_lexer": "ipython3",
      "version": "3.10.0"
    }
  },
  "nbformat": 4,
  "nbformat_minor": 0
}
