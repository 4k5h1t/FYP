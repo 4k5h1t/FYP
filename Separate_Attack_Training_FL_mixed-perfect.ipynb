{
  "cells": [
    {
      "attachments": {},
      "cell_type": "markdown",
      "metadata": {
        "id": "vjoXjjOj2Kaq"
      },
      "source": [
        "# Import Libraries/Packages & Datasets"
      ]
    },
    {
      "cell_type": "code",
      "execution_count": 32,
      "metadata": {
        "id": "eMvQwUpC2CyT"
      },
      "outputs": [],
      "source": [
        "import pandas as pd\n",
        "import numpy as np\n",
        "import seaborn as sns\n",
        "import matplotlib.pyplot as plt\n",
        "import random\n",
        "from tqdm import tqdm\n",
        "import time\n",
        "import copy\n",
        "\n",
        "from sklearn import preprocessing\n",
        "from sklearn.preprocessing import StandardScaler\n",
        "from sklearn.model_selection import train_test_split\n",
        "from sklearn.utils import shuffle\n",
        "\n",
        "import torch\n",
        "from torch import nn, optim\n",
        "import torch.nn.functional as F\n",
        "from torch.utils.data import Dataset, DataLoader\n",
        "\n",
        "torch.backends.cudnn.benchmark=True\n",
        "device = torch.device(\"cuda\" if torch.cuda.is_available() else \"cpu\")\n",
        "torch.cuda.manual_seed(5703)\n",
        "torch.manual_seed(5703)\n",
        "np.random.seed(5703)\n",
        "random.seed(5703)"
      ]
    },
    {
      "cell_type": "code",
      "execution_count": 33,
      "metadata": {
        "id": "Sb5nz59HHF7L"
      },
      "outputs": [],
      "source": [
        "#load data\n",
        "import os\n",
        "attackdata = {}\n",
        "os.chdir('C:/Final Year Project/idsattacks')\n",
        "for i in os.listdir():\n",
        "  if i != 'Benign.csv':\n",
        "    attackdata[i] = pd.read_csv(i)\n",
        "    attackdata[i].drop(['Dst Port', 'Timestamp', 'Flow Byts/s', 'Flow Pkts/s'], axis=1, inplace=True)\n"
      ]
    },
    {
      "cell_type": "code",
      "execution_count": 34,
      "metadata": {},
      "outputs": [
        {
          "name": "stdout",
          "output_type": "stream",
          "text": [
            "Bot.csv (286191, 76)\n",
            "Brute Force -Web.csv (611, 76)\n",
            "Brute Force -XSS.csv (230, 76)\n",
            "DDOS attack-HOIC.csv (686012, 76)\n",
            "DDOS attack-LOIC-UDP.csv (1730, 76)\n",
            "DDoS attacks-LOIC-HTTP.csv (576191, 76)\n",
            "DoS attacks-GoldenEye.csv (41508, 76)\n",
            "DoS attacks-Hulk.csv (461912, 76)\n",
            "DoS attacks-SlowHTTPTest.csv (139890, 76)\n",
            "DoS attacks-Slowloris.csv (10990, 76)\n",
            "FTP-BruteForce.csv (193354, 76)\n",
            "Infilteration.csv (160739, 76)\n",
            "SQL Injection.csv (87, 76)\n",
            "SSH-Bruteforce.csv (187589, 76)\n"
          ]
        }
      ],
      "source": [
        "for i in attackdata:\n",
        "    print(i, attackdata[i].shape)"
      ]
    },
    {
      "cell_type": "code",
      "execution_count": 35,
      "metadata": {
        "id": "U940RYEXDA9T"
      },
      "outputs": [
        {
          "name": "stdout",
          "output_type": "stream",
          "text": [
            "(2457307, 77)\n"
          ]
        }
      ],
      "source": [
        "bendata = pd.read_csv('C:/Final Year Project/idsattacks/Benign.csv')\n",
        "#bendata.drop(['Unnamed: 0'], axis=1, inplace=True)\n",
        "print(bendata.shape)"
      ]
    },
    {
      "cell_type": "code",
      "execution_count": 36,
      "metadata": {
        "id": "RMv1avXUIToj"
      },
      "outputs": [],
      "source": [
        "#checking for unwanted columns\n",
        "for i in attackdata:\n",
        "  for j in ['Flow ID', 'Src IP', 'Src Port', 'Dst IP']:\n",
        "    if j in attackdata[i].columns:\n",
        "      print(i + \" : \" + j)\n",
        "#attackdata[i].drop(['Flow ID', 'Src IP', 'Src Port', 'Dst IP'], axis=1, inplace=True)"
      ]
    },
    {
      "cell_type": "code",
      "execution_count": 37,
      "metadata": {
        "id": "JPkTI9NcDA9U"
      },
      "outputs": [
        {
          "name": "stdout",
          "output_type": "stream",
          "text": [
            "bendata : Unnamed: 0\n"
          ]
        }
      ],
      "source": [
        "for i in ['Unnamed: 0','Flow ID', 'Src IP', 'Src Port', 'Dst IP', 'Dst Port', 'Timestamp', 'Flow Byts/s', 'Flow Pkts/s']:\n",
        "    if i in bendata.columns:\n",
        "      print('bendata' + \" : \" + i)\n",
        "bendata.drop(['Unnamed: 0'],axis=1,inplace=True)"
      ]
    },
    {
      "cell_type": "code",
      "execution_count": 38,
      "metadata": {},
      "outputs": [],
      "source": [
        "#full data combined\n",
        "fulldata = pd.DataFrame()\n",
        "for i in attackdata:\n",
        "    fulldata = pd.concat([fulldata, attackdata[i]], axis=0)\n",
        "fulldata = pd.concat([fulldata, bendata], axis=0)"
      ]
    },
    {
      "cell_type": "code",
      "execution_count": 39,
      "metadata": {},
      "outputs": [],
      "source": [
        "#fulldata labels\n",
        "fulldatalabels = fulldata['Label']\n",
        "fulldata.drop(['Label'], axis=1, inplace=True)"
      ]
    },
    {
      "cell_type": "code",
      "execution_count": 40,
      "metadata": {},
      "outputs": [],
      "source": [
        "#scaling data\n",
        "scaler = StandardScaler()\n",
        "fulldata = scaler.fit_transform(fulldata)"
      ]
    },
    {
      "cell_type": "code",
      "execution_count": 41,
      "metadata": {},
      "outputs": [
        {
          "data": {
            "text/plain": [
              "array([[-0.96437223, -0.20117078, -0.02059901, ..., -0.03783119,\n",
              "        -0.20341537, -0.20134137],\n",
              "       [-0.96437223, -0.20271218, -0.02097168, ..., -0.03783119,\n",
              "        -0.20341537, -0.20134137],\n",
              "       [-0.96437223, -0.20174749, -0.02059901, ..., -0.03783119,\n",
              "        -0.20341537, -0.20134137],\n",
              "       ...,\n",
              "       [ 1.03524222, -0.20265928, -0.02097168, ..., -0.03783119,\n",
              "        -0.20341537, -0.20134137],\n",
              "       [ 1.03524222, -0.20268344, -0.02097168, ..., -0.03783119,\n",
              "        -0.20341537, -0.20134137],\n",
              "       [ 1.03524222, -0.20263214, -0.02134435, ..., -0.03783119,\n",
              "        -0.20341537, -0.20134137]])"
            ]
          },
          "execution_count": 41,
          "metadata": {},
          "output_type": "execute_result"
        }
      ],
      "source": [
        "fulldata"
      ]
    },
    {
      "cell_type": "code",
      "execution_count": 45,
      "metadata": {},
      "outputs": [
        {
          "ename": "KeyError",
          "evalue": "'Label'",
          "output_type": "error",
          "traceback": [
            "\u001b[1;31m---------------------------------------------------------------------------\u001b[0m",
            "\u001b[1;31mKeyError\u001b[0m                                  Traceback (most recent call last)",
            "\u001b[1;32mc:\\Final Year Project\\Separate_Attack_Training_FL_mixed-perfect.ipynb Cell 12\u001b[0m line \u001b[0;36m3\n\u001b[0;32m      <a href='vscode-notebook-cell:/c%3A/Final%20Year%20Project/Separate_Attack_Training_FL_mixed-perfect.ipynb#X13sZmlsZQ%3D%3D?line=0'>1</a>\u001b[0m fulldata \u001b[39m=\u001b[39m pd\u001b[39m.\u001b[39mconcat([pd\u001b[39m.\u001b[39mDataFrame(fulldata), fulldatalabels])\n\u001b[0;32m      <a href='vscode-notebook-cell:/c%3A/Final%20Year%20Project/Separate_Attack_Training_FL_mixed-perfect.ipynb#X13sZmlsZQ%3D%3D?line=1'>2</a>\u001b[0m \u001b[39mfor\u001b[39;00m i \u001b[39min\u001b[39;00m attackdata:\n\u001b[1;32m----> <a href='vscode-notebook-cell:/c%3A/Final%20Year%20Project/Separate_Attack_Training_FL_mixed-perfect.ipynb#X13sZmlsZQ%3D%3D?line=2'>3</a>\u001b[0m     attackdata[i] \u001b[39m=\u001b[39m fulldata[fulldata[\u001b[39m'\u001b[39;49m\u001b[39mLabel\u001b[39;49m\u001b[39m'\u001b[39;49m] \u001b[39m==\u001b[39m i]\n\u001b[0;32m      <a href='vscode-notebook-cell:/c%3A/Final%20Year%20Project/Separate_Attack_Training_FL_mixed-perfect.ipynb#X13sZmlsZQ%3D%3D?line=3'>4</a>\u001b[0m bendata \u001b[39m=\u001b[39m fulldata[fulldata[\u001b[39m'\u001b[39m\u001b[39mLabel\u001b[39m\u001b[39m'\u001b[39m] \u001b[39m==\u001b[39m \u001b[39m'\u001b[39m\u001b[39mBenign\u001b[39m\u001b[39m'\u001b[39m]\n",
            "File \u001b[1;32mc:\\Users\\amenu4aie20110\\AppData\\Local\\Programs\\Python\\Python310\\lib\\site-packages\\pandas\\core\\frame.py:3896\u001b[0m, in \u001b[0;36mDataFrame.__getitem__\u001b[1;34m(self, key)\u001b[0m\n\u001b[0;32m   3894\u001b[0m \u001b[39mif\u001b[39;00m \u001b[39mself\u001b[39m\u001b[39m.\u001b[39mcolumns\u001b[39m.\u001b[39mnlevels \u001b[39m>\u001b[39m \u001b[39m1\u001b[39m:\n\u001b[0;32m   3895\u001b[0m     \u001b[39mreturn\u001b[39;00m \u001b[39mself\u001b[39m\u001b[39m.\u001b[39m_getitem_multilevel(key)\n\u001b[1;32m-> 3896\u001b[0m indexer \u001b[39m=\u001b[39m \u001b[39mself\u001b[39;49m\u001b[39m.\u001b[39;49mcolumns\u001b[39m.\u001b[39;49mget_loc(key)\n\u001b[0;32m   3897\u001b[0m \u001b[39mif\u001b[39;00m is_integer(indexer):\n\u001b[0;32m   3898\u001b[0m     indexer \u001b[39m=\u001b[39m [indexer]\n",
            "File \u001b[1;32mc:\\Users\\amenu4aie20110\\AppData\\Local\\Programs\\Python\\Python310\\lib\\site-packages\\pandas\\core\\indexes\\range.py:418\u001b[0m, in \u001b[0;36mRangeIndex.get_loc\u001b[1;34m(self, key)\u001b[0m\n\u001b[0;32m    416\u001b[0m         \u001b[39mraise\u001b[39;00m \u001b[39mKeyError\u001b[39;00m(key) \u001b[39mfrom\u001b[39;00m \u001b[39merr\u001b[39;00m\n\u001b[0;32m    417\u001b[0m \u001b[39mif\u001b[39;00m \u001b[39misinstance\u001b[39m(key, Hashable):\n\u001b[1;32m--> 418\u001b[0m     \u001b[39mraise\u001b[39;00m \u001b[39mKeyError\u001b[39;00m(key)\n\u001b[0;32m    419\u001b[0m \u001b[39mself\u001b[39m\u001b[39m.\u001b[39m_check_indexing_error(key)\n\u001b[0;32m    420\u001b[0m \u001b[39mraise\u001b[39;00m \u001b[39mKeyError\u001b[39;00m(key)\n",
            "\u001b[1;31mKeyError\u001b[0m: 'Label'"
          ]
        }
      ],
      "source": [
        "fulldata = pd.concat([pd.DataFrame(fulldata), fulldatalabels], axis=1)\n",
        "for i in attackdata:\n",
        "    attackdata[i] = fulldata[fulldata['Label'] == i]\n",
        "bendata = fulldata[fulldata['Label'] == 'Benign']"
      ]
    },
    {
      "cell_type": "code",
      "execution_count": 44,
      "metadata": {},
      "outputs": [
        {
          "data": {
            "text/plain": [
              "array([[-0.96437223, -0.20117078, -0.02059901, ..., -0.03783119,\n",
              "        -0.20341537, -0.20134137],\n",
              "       [-0.96437223, -0.20271218, -0.02097168, ..., -0.03783119,\n",
              "        -0.20341537, -0.20134137],\n",
              "       [-0.96437223, -0.20174749, -0.02059901, ..., -0.03783119,\n",
              "        -0.20341537, -0.20134137],\n",
              "       ...,\n",
              "       [ 1.03524222, -0.20265928, -0.02097168, ..., -0.03783119,\n",
              "        -0.20341537, -0.20134137],\n",
              "       [ 1.03524222, -0.20268344, -0.02097168, ..., -0.03783119,\n",
              "        -0.20341537, -0.20134137],\n",
              "       [ 1.03524222, -0.20263214, -0.02134435, ..., -0.03783119,\n",
              "        -0.20341537, -0.20134137]])"
            ]
          },
          "execution_count": 44,
          "metadata": {},
          "output_type": "execute_result"
        }
      ],
      "source": [
        "fulldata"
      ]
    },
    {
      "cell_type": "code",
      "execution_count": null,
      "metadata": {},
      "outputs": [],
      "source": [
        "del fulldata"
      ]
    },
    {
      "cell_type": "code",
      "execution_count": 7,
      "metadata": {},
      "outputs": [
        {
          "name": "stdout",
          "output_type": "stream",
          "text": [
            "Bot.csv\n",
            "DDOS attack-HOIC.csv\n",
            "DDoS attacks-LOIC-HTTP.csv\n",
            "DoS attacks-Hulk.csv\n",
            "DoS attacks-SlowHTTPTest.csv\n",
            "FTP-BruteForce.csv\n",
            "Infilteration.csv\n",
            "SSH-Bruteforce.csv\n"
          ]
        }
      ],
      "source": [
        "attbenmixdata = {}\n",
        "mixbendata = bendata[:int(bendata.shape[0]*0.05)]\n",
        "for i in attackdata:\n",
        "  if attackdata[i].shape[0] > 100000:\n",
        "    print(i)\n",
        "    attbenmixdata[i] = pd.concat([attackdata[i][:int(attackdata[i].shape[0]*0.7)], mixbendata], axis=0)\n",
        "    attbenmixdata[i] = attbenmixdata[i].sample(frac=1).reset_index(drop=True)"
      ]
    },
    {
      "cell_type": "code",
      "execution_count": 8,
      "metadata": {},
      "outputs": [
        {
          "name": "stdout",
          "output_type": "stream",
          "text": [
            "Bot.csv : (323198, 76)\n",
            "Bot       200333\n",
            "Benign    122865\n",
            "Name: Label, dtype: int64\n",
            "DDOS attack-HOIC.csv : (603073, 76)\n",
            "DDOS attack-HOIC    480208\n",
            "Benign              122865\n",
            "Name: Label, dtype: int64\n",
            "DDoS attacks-LOIC-HTTP.csv : (526198, 76)\n",
            "DDoS attacks-LOIC-HTTP    403333\n",
            "Benign                    122865\n",
            "Name: Label, dtype: int64\n",
            "DoS attacks-Hulk.csv : (446203, 76)\n",
            "DoS attacks-Hulk    323338\n",
            "Benign              122865\n",
            "Name: Label, dtype: int64\n",
            "DoS attacks-SlowHTTPTest.csv : (220788, 76)\n",
            "Benign                      122865\n",
            "DoS attacks-SlowHTTPTest     97923\n",
            "Name: Label, dtype: int64\n",
            "FTP-BruteForce.csv : (258212, 76)\n",
            "FTP-BruteForce    135347\n",
            "Benign            122865\n",
            "Name: Label, dtype: int64\n",
            "Infilteration.csv : (235382, 76)\n",
            "Benign           122865\n",
            "Infilteration    112517\n",
            "Name: Label, dtype: int64\n",
            "SSH-Bruteforce.csv : (254177, 76)\n",
            "SSH-Bruteforce    131312\n",
            "Benign            122865\n",
            "Name: Label, dtype: int64\n"
          ]
        }
      ],
      "source": [
        "for i in attbenmixdata:\n",
        "  print(i + \" : \" + str(attbenmixdata[i].shape))\n",
        "  print(attbenmixdata[i]['Label'].value_counts())"
      ]
    },
    {
      "cell_type": "code",
      "execution_count": 9,
      "metadata": {},
      "outputs": [],
      "source": [
        "attbenmixdatalabels = {}\n",
        "for i in attbenmixdata:\n",
        "  attbenmixdatalabels[i] = attbenmixdata[i]['Label']\n",
        "  attbenmixdata[i].drop(['Label'], axis=1, inplace=True)"
      ]
    },
    {
      "cell_type": "code",
      "execution_count": 10,
      "metadata": {},
      "outputs": [],
      "source": [
        "for i in attackdata:\n",
        "  attackdata[i].drop(['Label'], axis=1, inplace=True)\n",
        "bendata.drop(['Label'], axis=1, inplace=True)"
      ]
    },
    {
      "cell_type": "code",
      "execution_count": 20,
      "metadata": {
        "id": "-QiC8hkiJKf4",
        "outputId": "cb62f840-ac5a-4ed6-9807-1f5bfd529658"
      },
      "outputs": [
        {
          "name": "stdout",
          "output_type": "stream",
          "text": [
            "Bot.csv : (286191, 75)\n",
            "Brute Force -Web.csv : (611, 75)\n",
            "Brute Force -XSS.csv : (230, 75)\n",
            "DDOS attack-HOIC.csv : (686012, 75)\n",
            "DDOS attack-LOIC-UDP.csv : (1730, 75)\n",
            "DDoS attacks-LOIC-HTTP.csv : (576191, 75)\n",
            "DoS attacks-GoldenEye.csv : (41508, 75)\n",
            "DoS attacks-Hulk.csv : (461912, 75)\n",
            "DoS attacks-SlowHTTPTest.csv : (139890, 75)\n",
            "DoS attacks-Slowloris.csv : (10990, 75)\n",
            "FTP-BruteForce.csv : (193354, 75)\n",
            "Infilteration.csv : (160739, 75)\n",
            "SQL Injection.csv : (87, 75)\n",
            "SSH-Bruteforce.csv : (187589, 75)\n"
          ]
        }
      ],
      "source": [
        "#printing the shapes of the data\n",
        "for i in attackdata:\n",
        "  print(i + \" : \" + str(attackdata[i].shape))"
      ]
    },
    {
      "cell_type": "code",
      "execution_count": 5,
      "metadata": {},
      "outputs": [],
      "source": [
        "#find minimum length for selecting equal number of samples from each class\n",
        "set_len = []\n",
        "not_set_len = []\n",
        "for i in attackdata:\n",
        "    if attackdata[i].shape[0] > 100000:\n",
        "        set_len.append(attackdata[i].shape[0])\n",
        "    else:\n",
        "        not_set_len.append(attackdata[i].shape[0])\n",
        "set_len = min(set_len)\n",
        "not_set_len = min(not_set_len)"
      ]
    },
    {
      "cell_type": "code",
      "execution_count": 6,
      "metadata": {},
      "outputs": [],
      "source": [
        "#combine all attack data\n",
        "selectedattackbenmix = pd.DataFrame()\n",
        "notselectedattackbenmix = pd.DataFrame()\n",
        "for i in attackdata:\n",
        "    if attackdata[i].shape[0] > 100000:\n",
        "        selectedattackbenmix = pd.concat([selectedattackbenmix, attackdata[i][:set_len]], axis=0)\n",
        "    else:\n",
        "        notselectedattackbenmix = pd.concat([notselectedattackbenmix, attackdata[i][:not_set_len]], axis=0)"
      ]
    },
    {
      "cell_type": "code",
      "execution_count": 7,
      "metadata": {},
      "outputs": [
        {
          "name": "stdout",
          "output_type": "stream",
          "text": [
            "Bot                         139890\n",
            "DDOS attack-HOIC            139890\n",
            "DDoS attacks-LOIC-HTTP      139890\n",
            "DoS attacks-Hulk            139890\n",
            "DoS attacks-SlowHTTPTest    139890\n",
            "FTP-BruteForce              139890\n",
            "Infilteration               139890\n",
            "SSH-Bruteforce              139890\n",
            "Benign                      139890\n",
            "Name: Label, dtype: int64\n",
            "Brute Force -Web         87\n",
            "Brute Force -XSS         87\n",
            "DDOS attack-LOIC-UDP     87\n",
            "DoS attacks-GoldenEye    87\n",
            "DoS attacks-Slowloris    87\n",
            "SQL Injection            87\n",
            "Benign                   87\n",
            "Name: Label, dtype: int64\n"
          ]
        }
      ],
      "source": [
        "#combine selected and not selected attack data with benign data\n",
        "selectedattackbenmix = pd.concat([selectedattackbenmix, bendata[:set_len]], axis=0)\n",
        "notselectedattackbenmix = pd.concat([notselectedattackbenmix, bendata[:not_set_len]], axis=0)\n",
        "print(selectedattackbenmix['Label'].value_counts())\n",
        "print(notselectedattackbenmix['Label'].value_counts())"
      ]
    },
    {
      "cell_type": "code",
      "execution_count": 21,
      "metadata": {
        "id": "wDYta4F9DA9Z"
      },
      "outputs": [
        {
          "name": "stdout",
          "output_type": "stream",
          "text": [
            "bendata : (2457307, 75)\n"
          ]
        }
      ],
      "source": [
        "print('bendata' + \" : \" + str(bendata.shape))"
      ]
    },
    {
      "cell_type": "code",
      "execution_count": 22,
      "metadata": {
        "id": "dwj97zQuI-VU",
        "outputId": "bb607b8b-6632-4908-9f16-5aef8711db8d"
      },
      "outputs": [
        {
          "data": {
            "text/plain": [
              "14"
            ]
          },
          "execution_count": 22,
          "metadata": {},
          "output_type": "execute_result"
        }
      ],
      "source": [
        "len(attackdata)"
      ]
    },
    {
      "cell_type": "code",
      "execution_count": 23,
      "metadata": {
        "id": "LCBO3J8zgdgJ"
      },
      "outputs": [],
      "source": [
        "#loading data into pytorch dataloader as train and test\n",
        "devices = []\n",
        "batch_size = 128\n",
        "train_loader = {}\n",
        "test_loader = {}\n",
        "for i in attackdata:\n",
        "  if attackdata[i].shape[0] > 100000:\n",
        "    train_loader[i] = torch.utils.data.DataLoader(attackdata[i][:int(attackdata[i].shape[0]*0.9)], batch_size = batch_size, shuffle=True)\n",
        "    test_loader[i] = torch.utils.data.DataLoader(attackdata[i][int(attackdata[i].shape[0]*0.9):], batch_size = batch_size, shuffle=True)\n",
        "    devices.append(i)"
      ]
    },
    {
      "cell_type": "code",
      "execution_count": 24,
      "metadata": {},
      "outputs": [
        {
          "name": "stdout",
          "output_type": "stream",
          "text": [
            "224\n",
            "536\n",
            "451\n",
            "361\n",
            "110\n",
            "152\n",
            "126\n",
            "147\n"
          ]
        }
      ],
      "source": [
        "for i in attackdata:\n",
        "  if attackdata[i].shape[0] > 100000:\n",
        "    print(len(test_loader[i]))"
      ]
    },
    {
      "cell_type": "code",
      "execution_count": 25,
      "metadata": {
        "id": "B3TCx-WgDA9a"
      },
      "outputs": [],
      "source": [
        "ben_loader = torch.utils.data.DataLoader(bendata[int(bendata.shape[0]*0.9):], batch_size = batch_size, shuffle=True)"
      ]
    },
    {
      "cell_type": "code",
      "execution_count": 26,
      "metadata": {},
      "outputs": [],
      "source": [
        "attbenmixdata_loader = {}\n",
        "for i in attbenmixdata:\n",
        "    attbenmixdata_loader[i] = torch.utils.data.DataLoader(attbenmixdata[i], batch_size = batch_size, shuffle=True)"
      ]
    },
    {
      "cell_type": "code",
      "execution_count": null,
      "metadata": {},
      "outputs": [],
      "source": [
        "selectedattackbenmix_loader = torch.utils.data.DataLoader(selectedattackbenmix, batch_size = batch_size, shuffle=True)\n",
        "notselectedattackbenmix_loader = torch.utils.data.DataLoader(notselectedattackbenmix, batch_size = batch_size, shuffle=True)"
      ]
    },
    {
      "cell_type": "code",
      "execution_count": 27,
      "metadata": {
        "id": "deSST083Kesa",
        "outputId": "e8ff9610-7059-4c54-b405-cdf13271fca8"
      },
      "outputs": [],
      "source": [
        "train_loader['Benign.csv'] = ben_loader"
      ]
    },
    {
      "cell_type": "code",
      "execution_count": 28,
      "metadata": {},
      "outputs": [],
      "source": [
        "devices.append('Benign.csv')"
      ]
    },
    {
      "cell_type": "code",
      "execution_count": 29,
      "metadata": {},
      "outputs": [
        {
          "data": {
            "text/plain": [
              "9"
            ]
          },
          "execution_count": 29,
          "metadata": {},
          "output_type": "execute_result"
        }
      ],
      "source": [
        "len(train_loader)"
      ]
    },
    {
      "cell_type": "code",
      "execution_count": 30,
      "metadata": {
        "id": "R7qV9yUoWfUg",
        "outputId": "85e3c27b-8c1c-4034-f7c8-d9877b4beb87"
      },
      "outputs": [
        {
          "data": {
            "text/plain": [
              "9"
            ]
          },
          "execution_count": 30,
          "metadata": {},
          "output_type": "execute_result"
        }
      ],
      "source": [
        "len(devices)"
      ]
    },
    {
      "cell_type": "code",
      "execution_count": 31,
      "metadata": {
        "id": "XAsJUgfC5IuY"
      },
      "outputs": [],
      "source": [
        "#initialising config variables\n",
        "num_clients = len(train_loader)      # Number of clients\n",
        "num_selected = len(train_loader)    # Typically, num_selected is around 30–40% of the num_clients.\n",
        "#baseline_num = 1000  # choose some data from the train set to retrain the data from trained model\n",
        "num_rounds = 5  #100      # Total number of communication rounds for the global model to train.\n",
        "epochs = 3          # for train client model\n",
        "retrain_epochs = 3  # Total number of retraining rounds on the global server after receiving the model weights\n",
        "                      # from all the clients that participated in the communication round."
      ]
    },
    {
      "attachments": {},
      "cell_type": "markdown",
      "metadata": {
        "id": "uF4N6pX57Bmo"
      },
      "source": [
        "## FedAvg / FedAvgM"
      ]
    },
    {
      "cell_type": "code",
      "execution_count": 32,
      "metadata": {
        "id": "GEhJPuT5633Z"
      },
      "outputs": [],
      "source": [
        "# aggregates the model weights received from every client\n",
        "# and updates the global model with updated weights\n",
        "\n",
        "# FedAvg\n",
        "def server_aggregate(global_model, client_models, client_lens):\n",
        "    total = sum(client_lens)\n",
        "    n = len(client_models)\n",
        "    # n = num_selected\n",
        "    global_dict = global_model.state_dict()\n",
        "    for k in global_dict.keys(): # calculate average weight/bias --> avg_w/b\n",
        "        global_dict[k] -= torch.stack([client_models[i].state_dict()[k].float() * (n * client_lens[i] / total) for i in range(len(client_models))], 0).mean(0)\n",
        "    global_model.load_state_dict(global_dict)\n",
        "    for model in client_models:\n",
        "        model.load_state_dict(global_model.state_dict()) # local model get updated weight/bias\n",
        "\n",
        "# FedAvgM\n",
        "def server_aggregate_M(global_model, client_models, client_lens):\n",
        "    total = sum(client_lens)    # 592    sum [51, 122, 162, 257]\n",
        "    n = len(client_models)      # 4 local clients\n",
        "    global_dict = global_model.state_dict() # weight/bias dict --> {'encoder.0.weight': Tensor with shape torch.Size([86, 115]), 'encoder.0.bias':....} 16 items\n",
        "    temp = copy.deepcopy(global_dict)       # temporary weight/bias dict\n",
        "    v = {x:1 for x in copy.deepcopy(global_dict)}   # initialise v\n",
        "\n",
        "    for i,k in enumerate(global_dict.keys()):\n",
        "        # calculate average weight/bias --> avg_w/b\n",
        "        temp[k] = torch.stack([client_models[i].state_dict()[k].float() * (n * client_lens[i] / total) for i in range(len(client_models))], 0).mean(0)\n",
        "        temp_v = 0.9 * v[k] + temp[k]               # v = 0.9v + avg_w/b   momentum=0.9\n",
        "        global_dict[k] = global_dict[k] - temp_v    # w = w - v\n",
        "    global_model.load_state_dict(global_dict)\n",
        "\n",
        "    for model in client_models:\n",
        "        model.load_state_dict(global_model.state_dict()) # local model get updated weight/bias\n",
        "\n"
      ]
    },
    {
      "cell_type": "code",
      "execution_count": 33,
      "metadata": {
        "id": "iqaFf_cS5Ifg"
      },
      "outputs": [],
      "source": [
        "# for updates/trains client model on client data\n",
        "# local training round that takes place for every selected client\n",
        "\n",
        "def client_update(client_model, optimizer, train_data, epoch=3):\n",
        "    client_model.train()\n",
        "    for e in range(epoch):\n",
        "        running_loss = 0.0\n",
        "        for data in train_data:\n",
        "          output = client_model(data.float()) # tensor 115\n",
        "          optimizer.zero_grad()\n",
        "          # criterion = nn.MSELoss(reduction='mean')\n",
        "          # loss = criterion(data.to(device), output)\n",
        "          loss = nn.MSELoss(reduction='mean')(data.float().to(device), output)\n",
        "          loss.backward()\n",
        "          optimizer.step()\n",
        "          # print(loss.item())\n",
        "          running_loss += loss.item()\n",
        "        # print(running_loss)\n",
        "        epoch_loss = running_loss/len(train_data)\n",
        "        # metrics['train_loss'].append(epoch_loss)\n",
        "    return epoch_loss\n",
        "    # return loss.item()\n",
        "\n",
        "\n",
        "\n",
        "# synchronizes the client model with global weights (before training)\n",
        "\n",
        "def client_syn(client_model, global_model):\n",
        "    client_model.load_state_dict(global_model.state_dict())\n"
      ]
    },
    {
      "attachments": {},
      "cell_type": "markdown",
      "metadata": {
        "id": "sPE5Fx5I7HZM"
      },
      "source": [
        "## Deep Auto-encoder Model"
      ]
    },
    {
      "cell_type": "code",
      "execution_count": 34,
      "metadata": {
        "id": "QkVroa1V5IjN"
      },
      "outputs": [],
      "source": [
        "# Deep Auto-encoder model\n",
        "\n",
        "input_dim = 75\n",
        "class AEModel(nn.Module):\n",
        "    def __init__(self, input_dim):\n",
        "        super(AEModel, self).__init__()\n",
        "        self.fc1 = nn.Linear(input_dim, input_dim)\n",
        "        #self.bn1 = nn.BatchNorm1d(input_dim)\n",
        "        self.fc2 = nn.Linear(input_dim, 32)\n",
        "        #self.bn2 = nn.BatchNorm1d(32)\n",
        "        self.fc3 = nn.Linear(32, 16)\n",
        "        #self.bn3 = nn.BatchNorm1d(16)\n",
        "        self.fc4 = nn.Linear(16, 8)\n",
        "        #self.bn4 = nn.BatchNorm1d(8)\n",
        "        self.fc5 = nn.Linear(8, 8)\n",
        "        #self.bn5 = nn.BatchNorm1d(8)\n",
        "        self.fc6 = nn.Linear(8, 16)\n",
        "        #self.bn6 = nn.BatchNorm1d(16)\n",
        "        self.fc7 = nn.Linear(16, 32)\n",
        "        #self.bn7 = nn.BatchNorm1d(32)\n",
        "        self.fc8 = nn.Linear(32, input_dim)\n",
        "        #self.bn8 = nn.BatchNorm1d(input_dim)\n",
        "        self.fc9 = nn.Linear(input_dim, input_dim)\n",
        "        self.activation = nn.Tanh()\n",
        "\n",
        "        # Initialize weights using He initialization with Tanh\n",
        "        nn.init.kaiming_normal_(self.fc1.weight, nonlinearity='relu')\n",
        "        nn.init.kaiming_normal_(self.fc2.weight, nonlinearity='relu')\n",
        "        nn.init.kaiming_normal_(self.fc3.weight, nonlinearity='relu')\n",
        "        nn.init.kaiming_normal_(self.fc4.weight, nonlinearity='relu')\n",
        "        nn.init.kaiming_normal_(self.fc5.weight, nonlinearity='relu')\n",
        "        nn.init.kaiming_normal_(self.fc6.weight, nonlinearity='relu')\n",
        "        nn.init.kaiming_normal_(self.fc7.weight, nonlinearity='relu')\n",
        "        nn.init.kaiming_normal_(self.fc8.weight, nonlinearity='relu')\n",
        "        nn.init.kaiming_normal_(self.fc9.weight, nonlinearity='relu')\n",
        "\n",
        "    def forward(self, x):\n",
        "        x = self.fc1(x)\n",
        "        #x = self.bn1(x)\n",
        "        x = self.activation(x)\n",
        "        x = self.fc2(x)\n",
        "        #x = self.bn2(x)\n",
        "        x = self.activation(x)\n",
        "        x = self.fc3(x)\n",
        "        #x = self.bn3(x)\n",
        "        x = self.activation(x)\n",
        "        x = self.fc4(x)\n",
        "        #x = self.bn4(x)\n",
        "        x = self.activation(x)\n",
        "        x = self.fc5(x)\n",
        "        #x = self.bn5(x)\n",
        "        x = self.activation(x)\n",
        "        x = self.fc6(x)\n",
        "        #x = self.bn6(x)\n",
        "        x = self.activation(x)\n",
        "        x = self.fc7(x)\n",
        "        #x = self.bn7(x)\n",
        "        x = self.activation(x)\n",
        "        x = self.fc8(x)\n",
        "        #x = self.bn8(x)\n",
        "        x = self.activation(x)\n",
        "        x = self.fc9(x)\n",
        "        return x"
      ]
    },
    {
      "attachments": {},
      "cell_type": "markdown",
      "metadata": {
        "id": "aAX3Z0BI8JDQ"
      },
      "source": [
        "## Initialisation"
      ]
    },
    {
      "cell_type": "code",
      "execution_count": 41,
      "metadata": {
        "id": "ZDbfUGGW63zk"
      },
      "outputs": [],
      "source": [
        "# Initializing models and optimizer\n",
        "\n",
        "global_model = AEModel(input_dim).to(device)\n",
        "client_models = [AEModel(input_dim).to(device) for _ in range(num_selected)] # part or all clients\n",
        "# print(client_models)\n",
        "for model in client_models:\n",
        "    model.load_state_dict(global_model.state_dict())\n",
        "\n",
        "# method_env = {'lr': (0.012, 0.012, 0.012, 0.0005)}\n",
        "opt = [torch.optim.SGD(model.parameters(), lr = 0.012, weight_decay=1e-05, momentum=0.9) for model in client_models]\n",
        "# lr_list = [0.012, 0.012, 0.012, 0.00005]\n",
        "# # opt = [torch.optim.SGD(model.parameters(), lr = lr_list[client_models.index(model)], weight_decay=1e-05, momentum=0.9) for model in client_models]\n",
        "# opt = [torch.optim.Adam(model.parameters(), lr = lr_list[client_models.index(model)], weight_decay=1e-05) for model in client_models]\n",
        "# opt = [torch.optim.Adam(model.parameters(), lr = 0.012, weight_decay=1e-05) for model in client_models]"
      ]
    },
    {
      "attachments": {},
      "cell_type": "markdown",
      "metadata": {
        "id": "YuOW_VP89i7j"
      },
      "source": [
        "# Training Federated Model"
      ]
    },
    {
      "cell_type": "code",
      "execution_count": 42,
      "metadata": {
        "id": "rT-jMXex63t8",
        "outputId": "dcce896e-cf42-49da-b608-95868864b0a7"
      },
      "outputs": [
        {
          "name": "stdout",
          "output_type": "stream",
          "text": [
            "\n",
            "round:  1\n",
            "client_idx:  [0, 1, 2, 3, 4, 5, 6, 7, 8]\n"
          ]
        },
        {
          "name": "stderr",
          "output_type": "stream",
          "text": [
            "100%|██████████| 8/8 [17:14<00:00, 129.33s/it]\n",
            "100%|██████████| 1/1 [01:47<00:00, 107.34s/it]\n"
          ]
        },
        {
          "name": "stdout",
          "output_type": "stream",
          "text": [
            "\n",
            "client_loss:  0.7544739882679206\n",
            "\n",
            "round:  2\n",
            "client_idx:  [0, 1, 2, 3, 4, 5, 6, 7, 8]\n"
          ]
        },
        {
          "name": "stderr",
          "output_type": "stream",
          "text": [
            "100%|██████████| 8/8 [19:16<00:00, 144.62s/it]\n",
            "100%|██████████| 1/1 [01:04<00:00, 64.85s/it]\n"
          ]
        },
        {
          "name": "stdout",
          "output_type": "stream",
          "text": [
            "\n",
            "client_loss:  4.729397336145051\n",
            "\n",
            "round:  3\n",
            "client_idx:  [0, 1, 2, 3, 4, 5, 6, 7, 8]\n"
          ]
        },
        {
          "name": "stderr",
          "output_type": "stream",
          "text": [
            "100%|██████████| 8/8 [07:03<00:00, 52.93s/it] \n",
            "100%|██████████| 1/1 [00:36<00:00, 36.82s/it]\n"
          ]
        },
        {
          "name": "stdout",
          "output_type": "stream",
          "text": [
            "\n",
            "client_loss:  4.729047754875731\n",
            "\n",
            "round:  4\n",
            "client_idx:  [0, 1, 2, 3, 4, 5, 6, 7, 8]\n"
          ]
        },
        {
          "name": "stderr",
          "output_type": "stream",
          "text": [
            "100%|██████████| 8/8 [05:42<00:00, 42.86s/it]\n",
            "100%|██████████| 1/1 [00:41<00:00, 41.31s/it]\n"
          ]
        },
        {
          "name": "stdout",
          "output_type": "stream",
          "text": [
            "\n",
            "client_loss:  4.728907635100231\n",
            "\n",
            "round:  5\n",
            "client_idx:  [0, 1, 2, 3, 4, 5, 6, 7, 8]\n"
          ]
        },
        {
          "name": "stderr",
          "output_type": "stream",
          "text": [
            "100%|██████████| 8/8 [04:56<00:00, 37.04s/it]\n",
            "100%|██████████| 1/1 [00:27<00:00, 27.18s/it]"
          ]
        },
        {
          "name": "stdout",
          "output_type": "stream",
          "text": [
            "\n",
            "client_loss:  4.729503680126443\n",
            "\n",
            "TIME: 58.866390478610995mins\n"
          ]
        },
        {
          "name": "stderr",
          "output_type": "stream",
          "text": [
            "\n"
          ]
        }
      ],
      "source": [
        "# Train Client Model and Global Model\n",
        "train_loss_client = []\n",
        "train_loss_global = []\n",
        "train_loss_per_client = [[] for i in range(num_clients)]\n",
        "train_loss_benign = []\n",
        "\n",
        "start_time = time.time()\n",
        "\n",
        "for r in range(num_rounds): # total number of rounds\n",
        "\n",
        "    print('\\nround: ', r+1)\n",
        "    # num_selected = random.choice(range(1,num_clients))\n",
        "    #client_idx = np.random.permutation(num_clients)[:num_selected] # random pick some clients from all clients for train\n",
        "    client_idx = list(range(num_clients))\n",
        "    print('client_idx: ',client_idx)\n",
        "    client_lens = [len(train_loader[devices[idx]]) for idx in client_idx ] # Need to fix this. It is part of server aggregation.\n",
        "    # client_lens = [len(train_lotrain_loaderader[idx]) for idx in client_idx ]\n",
        "    #print(client_lens)\n",
        "\n",
        "\n",
        "    #### client update ####\n",
        "    loss = 0\n",
        "    for i in tqdm(range(num_selected-1)): # num_selected-1 because last client is benign\n",
        "        # print(i)\n",
        "        client_syn(client_models[i], global_model)\n",
        "        # print(train_loader[devices[client_idx[i]]])\n",
        "        l = client_update(client_models[i], opt[i], train_loader[devices[client_idx[i]]], epochs)\n",
        "        train_loss_per_client[i].append(l)\n",
        "        loss += l\n",
        "    train_loss_client.append(loss)\n",
        "\n",
        "    #### benign client update ####\n",
        "    for i in tqdm(range(1)):\n",
        "        l = client_update(client_models[-1], opt[-1], train_loader[devices[client_idx[-1]]], epochs)\n",
        "        train_loss_benign.append(l)\n",
        "\n",
        "\n",
        "    #### retraining on the global server ####\n",
        "    #loss_retrain = 0\n",
        "    #for i in tqdm(range(num_selected)):\n",
        "    #    loss_retrain += client_update(client_models[i], opt[i], baseline_data[devices[client_idx[i]]], retrain_epochs)\n",
        "    #train_loss_global.append(loss_retrain/num_selected)\n",
        "\n",
        "    attackclients = []\n",
        "    for i in devices:\n",
        "        if i != 'Benign.csv':\n",
        "            attackclients.append(client_models[devices.index(i)])\n",
        "    \n",
        "    ### aggregate models ###\n",
        "    server_aggregate(global_model, attackclients, client_lens)      # FedAvg\n",
        "    #server_aggregate_M(global_model, attackclients, client_lens)    # FedAvgM\n",
        "\n",
        "    print(\"\\nclient_loss: \", loss)\n",
        "    #print('global_loss: ', loss_retrain/num_selected)\n",
        "\n",
        "time_required = time.time() - start_time\n",
        "print('\\nTIME: {}mins'.format(time_required/60))"
      ]
    },
    {
      "cell_type": "code",
      "execution_count": 43,
      "metadata": {},
      "outputs": [
        {
          "name": "stdout",
          "output_type": "stream",
          "text": [
            "[0.25513920929653955, 0.8117035043754806, 0.8116554139978662, 0.8116529687565474, 0.811653197862826]\n",
            "[0.011596374177303671, 0.6741027652933131, 0.6740690499890107, 0.6740769169433892, 0.6740741317421445]\n",
            "[0.08505046766350503, 0.7847185161365573, 0.7846796940956982, 0.7846832757876397, 0.7847007457001424]\n",
            "[0.055999472311346214, 0.757763458704897, 0.7577507647919685, 0.7577449400367885, 0.7577247472612986]\n",
            "[0.0007821167723446204, 0.07996912667436934, 0.07997793739101267, 0.0799826081289448, 0.07998059064195287]\n",
            "[0.0005354803100785562, 0.07988700885873506, 0.07987971386927016, 0.07988593335372998, 0.07988488036755692]\n",
            "[0.3094827628617894, 0.9253084895939663, 0.9251105428321713, 0.9249541967132258, 0.9255664351237337]\n",
            "[0.03588810487501352, 0.615944466507733, 0.6159246379087331, 0.6159267953799655, 0.6159189514267888]\n",
            "[]\n"
          ]
        }
      ],
      "source": [
        "for i in range(len(train_loss_per_client)):\n",
        "  print(train_loss_per_client[i])"
      ]
    },
    {
      "cell_type": "code",
      "execution_count": null,
      "metadata": {
        "id": "mTE7-ISNDA9e"
      },
      "outputs": [],
      "source": [
        "# save model\n",
        "torch.save(global_model,'D:/Amrita College/OneDrive - Amrita university/Semester 7/Codes/Final Year Project/models/globalattackmodel.pt')"
      ]
    },
    {
      "cell_type": "code",
      "execution_count": 70,
      "metadata": {
        "id": "WbFb24eT6ggV"
      },
      "outputs": [
        {
          "ename": "RuntimeError",
          "evalue": "Parent directory D:/Amrita College/OneDrive - Amrita university/Semester 7/Codes/Final Year Project/models/clients does not exist.",
          "output_type": "error",
          "traceback": [
            "\u001b[1;31m---------------------------------------------------------------------------\u001b[0m",
            "\u001b[1;31mRuntimeError\u001b[0m                              Traceback (most recent call last)",
            "\u001b[1;32me:\\S7\\Final Year Project\\Separate_Attack_Training_FL_2.ipynb Cell 29\u001b[0m line \u001b[0;36m2\n\u001b[0;32m      <a href='vscode-notebook-cell:/e%3A/S7/Final%20Year%20Project/Separate_Attack_Training_FL_2.ipynb#X36sZmlsZQ%3D%3D?line=0'>1</a>\u001b[0m \u001b[39mfor\u001b[39;00m i \u001b[39min\u001b[39;00m \u001b[39mrange\u001b[39m(\u001b[39mlen\u001b[39m(devices)):\n\u001b[1;32m----> <a href='vscode-notebook-cell:/e%3A/S7/Final%20Year%20Project/Separate_Attack_Training_FL_2.ipynb#X36sZmlsZQ%3D%3D?line=1'>2</a>\u001b[0m   torch\u001b[39m.\u001b[39;49msave(client_models[i],\u001b[39m'\u001b[39;49m\u001b[39mD:/Amrita College/OneDrive - Amrita university/Semester 7/Codes/Final Year Project/models/clients/\u001b[39;49m\u001b[39m'\u001b[39;49m \u001b[39m+\u001b[39;49m devices[i] \u001b[39m+\u001b[39;49m \u001b[39m'\u001b[39;49m\u001b[39m.pt\u001b[39;49m\u001b[39m'\u001b[39;49m)\n",
            "File \u001b[1;32m~\\AppData\\Local\\Packages\\PythonSoftwareFoundation.Python.3.11_qbz5n2kfra8p0\\LocalCache\\local-packages\\Python311\\site-packages\\torch\\serialization.py:618\u001b[0m, in \u001b[0;36msave\u001b[1;34m(obj, f, pickle_module, pickle_protocol, _use_new_zipfile_serialization, _disable_byteorder_record)\u001b[0m\n\u001b[0;32m    615\u001b[0m _check_save_filelike(f)\n\u001b[0;32m    617\u001b[0m \u001b[39mif\u001b[39;00m _use_new_zipfile_serialization:\n\u001b[1;32m--> 618\u001b[0m     \u001b[39mwith\u001b[39;00m _open_zipfile_writer(f) \u001b[39mas\u001b[39;00m opened_zipfile:\n\u001b[0;32m    619\u001b[0m         _save(obj, opened_zipfile, pickle_module, pickle_protocol, _disable_byteorder_record)\n\u001b[0;32m    620\u001b[0m         \u001b[39mreturn\u001b[39;00m\n",
            "File \u001b[1;32m~\\AppData\\Local\\Packages\\PythonSoftwareFoundation.Python.3.11_qbz5n2kfra8p0\\LocalCache\\local-packages\\Python311\\site-packages\\torch\\serialization.py:492\u001b[0m, in \u001b[0;36m_open_zipfile_writer\u001b[1;34m(name_or_buffer)\u001b[0m\n\u001b[0;32m    490\u001b[0m \u001b[39melse\u001b[39;00m:\n\u001b[0;32m    491\u001b[0m     container \u001b[39m=\u001b[39m _open_zipfile_writer_buffer\n\u001b[1;32m--> 492\u001b[0m \u001b[39mreturn\u001b[39;00m container(name_or_buffer)\n",
            "File \u001b[1;32m~\\AppData\\Local\\Packages\\PythonSoftwareFoundation.Python.3.11_qbz5n2kfra8p0\\LocalCache\\local-packages\\Python311\\site-packages\\torch\\serialization.py:463\u001b[0m, in \u001b[0;36m_open_zipfile_writer_file.__init__\u001b[1;34m(self, name)\u001b[0m\n\u001b[0;32m    461\u001b[0m     \u001b[39msuper\u001b[39m()\u001b[39m.\u001b[39m\u001b[39m__init__\u001b[39m(torch\u001b[39m.\u001b[39m_C\u001b[39m.\u001b[39mPyTorchFileWriter(\u001b[39mself\u001b[39m\u001b[39m.\u001b[39mfile_stream))\n\u001b[0;32m    462\u001b[0m \u001b[39melse\u001b[39;00m:\n\u001b[1;32m--> 463\u001b[0m     \u001b[39msuper\u001b[39m()\u001b[39m.\u001b[39m\u001b[39m__init__\u001b[39m(torch\u001b[39m.\u001b[39;49m_C\u001b[39m.\u001b[39;49mPyTorchFileWriter(\u001b[39mself\u001b[39;49m\u001b[39m.\u001b[39;49mname))\n",
            "\u001b[1;31mRuntimeError\u001b[0m: Parent directory D:/Amrita College/OneDrive - Amrita university/Semester 7/Codes/Final Year Project/models/clients does not exist."
          ]
        }
      ],
      "source": [
        "for i in range(len(devices)):\n",
        "  torch.save(client_models[i],'D:/Amrita College/OneDrive - Amrita university/Semester 7/Codes/Final Year Project/models/clients/' + devices[i] + '.pt')"
      ]
    },
    {
      "cell_type": "code",
      "execution_count": 44,
      "metadata": {
        "id": "oI1CQSuoDA9f"
      },
      "outputs": [],
      "source": [
        "def printperformance(model, losses, modelname):\n",
        "    plt.plot(losses)\n",
        "    plt.xlabel('number of rounds')\n",
        "    plt.ylabel('loss')\n",
        "    plt.ylim((0, 2.5))\n",
        "    plt.grid()\n",
        "    plt.title(modelname)\n",
        "    plt.show()"
      ]
    },
    {
      "cell_type": "code",
      "execution_count": 45,
      "metadata": {
        "id": "Sb5v5VOjDA9f",
        "outputId": "cf345ffd-04e8-4892-f7be-a12d48d6dc5f"
      },
      "outputs": [
        {
          "data": {
            "image/png": "[encoded data removed]",
            "text/plain": [
              "<Figure size 432x288 with 1 Axes>"
            ]
          },
          "metadata": {
            "needs_background": "light"
          },
          "output_type": "display_data"
        },
        {
          "data": {
            "image/png": "[encoded data removed]",
            "text/plain": [
              "<Figure size 432x288 with 1 Axes>"
            ]
          },
          "metadata": {
            "needs_background": "light"
          },
          "output_type": "display_data"
        },
        {
          "data": {
            "image/png": "[encoded data removed]",
            "text/plain": [
              "<Figure size 432x288 with 1 Axes>"
            ]
          },
          "metadata": {
            "needs_background": "light"
          },
          "output_type": "display_data"
        },
        {
          "data": {
            "image/png": "[encoded data removed]",
            "text/plain": [
              "<Figure size 432x288 with 1 Axes>"
            ]
          },
          "metadata": {
            "needs_background": "light"
          },
          "output_type": "display_data"
        },
        {
          "data": {
            "image/png": "[encoded data removed]",
            "text/plain": [
              "<Figure size 432x288 with 1 Axes>"
            ]
          },
          "metadata": {
            "needs_background": "light"
          },
          "output_type": "display_data"
        },
        {
          "data": {
            "image/png": "[encoded data removed]",
            "text/plain": [
              "<Figure size 432x288 with 1 Axes>"
            ]
          },
          "metadata": {
            "needs_background": "light"
          },
          "output_type": "display_data"
        },
        {
          "data": {
            "image/png": "[encoded data removed]",
            "text/plain": [
              "<Figure size 432x288 with 1 Axes>"
            ]
          },
          "metadata": {
            "needs_background": "light"
          },
          "output_type": "display_data"
        },
        {
          "data": {
            "image/png": "[encoded data removed]",
            "text/plain": [
              "<Figure size 432x288 with 1 Axes>"
            ]
          },
          "metadata": {
            "needs_background": "light"
          },
          "output_type": "display_data"
        }
      ],
      "source": [
        "for i in range(len(devices)-1):\n",
        "  printperformance(client_models[i], train_loss_per_client[i], devices[i])"
      ]
    },
    {
      "cell_type": "code",
      "execution_count": 46,
      "metadata": {},
      "outputs": [
        {
          "data": {
            "image/png": "[encoded data removed]",
            "text/plain": [
              "<Figure size 432x288 with 1 Axes>"
            ]
          },
          "metadata": {
            "needs_background": "light"
          },
          "output_type": "display_data"
        }
      ],
      "source": [
        "# print performance of benign client\n",
        "printperformance(client_models[-1], train_loss_benign, devices[-1])"
      ]
    },
    {
      "cell_type": "code",
      "execution_count": 56,
      "metadata": {
        "id": "Ix3zjB1U63cb",
        "outputId": "b1c7278e-2873-46f8-c710-5ae420f4cf5a"
      },
      "outputs": [
        {
          "data": {
            "text/plain": [
              "\"\\n# train_loss_global\\nplt.plot(train_loss_global)\\nplt.xlabel('number of rounds')\\nplt.ylabel('loss')\\nplt.ylim((0, 2.5))\\nplt.grid()\\nplt.title('Federated Model with FedAvg (use five devices to train)')\\nplt.show()\\n\""
            ]
          },
          "execution_count": 56,
          "metadata": {},
          "output_type": "execute_result"
        }
      ],
      "source": [
        "'''\n",
        "# train_loss_global\n",
        "plt.plot(train_loss_global)\n",
        "plt.xlabel('number of rounds')\n",
        "plt.ylabel('loss')\n",
        "plt.ylim((0, 2.5))\n",
        "plt.grid()\n",
        "plt.title('Federated Model with FedAvg (use five devices to train)')\n",
        "plt.show()\n",
        "'''"
      ]
    },
    {
      "attachments": {},
      "cell_type": "markdown",
      "metadata": {
        "id": "dK43oLbY9uNr"
      },
      "source": [
        "# Evaluation"
      ]
    },
    {
      "cell_type": "code",
      "execution_count": 54,
      "metadata": {
        "id": "ku4dyUThDZF1"
      },
      "outputs": [],
      "source": [
        "client_models = []\n",
        "for i in range(len(devices)):\n",
        "  client_models.append(torch.load('C:/Final Year Project/models/clients/' + devices[i] + '.pt'))"
      ]
    },
    {
      "cell_type": "code",
      "execution_count": 55,
      "metadata": {
        "id": "1DvI0napggwm"
      },
      "outputs": [],
      "source": [
        "from sklearn import metrics"
      ]
    },
    {
      "cell_type": "code",
      "execution_count": 63,
      "metadata": {
        "id": "h1HJ9RZw63Z-"
      },
      "outputs": [],
      "source": [
        "def get_thresh(model, dataloader):\n",
        "\n",
        "    model.eval()\n",
        "    errs = []\n",
        "    for batch in dataloader:\n",
        "       for data in batch:\n",
        "         mse = np.mean(np.power(data.float().cpu().detach().numpy() - model(data.float()).cpu().detach().numpy(), 2), axis=0)\n",
        "         thresh = mse.mean() + mse.std()\n",
        "         errs.append(thresh)\n",
        "    thresh = sum(errs) / len(errs)\n",
        "    return thresh\n",
        "\n",
        "    #model.eval()\n",
        "    #pred = global_model(tr_data).cpu().detach().numpy()\n",
        "    #print(pred)\n",
        "    #print(np.isnan(pred))\n",
        "    #thresh = np.sqrt(metrics.mean_squared_error(pred, threshben.numpy()))\n",
        "    #mse = np.mean(np.power(tr_data.cpu().detach().numpy() - model(tr_data).cpu().detach().numpy(), 2), axis=1)\n",
        "    #tr = np.sqrt(metrics.mean_squared_error(model(tr_data).cpu().detach().numpy(), tr_data.cpu().detach().numpy()))\n",
        "    #tr = np.sqrt(mse)\n",
        "    #return thresh\n",
        "    \n",
        "    \n",
        "def quan_thresh(model, dataloader, quantile=0.9):\n",
        "\n",
        "  model.eval()\n",
        "  errs = []\n",
        "  \n",
        "  for batch in dataloader:\n",
        "    \n",
        "    mse = []\n",
        "    for data in batch:\n",
        "      error = np.power(data.float().cpu().numpy() - model(data.float()).cpu().detach().numpy(), 2)\n",
        "      mse.append(error)\n",
        "    \n",
        "    # Calculate threshold as quantile of errors \n",
        "    thresh = np.quantile(mse, quantile)  \n",
        "    errs.append(thresh)\n",
        "    \n",
        "  return np.mean(errs)\n",
        "\n",
        "def perf_measure(y_actual, y_pred):\n",
        "    TP = 0\n",
        "    FP = 0\n",
        "    TN = 0\n",
        "    FN = 0\n",
        "    for i in range(len(y_pred)):\n",
        "        if y_actual[i] == y_pred[i] == 1:\n",
        "           TP += 1\n",
        "        if y_pred[i] == 1 and y_actual[i] != y_pred[i]:\n",
        "           FP += 1\n",
        "        if y_actual[i] == y_pred[i] == 0:\n",
        "           TN += 1\n",
        "        if y_pred[i] == 0 and y_actual[i] != y_pred[i]:\n",
        "           FN += 1\n",
        "    return (TP, FP, TN, FN)\n",
        "\n",
        "def get_mix_result(model, tr, mix_data, mix_label):\n",
        "    model.eval()\n",
        "    prediction = []\n",
        "    for i in mix_data:\n",
        "      pred = model(i).cpu().detach().numpy()\n",
        "      error = np.sqrt(metrics.mean_squared_error(pred, threshben.numpy()))\n",
        "      if error > tr:\n",
        "        prediction.append(1)\n",
        "      else:\n",
        "        prediction.append(0)\n",
        "\n",
        "    mix_label_list = mix_label.tolist()\n",
        "\n",
        "    TP,FP,TN,FN = perf_measure(mix_label_list, prediction)\n",
        "\n",
        "    conf = [[TP, FN],[FP, TN]]\n",
        "    print(conf)\n",
        "    x_axis_label = ['abnormal', 'benign']\n",
        "    y_axis_label = ['abnormal', 'benign']\n",
        "\n",
        "    plt.figure()\n",
        "    sns.heatmap(conf,xticklabels=x_axis_label, yticklabels=y_axis_label, annot=True,annot_kws={\"size\": 16},fmt='g')\n",
        "\n",
        "    acc = (TP+TN) / (TP+TN+FP+FN)\n",
        "    precision = TP/(TP+FP)\n",
        "    recall = TP/(TP+FN)\n",
        "    F1score = 2 * ((precision * recall) / (precision + recall))\n",
        "\n",
        "    TPR = round((TP / (TP+FN)), 6)\n",
        "    # print('TPR is: {}%'.format(TPR))\n",
        "\n",
        "    FPR = round((FP / (FP + TN)), 6)\n",
        "    # print('TPR is: {}%'.format(FPR))\n",
        "\n",
        "    print('Acc: %.3f%% \\nPrecision: %.3f \\nRecall: %.3f \\nF1score: %.3f \\nTPR: %.5f \\nFPR: %.5f'%(acc*100,\n",
        "                                                                                                   precision,\n",
        "                                                                                                   recall,\n",
        "                                                                                                   F1score*100,\n",
        "                                                                                                   TPR,\n",
        "                                                                                                   FPR))\n",
        "\n",
        "#   [['TP', 'FN']\n",
        "#   ['FP', 'TN']]"
      ]
    },
    {
      "cell_type": "code",
      "execution_count": 64,
      "metadata": {
        "id": "FhTUbMWYDca5"
      },
      "outputs": [
        {
          "name": "stdout",
          "output_type": "stream",
          "text": [
            "{'Bot.csv': 119093.25440612582, 'DDOS attack-HOIC.csv': 118897.75838062294, 'DDoS attacks-LOIC-HTTP.csv': 119148.78782256448, 'DoS attacks-Hulk.csv': 112490.44287446121, 'DoS attacks-SlowHTTPTest.csv': 118930.49897421239, 'FTP-BruteForce.csv': 118454.20071691174, 'Infilteration.csv': 118247.28517766358, 'SSH-Bruteforce.csv': 119170.79520706976}\n"
          ]
        }
      ],
      "source": [
        "thresholds = {}\n",
        "for i in range(len(devices)):\n",
        "    model = client_models[i]\n",
        "    dataloader = train_loader[devices[i]]\n",
        "    thresholds[devices[i]] = quan_thresh(model, dataloader)\n",
        "print(thresholds)"
      ]
    },
    {
      "cell_type": "code",
      "execution_count": 33,
      "metadata": {},
      "outputs": [
        {
          "data": {
            "text/plain": [
              "'thresholds_test = {}\\nfor i in range(len(devices)):\\n    model = client_models[i]\\n    dataloader = test_loader[devices[i]]\\n    thresholds_test[devices[i]] = get_thresh(model, dataloader)\\nprint(thresholds_test)'"
            ]
          },
          "execution_count": 33,
          "metadata": {},
          "output_type": "execute_result"
        }
      ],
      "source": [
        "'''thresholds_test = {}\n",
        "for i in range(len(devices)):\n",
        "    model = client_models[i]\n",
        "    dataloader = test_loader[devices[i]]\n",
        "    thresholds_test[devices[i]] = get_thresh(model, dataloader)\n",
        "print(thresholds_test)'''"
      ]
    },
    {
      "cell_type": "code",
      "execution_count": 34,
      "metadata": {},
      "outputs": [
        {
          "data": {
            "text/plain": [
              "8"
            ]
          },
          "execution_count": 34,
          "metadata": {},
          "output_type": "execute_result"
        }
      ],
      "source": [
        "len(thresholds)"
      ]
    },
    {
      "cell_type": "code",
      "execution_count": 35,
      "metadata": {},
      "outputs": [
        {
          "data": {
            "text/plain": [
              "['Bot.csv',\n",
              " 'DDOS attack-HOIC.csv',\n",
              " 'DDoS attacks-LOIC-HTTP.csv',\n",
              " 'DoS attacks-Hulk.csv',\n",
              " 'DoS attacks-SlowHTTPTest.csv',\n",
              " 'FTP-BruteForce.csv',\n",
              " 'Infilteration.csv',\n",
              " 'SSH-Bruteforce.csv']"
            ]
          },
          "execution_count": 35,
          "metadata": {},
          "output_type": "execute_result"
        }
      ],
      "source": [
        "devices"
      ]
    },
    {
      "cell_type": "code",
      "execution_count": 36,
      "metadata": {},
      "outputs": [
        {
          "data": {
            "text/plain": [
              "{'Bot.csv': <torch.utils.data.dataloader.DataLoader at 0x284a0253670>,\n",
              " 'DDOS attack-HOIC.csv': <torch.utils.data.dataloader.DataLoader at 0x284fa4bd580>,\n",
              " 'DDoS attacks-LOIC-HTTP.csv': <torch.utils.data.dataloader.DataLoader at 0x284fa4bdb50>,\n",
              " 'DoS attacks-Hulk.csv': <torch.utils.data.dataloader.DataLoader at 0x284fa4bdd90>,\n",
              " 'DoS attacks-SlowHTTPTest.csv': <torch.utils.data.dataloader.DataLoader at 0x284fa4bd700>,\n",
              " 'FTP-BruteForce.csv': <torch.utils.data.dataloader.DataLoader at 0x284fa4bf520>,\n",
              " 'Infilteration.csv': <torch.utils.data.dataloader.DataLoader at 0x284fa4bf4c0>,\n",
              " 'SSH-Bruteforce.csv': <torch.utils.data.dataloader.DataLoader at 0x284fa4bf970>}"
            ]
          },
          "execution_count": 36,
          "metadata": {},
          "output_type": "execute_result"
        }
      ],
      "source": [
        "test_loader"
      ]
    },
    {
      "cell_type": "code",
      "execution_count": null,
      "metadata": {},
      "outputs": [],
      "source": [
        "import matplotlib.pyplot as plt\n",
        "import seaborn as sns\n",
        "\n",
        "device_idx = {device: i for i, device in enumerate(devices)}\n",
        "for device in devices:\n",
        "  model = client_models[device_idx[device]]\n",
        "  threshold = thresholds[device]\n",
        "  for i in attbenmixdata_loader:\n",
        "    test_set = attbenmixdata_loader[i]\n",
        "    labels = list(attbenmixdatalabels[i])\n",
        "    y_true = []\n",
        "    y_pred = []\n",
        "    for batch in test_set:\n",
        "      for data in batch:\n",
        "        pred = model(data.float())\n",
        "        error = torch.mean((pred.float() - data.float())**2, dim=tuple(range(1,pred.ndim)))\n",
        "        if device == i:\n",
        "          y_true.append(1)\n",
        "          y_pred.append(1 if error <= threshold else 0)\n",
        "        else:\n",
        "          y_true.append(0)\n",
        "          y_pred.append(0 if error <= threshold else 1)\n",
        "    TP, FP, TN, FN = perf_measure(y_true, y_pred)\n",
        "    conf_matrix = [[TP, FN], [FP, TN]]\n",
        "    plt.figure() \n",
        "    sns.heatmap(conf_matrix, annot=True, fmt=\"d\")\n",
        "    plt.title(\"Confusion Matrix for Client \" + str(device) +\" with \"+ str(i))\n",
        "    plt.xlabel(\"Predicted Label\")\n",
        "    plt.ylabel(\"True Label\")\n",
        "\n",
        "#   [['TP', 'FN']\n",
        "#   ['FP', 'TN']]"
      ]
    },
    {
      "cell_type": "code",
      "execution_count": null,
      "metadata": {
        "id": "oomBBYuq63WS"
      },
      "outputs": [],
      "source": [
        "# load model\n",
        "global_model = torch.load('/content/gdrive/My Drive/models/alldataglobal.pt')                                        "
      ]
    },
    {
      "attachments": {},
      "cell_type": "markdown",
      "metadata": {
        "id": "0zKO6BUI97sa"
      },
      "source": [
        "# Test on client devices"
      ]
    },
    {
      "cell_type": "code",
      "execution_count": null,
      "metadata": {
        "id": "w-SKiqsY63PC"
      },
      "outputs": [],
      "source": [
        "threshben.drop(['Label'], axis=1, inplace=True)"
      ]
    },
    {
      "cell_type": "code",
      "execution_count": null,
      "metadata": {
        "id": "BlqqU4Huu7cx"
      },
      "outputs": [],
      "source": [
        "threshben = torch.from_numpy(np.array(threshben)).float().to(device)"
      ]
    },
    {
      "cell_type": "code",
      "execution_count": null,
      "metadata": {
        "id": "Xwjgu2CkApDJ"
      },
      "outputs": [],
      "source": [
        "print(threshben)"
      ]
    },
    {
      "cell_type": "code",
      "execution_count": null,
      "metadata": {
        "id": "Kq-lLOo4aTcY"
      },
      "outputs": [],
      "source": [
        "tensor_data = torch.cat([batch for batch in train_loader['D1']], dim=0)"
      ]
    },
    {
      "cell_type": "code",
      "execution_count": null,
      "metadata": {
        "id": "3cwLdmWeZA1g"
      },
      "outputs": [],
      "source": [
        "predtrain = global_model(tensor_data).cpu().detach().numpy()\n",
        "print(predtrain)"
      ]
    },
    {
      "cell_type": "code",
      "execution_count": null,
      "metadata": {
        "id": "OWy8MiYqAwSa"
      },
      "outputs": [],
      "source": [
        "pred = global_model(threshben).cpu().detach().numpy()\n",
        "print(pred)"
      ]
    },
    {
      "cell_type": "code",
      "execution_count": null,
      "metadata": {
        "id": "mFUghu6Ley5T"
      },
      "outputs": [],
      "source": [
        "thresh = get_thresh(global_model, threshben)"
      ]
    },
    {
      "cell_type": "code",
      "execution_count": null,
      "metadata": {
        "id": "vTwiz5R625dp"
      },
      "outputs": [],
      "source": [
        "thresh.shape"
      ]
    },
    {
      "cell_type": "code",
      "execution_count": null,
      "metadata": {
        "id": "OFN3HYdu69DD"
      },
      "outputs": [],
      "source": [
        "thresh"
      ]
    },
    {
      "cell_type": "code",
      "execution_count": null,
      "metadata": {
        "id": "sXc6Y-8G63Lv"
      },
      "outputs": [],
      "source": [
        "# use global model & device's TR\n",
        "testset = torch.from_numpy(np.array(testset)).float().to(device)\n",
        "print(\"D1: \")\n",
        "get_mix_result(global_model, thresh, testset, testlabels)"
      ]
    }
  ],
  "metadata": {
    "colab": {
      "provenance": []
    },
    "kernelspec": {
      "display_name": "Python 3",
      "name": "python3"
    },
    "language_info": {
      "codemirror_mode": {
        "name": "ipython",
        "version": 3
      },
      "file_extension": ".py",
      "mimetype": "text/x-python",
      "name": "python",
      "nbconvert_exporter": "python",
      "pygments_lexer": "ipython3",
      "version": "3.10.0"
    }
  },
  "nbformat": 4,
  "nbformat_minor": 0
}
